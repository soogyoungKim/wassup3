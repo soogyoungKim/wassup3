{
 "cells": [
  {
   "cell_type": "markdown",
   "id": "4b63b201-605f-4dab-b55e-44592f39a64d",
   "metadata": {},
   "source": [
    "# 숫자 자료형"
   ]
  },
  {
   "cell_type": "code",
   "execution_count": 1,
   "id": "f8d54ff5-4e24-4d40-9d61-edb87fde3a44",
   "metadata": {},
   "outputs": [],
   "source": [
    "a = 123"
   ]
  },
  {
   "cell_type": "code",
   "execution_count": 2,
   "id": "199eb4b6-e084-45dc-aabe-0eb004b1df3f",
   "metadata": {},
   "outputs": [
    {
     "data": {
      "text/plain": [
       "123"
      ]
     },
     "execution_count": 2,
     "metadata": {},
     "output_type": "execute_result"
    }
   ],
   "source": [
    "a"
   ]
  },
  {
   "cell_type": "code",
   "execution_count": 3,
   "id": "a0e0c02e-96ed-494e-814a-0c9c289fa1f6",
   "metadata": {},
   "outputs": [
    {
     "data": {
      "text/plain": [
       "-178"
      ]
     },
     "execution_count": 3,
     "metadata": {},
     "output_type": "execute_result"
    }
   ],
   "source": [
    "a = -178\n",
    "a"
   ]
  },
  {
   "cell_type": "code",
   "execution_count": 4,
   "id": "34ecf2e0-1e34-4733-9443-680ee9080aed",
   "metadata": {},
   "outputs": [
    {
     "data": {
      "text/plain": [
       "0"
      ]
     },
     "execution_count": 4,
     "metadata": {},
     "output_type": "execute_result"
    }
   ],
   "source": [
    "a = 0\n",
    "a"
   ]
  },
  {
   "cell_type": "code",
   "execution_count": 5,
   "id": "bc75d904-6039-4663-8088-985456114c7b",
   "metadata": {},
   "outputs": [
    {
     "data": {
      "text/plain": [
       "1.2"
      ]
     },
     "execution_count": 5,
     "metadata": {},
     "output_type": "execute_result"
    }
   ],
   "source": [
    "a = 1.2\n",
    "a"
   ]
  },
  {
   "cell_type": "code",
   "execution_count": 6,
   "id": "614e56f8-787c-4aec-be3d-17dc1cd84cf8",
   "metadata": {},
   "outputs": [
    {
     "data": {
      "text/plain": [
       "(2303, 2748)"
      ]
     },
     "execution_count": 6,
     "metadata": {},
     "output_type": "execute_result"
    }
   ],
   "source": [
    "a = 0x8ff\n",
    "b = 0xABC\n",
    "a, b"
   ]
  },
  {
   "cell_type": "code",
   "execution_count": 7,
   "id": "a22773a0-b78e-41c4-b4af-db734fadcf89",
   "metadata": {},
   "outputs": [
    {
     "data": {
      "text/plain": [
       "7"
      ]
     },
     "execution_count": 7,
     "metadata": {},
     "output_type": "execute_result"
    }
   ],
   "source": [
    "a = 3\n",
    "b = 4\n",
    "a + b"
   ]
  },
  {
   "cell_type": "markdown",
   "id": "bcbb3d10-3068-472b-8f53-07fe3a5244d3",
   "metadata": {},
   "source": [
    "## 제곱 연산"
   ]
  },
  {
   "cell_type": "code",
   "execution_count": 8,
   "id": "2fce7459-80e0-42c4-8b0b-22e60ec0e0f1",
   "metadata": {},
   "outputs": [
    {
     "data": {
      "text/plain": [
       "81"
      ]
     },
     "execution_count": 8,
     "metadata": {},
     "output_type": "execute_result"
    }
   ],
   "source": [
    "a ** b"
   ]
  },
  {
   "cell_type": "markdown",
   "id": "ac7cd244-b779-4e02-8601-80fd493ad641",
   "metadata": {},
   "source": [
    "## 나눗셈 나머지 연산"
   ]
  },
  {
   "cell_type": "code",
   "execution_count": 9,
   "id": "8320cbf0-78ca-4f64-80e3-60d6fa0ed415",
   "metadata": {},
   "outputs": [
    {
     "data": {
      "text/plain": [
       "1"
      ]
     },
     "execution_count": 9,
     "metadata": {},
     "output_type": "execute_result"
    }
   ],
   "source": [
    "7 % 3"
   ]
  },
  {
   "cell_type": "code",
   "execution_count": 10,
   "id": "7f574ae9-47a2-433b-bdf4-2dae5e26af3f",
   "metadata": {},
   "outputs": [
    {
     "data": {
      "text/plain": [
       "3"
      ]
     },
     "execution_count": 10,
     "metadata": {},
     "output_type": "execute_result"
    }
   ],
   "source": [
    "3 % 7"
   ]
  },
  {
   "cell_type": "markdown",
   "id": "d62cb0e1-e19e-4640-ad0e-881ad063e54c",
   "metadata": {},
   "source": [
    "## 나눗셈 몫 연산"
   ]
  },
  {
   "cell_type": "code",
   "execution_count": 12,
   "id": "e58a5747-6401-43a0-86d0-ac8afde175fc",
   "metadata": {},
   "outputs": [
    {
     "data": {
      "text/plain": [
       "1"
      ]
     },
     "execution_count": 12,
     "metadata": {},
     "output_type": "execute_result"
    }
   ],
   "source": [
    "7 // 4"
   ]
  },
  {
   "cell_type": "code",
   "execution_count": 13,
   "id": "bafedf0b-626b-4383-81c3-40c15fa40fb2",
   "metadata": {},
   "outputs": [
    {
     "data": {
      "text/plain": [
       "1.75"
      ]
     },
     "execution_count": 13,
     "metadata": {},
     "output_type": "execute_result"
    }
   ],
   "source": [
    "7 / 4"
   ]
  },
  {
   "cell_type": "markdown",
   "id": "24aaefb3-19ab-4a79-9824-a9d0e7b8f9b6",
   "metadata": {},
   "source": [
    "# 문자열 자료형"
   ]
  },
  {
   "cell_type": "code",
   "execution_count": 14,
   "id": "786e4829-d38d-4740-a5f1-796a6f996c67",
   "metadata": {
    "scrolled": true
   },
   "outputs": [
    {
     "data": {
      "text/plain": [
       "'Hello world'"
      ]
     },
     "execution_count": 14,
     "metadata": {},
     "output_type": "execute_result"
    }
   ],
   "source": [
    "\"Hello world\""
   ]
  },
  {
   "cell_type": "code",
   "execution_count": 15,
   "id": "db93257b-da62-40b5-bc7e-03440eebc208",
   "metadata": {},
   "outputs": [
    {
     "data": {
      "text/plain": [
       "'Hello world'"
      ]
     },
     "execution_count": 15,
     "metadata": {},
     "output_type": "execute_result"
    }
   ],
   "source": [
    "'Hello world'"
   ]
  },
  {
   "cell_type": "code",
   "execution_count": 16,
   "id": "68c89319-dfff-4f29-aa09-2bcce0577289",
   "metadata": {},
   "outputs": [
    {
     "data": {
      "text/plain": [
       "'Hello world'"
      ]
     },
     "execution_count": 16,
     "metadata": {},
     "output_type": "execute_result"
    }
   ],
   "source": [
    "\"\"\"Hello world\"\"\""
   ]
  },
  {
   "cell_type": "code",
   "execution_count": 17,
   "id": "e4f1f326-1a6c-489e-a877-3ed8d9b604a3",
   "metadata": {},
   "outputs": [
    {
     "data": {
      "text/plain": [
       "'\\nHello world\\n'"
      ]
     },
     "execution_count": 17,
     "metadata": {},
     "output_type": "execute_result"
    }
   ],
   "source": [
    "'''\n",
    "Hello world\n",
    "'''"
   ]
  },
  {
   "cell_type": "markdown",
   "id": "67be64cd-b9af-450d-95dd-de7ac7c215e0",
   "metadata": {},
   "source": [
    "## 문자열 안에 작은 따옴표나 큰 따옴표를 포함시키고 싶을 때"
   ]
  },
  {
   "cell_type": "code",
   "execution_count": 18,
   "id": "747188c8-e822-4556-900d-d0420b0ca467",
   "metadata": {},
   "outputs": [
    {
     "data": {
      "text/plain": [
       "\"python's favorite food is perl\""
      ]
     },
     "execution_count": 18,
     "metadata": {},
     "output_type": "execute_result"
    }
   ],
   "source": [
    "\"python's favorite food is perl\""
   ]
  },
  {
   "cell_type": "code",
   "execution_count": 19,
   "id": "c0290063-3f75-43ca-931d-e6ffb46171f8",
   "metadata": {},
   "outputs": [
    {
     "data": {
      "text/plain": [
       "'\"Python is so easy\" He said.'"
      ]
     },
     "execution_count": 19,
     "metadata": {},
     "output_type": "execute_result"
    }
   ],
   "source": [
    "'\"Python is so easy\" He said.'"
   ]
  },
  {
   "cell_type": "code",
   "execution_count": 20,
   "id": "cf020b22-1d6a-43e8-81d8-1d534b8d60f8",
   "metadata": {},
   "outputs": [
    {
     "data": {
      "text/plain": [
       "\"python's favorite food is perl\""
      ]
     },
     "execution_count": 20,
     "metadata": {},
     "output_type": "execute_result"
    }
   ],
   "source": [
    "'python\\'s favorite food is perl'"
   ]
  },
  {
   "cell_type": "code",
   "execution_count": 21,
   "id": "db4cda2d-dd17-4042-851b-cae9f7297724",
   "metadata": {},
   "outputs": [
    {
     "data": {
      "text/plain": [
       "'Life is too short \\n  you need python'"
      ]
     },
     "execution_count": 21,
     "metadata": {},
     "output_type": "execute_result"
    }
   ],
   "source": [
    "\"Life is too short \\n  you need python\""
   ]
  },
  {
   "cell_type": "code",
   "execution_count": 24,
   "id": "593d2294-3895-4332-b5f8-31774d83284c",
   "metadata": {},
   "outputs": [
    {
     "data": {
      "text/plain": [
       "'Life is too short \\n  you need python'"
      ]
     },
     "execution_count": 24,
     "metadata": {},
     "output_type": "execute_result"
    }
   ],
   "source": [
    "multiline = \"Life is too short \\n  you need python\"\n",
    "multiline"
   ]
  },
  {
   "cell_type": "code",
   "execution_count": 25,
   "id": "c1dc4dc8-8b6d-4616-a132-d41878357659",
   "metadata": {},
   "outputs": [
    {
     "name": "stdout",
     "output_type": "stream",
     "text": [
      "Life is too short \n",
      "  you need python\n"
     ]
    }
   ],
   "source": [
    "print(multiline)"
   ]
  },
  {
   "cell_type": "code",
   "execution_count": 30,
   "id": "26dce722-20b2-43dc-8bac-92f15a5155ba",
   "metadata": {},
   "outputs": [],
   "source": [
    "multiline = '''\n",
    "Life is too short\n",
    "You need python\n",
    "'''"
   ]
  },
  {
   "cell_type": "markdown",
   "id": "64b59a03-8f4f-41b4-9160-2316599efb00",
   "metadata": {},
   "source": [
    "## 문자열 연산하기"
   ]
  },
  {
   "cell_type": "code",
   "execution_count": 35,
   "id": "becdfd82-7e50-48d8-bbff-66afe6572263",
   "metadata": {},
   "outputs": [
    {
     "data": {
      "text/plain": [
       "'Python is Fun!'"
      ]
     },
     "execution_count": 35,
     "metadata": {},
     "output_type": "execute_result"
    }
   ],
   "source": [
    "head = \"Python\"\n",
    "tail = \" is Fun!\"\n",
    "head + tail"
   ]
  },
  {
   "cell_type": "code",
   "execution_count": 37,
   "id": "960541a6-ee9b-4a91-9e09-f9763bc4f308",
   "metadata": {},
   "outputs": [
    {
     "data": {
      "text/plain": [
       "'PythonPythonPythonPythonPython'"
      ]
     },
     "execution_count": 37,
     "metadata": {},
     "output_type": "execute_result"
    }
   ],
   "source": [
    "a = 'Python'\n",
    "a * 5"
   ]
  },
  {
   "cell_type": "code",
   "execution_count": 38,
   "id": "6214a8d8-2f24-4e49-b768-08d154e6f030",
   "metadata": {},
   "outputs": [
    {
     "name": "stdout",
     "output_type": "stream",
     "text": [
      "==================================================\n"
     ]
    }
   ],
   "source": [
    "print('='*50)"
   ]
  },
  {
   "cell_type": "code",
   "execution_count": 40,
   "id": "fc425ee1-1840-4633-a04d-db42286d3d69",
   "metadata": {},
   "outputs": [
    {
     "data": {
      "text/plain": [
       "18"
      ]
     },
     "execution_count": 40,
     "metadata": {},
     "output_type": "execute_result"
    }
   ],
   "source": [
    "a = 'Life is too short.'\n",
    "len(a)"
   ]
  },
  {
   "cell_type": "markdown",
   "id": "e38edf8b-8e4c-4cdd-982b-d74905561877",
   "metadata": {},
   "source": [
    "## 문자열 인덱싱"
   ]
  },
  {
   "cell_type": "code",
   "execution_count": 42,
   "id": "befc6f23-7711-4368-9fc7-598a699da3ba",
   "metadata": {},
   "outputs": [],
   "source": [
    "a = 'Life is too short, You need python'"
   ]
  },
  {
   "cell_type": "code",
   "execution_count": 43,
   "id": "6e8a1d74-1cd0-498c-96be-550deec20ab0",
   "metadata": {},
   "outputs": [
    {
     "data": {
      "text/plain": [
       "34"
      ]
     },
     "execution_count": 43,
     "metadata": {},
     "output_type": "execute_result"
    }
   ],
   "source": [
    "len(a)"
   ]
  },
  {
   "cell_type": "code",
   "execution_count": 44,
   "id": "a79964ea-625d-4113-8fef-8746766cb8fc",
   "metadata": {},
   "outputs": [
    {
     "data": {
      "text/plain": [
       "'e'"
      ]
     },
     "execution_count": 44,
     "metadata": {},
     "output_type": "execute_result"
    }
   ],
   "source": [
    "a[3]"
   ]
  },
  {
   "cell_type": "code",
   "execution_count": 46,
   "id": "e407b74a-f4d9-42e1-b08f-7de3c4fbfc71",
   "metadata": {},
   "outputs": [
    {
     "data": {
      "text/plain": [
       "'h'"
      ]
     },
     "execution_count": 46,
     "metadata": {},
     "output_type": "execute_result"
    }
   ],
   "source": [
    "a[13]"
   ]
  },
  {
   "cell_type": "code",
   "execution_count": 47,
   "id": "4851c2b2-2be8-4e07-a0e2-cd5259ec081d",
   "metadata": {},
   "outputs": [
    {
     "data": {
      "text/plain": [
       "'n'"
      ]
     },
     "execution_count": 47,
     "metadata": {},
     "output_type": "execute_result"
    }
   ],
   "source": [
    "a[-1]"
   ]
  },
  {
   "cell_type": "code",
   "execution_count": 48,
   "id": "347fd663-b0ab-47f9-998e-6a66ef1df627",
   "metadata": {},
   "outputs": [
    {
     "data": {
      "text/plain": [
       "' '"
      ]
     },
     "execution_count": 48,
     "metadata": {},
     "output_type": "execute_result"
    }
   ],
   "source": [
    "a[-7]"
   ]
  },
  {
   "cell_type": "markdown",
   "id": "5ac38b92-30b7-45ae-9659-7c02fa65426c",
   "metadata": {},
   "source": [
    "## 문자열 슬라이싱"
   ]
  },
  {
   "cell_type": "code",
   "execution_count": 49,
   "id": "b43c3885-ccab-464e-b502-5f2dc6ceea0d",
   "metadata": {},
   "outputs": [
    {
     "data": {
      "text/plain": [
       "'Life'"
      ]
     },
     "execution_count": 49,
     "metadata": {},
     "output_type": "execute_result"
    }
   ],
   "source": [
    "a = \"Life is too short, You need python\"\n",
    "a[0]+a[1]+a[2]+a[3]"
   ]
  },
  {
   "cell_type": "code",
   "execution_count": 50,
   "id": "90d2bbd9-11ac-4374-861b-a77302a8f028",
   "metadata": {},
   "outputs": [
    {
     "data": {
      "text/plain": [
       "'Life'"
      ]
     },
     "execution_count": 50,
     "metadata": {},
     "output_type": "execute_result"
    }
   ],
   "source": [
    "a[0:4]"
   ]
  },
  {
   "cell_type": "markdown",
   "id": "78b5c657-9a42-4b96-8e99-3e41ef650064",
   "metadata": {},
   "source": [
    "###### Start Index = 0 / End Index = -1"
   ]
  },
  {
   "cell_type": "code",
   "execution_count": 51,
   "id": "4ef10ec8-b1d5-4813-963d-dc14f1d20f59",
   "metadata": {},
   "outputs": [
    {
     "data": {
      "text/plain": [
       "'You need python'"
      ]
     },
     "execution_count": 51,
     "metadata": {},
     "output_type": "execute_result"
    }
   ],
   "source": [
    "a[19:34]"
   ]
  },
  {
   "cell_type": "markdown",
   "id": "1c55f9a2-4c42-4a69-99d6-491a431c4bc8",
   "metadata": {},
   "source": [
    "## 슬라이싱으로 문자열 나누기"
   ]
  },
  {
   "cell_type": "code",
   "execution_count": 59,
   "id": "c8f3fa6a-a2c1-4b03-92b5-d9df013fd540",
   "metadata": {},
   "outputs": [
    {
     "data": {
      "text/plain": [
       "'20240610Sunny'"
      ]
     },
     "execution_count": 59,
     "metadata": {},
     "output_type": "execute_result"
    }
   ],
   "source": [
    "a = \"20240610Sunny\"\n",
    "date = a[:8]\n",
    "weather = a[8:]"
   ]
  },
  {
   "cell_type": "code",
   "execution_count": 60,
   "id": "bfda8136-4e1c-4e71-935a-f54c908752a0",
   "metadata": {},
   "outputs": [
    {
     "data": {
      "text/plain": [
       "'20240610'"
      ]
     },
     "execution_count": 60,
     "metadata": {},
     "output_type": "execute_result"
    }
   ],
   "source": [
    "date"
   ]
  },
  {
   "cell_type": "code",
   "execution_count": 61,
   "id": "83fb0612-bc58-41e6-960b-f8c09dfb4c42",
   "metadata": {},
   "outputs": [
    {
     "data": {
      "text/plain": [
       "'Sunny'"
      ]
     },
     "execution_count": 61,
     "metadata": {},
     "output_type": "execute_result"
    }
   ],
   "source": [
    "weather"
   ]
  },
  {
   "cell_type": "markdown",
   "id": "8daa6c65-49df-4378-a525-72d97a684cf5",
   "metadata": {},
   "source": [
    "## 문자열 수정하기"
   ]
  },
  {
   "cell_type": "code",
   "execution_count": 64,
   "id": "4c5622cf-991e-4dd4-9b3a-6f7453044f62",
   "metadata": {},
   "outputs": [
    {
     "ename": "TypeError",
     "evalue": "'str' object does not support item assignment",
     "output_type": "error",
     "traceback": [
      "\u001b[1;31m---------------------------------------------------------------------------\u001b[0m",
      "\u001b[1;31mTypeError\u001b[0m                                 Traceback (most recent call last)",
      "Cell \u001b[1;32mIn[64], line 2\u001b[0m\n\u001b[0;32m      1\u001b[0m a \u001b[38;5;241m=\u001b[39m \u001b[38;5;124m'\u001b[39m\u001b[38;5;124mpithon\u001b[39m\u001b[38;5;124m'\u001b[39m\n\u001b[1;32m----> 2\u001b[0m a[\u001b[38;5;241m1\u001b[39m] \u001b[38;5;241m=\u001b[39m \u001b[38;5;124m'\u001b[39m\u001b[38;5;124my\u001b[39m\u001b[38;5;124m'\u001b[39m\n\u001b[0;32m      3\u001b[0m a\n",
      "\u001b[1;31mTypeError\u001b[0m: 'str' object does not support item assignment"
     ]
    }
   ],
   "source": [
    "a = 'pithon'\n",
    "a[1] = 'y'\n",
    "a"
   ]
  },
  {
   "cell_type": "code",
   "execution_count": 67,
   "id": "b61396f6-b63c-44cc-a830-14a14619a0e0",
   "metadata": {},
   "outputs": [
    {
     "data": {
      "text/plain": [
       "'python'"
      ]
     },
     "execution_count": 67,
     "metadata": {},
     "output_type": "execute_result"
    }
   ],
   "source": [
    "b = a[0]+'y'+a[2:]\n",
    "b"
   ]
  },
  {
   "cell_type": "markdown",
   "id": "1fd36d09-f8d0-4641-8a05-f994196f90e1",
   "metadata": {},
   "source": [
    "###### 문자열은 immutable하기 때문에 수정할 수 없다."
   ]
  },
  {
   "cell_type": "markdown",
   "id": "24117836-4ef0-424c-8402-396d8e37eb48",
   "metadata": {},
   "source": [
    "## 문자열 포매팅"
   ]
  },
  {
   "cell_type": "code",
   "execution_count": 69,
   "id": "9dd6813b-39d1-4f94-94a4-3428bfd2d2a3",
   "metadata": {},
   "outputs": [
    {
     "data": {
      "text/plain": [
       "'I eat 3 apples'"
      ]
     },
     "execution_count": 69,
     "metadata": {},
     "output_type": "execute_result"
    }
   ],
   "source": [
    "# 숫자 바로 대입\n",
    "\"I eat %d apples\"%3"
   ]
  },
  {
   "cell_type": "code",
   "execution_count": 70,
   "id": "bc31d5be-266e-49e8-ae70-43ad584e4085",
   "metadata": {},
   "outputs": [
    {
     "data": {
      "text/plain": [
       "'I eat five apples'"
      ]
     },
     "execution_count": 70,
     "metadata": {},
     "output_type": "execute_result"
    }
   ],
   "source": [
    "# 문자열 바로 대입\n",
    "\"I eat %s apples\"%'five'"
   ]
  },
  {
   "cell_type": "code",
   "execution_count": null,
   "id": "355896e7-3526-40fb-af34-869e6c4fe3e5",
   "metadata": {},
   "outputs": [],
   "source": [
    "###### 숫자 > 문자 (OK) 문자 > 숫자 (NO)"
   ]
  },
  {
   "cell_type": "code",
   "execution_count": 72,
   "id": "a8eb1d53-3f6b-40d8-a35b-dcd7ce4e2afd",
   "metadata": {},
   "outputs": [
    {
     "data": {
      "text/plain": [
       "'i eat 3 apples'"
      ]
     },
     "execution_count": 72,
     "metadata": {},
     "output_type": "execute_result"
    }
   ],
   "source": [
    "# 숫자 값을 나타내는 변수로 대입\n",
    "num = 3\n",
    "\"i eat %d apples\"%num"
   ]
  },
  {
   "cell_type": "code",
   "execution_count": 73,
   "id": "b38df153-059e-4f1a-9f7d-53f6be398f39",
   "metadata": {},
   "outputs": [
    {
     "data": {
      "text/plain": [
       "'I ate 10 apples. I was sick for three days.'"
      ]
     },
     "execution_count": 73,
     "metadata": {},
     "output_type": "execute_result"
    }
   ],
   "source": [
    "# 2개 이상 값 넣기\n",
    "num = 10\n",
    "day = 'three'\n",
    "\"I ate %d apples. I was sick for %s days.\"%(num, day)"
   ]
  },
  {
   "cell_type": "code",
   "execution_count": 74,
   "id": "1e19332b-4c6d-48bc-aeab-10154905e40f",
   "metadata": {},
   "outputs": [
    {
     "data": {
      "text/plain": [
       "'오늘의 습도는 70% 입니다.'"
      ]
     },
     "execution_count": 74,
     "metadata": {},
     "output_type": "execute_result"
    }
   ],
   "source": [
    "\"오늘의 습도는 %d%% 입니다.\"%70"
   ]
  },
  {
   "cell_type": "markdown",
   "id": "8549e87a-2c90-4140-b45f-f5c80394b430",
   "metadata": {},
   "source": [
    "## 소수점 표현하기"
   ]
  },
  {
   "cell_type": "code",
   "execution_count": 75,
   "id": "5bd231c4-df32-45ab-baf8-431e49fd8938",
   "metadata": {},
   "outputs": [
    {
     "data": {
      "text/plain": [
       "'3.14'"
      ]
     },
     "execution_count": 75,
     "metadata": {},
     "output_type": "execute_result"
    }
   ],
   "source": [
    "\"%0.2f\"%3.14159268"
   ]
  },
  {
   "cell_type": "code",
   "execution_count": 76,
   "id": "28bbac68-adc8-462a-ba21-9b378d7010ac",
   "metadata": {},
   "outputs": [
    {
     "data": {
      "text/plain": [
       "'3.1416'"
      ]
     },
     "execution_count": 76,
     "metadata": {},
     "output_type": "execute_result"
    }
   ],
   "source": [
    "\"%0.4f\"%3.14159268"
   ]
  },
  {
   "cell_type": "code",
   "execution_count": 87,
   "id": "247b22d4-fc94-4ff2-b138-27c2ccd59600",
   "metadata": {},
   "outputs": [
    {
     "data": {
      "text/plain": [
       "'3.1416'"
      ]
     },
     "execution_count": 87,
     "metadata": {},
     "output_type": "execute_result"
    }
   ],
   "source": [
    "y = 3.141592\n",
    "\"{0:0.4f}\".format(y)"
   ]
  },
  {
   "cell_type": "markdown",
   "id": "a4f94588-8a01-4335-90a1-69cbdeb638d1",
   "metadata": {
    "jupyter": {
     "source_hidden": true
    }
   },
   "source": [
    "## Format 함수를 사용한 포매팅"
   ]
  },
  {
   "cell_type": "code",
   "execution_count": 78,
   "id": "2d78aee2-25a1-489e-937f-73bffe46aa90",
   "metadata": {},
   "outputs": [
    {
     "data": {
      "text/plain": [
       "'I eat 3 apples.'"
      ]
     },
     "execution_count": 78,
     "metadata": {},
     "output_type": "execute_result"
    }
   ],
   "source": [
    "\"I eat {} apples.\".format(3)"
   ]
  },
  {
   "cell_type": "code",
   "execution_count": 79,
   "id": "6378dbac-a180-4c0d-9d7c-ea7a7a02ecd3",
   "metadata": {
    "collapsed": true,
    "jupyter": {
     "outputs_hidden": true
    },
    "scrolled": true
   },
   "outputs": [
    {
     "data": {
      "text/plain": [
       "'I eat five apples.'"
      ]
     },
     "execution_count": 79,
     "metadata": {},
     "output_type": "execute_result"
    }
   ],
   "source": [
    "\"I eat {} apples.\".format('five')"
   ]
  },
  {
   "cell_type": "code",
   "execution_count": 81,
   "id": "a47edc2e-f567-4ebc-aa88-ac9ca8e7ce94",
   "metadata": {},
   "outputs": [
    {
     "data": {
      "text/plain": [
       "'I eat 10 apples'"
      ]
     },
     "execution_count": 81,
     "metadata": {},
     "output_type": "execute_result"
    }
   ],
   "source": [
    "num = 10\n",
    "\"I eat {} apples\".format(num)"
   ]
  },
  {
   "cell_type": "code",
   "execution_count": 80,
   "id": "01405f35-84d9-46e8-b23e-2a3a6845e683",
   "metadata": {},
   "outputs": [
    {
     "data": {
      "text/plain": [
       "'I ate 10 apples. I was sick for three days.'"
      ]
     },
     "execution_count": 80,
     "metadata": {},
     "output_type": "execute_result"
    }
   ],
   "source": [
    "# 2개 이상 값 넣기\n",
    "num = 10\n",
    "day = 'three'\n",
    "\"I ate {} apples. I was sick for {} days.\".format(num, day)"
   ]
  },
  {
   "cell_type": "code",
   "execution_count": 82,
   "id": "32d1fa14-18a5-4442-84aa-6c62a9c445e3",
   "metadata": {},
   "outputs": [
    {
     "data": {
      "text/plain": [
       "'I ate 10 apples. I was sick for three days.'"
      ]
     },
     "execution_count": 82,
     "metadata": {},
     "output_type": "execute_result"
    }
   ],
   "source": [
    "\"I ate {0} apples. I was sick for {1} days.\".format(num, day)"
   ]
  },
  {
   "cell_type": "code",
   "execution_count": 84,
   "id": "542f13ab-ec27-41ba-8883-3eaa4b41042e",
   "metadata": {},
   "outputs": [
    {
     "ename": "KeyError",
     "evalue": "'num'",
     "output_type": "error",
     "traceback": [
      "\u001b[1;31m---------------------------------------------------------------------------\u001b[0m",
      "\u001b[1;31mKeyError\u001b[0m                                  Traceback (most recent call last)",
      "Cell \u001b[1;32mIn[84], line 1\u001b[0m\n\u001b[1;32m----> 1\u001b[0m \u001b[38;5;124m\"\u001b[39m\u001b[38;5;124mI ate \u001b[39m\u001b[38;5;132;01m{num}\u001b[39;00m\u001b[38;5;124m apples. I was sick for \u001b[39m\u001b[38;5;132;01m{day}\u001b[39;00m\u001b[38;5;124m days.\u001b[39m\u001b[38;5;124m\"\u001b[39m\u001b[38;5;241m.\u001b[39mformat(num, day)\n",
      "\u001b[1;31mKeyError\u001b[0m: 'num'"
     ]
    }
   ],
   "source": [
    "\"I ate {num} apples. I was sick for {day} days.\".format(num, day)"
   ]
  },
  {
   "cell_type": "code",
   "execution_count": null,
   "id": "1f4e8ad0-a2c0-4d6d-84b0-1c876d598a0c",
   "metadata": {},
   "outputs": [],
   "source": [
    "> 변수의 이름을 다이렉트로 넣어서"
   ]
  },
  {
   "cell_type": "code",
   "execution_count": 85,
   "id": "618af9e4-536a-4f04-8363-92db40e506f4",
   "metadata": {},
   "outputs": [
    {
     "data": {
      "text/plain": [
       "'I ate 10 apples. I was sick for 3 days.'"
      ]
     },
     "execution_count": 85,
     "metadata": {},
     "output_type": "execute_result"
    }
   ],
   "source": [
    "\"I ate {num} apples. I was sick for {day} days.\".format(num=10, day=3)"
   ]
  },
  {
   "cell_type": "code",
   "execution_count": 86,
   "id": "f1aedf16-00a0-4ff6-9fbd-3f6d23a9f085",
   "metadata": {},
   "outputs": [
    {
     "data": {
      "text/plain": [
       "'I ate 10 apples. I was sick for 3 days.'"
      ]
     },
     "execution_count": 86,
     "metadata": {},
     "output_type": "execute_result"
    }
   ],
   "source": [
    "\"I ate {num} apples. I was sick for {day} days.\".format(day=3, num=10)"
   ]
  },
  {
   "cell_type": "markdown",
   "id": "2f7d476d-a65d-49dd-a194-0504fc7e44b7",
   "metadata": {},
   "source": [
    "## F문자열 포매팅(강추)"
   ]
  },
  {
   "cell_type": "code",
   "execution_count": 90,
   "id": "c58613b8-b8d4-4cfe-8541-9cddf38805b5",
   "metadata": {},
   "outputs": [
    {
     "data": {
      "text/plain": [
       "'나의 이름은 홍길동입니다. 나이는 30입니다.'"
      ]
     },
     "execution_count": 90,
     "metadata": {},
     "output_type": "execute_result"
    }
   ],
   "source": [
    "name = '홍길동'\n",
    "age = 30\n",
    "f'나의 이름은 {name}입니다. 나이는 {age}입니다.'"
   ]
  },
  {
   "cell_type": "code",
   "execution_count": 91,
   "id": "32578ccd-e389-4651-9ead-22def1766474",
   "metadata": {},
   "outputs": [
    {
     "data": {
      "text/plain": [
       "'나는 내년이면 31살이 됩니다.'"
      ]
     },
     "execution_count": 91,
     "metadata": {},
     "output_type": "execute_result"
    }
   ],
   "source": [
    "f'나는 내년이면 {age+1}살이 됩니다.'"
   ]
  },
  {
   "cell_type": "code",
   "execution_count": 94,
   "id": "23cad521-9d8a-4373-bd25-5294f59c89db",
   "metadata": {},
   "outputs": [
    {
     "data": {
      "text/plain": [
       "'나의 이름은 홍길동입니다. 나이는 30입니다.'"
      ]
     },
     "execution_count": 94,
     "metadata": {},
     "output_type": "execute_result"
    }
   ],
   "source": [
    "d = {'name':'홍길동', 'age' : 30}\n",
    "f'나의 이름은 {d[\"name\"]}입니다. 나이는 {d[\"age\"]}입니다.'"
   ]
  },
  {
   "cell_type": "markdown",
   "id": "5ee8360d-adb6-486c-95a6-c154664a1ed2",
   "metadata": {},
   "source": [
    "## 문자열 관련 함수들 (Input이 필요한 함수)"
   ]
  },
  {
   "cell_type": "code",
   "execution_count": 1,
   "id": "6f77943b-d5f6-422c-8880-4b352343fa8c",
   "metadata": {},
   "outputs": [
    {
     "data": {
      "text/plain": [
       "2"
      ]
     },
     "execution_count": 1,
     "metadata": {},
     "output_type": "execute_result"
    }
   ],
   "source": [
    "# 문자 개수 세기 count\n",
    "a = 'hobby'\n",
    "a.count('b')"
   ]
  },
  {
   "cell_type": "code",
   "execution_count": 3,
   "id": "ffac5e8a-d624-434a-862e-791bb4bbae18",
   "metadata": {},
   "outputs": [
    {
     "data": {
      "text/plain": [
       "14"
      ]
     },
     "execution_count": 3,
     "metadata": {},
     "output_type": "execute_result"
    }
   ],
   "source": [
    "# 위치 알려주기 find\n",
    "a = \"python is the best choice\"\n",
    "a.find('b')"
   ]
  },
  {
   "cell_type": "code",
   "execution_count": 4,
   "id": "d47e96fb-5cb4-4615-afed-736e45ab8482",
   "metadata": {},
   "outputs": [
    {
     "data": {
      "text/plain": [
       "-1"
      ]
     },
     "execution_count": 4,
     "metadata": {},
     "output_type": "execute_result"
    }
   ],
   "source": [
    "a.find('k') # 없는 문자 찾을 시 -1로 표기(이상치) > 오류를 유보시킬 때 사용"
   ]
  },
  {
   "cell_type": "code",
   "execution_count": 5,
   "id": "d23dcdec-6a32-4326-8ffa-246bbce79ed1",
   "metadata": {},
   "outputs": [
    {
     "data": {
      "text/plain": [
       "8"
      ]
     },
     "execution_count": 5,
     "metadata": {},
     "output_type": "execute_result"
    }
   ],
   "source": [
    "# 위치 알려주기 index\n",
    "a = \"Life is too short.\"\n",
    "a.index('t')"
   ]
  },
  {
   "cell_type": "code",
   "execution_count": 6,
   "id": "4c5df541-5d97-43b3-8223-093d7407b59c",
   "metadata": {},
   "outputs": [
    {
     "ename": "ValueError",
     "evalue": "substring not found",
     "output_type": "error",
     "traceback": [
      "\u001b[1;31m---------------------------------------------------------------------------\u001b[0m",
      "\u001b[1;31mValueError\u001b[0m                                Traceback (most recent call last)",
      "Cell \u001b[1;32mIn[6], line 1\u001b[0m\n\u001b[1;32m----> 1\u001b[0m a\u001b[38;5;241m.\u001b[39mindex(\u001b[38;5;124m'\u001b[39m\u001b[38;5;124mk\u001b[39m\u001b[38;5;124m'\u001b[39m)\n",
      "\u001b[1;31mValueError\u001b[0m: substring not found"
     ]
    }
   ],
   "source": [
    "a.index('k') # 값이 없을 시 오류 발생 > 오류 발생 필수 표기시 사용 > 프로그램의 안정성을 해칠 때, 사용자에게 크리티컬한 이슈(보안 등)를 알릴 때"
   ]
  },
  {
   "cell_type": "code",
   "execution_count": 7,
   "id": "30027436-d1fd-4c74-83bc-ffeff697d9a2",
   "metadata": {},
   "outputs": [
    {
     "data": {
      "text/plain": [
       "'abcd'"
      ]
     },
     "execution_count": 7,
     "metadata": {},
     "output_type": "execute_result"
    }
   ],
   "source": [
    "# 문자열 삽입 join\n",
    "a = 'abcd'\n",
    "a"
   ]
  },
  {
   "cell_type": "code",
   "execution_count": 8,
   "id": "7cfd8358-fe6f-4fd2-9ebc-716c8abf3c8b",
   "metadata": {},
   "outputs": [
    {
     "data": {
      "text/plain": [
       "'a,b,c,d'"
      ]
     },
     "execution_count": 8,
     "metadata": {},
     "output_type": "execute_result"
    }
   ],
   "source": [
    "','.join(a)"
   ]
  },
  {
   "cell_type": "code",
   "execution_count": 10,
   "id": "8594dc9c-ac30-4b2e-aaa1-7792c434b597",
   "metadata": {},
   "outputs": [
    {
     "data": {
      "text/plain": [
       "'a:b:c:d'"
      ]
     },
     "execution_count": 10,
     "metadata": {},
     "output_type": "execute_result"
    }
   ],
   "source": [
    "a = ['a','b','c','d']\n",
    "':'.join(a)"
   ]
  },
  {
   "cell_type": "markdown",
   "id": "e38c6f0b-4323-41da-871b-4caa08a48132",
   "metadata": {},
   "source": [
    "## 소문자를 대문자로 바꾸기 : upper (Input이 필요하지 않은 함수)"
   ]
  },
  {
   "cell_type": "code",
   "execution_count": 11,
   "id": "82ac0e70-6ad7-49de-88b4-790d031f07eb",
   "metadata": {},
   "outputs": [
    {
     "data": {
      "text/plain": [
       "'HI'"
      ]
     },
     "execution_count": 11,
     "metadata": {},
     "output_type": "execute_result"
    }
   ],
   "source": [
    "a = 'hi'\n",
    "a.upper()"
   ]
  },
  {
   "cell_type": "code",
   "execution_count": 12,
   "id": "4784656c-2a16-4aec-9cc2-8fa20aa4ee63",
   "metadata": {},
   "outputs": [
    {
     "data": {
      "text/plain": [
       "'hi'"
      ]
     },
     "execution_count": 12,
     "metadata": {},
     "output_type": "execute_result"
    }
   ],
   "source": [
    "a = 'HI'\n",
    "a.lower()"
   ]
  },
  {
   "cell_type": "code",
   "execution_count": 14,
   "id": "e2cfe058-08ce-4ed1-9638-e2836b9e9f71",
   "metadata": {},
   "outputs": [
    {
     "data": {
      "text/plain": [
       "'hi     '"
      ]
     },
     "execution_count": 14,
     "metadata": {},
     "output_type": "execute_result"
    }
   ],
   "source": [
    "# 왼쪽 공백 지우기 Lstrip\n",
    "a = \"     hi     \"\n",
    "a.lstrip()"
   ]
  },
  {
   "cell_type": "code",
   "execution_count": 15,
   "id": "4c7bc765-393c-4503-b5c8-2fd3749d4347",
   "metadata": {},
   "outputs": [
    {
     "data": {
      "text/plain": [
       "'     hi'"
      ]
     },
     "execution_count": 15,
     "metadata": {},
     "output_type": "execute_result"
    }
   ],
   "source": [
    "a.rstrip()"
   ]
  },
  {
   "cell_type": "code",
   "execution_count": 16,
   "id": "2002caa4-8412-439b-8c01-8aa0b0cc8971",
   "metadata": {},
   "outputs": [
    {
     "data": {
      "text/plain": [
       "'hi'"
      ]
     },
     "execution_count": 16,
     "metadata": {},
     "output_type": "execute_result"
    }
   ],
   "source": [
    "a.strip()"
   ]
  },
  {
   "cell_type": "markdown",
   "id": "cfb779fd-b009-406e-8550-0a0f8fef2872",
   "metadata": {},
   "source": [
    "## 문자열 바꾸기 replace (매서드를 통해 바꿀 수 있음)"
   ]
  },
  {
   "cell_type": "code",
   "execution_count": 18,
   "id": "0addd166-df9d-41b0-8f5f-998047547f25",
   "metadata": {},
   "outputs": [
    {
     "data": {
      "text/plain": [
       "'Your leg is too short'"
      ]
     },
     "execution_count": 18,
     "metadata": {},
     "output_type": "execute_result"
    }
   ],
   "source": [
    "a = 'Life is too short'\n",
    "a.replace('Life', 'Your leg')"
   ]
  },
  {
   "cell_type": "markdown",
   "id": "d5cbfc83-1f0d-4f17-8c4f-be5370067eb1",
   "metadata": {},
   "source": [
    "## 문자열 나누기 Split"
   ]
  },
  {
   "cell_type": "code",
   "execution_count": 26,
   "id": "595f6ea7-2251-4ead-a182-b4a9bb0959bc",
   "metadata": {},
   "outputs": [
    {
     "ename": "AttributeError",
     "evalue": "'builtin_function_or_method' object has no attribute 'split'",
     "output_type": "error",
     "traceback": [
      "\u001b[1;31m---------------------------------------------------------------------------\u001b[0m",
      "\u001b[1;31mAttributeError\u001b[0m                            Traceback (most recent call last)",
      "Cell \u001b[1;32mIn[26], line 1\u001b[0m\n\u001b[1;32m----> 1\u001b[0m a\u001b[38;5;241m.\u001b[39msplit(\u001b[38;5;124m'\u001b[39m\u001b[38;5;124m,\u001b[39m\u001b[38;5;124m'\u001b[39m)\n",
      "\u001b[1;31mAttributeError\u001b[0m: 'builtin_function_or_method' object has no attribute 'split'"
     ]
    }
   ],
   "source": [
    "a.split(',')"
   ]
  },
  {
   "cell_type": "code",
   "execution_count": 29,
   "id": "1fce8280-edd8-4c97-a793-682d650952df",
   "metadata": {},
   "outputs": [
    {
     "data": {
      "text/plain": [
       "['a', 'b', 'c', 'd']"
      ]
     },
     "execution_count": 29,
     "metadata": {},
     "output_type": "execute_result"
    }
   ],
   "source": [
    "b = 'a:b:c:d'\n",
    "b.split(':')"
   ]
  },
  {
   "cell_type": "markdown",
   "id": "0fca30f3-2bce-4eb2-b99c-27b40e0b2142",
   "metadata": {},
   "source": [
    "# 변수 (print, type > 파이썬 내장 함수, 종속되지 않음)"
   ]
  },
  {
   "cell_type": "code",
   "execution_count": 30,
   "id": "e4e263fa-77da-40ce-bf65-fe13e911f048",
   "metadata": {},
   "outputs": [
    {
     "data": {
      "text/plain": [
       "(1, int)"
      ]
     },
     "execution_count": 30,
     "metadata": {},
     "output_type": "execute_result"
    }
   ],
   "source": [
    "a = 1\n",
    "a, type(a)"
   ]
  },
  {
   "cell_type": "code",
   "execution_count": 32,
   "id": "a888220a-e347-43be-9bc9-bebacf1a8c9b",
   "metadata": {},
   "outputs": [
    {
     "data": {
      "text/plain": [
       "('python', str)"
      ]
     },
     "execution_count": 32,
     "metadata": {},
     "output_type": "execute_result"
    }
   ],
   "source": [
    "b = 'python'\n",
    "b, type(b)"
   ]
  },
  {
   "cell_type": "code",
   "execution_count": 34,
   "id": "0c4b7210-dee7-4f8d-bdf7-82b6c8878e13",
   "metadata": {},
   "outputs": [
    {
     "data": {
      "text/plain": [
       "([1, 2, 3], list)"
      ]
     },
     "execution_count": 34,
     "metadata": {},
     "output_type": "execute_result"
    }
   ],
   "source": [
    "c = [1,2,3]\n",
    "c, type(c)"
   ]
  },
  {
   "cell_type": "code",
   "execution_count": 35,
   "id": "80fdfc52-e722-48d8-9eb1-49888efac690",
   "metadata": {},
   "outputs": [
    {
     "data": {
      "text/plain": [
       "140727402283816"
      ]
     },
     "execution_count": 35,
     "metadata": {},
     "output_type": "execute_result"
    }
   ],
   "source": [
    "id(a)"
   ]
  },
  {
   "cell_type": "code",
   "execution_count": 36,
   "id": "ec396771-1c8f-4f11-a8b6-3cb3f6e3cb5c",
   "metadata": {},
   "outputs": [
    {
     "data": {
      "text/plain": [
       "(2642147285568, 2642147285568)"
      ]
     },
     "execution_count": 36,
     "metadata": {},
     "output_type": "execute_result"
    }
   ],
   "source": [
    "# 복사(참조)\n",
    "a = [1,2,3] # 리스트는 수정 가능\n",
    "b = a\n",
    "id(a), id(b)"
   ]
  },
  {
   "cell_type": "code",
   "execution_count": 37,
   "id": "973662fc-cb56-42c0-995a-8be07fc30ddb",
   "metadata": {},
   "outputs": [
    {
     "data": {
      "text/plain": [
       "True"
      ]
     },
     "execution_count": 37,
     "metadata": {},
     "output_type": "execute_result"
    }
   ],
   "source": [
    "a is b"
   ]
  },
  {
   "cell_type": "code",
   "execution_count": 39,
   "id": "10ab3250-c1f4-4b36-af33-387f7809da1e",
   "metadata": {},
   "outputs": [],
   "source": [
    "del b"
   ]
  },
  {
   "cell_type": "code",
   "execution_count": 40,
   "id": "856f19e5-d7a1-4f31-89ef-21f5b20079b9",
   "metadata": {},
   "outputs": [
    {
     "data": {
      "text/plain": [
       "[1, 2, 3]"
      ]
     },
     "execution_count": 40,
     "metadata": {},
     "output_type": "execute_result"
    }
   ],
   "source": [
    "a"
   ]
  },
  {
   "cell_type": "code",
   "execution_count": 42,
   "id": "a2cd8f85-702b-491a-86fe-dc276fd81218",
   "metadata": {},
   "outputs": [
    {
     "data": {
      "text/plain": [
       "[1, 4, 3]"
      ]
     },
     "execution_count": 42,
     "metadata": {},
     "output_type": "execute_result"
    }
   ],
   "source": [
    "a[1]= 4\n",
    "a"
   ]
  },
  {
   "cell_type": "code",
   "execution_count": 44,
   "id": "2440afa4-81de-4c36-9e0d-8ffec30b1acd",
   "metadata": {},
   "outputs": [
    {
     "data": {
      "text/plain": [
       "(2642147281600, 2642148041216)"
      ]
     },
     "execution_count": 44,
     "metadata": {},
     "output_type": "execute_result"
    }
   ],
   "source": [
    "a = [1,2,3]\n",
    "b = a[:]\n",
    "id(a), id(b)"
   ]
  },
  {
   "cell_type": "code",
   "execution_count": 45,
   "id": "77728e15-8bc8-4200-aa34-860255acbe31",
   "metadata": {},
   "outputs": [
    {
     "data": {
      "text/plain": [
       "[1, 2, 3]"
      ]
     },
     "execution_count": 45,
     "metadata": {},
     "output_type": "execute_result"
    }
   ],
   "source": [
    "a[:]"
   ]
  },
  {
   "cell_type": "markdown",
   "id": "a6d6f91b-2c8f-48c1-9ef5-78c6ca43f741",
   "metadata": {
    "jupyter": {
     "source_hidden": true
    }
   },
   "source": [
    "## copy (라이브러리 : 특정 기능의 집합)"
   ]
  },
  {
   "cell_type": "code",
   "execution_count": 47,
   "id": "18b48290-484f-4b5e-8b86-7bc3af5f972f",
   "metadata": {},
   "outputs": [],
   "source": [
    "from copy import copy"
   ]
  },
  {
   "cell_type": "code",
   "execution_count": 48,
   "id": "a4399e13-206f-4ea6-b58d-2d5327a9501a",
   "metadata": {},
   "outputs": [
    {
     "data": {
      "text/plain": [
       "[1, 2, 3]"
      ]
     },
     "execution_count": 48,
     "metadata": {},
     "output_type": "execute_result"
    }
   ],
   "source": [
    "a = [1,2,3]\n",
    "a"
   ]
  },
  {
   "cell_type": "code",
   "execution_count": 50,
   "id": "087f368d-34ba-4cc9-93ad-2e8038f0a65c",
   "metadata": {},
   "outputs": [
    {
     "data": {
      "text/plain": [
       "(2642147995328, 2642147430592)"
      ]
     },
     "execution_count": 50,
     "metadata": {},
     "output_type": "execute_result"
    }
   ],
   "source": [
    "b = copy(a) #깊은 복사\n",
    "id(a), id(b)"
   ]
  },
  {
   "cell_type": "code",
   "execution_count": 51,
   "id": "48e5788d-ab0b-4c3e-b23d-881785039f51",
   "metadata": {},
   "outputs": [
    {
     "data": {
      "text/plain": [
       "False"
      ]
     },
     "execution_count": 51,
     "metadata": {},
     "output_type": "execute_result"
    }
   ],
   "source": [
    "b is a #변수 자체를 비교"
   ]
  },
  {
   "cell_type": "code",
   "execution_count": 52,
   "id": "f0c1fe6d-4651-413a-af51-ac83f1ef4ed8",
   "metadata": {},
   "outputs": [
    {
     "data": {
      "text/plain": [
       "True"
      ]
     },
     "execution_count": 52,
     "metadata": {},
     "output_type": "execute_result"
    }
   ],
   "source": [
    "b == a #값만 비교"
   ]
  },
  {
   "cell_type": "markdown",
   "id": "e00a55ae-065a-4ac3-811d-0e94d90a8bb4",
   "metadata": {
    "jupyter": {
     "source_hidden": true
    }
   },
   "source": [
    "## 변수를 만드는 여러가지 방법"
   ]
  },
  {
   "cell_type": "code",
   "execution_count": 54,
   "id": "5f4841f1-3d23-4fad-86eb-6b231cfe5c39",
   "metadata": {},
   "outputs": [
    {
     "data": {
      "text/plain": [
       "('python', 'Life')"
      ]
     },
     "execution_count": 54,
     "metadata": {},
     "output_type": "execute_result"
    }
   ],
   "source": [
    "a = 'python'\n",
    "b = 'Life'\n",
    "a, b"
   ]
  },
  {
   "cell_type": "code",
   "execution_count": 55,
   "id": "55c2a0a0-11a9-4b92-8bf0-315711dca37f",
   "metadata": {},
   "outputs": [
    {
     "data": {
      "text/plain": [
       "('python', 'Life')"
      ]
     },
     "execution_count": 55,
     "metadata": {},
     "output_type": "execute_result"
    }
   ],
   "source": [
    "[a, b] = ['python', 'Life']\n",
    "a, b"
   ]
  },
  {
   "cell_type": "code",
   "execution_count": 58,
   "id": "831e116a-7e97-40be-9bb4-462d80811261",
   "metadata": {},
   "outputs": [
    {
     "data": {
      "text/plain": [
       "(5, 3)"
      ]
     },
     "execution_count": 58,
     "metadata": {},
     "output_type": "execute_result"
    }
   ],
   "source": [
    "a = 3\n",
    "b = 5\n",
    "\n",
    "a, b = b, a\n",
    "\n",
    "a, b"
   ]
  },
  {
   "cell_type": "markdown",
   "id": "533c7d04-5213-4c63-9a66-9660fbd7b24e",
   "metadata": {
    "jupyter": {
     "source_hidden": true
    }
   },
   "source": [
    "# 리스트 객체 자료형"
   ]
  },
  {
   "cell_type": "code",
   "execution_count": 59,
   "id": "b3e9dcd7-acc5-4c2f-af6a-454266f5f492",
   "metadata": {},
   "outputs": [
    {
     "data": {
      "text/plain": [
       "[1, 3, 5, 7, 9]"
      ]
     },
     "execution_count": 59,
     "metadata": {},
     "output_type": "execute_result"
    }
   ],
   "source": [
    "odd = [1, 3, 5, 7, 9]\n",
    "odd"
   ]
  },
  {
   "cell_type": "code",
   "execution_count": 60,
   "id": "be746ccf-d927-4ac5-b772-826f251cfe60",
   "metadata": {},
   "outputs": [
    {
     "data": {
      "text/plain": [
       "list"
      ]
     },
     "execution_count": 60,
     "metadata": {},
     "output_type": "execute_result"
    }
   ],
   "source": [
    "type(odd)"
   ]
  },
  {
   "cell_type": "code",
   "execution_count": 63,
   "id": "6b2e53b9-877e-4f0f-8706-654990a04275",
   "metadata": {},
   "outputs": [
    {
     "name": "stdout",
     "output_type": "stream",
     "text": [
      "[] <class 'list'>\n",
      "[1, 2, 3] <class 'list'>\n",
      "['Life', 'is', 'too', 'short'] <class 'list'>\n",
      "[1, 2, 'Life', 'is'] <class 'list'>\n",
      "[3, 4, ['Life', 'is']] <class 'list'>\n"
     ]
    }
   ],
   "source": [
    "a = []\n",
    "b = [1,2,3]\n",
    "c = ['Life', 'is', 'too', 'short']\n",
    "d = [1, 2, 'Life', 'is']\n",
    "e = [3, 4, ['Life', 'is']]\n",
    "\n",
    "print(a,type(a))\n",
    "print(b,type(b))\n",
    "print(c,type(c))\n",
    "print(d,type(d))\n",
    "print(e,type(e))"
   ]
  },
  {
   "cell_type": "code",
   "execution_count": 68,
   "id": "1c822b98-245d-468b-a84d-81a50a68dd6d",
   "metadata": {},
   "outputs": [
    {
     "data": {
      "text/plain": [
       "([], list)"
      ]
     },
     "execution_count": 68,
     "metadata": {},
     "output_type": "execute_result"
    }
   ],
   "source": [
    "a = list(a)\n",
    "a, type(a)"
   ]
  },
  {
   "cell_type": "markdown",
   "id": "bbaa486f-149f-4151-b63c-5515b832a344",
   "metadata": {
    "jupyter": {
     "source_hidden": true
    }
   },
   "source": [
    "## 리스트 인덱싱"
   ]
  },
  {
   "cell_type": "code",
   "execution_count": 69,
   "id": "f2716614-a873-4c7f-8425-1cc80c96dd3d",
   "metadata": {},
   "outputs": [
    {
     "data": {
      "text/plain": [
       "[1, 2, 3]"
      ]
     },
     "execution_count": 69,
     "metadata": {},
     "output_type": "execute_result"
    }
   ],
   "source": [
    "a = [1,2,3]\n",
    "a"
   ]
  },
  {
   "cell_type": "code",
   "execution_count": 70,
   "id": "f6057711-226b-4efb-a4d6-e61d4d7bef0e",
   "metadata": {},
   "outputs": [
    {
     "data": {
      "text/plain": [
       "1"
      ]
     },
     "execution_count": 70,
     "metadata": {},
     "output_type": "execute_result"
    }
   ],
   "source": [
    "a[0]"
   ]
  },
  {
   "cell_type": "code",
   "execution_count": 71,
   "id": "f1beb587-9639-4b79-bdc9-2de6fdf2b87c",
   "metadata": {},
   "outputs": [
    {
     "data": {
      "text/plain": [
       "4"
      ]
     },
     "execution_count": 71,
     "metadata": {},
     "output_type": "execute_result"
    }
   ],
   "source": [
    "a[0] + a[2]"
   ]
  },
  {
   "cell_type": "code",
   "execution_count": 72,
   "id": "24638598-6384-4a30-8ba1-5cdf131a0f40",
   "metadata": {},
   "outputs": [
    {
     "data": {
      "text/plain": [
       "[1, 2, 3, ['a', 'b', 'c']]"
      ]
     },
     "execution_count": 72,
     "metadata": {},
     "output_type": "execute_result"
    }
   ],
   "source": [
    "a = [1,2,3,['a','b','c']]\n",
    "a"
   ]
  },
  {
   "cell_type": "code",
   "execution_count": 73,
   "id": "22a60ef1-3429-4af0-9a69-3cbb8cf4f963",
   "metadata": {},
   "outputs": [
    {
     "data": {
      "text/plain": [
       "4"
      ]
     },
     "execution_count": 73,
     "metadata": {},
     "output_type": "execute_result"
    }
   ],
   "source": [
    "len(a)"
   ]
  },
  {
   "cell_type": "code",
   "execution_count": 74,
   "id": "ce22d935-5c4c-4fc2-a7ab-529d5492b2c6",
   "metadata": {},
   "outputs": [
    {
     "data": {
      "text/plain": [
       "['a', 'b', 'c']"
      ]
     },
     "execution_count": 74,
     "metadata": {},
     "output_type": "execute_result"
    }
   ],
   "source": [
    "a[3]"
   ]
  },
  {
   "cell_type": "code",
   "execution_count": 75,
   "id": "026ff33f-4b14-49fd-9435-8a597a253dd3",
   "metadata": {},
   "outputs": [
    {
     "data": {
      "text/plain": [
       "'b'"
      ]
     },
     "execution_count": 75,
     "metadata": {},
     "output_type": "execute_result"
    }
   ],
   "source": [
    "a[3][1]"
   ]
  },
  {
   "cell_type": "code",
   "execution_count": null,
   "id": "3803069d-8a26-4699-b425-e1adf765a27a",
   "metadata": {},
   "outputs": [],
   "source": [
    "### 삼중 리스트 인덱싱"
   ]
  },
  {
   "cell_type": "code",
   "execution_count": 77,
   "id": "b067f805-899a-4d64-9ee3-a819d6f9ca6a",
   "metadata": {},
   "outputs": [
    {
     "data": {
      "text/plain": [
       "[3, 4, ['a', 'b', ['Life', 'is']]]"
      ]
     },
     "execution_count": 77,
     "metadata": {},
     "output_type": "execute_result"
    }
   ],
   "source": [
    "e = [3, 4, ['a','b',['Life', 'is']]]\n",
    "e"
   ]
  },
  {
   "cell_type": "code",
   "execution_count": 79,
   "id": "412d96b2-fcae-4095-bb5d-6473effade09",
   "metadata": {},
   "outputs": [
    {
     "data": {
      "text/plain": [
       "'Life'"
      ]
     },
     "execution_count": 79,
     "metadata": {},
     "output_type": "execute_result"
    }
   ],
   "source": [
    "e[2][2][0]"
   ]
  },
  {
   "cell_type": "markdown",
   "id": "001e9868-b26c-4188-8f90-5879e3608b1d",
   "metadata": {
    "jupyter": {
     "source_hidden": true
    }
   },
   "source": [
    "## 리스트의 슬라이싱"
   ]
  },
  {
   "cell_type": "code",
   "execution_count": 80,
   "id": "9f44f9fc-182a-419c-b4fc-1991b87c4b8e",
   "metadata": {},
   "outputs": [
    {
     "data": {
      "text/plain": [
       "[3, 4]"
      ]
     },
     "execution_count": 80,
     "metadata": {},
     "output_type": "execute_result"
    }
   ],
   "source": [
    "a = [1,2,3,4,5]\n",
    "a[2:4]"
   ]
  },
  {
   "cell_type": "code",
   "execution_count": 81,
   "id": "9b878f6a-6b79-4b84-a8f4-dd7343d1f09d",
   "metadata": {},
   "outputs": [
    {
     "data": {
      "text/plain": [
       "[1, 3, 5]"
      ]
     },
     "execution_count": 81,
     "metadata": {},
     "output_type": "execute_result"
    }
   ],
   "source": [
    "a[::2]"
   ]
  },
  {
   "cell_type": "code",
   "execution_count": 83,
   "id": "2c37b6b3-c32c-424c-a69a-cae726f78957",
   "metadata": {},
   "outputs": [
    {
     "data": {
      "text/plain": [
       "[2, 4]"
      ]
     },
     "execution_count": 83,
     "metadata": {},
     "output_type": "execute_result"
    }
   ],
   "source": [
    "a[1::2]"
   ]
  },
  {
   "cell_type": "markdown",
   "id": "48d01065-8d93-4d56-9667-164a64b5bba4",
   "metadata": {
    "jupyter": {
     "source_hidden": true
    }
   },
   "source": [
    "## 중첩 리스트 슬라이싱"
   ]
  },
  {
   "cell_type": "code",
   "execution_count": 88,
   "id": "f3986283-0088-48ec-acb5-dc7f835ad334",
   "metadata": {},
   "outputs": [
    {
     "data": {
      "text/plain": [
       "[3, ['e', 'f']]"
      ]
     },
     "execution_count": 88,
     "metadata": {},
     "output_type": "execute_result"
    }
   ],
   "source": [
    "a = [1, 2, 3, ['e','f']]\n",
    "a[2:5]"
   ]
  },
  {
   "cell_type": "code",
   "execution_count": 89,
   "id": "ae6f071d-e06e-4e35-b12d-d899ec8797e8",
   "metadata": {},
   "outputs": [
    {
     "data": {
      "text/plain": [
       "['e', 'f']"
      ]
     },
     "execution_count": 89,
     "metadata": {},
     "output_type": "execute_result"
    }
   ],
   "source": [
    "a[3][:2]"
   ]
  },
  {
   "cell_type": "code",
   "execution_count": 90,
   "id": "74696443-5901-4276-9f87-c82d3f515c67",
   "metadata": {},
   "outputs": [
    {
     "data": {
      "text/plain": [
       "[3]"
      ]
     },
     "execution_count": 90,
     "metadata": {},
     "output_type": "execute_result"
    }
   ],
   "source": [
    "a[2:-1]"
   ]
  },
  {
   "cell_type": "code",
   "execution_count": 92,
   "id": "815e8178-cbd2-4adf-9d80-af4bb03cc0a7",
   "metadata": {},
   "outputs": [
    {
     "data": {
      "text/plain": [
       "[1, 2]"
      ]
     },
     "execution_count": 92,
     "metadata": {},
     "output_type": "execute_result"
    }
   ],
   "source": [
    "a=[1,2,3,4,5]\n",
    "del a[2:]\n",
    "a"
   ]
  },
  {
   "cell_type": "markdown",
   "id": "942a2fa7-08bc-4243-80b8-c42160d83ec7",
   "metadata": {
    "jupyter": {
     "source_hidden": true
    }
   },
   "source": [
    "## 리스트 관련 함수"
   ]
  },
  {
   "cell_type": "code",
   "execution_count": 93,
   "id": "a710a58e-a106-4513-85ff-20dd9efcb689",
   "metadata": {},
   "outputs": [
    {
     "data": {
      "text/plain": [
       "[1, 2, 3]"
      ]
     },
     "execution_count": 93,
     "metadata": {},
     "output_type": "execute_result"
    }
   ],
   "source": [
    "# 리스트 요소 추가 append\n",
    "a = [1,2,3]\n",
    "a"
   ]
  },
  {
   "cell_type": "code",
   "execution_count": 100,
   "id": "1a532683-ae68-400a-8fee-aa0eef25f286",
   "metadata": {},
   "outputs": [
    {
     "data": {
      "text/plain": [
       "[1, 2, 3, 4, 4, 4, 5]"
      ]
     },
     "execution_count": 100,
     "metadata": {},
     "output_type": "execute_result"
    }
   ],
   "source": [
    "a.append(5)\n",
    "a"
   ]
  },
  {
   "cell_type": "code",
   "execution_count": 99,
   "id": "5990c762-0be3-48f5-9e9b-725ffc7ac570",
   "metadata": {},
   "outputs": [
    {
     "data": {
      "text/plain": [
       "[1, 2, 3, 4, 4, 4]"
      ]
     },
     "execution_count": 99,
     "metadata": {},
     "output_type": "execute_result"
    }
   ],
   "source": [
    "a"
   ]
  },
  {
   "cell_type": "code",
   "execution_count": 101,
   "id": "3d674fce-1ae2-4e84-9db5-25096f7f3cf3",
   "metadata": {},
   "outputs": [
    {
     "data": {
      "text/plain": [
       "[1, 2, 3, 4]"
      ]
     },
     "execution_count": 101,
     "metadata": {},
     "output_type": "execute_result"
    }
   ],
   "source": [
    "# 리스트 정렬 sort\n",
    "a = [1, 4, 3, 2]\n",
    "a.sort()\n",
    "a"
   ]
  },
  {
   "cell_type": "code",
   "execution_count": 103,
   "id": "58c6e72b-8fc8-453c-afa7-8364daa8ff03",
   "metadata": {},
   "outputs": [
    {
     "data": {
      "text/plain": [
       "\u001b[1;31mSignature:\u001b[0m \u001b[0ma\u001b[0m\u001b[1;33m.\u001b[0m\u001b[0msort\u001b[0m\u001b[1;33m(\u001b[0m\u001b[1;33m*\u001b[0m\u001b[1;33m,\u001b[0m \u001b[0mkey\u001b[0m\u001b[1;33m=\u001b[0m\u001b[1;32mNone\u001b[0m\u001b[1;33m,\u001b[0m \u001b[0mreverse\u001b[0m\u001b[1;33m=\u001b[0m\u001b[1;32mFalse\u001b[0m\u001b[1;33m)\u001b[0m\u001b[1;33m\u001b[0m\u001b[1;33m\u001b[0m\u001b[0m\n",
       "\u001b[1;31mDocstring:\u001b[0m\n",
       "Sort the list in ascending order and return None.\n",
       "\n",
       "The sort is in-place (i.e. the list itself is modified) and stable (i.e. the\n",
       "order of two equal elements is maintained).\n",
       "\n",
       "If a key function is given, apply it once to each list item and sort them,\n",
       "ascending or descending, according to their function values.\n",
       "\n",
       "The reverse flag can be set to sort in descending order.\n",
       "\u001b[1;31mType:\u001b[0m      builtin_function_or_method"
      ]
     },
     "metadata": {},
     "output_type": "display_data"
    }
   ],
   "source": [
    "a.sort?"
   ]
  },
  {
   "cell_type": "code",
   "execution_count": 107,
   "id": "59653a63-e680-4be4-8b86-c95b99c80921",
   "metadata": {},
   "outputs": [
    {
     "data": {
      "text/plain": [
       "[4, 3, 2, 1]"
      ]
     },
     "execution_count": 107,
     "metadata": {},
     "output_type": "execute_result"
    }
   ],
   "source": [
    "a.sort(reverse = True)\n",
    "a"
   ]
  },
  {
   "cell_type": "code",
   "execution_count": 108,
   "id": "aec0224a-bee3-4256-84ba-b9cca31bea8d",
   "metadata": {},
   "outputs": [
    {
     "data": {
      "text/plain": [
       "['b', 'c', 'a']"
      ]
     },
     "execution_count": 108,
     "metadata": {},
     "output_type": "execute_result"
    }
   ],
   "source": [
    "#리스트 뒤집기 reverse\n",
    "a = ['a', 'c' , 'b']\n",
    "a.reverse()\n",
    "a"
   ]
  },
  {
   "cell_type": "code",
   "execution_count": 109,
   "id": "939d4885-7582-49f8-97ce-be2370e1b4a7",
   "metadata": {},
   "outputs": [
    {
     "data": {
      "text/plain": [
       "2"
      ]
     },
     "execution_count": 109,
     "metadata": {},
     "output_type": "execute_result"
    }
   ],
   "source": [
    "# 인덱스 반환 index\n",
    "a = [1,2,3]\n",
    "a.index(3)"
   ]
  },
  {
   "cell_type": "code",
   "execution_count": 110,
   "id": "610b8f12-c529-4072-8282-21eb84852fc3",
   "metadata": {},
   "outputs": [
    {
     "data": {
      "text/plain": [
       "[4, 1, 2, 3]"
      ]
     },
     "execution_count": 110,
     "metadata": {},
     "output_type": "execute_result"
    }
   ],
   "source": [
    "# 리스트 요소 삽입 insert\n",
    "a = [1,2,3]\n",
    "a.insert(0,4)\n",
    "a"
   ]
  },
  {
   "cell_type": "code",
   "execution_count": 112,
   "id": "3f888109-fc82-4d67-823a-5078ae75cfbb",
   "metadata": {},
   "outputs": [
    {
     "data": {
      "text/plain": [
       "\u001b[1;31mSignature:\u001b[0m \u001b[0ma\u001b[0m\u001b[1;33m.\u001b[0m\u001b[0minsert\u001b[0m\u001b[1;33m(\u001b[0m\u001b[0mindex\u001b[0m\u001b[1;33m,\u001b[0m \u001b[0mobject\u001b[0m\u001b[1;33m,\u001b[0m \u001b[1;33m/\u001b[0m\u001b[1;33m)\u001b[0m\u001b[1;33m\u001b[0m\u001b[1;33m\u001b[0m\u001b[0m\n",
       "\u001b[1;31mDocstring:\u001b[0m Insert object before index.\n",
       "\u001b[1;31mType:\u001b[0m      builtin_function_or_method"
      ]
     },
     "metadata": {},
     "output_type": "display_data"
    }
   ],
   "source": [
    "a.insert? #독스트링"
   ]
  },
  {
   "cell_type": "code",
   "execution_count": 124,
   "id": "06934156-8c5d-444f-98ff-444fde370bf7",
   "metadata": {},
   "outputs": [
    {
     "data": {
      "text/plain": [
       "[1, 2, 1, 2, 3]"
      ]
     },
     "execution_count": 124,
     "metadata": {},
     "output_type": "execute_result"
    }
   ],
   "source": [
    "# Remove\n",
    "a = [1,2,3,1,2,3]\n",
    "a.remove(3)\n",
    "a"
   ]
  },
  {
   "cell_type": "code",
   "execution_count": 125,
   "id": "e307c20c-b13d-45a3-9115-e6846c30826e",
   "metadata": {},
   "outputs": [],
   "source": [
    "del a[3]"
   ]
  },
  {
   "cell_type": "code",
   "execution_count": 126,
   "id": "cd400587-2fe1-4047-8d44-e19b75dfee01",
   "metadata": {},
   "outputs": [
    {
     "data": {
      "text/plain": [
       "[1, 2, 1, 3]"
      ]
     },
     "execution_count": 126,
     "metadata": {},
     "output_type": "execute_result"
    }
   ],
   "source": [
    "a"
   ]
  },
  {
   "cell_type": "code",
   "execution_count": 122,
   "id": "59609911-b44a-46e3-becc-0fb54847915e",
   "metadata": {},
   "outputs": [
    {
     "data": {
      "text/plain": [
       "3"
      ]
     },
     "execution_count": 122,
     "metadata": {},
     "output_type": "execute_result"
    }
   ],
   "source": [
    "#pop\n",
    "b = [1,2,3]\n",
    "b.pop()"
   ]
  },
  {
   "cell_type": "code",
   "execution_count": 123,
   "id": "ecc66f82-8181-42a5-b26a-f93d82e5b48d",
   "metadata": {},
   "outputs": [
    {
     "data": {
      "text/plain": [
       "[1, 2]"
      ]
     },
     "execution_count": 123,
     "metadata": {},
     "output_type": "execute_result"
    }
   ],
   "source": [
    "b"
   ]
  },
  {
   "cell_type": "code",
   "execution_count": 127,
   "id": "1225bbb8-f34c-4953-9680-f92cffe8b07b",
   "metadata": {},
   "outputs": [
    {
     "data": {
      "text/plain": [
       "\u001b[1;31mSignature:\u001b[0m \u001b[0mb\u001b[0m\u001b[1;33m.\u001b[0m\u001b[0mpop\u001b[0m\u001b[1;33m(\u001b[0m\u001b[0mindex\u001b[0m\u001b[1;33m=\u001b[0m\u001b[1;33m-\u001b[0m\u001b[1;36m1\u001b[0m\u001b[1;33m,\u001b[0m \u001b[1;33m/\u001b[0m\u001b[1;33m)\u001b[0m\u001b[1;33m\u001b[0m\u001b[1;33m\u001b[0m\u001b[0m\n",
       "\u001b[1;31mDocstring:\u001b[0m\n",
       "Remove and return item at index (default last).\n",
       "\n",
       "Raises IndexError if list is empty or index is out of range.\n",
       "\u001b[1;31mType:\u001b[0m      builtin_function_or_method"
      ]
     },
     "metadata": {},
     "output_type": "display_data"
    }
   ],
   "source": [
    "b.pop?"
   ]
  },
  {
   "cell_type": "code",
   "execution_count": 128,
   "id": "c79c3183-0bc7-4d7f-a39c-54de846b1c7c",
   "metadata": {},
   "outputs": [
    {
     "data": {
      "text/plain": [
       "2"
      ]
     },
     "execution_count": 128,
     "metadata": {},
     "output_type": "execute_result"
    }
   ],
   "source": [
    "# count\n",
    "a = [1,2,3,1]\n",
    "a.count(1)"
   ]
  },
  {
   "cell_type": "code",
   "execution_count": 129,
   "id": "61dc1c06-1680-4a0c-ad36-fbde12a02ee4",
   "metadata": {},
   "outputs": [
    {
     "data": {
      "text/plain": [
       "[1, 2, 3, 4, 5]"
      ]
     },
     "execution_count": 129,
     "metadata": {},
     "output_type": "execute_result"
    }
   ],
   "source": [
    "# extend\n",
    "a = [1,2,3]\n",
    "a.extend([4,5])\n",
    "a"
   ]
  },
  {
   "cell_type": "code",
   "execution_count": 130,
   "id": "7bc88d04-d391-4c39-9a40-356448215d29",
   "metadata": {},
   "outputs": [
    {
     "data": {
      "text/plain": [
       "[1, 2, 3, 4, 5, 6, 7]"
      ]
     },
     "execution_count": 130,
     "metadata": {},
     "output_type": "execute_result"
    }
   ],
   "source": [
    "b = [6,7]\n",
    "a.extend(b)\n",
    "a"
   ]
  },
  {
   "cell_type": "code",
   "execution_count": 132,
   "id": "bed6b0c0-d0b6-4c70-a2e1-069fa99a3d2a",
   "metadata": {},
   "outputs": [
    {
     "data": {
      "text/plain": [
       "\u001b[1;31mSignature:\u001b[0m \u001b[0ma\u001b[0m\u001b[1;33m.\u001b[0m\u001b[0mextend\u001b[0m\u001b[1;33m(\u001b[0m\u001b[0miterable\u001b[0m\u001b[1;33m,\u001b[0m \u001b[1;33m/\u001b[0m\u001b[1;33m)\u001b[0m\u001b[1;33m\u001b[0m\u001b[1;33m\u001b[0m\u001b[0m\n",
       "\u001b[1;31mDocstring:\u001b[0m Extend list by appending elements from the iterable.\n",
       "\u001b[1;31mType:\u001b[0m      builtin_function_or_method"
      ]
     },
     "metadata": {},
     "output_type": "display_data"
    }
   ],
   "source": [
    "a.extend?"
   ]
  },
  {
   "cell_type": "markdown",
   "id": "565c41b5-96ea-45ff-aa2e-ba25009bceea",
   "metadata": {
    "jupyter": {
     "source_hidden": true
    }
   },
   "source": [
    "## 리스트 연산"
   ]
  },
  {
   "cell_type": "code",
   "execution_count": 134,
   "id": "71ca2525-632f-4fe1-bc8e-0cb0f935f91a",
   "metadata": {},
   "outputs": [
    {
     "data": {
      "text/plain": [
       "3"
      ]
     },
     "execution_count": 134,
     "metadata": {},
     "output_type": "execute_result"
    }
   ],
   "source": [
    "a = 1\n",
    "a = a + 2\n",
    "a"
   ]
  },
  {
   "cell_type": "code",
   "execution_count": 135,
   "id": "b675cc46-4a61-40f3-9aa5-ee393323b512",
   "metadata": {},
   "outputs": [
    {
     "data": {
      "text/plain": [
       "6"
      ]
     },
     "execution_count": 135,
     "metadata": {},
     "output_type": "execute_result"
    }
   ],
   "source": [
    "a += 3\n",
    "a"
   ]
  },
  {
   "cell_type": "code",
   "execution_count": 137,
   "id": "e439c833-dbaa-4a24-a83a-c7bf24da2208",
   "metadata": {},
   "outputs": [
    {
     "data": {
      "text/plain": [
       "[1, 2, 3, 4, 5]"
      ]
     },
     "execution_count": 137,
     "metadata": {},
     "output_type": "execute_result"
    }
   ],
   "source": [
    "a = [1,2,3]\n",
    "a += [4,5]\n",
    "a"
   ]
  },
  {
   "cell_type": "code",
   "execution_count": 138,
   "id": "6b425107-e364-4ed6-8f03-730d71282657",
   "metadata": {},
   "outputs": [
    {
     "data": {
      "text/plain": [
       "[1, 2, 3, 4, 5, 9]"
      ]
     },
     "execution_count": 138,
     "metadata": {},
     "output_type": "execute_result"
    }
   ],
   "source": [
    "a += [9] #리스트는 리스트끼리 연산 가능\n",
    "a"
   ]
  },
  {
   "cell_type": "code",
   "execution_count": 139,
   "id": "eb4638c0-2054-4f49-bf9a-95cde4bd0c3e",
   "metadata": {},
   "outputs": [
    {
     "ename": "TypeError",
     "evalue": "'int' object is not iterable",
     "output_type": "error",
     "traceback": [
      "\u001b[1;31m---------------------------------------------------------------------------\u001b[0m",
      "\u001b[1;31mTypeError\u001b[0m                                 Traceback (most recent call last)",
      "Cell \u001b[1;32mIn[139], line 1\u001b[0m\n\u001b[1;32m----> 1\u001b[0m a \u001b[38;5;241m+\u001b[39m\u001b[38;5;241m=\u001b[39m \u001b[38;5;241m9\u001b[39m\n\u001b[0;32m      2\u001b[0m a\n",
      "\u001b[1;31mTypeError\u001b[0m: 'int' object is not iterable"
     ]
    }
   ],
   "source": [
    "a += 9\n",
    "a"
   ]
  },
  {
   "cell_type": "markdown",
   "id": "9b1eb1d5-6875-4697-b500-13ca6f058b0a",
   "metadata": {},
   "source": [
    "# 튜플 자료형"
   ]
  },
  {
   "cell_type": "code",
   "execution_count": 142,
   "id": "a84b592e-152c-4160-b75f-a5ffb1252caa",
   "metadata": {},
   "outputs": [
    {
     "name": "stdout",
     "output_type": "stream",
     "text": [
      "() <class 'tuple'>\n",
      "(1,) <class 'tuple'>\n",
      "(1, 2, 3) <class 'tuple'>\n",
      "(1, 2, 3) <class 'tuple'>\n",
      "('a', 'b', ('ab', 'cd')) <class 'tuple'>\n"
     ]
    }
   ],
   "source": [
    "t1 = ()\n",
    "t2 = (1, )\n",
    "t3 = (1,2,3)\n",
    "t4 = 1,2,3\n",
    "t5 = ('a','b',('ab', 'cd'))\n",
    "\n",
    "print(t1, type(t1))\n",
    "print(t2, type(t2))\n",
    "print(t3, type(t3))\n",
    "print(t4, type(t4))\n",
    "print(t5, type(t5))"
   ]
  },
  {
   "cell_type": "code",
   "execution_count": 143,
   "id": "13d9ffaa-7007-4ec9-b9e2-20e64c7119bd",
   "metadata": {},
   "outputs": [
    {
     "data": {
      "text/plain": [
       "((), (1,))"
      ]
     },
     "execution_count": 143,
     "metadata": {},
     "output_type": "execute_result"
    }
   ],
   "source": [
    "t1, t2"
   ]
  },
  {
   "cell_type": "code",
   "execution_count": 144,
   "id": "1c4dae62-d565-4bf3-b2d9-9b83073e1119",
   "metadata": {},
   "outputs": [
    {
     "data": {
      "text/plain": [
       "(int, tuple)"
      ]
     },
     "execution_count": 144,
     "metadata": {},
     "output_type": "execute_result"
    }
   ],
   "source": [
    "type((1)), type((1, ))"
   ]
  },
  {
   "cell_type": "code",
   "execution_count": 145,
   "id": "47128bf5-7104-4e46-bb52-77211f78faa6",
   "metadata": {},
   "outputs": [
    {
     "ename": "TypeError",
     "evalue": "'tuple' object doesn't support item deletion",
     "output_type": "error",
     "traceback": [
      "\u001b[1;31m---------------------------------------------------------------------------\u001b[0m",
      "\u001b[1;31mTypeError\u001b[0m                                 Traceback (most recent call last)",
      "Cell \u001b[1;32mIn[145], line 2\u001b[0m\n\u001b[0;32m      1\u001b[0m t1 \u001b[38;5;241m=\u001b[39m (\u001b[38;5;241m1\u001b[39m,\u001b[38;5;241m2\u001b[39m, \u001b[38;5;124m'\u001b[39m\u001b[38;5;124ma\u001b[39m\u001b[38;5;124m'\u001b[39m,\u001b[38;5;124m'\u001b[39m\u001b[38;5;124mb\u001b[39m\u001b[38;5;124m'\u001b[39m)\n\u001b[1;32m----> 2\u001b[0m \u001b[38;5;28;01mdel\u001b[39;00m t1[\u001b[38;5;241m0\u001b[39m]\n",
      "\u001b[1;31mTypeError\u001b[0m: 'tuple' object doesn't support item deletion"
     ]
    }
   ],
   "source": [
    "t1 = (1,2, 'a','b')\n",
    "del t1[0]"
   ]
  },
  {
   "cell_type": "code",
   "execution_count": 146,
   "id": "325748f0-fdf7-4be4-972d-b292862055ac",
   "metadata": {},
   "outputs": [
    {
     "ename": "TypeError",
     "evalue": "'tuple' object does not support item assignment",
     "output_type": "error",
     "traceback": [
      "\u001b[1;31m---------------------------------------------------------------------------\u001b[0m",
      "\u001b[1;31mTypeError\u001b[0m                                 Traceback (most recent call last)",
      "Cell \u001b[1;32mIn[146], line 1\u001b[0m\n\u001b[1;32m----> 1\u001b[0m t1[\u001b[38;5;241m0\u001b[39m] \u001b[38;5;241m=\u001b[39m \u001b[38;5;124m'\u001b[39m\u001b[38;5;124mc\u001b[39m\u001b[38;5;124m'\u001b[39m\n",
      "\u001b[1;31mTypeError\u001b[0m: 'tuple' object does not support item assignment"
     ]
    }
   ],
   "source": [
    "t1[0] = 'c'"
   ]
  },
  {
   "cell_type": "markdown",
   "id": "a57e1bd2-dfd0-4d71-aab9-4604e4d48c6b",
   "metadata": {
    "jupyter": {
     "source_hidden": true
    }
   },
   "source": [
    "## 튜플 다루기 (조회)"
   ]
  },
  {
   "cell_type": "code",
   "execution_count": 147,
   "id": "61bc913b-e193-41d3-84a4-0e38351e3362",
   "metadata": {},
   "outputs": [
    {
     "data": {
      "text/plain": [
       "1"
      ]
     },
     "execution_count": 147,
     "metadata": {},
     "output_type": "execute_result"
    }
   ],
   "source": [
    "# 인덱싱\n",
    "t1 = (1,2, 'a', 'b')\n",
    "t1[0]"
   ]
  },
  {
   "cell_type": "code",
   "execution_count": 148,
   "id": "851dd61e-7596-43b8-86c2-f6f038211a01",
   "metadata": {},
   "outputs": [
    {
     "data": {
      "text/plain": [
       "(2, 'a', 'b')"
      ]
     },
     "execution_count": 148,
     "metadata": {},
     "output_type": "execute_result"
    }
   ],
   "source": [
    "t1 = (1,2, 'a', 'b')\n",
    "t1[1:]"
   ]
  },
  {
   "cell_type": "markdown",
   "id": "88d38d50-2b2d-4940-980a-7823caebabe2",
   "metadata": {},
   "source": [
    "## 튜플 연산"
   ]
  },
  {
   "cell_type": "code",
   "execution_count": 150,
   "id": "7ac34cd0-c56f-4d58-920c-f8d43ec9019d",
   "metadata": {},
   "outputs": [
    {
     "data": {
      "text/plain": [
       "(1, 2, 'a', 'b', 3, 4)"
      ]
     },
     "execution_count": 150,
     "metadata": {},
     "output_type": "execute_result"
    }
   ],
   "source": [
    "#튜플 더하기\n",
    "t1 = (1,2, 'a', 'b')\n",
    "t2 = (3,4)\n",
    "t3 = t1 + t2\n",
    "t3"
   ]
  },
  {
   "cell_type": "code",
   "execution_count": 152,
   "id": "62af2d71-886b-4c72-863a-8b1357433acf",
   "metadata": {},
   "outputs": [
    {
     "data": {
      "text/plain": [
       "(3, 4, 3, 4, 3, 4)"
      ]
     },
     "execution_count": 152,
     "metadata": {},
     "output_type": "execute_result"
    }
   ],
   "source": [
    "#튜플 곱하기\n",
    "t2 = (3,4)\n",
    "t3 = t2 * 3\n",
    "t3"
   ]
  },
  {
   "cell_type": "markdown",
   "id": "447bf1fe-87ea-4fc4-88d5-8f9ecf63b42a",
   "metadata": {},
   "source": [
    "##튜플 길이 구하기"
   ]
  },
  {
   "cell_type": "code",
   "execution_count": 153,
   "id": "d8655ebc-8f9f-497b-b4a7-2c75f3582e16",
   "metadata": {},
   "outputs": [
    {
     "data": {
      "text/plain": [
       "4"
      ]
     },
     "execution_count": 153,
     "metadata": {},
     "output_type": "execute_result"
    }
   ],
   "source": [
    "len(t1)"
   ]
  },
  {
   "cell_type": "markdown",
   "id": "e563afde-b64f-44cc-bf7b-8af0ae2b7b91",
   "metadata": {},
   "source": [
    "# 딕셔너리 자료형"
   ]
  },
  {
   "cell_type": "code",
   "execution_count": null,
   "id": "1cc41e67-f121-4f36-ba6e-904f824e28de",
   "metadata": {},
   "outputs": [],
   "source": []
  }
 ],
 "metadata": {
  "kernelspec": {
   "display_name": "Python 3 (ipykernel)",
   "language": "python",
   "name": "python3"
  },
  "language_info": {
   "codemirror_mode": {
    "name": "ipython",
    "version": 3
   },
   "file_extension": ".py",
   "mimetype": "text/x-python",
   "name": "python",
   "nbconvert_exporter": "python",
   "pygments_lexer": "ipython3",
   "version": "3.11.7"
  }
 },
 "nbformat": 4,
 "nbformat_minor": 5
}
