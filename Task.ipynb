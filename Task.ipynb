{
 "cells": [
  {
   "cell_type": "markdown",
   "id": "3dbcaa54-faaf-4863-a6e6-15c6bdcb3ace",
   "metadata": {},
   "source": [
    "# 문제풀이 300제"
   ]
  },
  {
   "cell_type": "markdown",
   "id": "11ec22ae-004a-4190-97fc-d0d9a0555377",
   "metadata": {
    "jupyter": {
     "source_hidden": true
    }
   },
   "source": [
    "## 1 ~ 10"
   ]
  },
  {
   "cell_type": "code",
   "execution_count": null,
   "id": "0974c501-8ed3-43ca-946a-93da0a6c4ae9",
   "metadata": {},
   "outputs": [],
   "source": [
    "#1"
   ]
  },
  {
   "cell_type": "code",
   "execution_count": 1,
   "id": "2f4e75e3-dad3-4668-8b77-331d49f93889",
   "metadata": {},
   "outputs": [
    {
     "name": "stdout",
     "output_type": "stream",
     "text": [
      "Hello World\n"
     ]
    }
   ],
   "source": [
    "print(\"Hello World\")"
   ]
  },
  {
   "cell_type": "code",
   "execution_count": null,
   "id": "b5c4d428-0a9f-46fa-b5aa-1a44ca52b0bb",
   "metadata": {},
   "outputs": [],
   "source": [
    "#2"
   ]
  },
  {
   "cell_type": "code",
   "execution_count": 4,
   "id": "3c439ddf-9c0b-4b4f-97e8-137808ad2532",
   "metadata": {},
   "outputs": [
    {
     "name": "stdout",
     "output_type": "stream",
     "text": [
      "Mary's cosmetics\n"
     ]
    }
   ],
   "source": [
    "print(\"Mary's cosmetics\")"
   ]
  },
  {
   "cell_type": "code",
   "execution_count": null,
   "id": "1b239e2c-3308-4862-ab0c-ed174aaf9e27",
   "metadata": {},
   "outputs": [],
   "source": [
    "#3"
   ]
  },
  {
   "cell_type": "code",
   "execution_count": 5,
   "id": "749ce03c-8ca2-4080-a24e-2b6b0a33a0f5",
   "metadata": {},
   "outputs": [
    {
     "name": "stdout",
     "output_type": "stream",
     "text": [
      "신씨가 소리질렀다. \"도둑이야\".\n"
     ]
    }
   ],
   "source": [
    "print('신씨가 소리질렀다. \"도둑이야\".')"
   ]
  },
  {
   "cell_type": "code",
   "execution_count": null,
   "id": "9266864c-264b-4442-b34b-3f7591b2f614",
   "metadata": {},
   "outputs": [],
   "source": [
    "#4"
   ]
  },
  {
   "cell_type": "code",
   "execution_count": 6,
   "id": "b616615c-1ae7-4621-a795-bf6cb4661633",
   "metadata": {},
   "outputs": [
    {
     "name": "stdout",
     "output_type": "stream",
     "text": [
      "C:\\Windows\n"
     ]
    }
   ],
   "source": [
    "print('C:\\Windows')"
   ]
  },
  {
   "cell_type": "code",
   "execution_count": null,
   "id": "68aa95c1-fbe7-4e33-9f4b-40e32b5f7655",
   "metadata": {},
   "outputs": [],
   "source": [
    "#5"
   ]
  },
  {
   "cell_type": "code",
   "execution_count": 7,
   "id": "3b69ebb1-64d8-4425-a14a-4d788cdfc9c2",
   "metadata": {},
   "outputs": [
    {
     "name": "stdout",
     "output_type": "stream",
     "text": [
      "안녕하세요.\n",
      "만나서\t\t반갑습니다.\n"
     ]
    }
   ],
   "source": [
    "print(\"안녕하세요.\\n만나서\\t\\t반갑습니다.\")"
   ]
  },
  {
   "cell_type": "code",
   "execution_count": null,
   "id": "bd7b4c09-ebeb-4c87-b8e4-8f1e4df6458d",
   "metadata": {},
   "outputs": [],
   "source": [
    "# \\n : 줄바꿈 \n",
    "# \\t : 탭"
   ]
  },
  {
   "cell_type": "code",
   "execution_count": null,
   "id": "151c45c1-c245-4182-a070-6b408166326b",
   "metadata": {},
   "outputs": [],
   "source": [
    "#6"
   ]
  },
  {
   "cell_type": "code",
   "execution_count": 8,
   "id": "d445b1c9-ade7-4f0f-a173-ffa2fe394119",
   "metadata": {},
   "outputs": [
    {
     "name": "stdout",
     "output_type": "stream",
     "text": [
      "오늘은 월요일\n"
     ]
    }
   ],
   "source": [
    "print(\"오늘은\", \"월요일\")"
   ]
  },
  {
   "cell_type": "code",
   "execution_count": null,
   "id": "4d3828a8-fce6-4a03-95fa-2cf7afeac701",
   "metadata": {},
   "outputs": [],
   "source": [
    "#7"
   ]
  },
  {
   "cell_type": "code",
   "execution_count": 13,
   "id": "fc90e695-3fa1-4360-93f5-ffbc9e78d55e",
   "metadata": {},
   "outputs": [
    {
     "name": "stdout",
     "output_type": "stream",
     "text": [
      "naver;kakao;sk;samsung\n"
     ]
    }
   ],
   "source": [
    "print('naver','kakao','sk','samsung', sep=';')"
   ]
  },
  {
   "cell_type": "code",
   "execution_count": null,
   "id": "20535a7e-5414-4643-b483-f1ba6c13776d",
   "metadata": {},
   "outputs": [],
   "source": [
    "#8"
   ]
  },
  {
   "cell_type": "code",
   "execution_count": 15,
   "id": "2f67a4e9-eb21-4f34-860e-b0820448c572",
   "metadata": {},
   "outputs": [
    {
     "name": "stdout",
     "output_type": "stream",
     "text": [
      "naver/kakao/sk/samsung\n"
     ]
    }
   ],
   "source": [
    "print('naver','kakao','sk','samsung', sep='/')"
   ]
  },
  {
   "cell_type": "code",
   "execution_count": null,
   "id": "5b649fe1-f8d6-46ac-929c-3c837b209c7d",
   "metadata": {},
   "outputs": [],
   "source": [
    "#9"
   ]
  },
  {
   "cell_type": "code",
   "execution_count": 17,
   "id": "890ba927-c966-451b-9950-2c1828c6357d",
   "metadata": {},
   "outputs": [
    {
     "name": "stdout",
     "output_type": "stream",
     "text": [
      "first second\n"
     ]
    }
   ],
   "source": [
    "print(\"first\",\"second\")"
   ]
  },
  {
   "cell_type": "code",
   "execution_count": 19,
   "id": "e3b4f60d-8916-4a30-b8d1-fd28744f7723",
   "metadata": {},
   "outputs": [
    {
     "name": "stdout",
     "output_type": "stream",
     "text": [
      "firstsecond\n"
     ]
    }
   ],
   "source": [
    "print(\"first\", end=\"\"); print(\"second\")"
   ]
  },
  {
   "cell_type": "code",
   "execution_count": 22,
   "id": "75f8eef9-d903-4116-8339-c34ebce23f49",
   "metadata": {},
   "outputs": [],
   "source": [
    "#10"
   ]
  },
  {
   "cell_type": "code",
   "execution_count": 20,
   "id": "7b999668-ab3b-4748-bab9-bed06f6e8df3",
   "metadata": {},
   "outputs": [
    {
     "data": {
      "text/plain": [
       "1.6666666666666667"
      ]
     },
     "execution_count": 20,
     "metadata": {},
     "output_type": "execute_result"
    }
   ],
   "source": [
    "a = 5/3\n",
    "a"
   ]
  },
  {
   "cell_type": "code",
   "execution_count": 21,
   "id": "cc763983-63cd-4455-9589-da13d39dd89a",
   "metadata": {},
   "outputs": [
    {
     "name": "stdout",
     "output_type": "stream",
     "text": [
      "1.6666666666666667\n"
     ]
    }
   ],
   "source": [
    "print(5/3)"
   ]
  },
  {
   "cell_type": "markdown",
   "id": "479c2888-8a24-48b8-b6e1-ebff7f16d17b",
   "metadata": {
    "jupyter": {
     "source_hidden": true
    }
   },
   "source": [
    "## 11 ~ 20"
   ]
  },
  {
   "cell_type": "code",
   "execution_count": 23,
   "id": "7d240edc-81b2-4a26-8143-44acce162443",
   "metadata": {},
   "outputs": [],
   "source": [
    "#11"
   ]
  },
  {
   "cell_type": "code",
   "execution_count": 31,
   "id": "8b8a319c-2c82-4e55-8696-ce38e3ba3ced",
   "metadata": {},
   "outputs": [
    {
     "name": "stdout",
     "output_type": "stream",
     "text": [
      "500000\n"
     ]
    }
   ],
   "source": [
    "삼성전자 = 50000\n",
    "총평가금액 = 삼성전자 * 10\n",
    "print(총평가금액)"
   ]
  },
  {
   "cell_type": "code",
   "execution_count": 34,
   "id": "396b5860-59fa-4d7f-882b-b47cdb29b28c",
   "metadata": {},
   "outputs": [
    {
     "name": "stdout",
     "output_type": "stream",
     "text": [
      "29800000000000 50000 15.79\n",
      "29800000000000 <class 'int'>\n",
      "50000 <class 'int'>\n",
      "15.79 <class 'float'>\n"
     ]
    }
   ],
   "source": [
    "시가총액 = 29800000000000\n",
    "현재가 = 50000\n",
    "PER = 15.79\n",
    "\n",
    "print(시가총액, 현재가, PER)\n",
    "\n",
    "print(시가총액, type(시가총액))\n",
    "print(현재가, type(현재가))\n",
    "print(PER, type(PER))"
   ]
  },
  {
   "cell_type": "code",
   "execution_count": 35,
   "id": "5af7ac47-8bec-4280-92f7-fa71f9dd1198",
   "metadata": {},
   "outputs": [],
   "source": [
    "#13"
   ]
  },
  {
   "cell_type": "code",
   "execution_count": 45,
   "id": "50e219f0-87e8-4dfa-90e7-435689aab9a9",
   "metadata": {},
   "outputs": [
    {
     "name": "stdout",
     "output_type": "stream",
     "text": [
      "hello! print\n"
     ]
    }
   ],
   "source": [
    "s = \"hello\"\n",
    "s = s + \"!\"\n",
    "t = \"print\"\n",
    "\n",
    "print(s, t)"
   ]
  },
  {
   "cell_type": "code",
   "execution_count": null,
   "id": "cfd7b89f-8e98-4774-8166-54d6c4512f89",
   "metadata": {},
   "outputs": [],
   "source": [
    "#14"
   ]
  },
  {
   "cell_type": "code",
   "execution_count": 46,
   "id": "2c93b8f8-1b42-4c9b-8904-0b3e85f6331c",
   "metadata": {},
   "outputs": [
    {
     "name": "stdout",
     "output_type": "stream",
     "text": [
      "8\n"
     ]
    }
   ],
   "source": [
    "print(2+2*3)"
   ]
  },
  {
   "cell_type": "code",
   "execution_count": null,
   "id": "514ceb2f-efc8-4154-b416-76b592a7c774",
   "metadata": {},
   "outputs": [],
   "source": [
    "#15"
   ]
  },
  {
   "cell_type": "code",
   "execution_count": 47,
   "id": "99d873fa-35ec-4336-b1cc-182cd491990b",
   "metadata": {},
   "outputs": [
    {
     "name": "stdout",
     "output_type": "stream",
     "text": [
      "<class 'str'>\n"
     ]
    }
   ],
   "source": [
    "a = \"132\"\n",
    "print (type(a))"
   ]
  },
  {
   "cell_type": "code",
   "execution_count": 48,
   "id": "69e66c04-53ea-42cd-8153-055779a40978",
   "metadata": {},
   "outputs": [],
   "source": [
    "#16"
   ]
  },
  {
   "cell_type": "code",
   "execution_count": 49,
   "id": "bc08bfed-c943-4028-9531-b391be8a4a10",
   "metadata": {},
   "outputs": [
    {
     "data": {
      "text/plain": [
       "int"
      ]
     },
     "execution_count": 49,
     "metadata": {},
     "output_type": "execute_result"
    }
   ],
   "source": [
    "num_str = 720\n",
    "type(num_str)"
   ]
  },
  {
   "cell_type": "code",
   "execution_count": 50,
   "id": "0ee25bcf-adea-4258-a4db-ace46afda2bd",
   "metadata": {},
   "outputs": [
    {
     "name": "stdout",
     "output_type": "stream",
     "text": [
      "721 <class 'int'>\n"
     ]
    }
   ],
   "source": [
    "num_str = \"720\"\n",
    "num_int = int(num_str)\n",
    "print(num_int+1, type(num_int))"
   ]
  },
  {
   "cell_type": "code",
   "execution_count": null,
   "id": "ca61904d-5147-4186-b5e0-c12b24102657",
   "metadata": {},
   "outputs": [],
   "source": [
    "#17"
   ]
  },
  {
   "cell_type": "code",
   "execution_count": 52,
   "id": "b9d70fff-7226-4909-bedf-304462d8af29",
   "metadata": {},
   "outputs": [
    {
     "name": "stdout",
     "output_type": "stream",
     "text": [
      "100 <class 'str'>\n"
     ]
    }
   ],
   "source": [
    "num = 100\n",
    "num_str = str(num)\n",
    "print(str(num), type(str(num)))"
   ]
  },
  {
   "cell_type": "code",
   "execution_count": null,
   "id": "c1b3ece9-94d7-439f-b1ea-7537922368d8",
   "metadata": {},
   "outputs": [],
   "source": [
    "#18"
   ]
  },
  {
   "cell_type": "code",
   "execution_count": 59,
   "id": "757344dc-9ecd-4111-b841-a06810b5eee9",
   "metadata": {},
   "outputs": [
    {
     "data": {
      "text/plain": [
       "(15.79, float)"
      ]
     },
     "execution_count": 59,
     "metadata": {},
     "output_type": "execute_result"
    }
   ],
   "source": [
    "a = \"15.79\"\n",
    "b = float(a)\n",
    "b, type(b)"
   ]
  },
  {
   "cell_type": "code",
   "execution_count": null,
   "id": "c205b677-b46f-4931-8cde-c7f85d5ee221",
   "metadata": {},
   "outputs": [],
   "source": [
    "#19"
   ]
  },
  {
   "cell_type": "code",
   "execution_count": 61,
   "id": "52dfbfdf-e8c5-465e-a977-4ffd48e77ee6",
   "metadata": {},
   "outputs": [
    {
     "name": "stdout",
     "output_type": "stream",
     "text": [
      "2024 2023 2022\n",
      "2017 2018 2019\n"
     ]
    }
   ],
   "source": [
    "year = \"2020\"\n",
    "a = int(year)\n",
    "\n",
    "print(a+4,a+3,a+2)\n",
    "print(a-3,a-2,a-1)"
   ]
  },
  {
   "cell_type": "code",
   "execution_count": 62,
   "id": "f61b1d58-294b-43dc-b97f-96da75020e32",
   "metadata": {},
   "outputs": [],
   "source": [
    "#20"
   ]
  },
  {
   "cell_type": "code",
   "execution_count": 64,
   "id": "ce6c0848-337d-4469-ab21-c8130f238c72",
   "metadata": {},
   "outputs": [
    {
     "name": "stdout",
     "output_type": "stream",
     "text": [
      "1749024\n"
     ]
    }
   ],
   "source": [
    "a = 48584\n",
    "총금액 = a * 36\n",
    "print(총금액)"
   ]
  },
  {
   "cell_type": "markdown",
   "id": "5e520654-6916-44d2-85e2-03f1f23d9219",
   "metadata": {},
   "source": [
    "## 21 ~ 30"
   ]
  },
  {
   "cell_type": "code",
   "execution_count": null,
   "id": "27a12f8e-108d-40b3-a070-6ad5b51979da",
   "metadata": {},
   "outputs": [],
   "source": [
    "#21"
   ]
  },
  {
   "cell_type": "code",
   "execution_count": 66,
   "id": "205bc2dd-5e86-4a97-aa4d-7f2709d13398",
   "metadata": {},
   "outputs": [
    {
     "name": "stdout",
     "output_type": "stream",
     "text": [
      "p t\n"
     ]
    }
   ],
   "source": [
    "letters = 'python'\n",
    "print(letters[0], letters[2])\n"
   ]
  },
  {
   "cell_type": "code",
   "execution_count": null,
   "id": "117b0393-db70-4b22-9888-6908c262cc3e",
   "metadata": {},
   "outputs": [],
   "source": [
    "#22"
   ]
  },
  {
   "cell_type": "code",
   "execution_count": 72,
   "id": "46252af8-9deb-466d-a43a-9c9e717af926",
   "metadata": {},
   "outputs": [
    {
     "data": {
      "text/plain": [
       "'2210'"
      ]
     },
     "execution_count": 72,
     "metadata": {},
     "output_type": "execute_result"
    }
   ],
   "source": [
    "license_plate = \"24가 2210\"\n",
    "a = license_plate[-4:]\n",
    "a"
   ]
  },
  {
   "cell_type": "code",
   "execution_count": 73,
   "id": "fe976333-7de4-4cc6-b214-d5dbba59b142",
   "metadata": {},
   "outputs": [],
   "source": [
    "#23"
   ]
  },
  {
   "cell_type": "code",
   "execution_count": 77,
   "id": "a4eab07d-ad97-4e1f-b534-be23e865b526",
   "metadata": {},
   "outputs": [
    {
     "data": {
      "text/plain": [
       "'홀홀홀'"
      ]
     },
     "execution_count": 77,
     "metadata": {},
     "output_type": "execute_result"
    }
   ],
   "source": [
    "string = \"홀짝홀짝홀짝\"\n",
    "a = string[::2]\n",
    "a"
   ]
  },
  {
   "cell_type": "code",
   "execution_count": 78,
   "id": "01f24d3a-1fd6-44fd-970a-55a62e419ded",
   "metadata": {},
   "outputs": [],
   "source": [
    "#24 ***"
   ]
  },
  {
   "cell_type": "code",
   "execution_count": 84,
   "id": "70e6c119-8aa4-41ce-a076-e26bddc58569",
   "metadata": {},
   "outputs": [
    {
     "data": {
      "text/plain": [
       "'NOHTYP'"
      ]
     },
     "execution_count": 84,
     "metadata": {},
     "output_type": "execute_result"
    }
   ],
   "source": [
    "string = \"PYTHON\"\n",
    "a = string[::-1]\n",
    "a"
   ]
  },
  {
   "cell_type": "code",
   "execution_count": null,
   "id": "ded8574d-a7a3-4993-b205-bc9366cb1c08",
   "metadata": {},
   "outputs": [],
   "source": [
    "#25"
   ]
  },
  {
   "cell_type": "code",
   "execution_count": 88,
   "id": "dbeb268d-a8bc-41d5-8820-ee4201c79c39",
   "metadata": {},
   "outputs": [
    {
     "ename": "AttributeError",
     "evalue": "'str' object has no attribute 'delete'",
     "output_type": "error",
     "traceback": [
      "\u001b[1;31m---------------------------------------------------------------------------\u001b[0m",
      "\u001b[1;31mAttributeError\u001b[0m                            Traceback (most recent call last)",
      "Cell \u001b[1;32mIn[88], line 2\u001b[0m\n\u001b[0;32m      1\u001b[0m phone_number \u001b[38;5;241m=\u001b[39m \u001b[38;5;124m\"\u001b[39m\u001b[38;5;124m010-1111-2222\u001b[39m\u001b[38;5;124m\"\u001b[39m\n\u001b[1;32m----> 2\u001b[0m a \u001b[38;5;241m=\u001b[39m phone_number\u001b[38;5;241m.\u001b[39mdelete(\u001b[38;5;124m\"\u001b[39m\u001b[38;5;124m-\u001b[39m\u001b[38;5;124m\"\u001b[39m)\n\u001b[0;32m      3\u001b[0m a\n",
      "\u001b[1;31mAttributeError\u001b[0m: 'str' object has no attribute 'delete'"
     ]
    }
   ],
   "source": [
    "phone_number = \"010-1111-2222\"\n",
    "a = phone_number.delete(\"-\")\n",
    "a"
   ]
  },
  {
   "cell_type": "code",
   "execution_count": 89,
   "id": "db61fc12-5a64-477d-8eca-e3cc47c576d7",
   "metadata": {},
   "outputs": [
    {
     "data": {
      "text/plain": [
       "'010 1111 2222'"
      ]
     },
     "execution_count": 89,
     "metadata": {},
     "output_type": "execute_result"
    }
   ],
   "source": [
    "phone_number = \"010-1111-2222\"\n",
    "a = phone_number.replace(\"-\", \" \")\n",
    "a"
   ]
  },
  {
   "cell_type": "code",
   "execution_count": 90,
   "id": "603a0a86-fd5d-4cae-bbe1-f3b356ffc4db",
   "metadata": {},
   "outputs": [],
   "source": [
    "#26"
   ]
  },
  {
   "cell_type": "code",
   "execution_count": 92,
   "id": "02d43a9a-8b3f-43df-a56d-0217110dc36d",
   "metadata": {},
   "outputs": [
    {
     "data": {
      "text/plain": [
       "'01011112222'"
      ]
     },
     "execution_count": 92,
     "metadata": {},
     "output_type": "execute_result"
    }
   ],
   "source": [
    "phone_number = \"010-1111-2222\"\n",
    "a = phone_number.replace(\"-\", \" \")\n",
    "b = a.replace(\" \", \"\")\n",
    "b"
   ]
  },
  {
   "cell_type": "code",
   "execution_count": null,
   "id": "f34dd94d-6889-4dbf-a442-fa7b6cd9ff3e",
   "metadata": {},
   "outputs": [],
   "source": [
    "#27"
   ]
  },
  {
   "cell_type": "code",
   "execution_count": 91,
   "id": "ceee7b4e-6e2b-43bf-aeb0-3dd1dd8b546e",
   "metadata": {},
   "outputs": [
    {
     "name": "stdout",
     "output_type": "stream",
     "text": [
      "kr\n"
     ]
    }
   ],
   "source": [
    "url = \"http://sharebook.kr\"\n",
    "a = url.split('.')\n",
    "print(a[-1])"
   ]
  },
  {
   "cell_type": "code",
   "execution_count": 93,
   "id": "370eb111-2ff2-42d8-936f-c360441fa7ac",
   "metadata": {},
   "outputs": [],
   "source": [
    "#28"
   ]
  },
  {
   "cell_type": "code",
   "execution_count": 94,
   "id": "4a26c5e8-4840-4df5-8bc8-be9658a78cf1",
   "metadata": {},
   "outputs": [
    {
     "ename": "SyntaxError",
     "evalue": "invalid syntax (2751741043.py, line 1)",
     "output_type": "error",
     "traceback": [
      "\u001b[1;36m  Cell \u001b[1;32mIn[94], line 1\u001b[1;36m\u001b[0m\n\u001b[1;33m    >> lang = 'python'\u001b[0m\n\u001b[1;37m    ^\u001b[0m\n\u001b[1;31mSyntaxError\u001b[0m\u001b[1;31m:\u001b[0m invalid syntax\n"
     ]
    }
   ],
   "source": [
    ">> lang = 'python'\n",
    ">> lang[0] = 'P'\n",
    ">> print(lang)"
   ]
  },
  {
   "cell_type": "code",
   "execution_count": 95,
   "id": "ee1657d2-8d2e-4269-8202-63335aed4086",
   "metadata": {},
   "outputs": [],
   "source": [
    "#29"
   ]
  },
  {
   "cell_type": "code",
   "execution_count": 100,
   "id": "6bdb4b49-7583-4c72-a871-a499bc1e3e93",
   "metadata": {},
   "outputs": [
    {
     "data": {
      "text/plain": [
       "'Abcdfe2A354A32A'"
      ]
     },
     "execution_count": 100,
     "metadata": {},
     "output_type": "execute_result"
    }
   ],
   "source": [
    "string = 'abcdfe2a354a32a'\n",
    "a = string.replace('a', 'A')\n",
    "a"
   ]
  },
  {
   "cell_type": "code",
   "execution_count": 101,
   "id": "85cff710-6db2-46bb-a4a0-ea16572ab0b7",
   "metadata": {},
   "outputs": [],
   "source": [
    "#30"
   ]
  },
  {
   "cell_type": "code",
   "execution_count": 104,
   "id": "8ce2b75c-3d47-4137-b199-3c7ce29639c8",
   "metadata": {},
   "outputs": [
    {
     "name": "stdout",
     "output_type": "stream",
     "text": [
      "abcd\n"
     ]
    }
   ],
   "source": [
    "string = 'abcd'\n",
    "string.replace('b', 'B')\n",
    "print(string)"
   ]
  },
  {
   "cell_type": "code",
   "execution_count": 105,
   "id": "4ea40adc-aa8e-46db-95a3-782ebe6097e1",
   "metadata": {},
   "outputs": [
    {
     "data": {
      "text/plain": [
       "'aBcd'"
      ]
     },
     "execution_count": 105,
     "metadata": {},
     "output_type": "execute_result"
    }
   ],
   "source": [
    "string = 'abcd'\n",
    "b = string.replace('b', 'B')\n",
    "b"
   ]
  },
  {
   "cell_type": "markdown",
   "id": "c2693cc1-59e3-4b06-9ccc-39d081f66820",
   "metadata": {},
   "source": [
    "## 31 ~ 40"
   ]
  },
  {
   "cell_type": "code",
   "execution_count": 106,
   "id": "82d92041-d3e2-40ca-a5aa-0ebd9924f578",
   "metadata": {},
   "outputs": [],
   "source": [
    "#31"
   ]
  },
  {
   "cell_type": "code",
   "execution_count": 107,
   "id": "afc1fc98-ec49-4560-a02b-6f8c50281b06",
   "metadata": {},
   "outputs": [
    {
     "name": "stdout",
     "output_type": "stream",
     "text": [
      "34\n"
     ]
    }
   ],
   "source": [
    "a = \"3\"\n",
    "b = \"4\"\n",
    "print(a + b)"
   ]
  },
  {
   "cell_type": "code",
   "execution_count": null,
   "id": "1d4e4f04-23e3-4afc-ae0e-c69c7372c463",
   "metadata": {},
   "outputs": [],
   "source": [
    "#32"
   ]
  },
  {
   "cell_type": "code",
   "execution_count": 108,
   "id": "5c830219-066a-4a6a-bcbf-ded47a5c6240",
   "metadata": {},
   "outputs": [
    {
     "name": "stdout",
     "output_type": "stream",
     "text": [
      "HiHiHi\n"
     ]
    }
   ],
   "source": [
    "print(\"Hi\" * 3)"
   ]
  },
  {
   "cell_type": "code",
   "execution_count": 109,
   "id": "18b3dae5-8758-4bbb-a3e9-29f73ac03aac",
   "metadata": {},
   "outputs": [],
   "source": [
    "#33"
   ]
  },
  {
   "cell_type": "code",
   "execution_count": 110,
   "id": "1ea50235-5400-4434-9e28-bb4272955f6a",
   "metadata": {},
   "outputs": [
    {
     "name": "stdout",
     "output_type": "stream",
     "text": [
      "--------------------------------------------------------------------------------\n"
     ]
    }
   ],
   "source": [
    "print('-'*80)"
   ]
  },
  {
   "cell_type": "code",
   "execution_count": 111,
   "id": "6fd43b58-3453-4c06-9954-e54fed40d9bb",
   "metadata": {},
   "outputs": [],
   "source": [
    "#34"
   ]
  },
  {
   "cell_type": "code",
   "execution_count": 114,
   "id": "1c9cc170-56e9-4a47-a779-246357b8bef6",
   "metadata": {},
   "outputs": [
    {
     "name": "stdout",
     "output_type": "stream",
     "text": [
      "python java python java python java python java \n"
     ]
    }
   ],
   "source": [
    "t1 = 'python'\n",
    "t2 = 'java'\n",
    "\n",
    "print((t1 + ' ' + t2 + ' ') * 4)"
   ]
  },
  {
   "cell_type": "code",
   "execution_count": null,
   "id": "e6212441-c807-4a14-a9c0-3c7231ed2f2b",
   "metadata": {},
   "outputs": [],
   "source": [
    "#35"
   ]
  },
  {
   "cell_type": "code",
   "execution_count": 121,
   "id": "d4a10e75-8403-41cd-864d-6aa633d7eb7d",
   "metadata": {},
   "outputs": [
    {
     "data": {
      "text/plain": [
       "'이름 : 김민수 나이 : 10 \\n 이름 : 이철희 나이 : 13'"
      ]
     },
     "execution_count": 121,
     "metadata": {},
     "output_type": "execute_result"
    }
   ],
   "source": [
    "name1 = \"김민수\" \n",
    "age1 = 10\n",
    "name2 = \"이철희\"\n",
    "age2 = 13\n",
    "\n",
    "f'이름 : {name1} 나이 : {age1} \\n 이름 : {name2} 나이 : {age2}'"
   ]
  },
  {
   "cell_type": "code",
   "execution_count": 122,
   "id": "1a605bc5-2930-4051-9f61-486382c9c70f",
   "metadata": {},
   "outputs": [
    {
     "name": "stdout",
     "output_type": "stream",
     "text": [
      "이름: 김민수 나이: 10\n",
      "이름: 이철희 나이: 13\n"
     ]
    }
   ],
   "source": [
    "name1 = \"김민수\" \n",
    "age1 = 10\n",
    "name2 = \"이철희\"\n",
    "age2 = 13\n",
    "print(\"이름: %s 나이: %d\" % (name1, age1))\n",
    "print(\"이름: %s 나이: %d\" % (name2, age2))"
   ]
  },
  {
   "cell_type": "code",
   "execution_count": 123,
   "id": "9c215934-ab4e-41e6-904c-16d88508e267",
   "metadata": {},
   "outputs": [],
   "source": [
    "#36"
   ]
  },
  {
   "cell_type": "code",
   "execution_count": 126,
   "id": "51d29fc2-5cda-4132-b74a-086bba92cfe2",
   "metadata": {},
   "outputs": [
    {
     "name": "stdout",
     "output_type": "stream",
     "text": [
      "이름: 김민수 나이: 10\n",
      "이름: 이철희 나이: 13\n"
     ]
    }
   ],
   "source": [
    "name1 = \"김민수\" \n",
    "age1 = 10\n",
    "name2 = \"이철희\"\n",
    "age2 = 13\n",
    "\n",
    "print(\"이름: {} 나이: {}\".format(name1,age1))\n",
    "print(\"이름: {} 나이: {}\".format(name2,age2))"
   ]
  },
  {
   "cell_type": "code",
   "execution_count": null,
   "id": "fa44325f-b7fe-463b-bdc4-987393df6152",
   "metadata": {},
   "outputs": [],
   "source": [
    "#37"
   ]
  },
  {
   "cell_type": "code",
   "execution_count": 128,
   "id": "db6edda5-1ee7-4233-996b-133b088ec158",
   "metadata": {},
   "outputs": [
    {
     "name": "stdout",
     "output_type": "stream",
     "text": [
      "이름 : 김민수 나이 : 10\n",
      "이름 : 이철희 나이 : 13\n"
     ]
    }
   ],
   "source": [
    "name1 = \"김민수\" \n",
    "age1 = 10\n",
    "name2 = \"이철희\"\n",
    "age2 = 13\n",
    "\n",
    "print(f'이름 : {name1} 나이 : {age1}')\n",
    "print(f'이름 : {name2} 나이 : {age2}')"
   ]
  },
  {
   "cell_type": "code",
   "execution_count": null,
   "id": "40088a06-05d7-4ad9-8757-790e75aec6f6",
   "metadata": {},
   "outputs": [],
   "source": [
    "#38"
   ]
  },
  {
   "cell_type": "code",
   "execution_count": 134,
   "id": "2a9df8ea-b313-436d-b47b-319b2f5fdd6c",
   "metadata": {},
   "outputs": [
    {
     "data": {
      "text/plain": [
       "(5969782550, int)"
      ]
     },
     "execution_count": 134,
     "metadata": {},
     "output_type": "execute_result"
    }
   ],
   "source": [
    "상장주식수 = \"5,969,782,550\"\n",
    "a = 상장주식수.replace(',', '')\n",
    "b = int(a)\n",
    "b, type(b)"
   ]
  },
  {
   "cell_type": "code",
   "execution_count": 135,
   "id": "c5b6a128-86c4-445b-a331-9964715110de",
   "metadata": {},
   "outputs": [],
   "source": [
    "#39"
   ]
  },
  {
   "cell_type": "code",
   "execution_count": 136,
   "id": "46664f25-fd8e-4ecd-b70b-1fc2c8e824a8",
   "metadata": {},
   "outputs": [
    {
     "name": "stdout",
     "output_type": "stream",
     "text": [
      "2020/03\n"
     ]
    }
   ],
   "source": [
    "분기 = \"2020/03(E) (IFRS연결)\"\n",
    "print(분기[:7])"
   ]
  },
  {
   "cell_type": "code",
   "execution_count": 137,
   "id": "be3ecf0e-ac4b-47b4-b941-b913543ce3ca",
   "metadata": {},
   "outputs": [],
   "source": [
    "#40"
   ]
  },
  {
   "cell_type": "code",
   "execution_count": 139,
   "id": "e7fe428d-5139-48d7-9d69-a3e641aff9a1",
   "metadata": {},
   "outputs": [
    {
     "data": {
      "text/plain": [
       "'삼성전자'"
      ]
     },
     "execution_count": 139,
     "metadata": {},
     "output_type": "execute_result"
    }
   ],
   "source": [
    "data = \"   삼성전자    \"\n",
    "a=data.strip()\n",
    "a"
   ]
  },
  {
   "cell_type": "markdown",
   "id": "c7bea8f1-6c43-4d2c-8ea5-4d14b1674521",
   "metadata": {
    "jupyter": {
     "source_hidden": true
    }
   },
   "source": [
    "## 41 ~ 51"
   ]
  },
  {
   "cell_type": "code",
   "execution_count": 140,
   "id": "02187a84-0616-4b9f-89ee-57f8d994602b",
   "metadata": {},
   "outputs": [],
   "source": [
    "#41"
   ]
  },
  {
   "cell_type": "code",
   "execution_count": 141,
   "id": "d0207023-f4ff-49cb-98d1-23d945740655",
   "metadata": {},
   "outputs": [
    {
     "data": {
      "text/plain": [
       "'BTC_KRW'"
      ]
     },
     "execution_count": 141,
     "metadata": {},
     "output_type": "execute_result"
    }
   ],
   "source": [
    "ticker = \"btc_krw\"\n",
    "a = ticker.upper()\n",
    "a"
   ]
  },
  {
   "cell_type": "code",
   "execution_count": 142,
   "id": "43794e24-760b-418b-a071-2d8dd65caed5",
   "metadata": {},
   "outputs": [],
   "source": [
    "#42"
   ]
  },
  {
   "cell_type": "code",
   "execution_count": 144,
   "id": "0ea3ae34-eaf9-418e-80ea-85bfad15a9ec",
   "metadata": {},
   "outputs": [
    {
     "data": {
      "text/plain": [
       "'btc_krw'"
      ]
     },
     "execution_count": 144,
     "metadata": {},
     "output_type": "execute_result"
    }
   ],
   "source": [
    "ticker = \"BTC_KRW\"\n",
    "a = ticker.lower()\n",
    "a"
   ]
  },
  {
   "cell_type": "code",
   "execution_count": null,
   "id": "bf952142-94e1-4668-b84c-379561ef5b20",
   "metadata": {},
   "outputs": [],
   "source": [
    "#43 ***"
   ]
  },
  {
   "cell_type": "code",
   "execution_count": 147,
   "id": "d963b416-a9cd-478a-8e69-bf0002f2cd3b",
   "metadata": {},
   "outputs": [
    {
     "data": {
      "text/plain": [
       "'Hello'"
      ]
     },
     "execution_count": 147,
     "metadata": {},
     "output_type": "execute_result"
    }
   ],
   "source": [
    "a = 'hello'\n",
    "b = a.capitalize()\n",
    "b"
   ]
  },
  {
   "cell_type": "code",
   "execution_count": null,
   "id": "935e49fe-2b4e-4898-bc17-bbc1c54aa7db",
   "metadata": {},
   "outputs": [],
   "source": [
    "# 44 ***"
   ]
  },
  {
   "cell_type": "code",
   "execution_count": 149,
   "id": "6b3a3282-40c3-4a27-86ae-3b4db2b29261",
   "metadata": {},
   "outputs": [
    {
     "data": {
      "text/plain": [
       "True"
      ]
     },
     "execution_count": 149,
     "metadata": {},
     "output_type": "execute_result"
    }
   ],
   "source": [
    "file_name = \"보고서.xlsx\"\n",
    "a = file_name.endswith('xlsx')\n",
    "a"
   ]
  },
  {
   "cell_type": "code",
   "execution_count": null,
   "id": "c1fc1e1e-92f5-4615-8957-dea5a4a734d7",
   "metadata": {},
   "outputs": [],
   "source": [
    "#45 ***"
   ]
  },
  {
   "cell_type": "code",
   "execution_count": 151,
   "id": "1f27b54b-720d-4ecc-a75b-e47202805109",
   "metadata": {},
   "outputs": [
    {
     "data": {
      "text/plain": [
       "True"
      ]
     },
     "execution_count": 151,
     "metadata": {},
     "output_type": "execute_result"
    }
   ],
   "source": [
    "file_name = \"보고서.xlsx\"\n",
    "a = file_name.endswith(('xlsx','xls'))\n",
    "a"
   ]
  },
  {
   "cell_type": "code",
   "execution_count": null,
   "id": "5ae5fb3d-d7af-46a2-8c24-71890ecb3e90",
   "metadata": {},
   "outputs": [],
   "source": [
    "#46"
   ]
  },
  {
   "cell_type": "code",
   "execution_count": 152,
   "id": "ae5b4abc-78df-4d16-840e-cb4be36f4c74",
   "metadata": {},
   "outputs": [
    {
     "data": {
      "text/plain": [
       "True"
      ]
     },
     "execution_count": 152,
     "metadata": {},
     "output_type": "execute_result"
    }
   ],
   "source": [
    "file_name = \"2020_보고서.xlsx\"\n",
    "a = file_name.startswith('2020')\n",
    "a"
   ]
  },
  {
   "cell_type": "code",
   "execution_count": 153,
   "id": "a7e83f75-6238-4848-8277-5ab81b8b2bdd",
   "metadata": {},
   "outputs": [],
   "source": [
    "#47"
   ]
  },
  {
   "cell_type": "code",
   "execution_count": 154,
   "id": "5d0250c2-477f-4194-8a03-6f09c343b8c4",
   "metadata": {},
   "outputs": [
    {
     "data": {
      "text/plain": [
       "['hello', 'world']"
      ]
     },
     "execution_count": 154,
     "metadata": {},
     "output_type": "execute_result"
    }
   ],
   "source": [
    "a = \"hello world\"\n",
    "b = a.split(' ')\n",
    "b"
   ]
  },
  {
   "cell_type": "code",
   "execution_count": 155,
   "id": "ac795332-19d5-4240-8c58-7f7d91d89e5d",
   "metadata": {},
   "outputs": [
    {
     "data": {
      "text/plain": [
       "['hello', 'world']"
      ]
     },
     "execution_count": 155,
     "metadata": {},
     "output_type": "execute_result"
    }
   ],
   "source": [
    "a = \"hello world\"\n",
    "a.split()"
   ]
  },
  {
   "cell_type": "code",
   "execution_count": null,
   "id": "5b11d57d-be48-47c3-883a-166aaaeb4d56",
   "metadata": {},
   "outputs": [],
   "source": [
    "#48"
   ]
  },
  {
   "cell_type": "code",
   "execution_count": 157,
   "id": "39fa9017-03d7-480a-aa69-b833be1a525b",
   "metadata": {},
   "outputs": [
    {
     "data": {
      "text/plain": [
       "['btc', 'krw']"
      ]
     },
     "execution_count": 157,
     "metadata": {},
     "output_type": "execute_result"
    }
   ],
   "source": [
    "ticker = \"btc_krw\"\n",
    "a = ticker.split('_')\n",
    "a"
   ]
  },
  {
   "cell_type": "code",
   "execution_count": null,
   "id": "006d2dd9-ce5d-464b-a4d7-88d487a04f99",
   "metadata": {},
   "outputs": [],
   "source": [
    "#49"
   ]
  },
  {
   "cell_type": "code",
   "execution_count": 159,
   "id": "9f8a73d6-e8a8-4aa5-a8df-ccd335ed580f",
   "metadata": {},
   "outputs": [
    {
     "data": {
      "text/plain": [
       "['2020', '05', '01']"
      ]
     },
     "execution_count": 159,
     "metadata": {},
     "output_type": "execute_result"
    }
   ],
   "source": [
    "date = \"2020-05-01\"\n",
    "a = date.split('-')\n",
    "a"
   ]
  },
  {
   "cell_type": "code",
   "execution_count": 160,
   "id": "6d9e9697-b724-4f0e-947c-f3b7451f3a0c",
   "metadata": {},
   "outputs": [],
   "source": [
    "#50"
   ]
  },
  {
   "cell_type": "code",
   "execution_count": 162,
   "id": "0b073f4d-42f8-4f34-a4fd-9ad786a53631",
   "metadata": {},
   "outputs": [
    {
     "data": {
      "text/plain": [
       "'039490'"
      ]
     },
     "execution_count": 162,
     "metadata": {},
     "output_type": "execute_result"
    }
   ],
   "source": [
    "data = \"039490     \"\n",
    "a = data.rstrip()\n",
    "a"
   ]
  },
  {
   "cell_type": "markdown",
   "id": "9c288e65-3207-4908-ba18-7e8c5c2c5f4d",
   "metadata": {},
   "source": [
    "## 51 ~ 60"
   ]
  },
  {
   "cell_type": "code",
   "execution_count": null,
   "id": "eb34a6be-b8bf-44c9-8fbe-9b15b3c69615",
   "metadata": {},
   "outputs": [],
   "source": [
    "#51"
   ]
  },
  {
   "cell_type": "code",
   "execution_count": 164,
   "id": "b69e1205-f58b-4ff4-8c67-7ccee283bc35",
   "metadata": {},
   "outputs": [
    {
     "data": {
      "text/plain": [
       "['닥터_스트레인지', '스플릿', '럭키']"
      ]
     },
     "execution_count": 164,
     "metadata": {},
     "output_type": "execute_result"
    }
   ],
   "source": [
    "a = '닥터_스트레인지'\n",
    "b = '스플릿'\n",
    "c = '럭키'\n",
    "\n",
    "[a, b, c]"
   ]
  },
  {
   "cell_type": "code",
   "execution_count": 165,
   "id": "652cb2a7-d4a7-4f1e-9ef3-aa2e6bc7f282",
   "metadata": {},
   "outputs": [],
   "source": [
    "#52"
   ]
  },
  {
   "cell_type": "code",
   "execution_count": 171,
   "id": "1cba1b9e-d33f-4417-9eea-ecc83e4f1bb7",
   "metadata": {},
   "outputs": [
    {
     "name": "stdout",
     "output_type": "stream",
     "text": [
      "None\n"
     ]
    }
   ],
   "source": [
    "movie_rank = [\"닥터 스트레인지\", \"스플릿\", \"럭키\"]\n",
    "new = movie_rank.append(\"베트맨\")\n",
    "print(new)"
   ]
  },
  {
   "cell_type": "code",
   "execution_count": 172,
   "id": "75653377-4e83-4411-b493-16120f5cedf4",
   "metadata": {},
   "outputs": [
    {
     "name": "stdout",
     "output_type": "stream",
     "text": [
      "['닥터 스트레인지', '스플릿', '럭키', '베트맨']\n"
     ]
    }
   ],
   "source": [
    "movie_rank = [\"닥터 스트레인지\", \"스플릿\", \"럭키\"]\n",
    "movie_rank.append(\"베트맨\")\n",
    "print(movie_rank)"
   ]
  },
  {
   "cell_type": "code",
   "execution_count": null,
   "id": "979cabd9-778b-4020-ae50-b2e84f4b0fdf",
   "metadata": {},
   "outputs": [],
   "source": [
    "#53"
   ]
  },
  {
   "cell_type": "code",
   "execution_count": 174,
   "id": "3e46a413-f7c4-433f-acfc-b27e74f28d0d",
   "metadata": {},
   "outputs": [
    {
     "data": {
      "text/plain": [
       "['닥터 스트레인지', '슈퍼맨', '스플릿', '럭키', '배트맨']"
      ]
     },
     "execution_count": 174,
     "metadata": {},
     "output_type": "execute_result"
    }
   ],
   "source": [
    "movie_rank = ['닥터 스트레인지', '스플릿', '럭키', '배트맨']\n",
    "movie_rank.insert(1, '슈퍼맨')\n",
    "movie_rank"
   ]
  },
  {
   "cell_type": "code",
   "execution_count": null,
   "id": "24a4a8dc-29d7-456d-ab55-d9809f1e9632",
   "metadata": {},
   "outputs": [],
   "source": [
    "#54"
   ]
  },
  {
   "cell_type": "code",
   "execution_count": 178,
   "id": "2b92b315-7640-43a2-ac01-c6600d04a34b",
   "metadata": {},
   "outputs": [
    {
     "ename": "TypeError",
     "evalue": "list indices must be integers or slices, not str",
     "output_type": "error",
     "traceback": [
      "\u001b[1;31m---------------------------------------------------------------------------\u001b[0m",
      "\u001b[1;31mTypeError\u001b[0m                                 Traceback (most recent call last)",
      "Cell \u001b[1;32mIn[178], line 2\u001b[0m\n\u001b[0;32m      1\u001b[0m movie_rank \u001b[38;5;241m=\u001b[39m [\u001b[38;5;124m'\u001b[39m\u001b[38;5;124m닥터 스트레인지\u001b[39m\u001b[38;5;124m'\u001b[39m, \u001b[38;5;124m'\u001b[39m\u001b[38;5;124m슈퍼맨\u001b[39m\u001b[38;5;124m'\u001b[39m, \u001b[38;5;124m'\u001b[39m\u001b[38;5;124m스플릿\u001b[39m\u001b[38;5;124m'\u001b[39m, \u001b[38;5;124m'\u001b[39m\u001b[38;5;124m럭키\u001b[39m\u001b[38;5;124m'\u001b[39m, \u001b[38;5;124m'\u001b[39m\u001b[38;5;124m배트맨\u001b[39m\u001b[38;5;124m'\u001b[39m]\n\u001b[1;32m----> 2\u001b[0m \u001b[38;5;28;01mdel\u001b[39;00m movie_rank[\u001b[38;5;124m'\u001b[39m\u001b[38;5;124m럭키\u001b[39m\u001b[38;5;124m'\u001b[39m]\n\u001b[0;32m      3\u001b[0m \u001b[38;5;28mprint\u001b[39m(movie_rank)\n",
      "\u001b[1;31mTypeError\u001b[0m: list indices must be integers or slices, not str"
     ]
    }
   ],
   "source": [
    "movie_rank = ['닥터 스트레인지', '슈퍼맨', '스플릿', '럭키', '배트맨']\n",
    "del movie_rank['럭키']\n",
    "print(movie_rank)"
   ]
  },
  {
   "cell_type": "code",
   "execution_count": 179,
   "id": "27d168e8-5cb4-4d4a-8716-194bd25bc54b",
   "metadata": {},
   "outputs": [
    {
     "name": "stdout",
     "output_type": "stream",
     "text": [
      "['닥터 스트레인지', '슈퍼맨', '스플릿', '배트맨']\n"
     ]
    }
   ],
   "source": [
    "movie_rank = ['닥터 스트레인지', '슈퍼맨', '스플릿', '럭키', '배트맨']\n",
    "del movie_rank[3]\n",
    "print(movie_rank)"
   ]
  },
  {
   "cell_type": "code",
   "execution_count": null,
   "id": "8aea04f4-327f-426e-8a76-285212605164",
   "metadata": {},
   "outputs": [],
   "source": [
    "#55"
   ]
  },
  {
   "cell_type": "code",
   "execution_count": 180,
   "id": "9e2afce0-7f6f-4be5-8894-6bfaaa7cd583",
   "metadata": {},
   "outputs": [
    {
     "ename": "TypeError",
     "evalue": "list indices must be integers or slices, not tuple",
     "output_type": "error",
     "traceback": [
      "\u001b[1;31m---------------------------------------------------------------------------\u001b[0m",
      "\u001b[1;31mTypeError\u001b[0m                                 Traceback (most recent call last)",
      "Cell \u001b[1;32mIn[180], line 2\u001b[0m\n\u001b[0;32m      1\u001b[0m movie_rank \u001b[38;5;241m=\u001b[39m [\u001b[38;5;124m'\u001b[39m\u001b[38;5;124m닥터 스트레인지\u001b[39m\u001b[38;5;124m'\u001b[39m, \u001b[38;5;124m'\u001b[39m\u001b[38;5;124m슈퍼맨\u001b[39m\u001b[38;5;124m'\u001b[39m, \u001b[38;5;124m'\u001b[39m\u001b[38;5;124m스플릿\u001b[39m\u001b[38;5;124m'\u001b[39m, \u001b[38;5;124m'\u001b[39m\u001b[38;5;124m배트맨\u001b[39m\u001b[38;5;124m'\u001b[39m]\n\u001b[1;32m----> 2\u001b[0m \u001b[38;5;28;01mdel\u001b[39;00m movie_rank[\u001b[38;5;241m2\u001b[39m, \u001b[38;5;241m3\u001b[39m]\n\u001b[0;32m      3\u001b[0m movie_rank\n",
      "\u001b[1;31mTypeError\u001b[0m: list indices must be integers or slices, not tuple"
     ]
    }
   ],
   "source": [
    "movie_rank = ['닥터 스트레인지', '슈퍼맨', '스플릿', '배트맨']\n",
    "del movie_rank[2, 3]\n",
    "movie_rank"
   ]
  },
  {
   "cell_type": "code",
   "execution_count": 182,
   "id": "b9d252f8-3e90-4de4-af5a-c6e5b291f4af",
   "metadata": {},
   "outputs": [
    {
     "data": {
      "text/plain": [
       "['닥터 스트레인지', '슈퍼맨']"
      ]
     },
     "execution_count": 182,
     "metadata": {},
     "output_type": "execute_result"
    }
   ],
   "source": [
    "movie_rank = ['닥터 스트레인지', '슈퍼맨', '스플릿', '배트맨']\n",
    "del movie_rank[3]\n",
    "del movie_rank[2]\n",
    "movie_rank"
   ]
  },
  {
   "cell_type": "code",
   "execution_count": null,
   "id": "bcb0ce28-64c6-4c1b-b084-e234e4f7f49f",
   "metadata": {},
   "outputs": [],
   "source": [
    "#56"
   ]
  },
  {
   "cell_type": "code",
   "execution_count": 183,
   "id": "936b707a-e48b-487c-a8af-57459d6483e9",
   "metadata": {},
   "outputs": [
    {
     "data": {
      "text/plain": [
       "['C', 'C++', 'JAVA', 'Python', 'Go', 'C#']"
      ]
     },
     "execution_count": 183,
     "metadata": {},
     "output_type": "execute_result"
    }
   ],
   "source": [
    "lang1 = [\"C\", \"C++\", \"JAVA\"]\n",
    "lang2 = [\"Python\", \"Go\", \"C#\"]\n",
    "langs = lang1 + lang2\n",
    "langs"
   ]
  },
  {
   "cell_type": "code",
   "execution_count": 184,
   "id": "76679f7f-3455-48a1-8595-44330752aad8",
   "metadata": {},
   "outputs": [],
   "source": [
    "#57"
   ]
  },
  {
   "cell_type": "code",
   "execution_count": 189,
   "id": "13d9227c-4e5a-4dc5-b89f-a8cc511d6ccc",
   "metadata": {},
   "outputs": [
    {
     "data": {
      "text/plain": [
       "(('max: ', 7), ('min: ', 1))"
      ]
     },
     "execution_count": 189,
     "metadata": {},
     "output_type": "execute_result"
    }
   ],
   "source": [
    "nums = [1, 2, 3, 4, 5, 6, 7]\n",
    "(\"max: \", max(nums)), (\"min: \", min(nums))"
   ]
  },
  {
   "cell_type": "code",
   "execution_count": 190,
   "id": "09c7cb43-a8a5-44b0-8384-dc20504a0791",
   "metadata": {},
   "outputs": [
    {
     "name": "stdout",
     "output_type": "stream",
     "text": [
      "max:  7\n",
      "min:  1\n"
     ]
    }
   ],
   "source": [
    "print(\"max: \", max(nums))\n",
    "print(\"min: \", min(nums))"
   ]
  },
  {
   "cell_type": "code",
   "execution_count": 191,
   "id": "761a48b7-2d79-4b99-afed-ce3efe705aff",
   "metadata": {},
   "outputs": [],
   "source": [
    "#58"
   ]
  },
  {
   "cell_type": "code",
   "execution_count": 192,
   "id": "9b66baf0-f1a6-4667-9444-b7394247c3bf",
   "metadata": {},
   "outputs": [
    {
     "data": {
      "text/plain": [
       "15"
      ]
     },
     "execution_count": 192,
     "metadata": {},
     "output_type": "execute_result"
    }
   ],
   "source": [
    "nums = [1, 2, 3, 4, 5]\n",
    "sum(nums)"
   ]
  },
  {
   "cell_type": "code",
   "execution_count": null,
   "id": "1a063015-97f2-4630-bf85-3846b7ac90fb",
   "metadata": {},
   "outputs": [],
   "source": [
    "#59"
   ]
  },
  {
   "cell_type": "code",
   "execution_count": 194,
   "id": "d6bfc4cd-deec-4f34-ba48-d60d754535cf",
   "metadata": {},
   "outputs": [
    {
     "ename": "TypeError",
     "evalue": "list.count() takes exactly one argument (0 given)",
     "output_type": "error",
     "traceback": [
      "\u001b[1;31m---------------------------------------------------------------------------\u001b[0m",
      "\u001b[1;31mTypeError\u001b[0m                                 Traceback (most recent call last)",
      "Cell \u001b[1;32mIn[194], line 2\u001b[0m\n\u001b[0;32m      1\u001b[0m cook \u001b[38;5;241m=\u001b[39m [\u001b[38;5;124m\"\u001b[39m\u001b[38;5;124m피자\u001b[39m\u001b[38;5;124m\"\u001b[39m, \u001b[38;5;124m\"\u001b[39m\u001b[38;5;124m김밥\u001b[39m\u001b[38;5;124m\"\u001b[39m, \u001b[38;5;124m\"\u001b[39m\u001b[38;5;124m만두\u001b[39m\u001b[38;5;124m\"\u001b[39m, \u001b[38;5;124m\"\u001b[39m\u001b[38;5;124m양념치킨\u001b[39m\u001b[38;5;124m\"\u001b[39m, \u001b[38;5;124m\"\u001b[39m\u001b[38;5;124m족발\u001b[39m\u001b[38;5;124m\"\u001b[39m, \u001b[38;5;124m\"\u001b[39m\u001b[38;5;124m피자\u001b[39m\u001b[38;5;124m\"\u001b[39m, \u001b[38;5;124m\"\u001b[39m\u001b[38;5;124m김치만두\u001b[39m\u001b[38;5;124m\"\u001b[39m, \u001b[38;5;124m\"\u001b[39m\u001b[38;5;124m쫄면\u001b[39m\u001b[38;5;124m\"\u001b[39m, \u001b[38;5;124m\"\u001b[39m\u001b[38;5;124m소시지\u001b[39m\u001b[38;5;124m\"\u001b[39m, \u001b[38;5;124m\"\u001b[39m\u001b[38;5;124m라면\u001b[39m\u001b[38;5;124m\"\u001b[39m, \u001b[38;5;124m\"\u001b[39m\u001b[38;5;124m팥빙수\u001b[39m\u001b[38;5;124m\"\u001b[39m, \u001b[38;5;124m\"\u001b[39m\u001b[38;5;124m김치전\u001b[39m\u001b[38;5;124m\"\u001b[39m]\n\u001b[1;32m----> 2\u001b[0m cook\u001b[38;5;241m.\u001b[39mcount()\n",
      "\u001b[1;31mTypeError\u001b[0m: list.count() takes exactly one argument (0 given)"
     ]
    }
   ],
   "source": [
    "cook = [\"피자\", \"김밥\", \"만두\", \"양념치킨\", \"족발\", \"피자\", \"김치만두\", \"쫄면\", \"소시지\", \"라면\", \"팥빙수\", \"김치전\"]\n",
    "cook.count()"
   ]
  },
  {
   "cell_type": "code",
   "execution_count": 195,
   "id": "a8c6e9f6-90ed-4f81-a994-1c4e1ce1baae",
   "metadata": {},
   "outputs": [
    {
     "data": {
      "text/plain": [
       "12"
      ]
     },
     "execution_count": 195,
     "metadata": {},
     "output_type": "execute_result"
    }
   ],
   "source": [
    "cook = [\"피자\", \"김밥\", \"만두\", \"양념치킨\", \"족발\", \"피자\", \"김치만두\", \"쫄면\", \"소시지\", \"라면\", \"팥빙수\", \"김치전\"]\n",
    "len(cook)"
   ]
  },
  {
   "cell_type": "code",
   "execution_count": null,
   "id": "5e0b3b73-9e29-4d34-a4da-d4f66679c04f",
   "metadata": {},
   "outputs": [],
   "source": [
    "#60"
   ]
  },
  {
   "cell_type": "code",
   "execution_count": 196,
   "id": "ee219c2c-6c5b-4434-8155-1db6616ae086",
   "metadata": {},
   "outputs": [
    {
     "ename": "NameError",
     "evalue": "name 'average' is not defined",
     "output_type": "error",
     "traceback": [
      "\u001b[1;31m---------------------------------------------------------------------------\u001b[0m",
      "\u001b[1;31mNameError\u001b[0m                                 Traceback (most recent call last)",
      "Cell \u001b[1;32mIn[196], line 2\u001b[0m\n\u001b[0;32m      1\u001b[0m nums \u001b[38;5;241m=\u001b[39m [\u001b[38;5;241m1\u001b[39m, \u001b[38;5;241m2\u001b[39m, \u001b[38;5;241m3\u001b[39m, \u001b[38;5;241m4\u001b[39m, \u001b[38;5;241m5\u001b[39m]\n\u001b[1;32m----> 2\u001b[0m average(num)\n",
      "\u001b[1;31mNameError\u001b[0m: name 'average' is not defined"
     ]
    }
   ],
   "source": [
    "nums = [1, 2, 3, 4, 5]\n",
    "average(num)"
   ]
  },
  {
   "cell_type": "code",
   "execution_count": 197,
   "id": "b7371e5e-f9d1-4fd2-aecd-744e25a49284",
   "metadata": {},
   "outputs": [
    {
     "data": {
      "text/plain": [
       "3.0"
      ]
     },
     "execution_count": 197,
     "metadata": {},
     "output_type": "execute_result"
    }
   ],
   "source": [
    "nums = [1, 2, 3, 4, 5]\n",
    "average = sum(nums) / len(nums)\n",
    "average"
   ]
  },
  {
   "cell_type": "markdown",
   "id": "0a8c695c-54da-4a39-ad0a-65baf3090ded",
   "metadata": {
    "jupyter": {
     "source_hidden": true
    }
   },
   "source": [
    "## 61 ~ 70"
   ]
  },
  {
   "cell_type": "code",
   "execution_count": null,
   "id": "dc50cbeb-d24a-43b0-88df-c72c303b4b28",
   "metadata": {},
   "outputs": [],
   "source": [
    "#61"
   ]
  },
  {
   "cell_type": "code",
   "execution_count": 198,
   "id": "666e6664-b324-42cc-84fc-341187c3fa96",
   "metadata": {},
   "outputs": [
    {
     "data": {
      "text/plain": [
       "[100, 130, 140, 150, 160, 170]"
      ]
     },
     "execution_count": 198,
     "metadata": {},
     "output_type": "execute_result"
    }
   ],
   "source": [
    "price = ['20180728', 100, 130, 140, 150, 160, 170]\n",
    "price[1:]"
   ]
  },
  {
   "cell_type": "code",
   "execution_count": 199,
   "id": "fa402d14-6346-4b3c-b867-84f26116d213",
   "metadata": {},
   "outputs": [],
   "source": [
    "#62"
   ]
  },
  {
   "cell_type": "code",
   "execution_count": 200,
   "id": "c7e49c19-8468-4c4a-b948-0f62aa3f2a18",
   "metadata": {},
   "outputs": [
    {
     "data": {
      "text/plain": [
       "[1, 3, 5, 7, 9]"
      ]
     },
     "execution_count": 200,
     "metadata": {},
     "output_type": "execute_result"
    }
   ],
   "source": [
    "nums = [1, 2, 3, 4, 5, 6, 7, 8, 9, 10]\n",
    "nums[::2]"
   ]
  },
  {
   "cell_type": "code",
   "execution_count": 201,
   "id": "dc81d182-fd25-47f2-8c09-9944a53318ea",
   "metadata": {},
   "outputs": [],
   "source": [
    "#63"
   ]
  },
  {
   "cell_type": "code",
   "execution_count": 205,
   "id": "1d7909bb-bcc8-4353-aea0-6ce1cc4aea36",
   "metadata": {},
   "outputs": [
    {
     "data": {
      "text/plain": [
       "[2, 4, 6, 8, 10]"
      ]
     },
     "execution_count": 205,
     "metadata": {},
     "output_type": "execute_result"
    }
   ],
   "source": [
    "nums = [1, 2, 3, 4, 5, 6, 7, 8, 9, 10]\n",
    "nums[1::2]"
   ]
  },
  {
   "cell_type": "code",
   "execution_count": null,
   "id": "70567be0-140a-404e-8ed7-01404bc4dfa9",
   "metadata": {},
   "outputs": [],
   "source": [
    "#64"
   ]
  },
  {
   "cell_type": "code",
   "execution_count": 207,
   "id": "118ea97b-6d70-4ea8-ac12-7321aa453210",
   "metadata": {},
   "outputs": [
    {
     "data": {
      "text/plain": [
       "[5, 4, 3, 2, 1]"
      ]
     },
     "execution_count": 207,
     "metadata": {},
     "output_type": "execute_result"
    }
   ],
   "source": [
    "nums = [1, 2, 3, 4, 5]\n",
    "nums[::-1]"
   ]
  },
  {
   "cell_type": "code",
   "execution_count": null,
   "id": "ee260d0b-23ca-4a88-81f4-f0ec92b73539",
   "metadata": {},
   "outputs": [],
   "source": [
    "#65"
   ]
  },
  {
   "cell_type": "code",
   "execution_count": 208,
   "id": "7b676cae-74aa-4401-83d0-c85551456108",
   "metadata": {},
   "outputs": [
    {
     "data": {
      "text/plain": [
       "('삼성전자', 'Naver')"
      ]
     },
     "execution_count": 208,
     "metadata": {},
     "output_type": "execute_result"
    }
   ],
   "source": [
    "interest = ['삼성전자', 'LG전자', 'Naver']\n",
    "interest[0], interest[2]"
   ]
  },
  {
   "cell_type": "code",
   "execution_count": 209,
   "id": "5ce2d06d-9d4b-4387-a2dc-a695b0dafb28",
   "metadata": {},
   "outputs": [],
   "source": [
    "#66 ***"
   ]
  },
  {
   "cell_type": "code",
   "execution_count": 210,
   "id": "3f238422-81f8-442f-81cf-b4821413bddd",
   "metadata": {},
   "outputs": [
    {
     "data": {
      "text/plain": [
       "'삼성전자 LG전자 Naver SK하이닉스 미래에셋대우'"
      ]
     },
     "execution_count": 210,
     "metadata": {},
     "output_type": "execute_result"
    }
   ],
   "source": [
    "interest = ['삼성전자', 'LG전자', 'Naver', 'SK하이닉스', '미래에셋대우']\n",
    "' '.join(interest)"
   ]
  },
  {
   "cell_type": "code",
   "execution_count": null,
   "id": "17eba435-4826-481a-979e-4014e7651ddc",
   "metadata": {},
   "outputs": [],
   "source": [
    "#67"
   ]
  },
  {
   "cell_type": "code",
   "execution_count": 211,
   "id": "6b5c072c-786d-40a1-af22-c99534bf6c9c",
   "metadata": {},
   "outputs": [
    {
     "data": {
      "text/plain": [
       "'삼성전자/LG전자/Naver/SK하이닉스/미래에셋대우'"
      ]
     },
     "execution_count": 211,
     "metadata": {},
     "output_type": "execute_result"
    }
   ],
   "source": [
    "interest = ['삼성전자', 'LG전자', 'Naver', 'SK하이닉스', '미래에셋대우']\n",
    "'/'.join(interest)"
   ]
  },
  {
   "cell_type": "code",
   "execution_count": null,
   "id": "798de293-eff3-4692-aab9-580f7b7a6ac7",
   "metadata": {},
   "outputs": [],
   "source": [
    "#68"
   ]
  },
  {
   "cell_type": "code",
   "execution_count": 213,
   "id": "2e1086b1-e9b9-43cc-bb66-9486b691c152",
   "metadata": {},
   "outputs": [
    {
     "data": {
      "text/plain": [
       "'삼성전자\\nLG전자\\nNaver\\nSK하이닉스\\n미래에셋대우'"
      ]
     },
     "execution_count": 213,
     "metadata": {},
     "output_type": "execute_result"
    }
   ],
   "source": [
    "interest = ['삼성전자', 'LG전자', 'Naver', 'SK하이닉스', '미래에셋대우']\n",
    "\"\\n\".join(interest)"
   ]
  },
  {
   "cell_type": "code",
   "execution_count": 214,
   "id": "addea075-6126-4c08-9116-49e9492f1e43",
   "metadata": {},
   "outputs": [
    {
     "name": "stdout",
     "output_type": "stream",
     "text": [
      "삼성전자\n",
      "LG전자\n",
      "Naver\n",
      "SK하이닉스\n",
      "미래에셋대우\n"
     ]
    }
   ],
   "source": [
    "interest = ['삼성전자', 'LG전자', 'Naver', 'SK하이닉스', '미래에셋대우']\n",
    "print(\"\\n\".join(interest))"
   ]
  },
  {
   "cell_type": "code",
   "execution_count": null,
   "id": "719a0c55-b35b-4f2c-bacd-4aa109c2b3e7",
   "metadata": {},
   "outputs": [],
   "source": [
    "#69"
   ]
  },
  {
   "cell_type": "code",
   "execution_count": 215,
   "id": "9a038bb0-d4bc-4749-b574-cea28f7ae1e0",
   "metadata": {},
   "outputs": [
    {
     "data": {
      "text/plain": [
       "['삼성전자', 'LG전자', 'Naver']"
      ]
     },
     "execution_count": 215,
     "metadata": {},
     "output_type": "execute_result"
    }
   ],
   "source": [
    "string = \"삼성전자/LG전자/Naver\"\n",
    "string.split(\"/\")"
   ]
  },
  {
   "cell_type": "code",
   "execution_count": null,
   "id": "5b32e765-328e-4a76-91bd-e28589ddacb4",
   "metadata": {},
   "outputs": [],
   "source": [
    "#70"
   ]
  },
  {
   "cell_type": "code",
   "execution_count": 218,
   "id": "838fb435-4c86-4031-aa57-2b5e301dc675",
   "metadata": {},
   "outputs": [
    {
     "data": {
      "text/plain": [
       "[1, 2, 3, 4, 5, 9, 10]"
      ]
     },
     "execution_count": 218,
     "metadata": {},
     "output_type": "execute_result"
    }
   ],
   "source": [
    "data = [2, 4, 3, 1, 5, 10, 9]\n",
    "data.sort()\n",
    "data"
   ]
  },
  {
   "cell_type": "markdown",
   "id": "66e91411-941a-4f50-8f52-0e7bc37389fe",
   "metadata": {},
   "source": [
    "## 71 ~ 80"
   ]
  },
  {
   "cell_type": "code",
   "execution_count": null,
   "id": "68658007-452e-49af-b215-20a96c31329b",
   "metadata": {},
   "outputs": [],
   "source": [
    "#71"
   ]
  },
  {
   "cell_type": "code",
   "execution_count": 221,
   "id": "db758de3-bfcd-43d3-a26d-92a8d8edee72",
   "metadata": {},
   "outputs": [
    {
     "data": {
      "text/plain": [
       "()"
      ]
     },
     "execution_count": 221,
     "metadata": {},
     "output_type": "execute_result"
    }
   ],
   "source": [
    "my_variable = ()\n",
    "my_variable"
   ]
  },
  {
   "cell_type": "code",
   "execution_count": 222,
   "id": "1f3e05eb-6aa6-4e45-b4ee-b82e07e35582",
   "metadata": {},
   "outputs": [],
   "source": [
    "#72"
   ]
  },
  {
   "cell_type": "code",
   "execution_count": 224,
   "id": "83399e8c-d7dd-4b12-80ba-32a113e7f394",
   "metadata": {},
   "outputs": [
    {
     "data": {
      "text/plain": [
       "('닥터 스트레인지', '스플릿', '럭키')"
      ]
     },
     "execution_count": 224,
     "metadata": {},
     "output_type": "execute_result"
    }
   ],
   "source": [
    "movie_rank = ('닥터 스트레인지', '스플릿', '럭키')\n",
    "movie_rank"
   ]
  },
  {
   "cell_type": "code",
   "execution_count": null,
   "id": "df21f187-b83b-411b-8ed8-d7fa1cfce017",
   "metadata": {},
   "outputs": [],
   "source": [
    "#73"
   ]
  },
  {
   "cell_type": "code",
   "execution_count": 228,
   "id": "0cc9f62c-a93e-4d91-adb1-69ffdbb6e1b9",
   "metadata": {},
   "outputs": [
    {
     "data": {
      "text/plain": [
       "((1,), tuple)"
      ]
     },
     "execution_count": 228,
     "metadata": {},
     "output_type": "execute_result"
    }
   ],
   "source": [
    "t1 = (1, )\n",
    "t1, type(t1)"
   ]
  },
  {
   "cell_type": "code",
   "execution_count": null,
   "id": "62973866-4f0d-4d05-b8b3-486db6b70670",
   "metadata": {},
   "outputs": [],
   "source": [
    "#74"
   ]
  },
  {
   "cell_type": "code",
   "execution_count": null,
   "id": "3bd1ae84-7033-44d4-a5e4-cea209db979b",
   "metadata": {},
   "outputs": [],
   "source": [
    ">> t = (1, 2, 3)\n",
    ">> t[0] = 'a'\n",
    "Traceback (most recent call last):\n",
    "  File \"<pyshell#46>\", line 1, in <module>\n",
    "    t[0] = 'a'\n",
    "TypeError: 'tuple' object does not support item assignment\n",
    "\n",
    "#요소의 값을 변경할 수 없다."
   ]
  },
  {
   "cell_type": "code",
   "execution_count": null,
   "id": "d9a8754e-cb6e-4745-a2a4-20bc93387a4f",
   "metadata": {},
   "outputs": [],
   "source": [
    "#75"
   ]
  },
  {
   "cell_type": "code",
   "execution_count": 229,
   "id": "9350d6be-271f-4eb9-bcd5-a49421329258",
   "metadata": {},
   "outputs": [
    {
     "data": {
      "text/plain": [
       "tuple"
      ]
     },
     "execution_count": 229,
     "metadata": {},
     "output_type": "execute_result"
    }
   ],
   "source": [
    "t = 1, 2, 3, 4\n",
    "type(t)"
   ]
  },
  {
   "cell_type": "code",
   "execution_count": 230,
   "id": "77693598-fbbb-42fd-879c-a7030dd0286f",
   "metadata": {},
   "outputs": [],
   "source": [
    "#76"
   ]
  },
  {
   "cell_type": "code",
   "execution_count": 232,
   "id": "8fa47c47-14c4-4cb8-985a-60dcfe116399",
   "metadata": {},
   "outputs": [
    {
     "data": {
      "text/plain": [
       "('A', 'b', 'c')"
      ]
     },
     "execution_count": 232,
     "metadata": {},
     "output_type": "execute_result"
    }
   ],
   "source": [
    "t = ('a', 'b', 'c')\n",
    "t = ('A', 'b', 'c')\n",
    "t"
   ]
  },
  {
   "cell_type": "code",
   "execution_count": 233,
   "id": "11d05931-ce51-4b94-acb3-e334455afa74",
   "metadata": {
    "jupyter": {
     "source_hidden": true
    }
   },
   "outputs": [],
   "source": [
    "#77"
   ]
  },
  {
   "cell_type": "code",
   "execution_count": 240,
   "id": "8e83d610-5bea-4ccc-b17e-291b4d6ea25a",
   "metadata": {},
   "outputs": [
    {
     "data": {
      "text/plain": [
       "['삼성전자', 'LG전자', 'SK Hynix']"
      ]
     },
     "execution_count": 240,
     "metadata": {},
     "output_type": "execute_result"
    }
   ],
   "source": [
    "interest = ('삼성전자', 'LG전자', 'SK Hynix')\n",
    "a = list(interest)\n",
    "a"
   ]
  },
  {
   "cell_type": "code",
   "execution_count": null,
   "id": "24f21c3d-f6e1-4fa4-be4d-1420cc010193",
   "metadata": {},
   "outputs": [],
   "source": [
    "#78"
   ]
  },
  {
   "cell_type": "code",
   "execution_count": 244,
   "id": "5858404d-79df-4a9f-b6fc-88f0fb982c5c",
   "metadata": {},
   "outputs": [
    {
     "data": {
      "text/plain": [
       "('삼성전자', 'LG전자', 'SK Hynix')"
      ]
     },
     "execution_count": 244,
     "metadata": {},
     "output_type": "execute_result"
    }
   ],
   "source": [
    "interest = ['삼성전자', 'LG전자', 'SK Hynix']\n",
    "a = tuple(interest)\n",
    "a"
   ]
  },
  {
   "cell_type": "code",
   "execution_count": 245,
   "id": "8a428b60-3e98-4110-8ed3-0441cb875da1",
   "metadata": {},
   "outputs": [],
   "source": [
    "#79"
   ]
  },
  {
   "cell_type": "code",
   "execution_count": 246,
   "id": "5e52c095-c7f3-471e-ad9a-623aa22cc1cc",
   "metadata": {},
   "outputs": [
    {
     "name": "stdout",
     "output_type": "stream",
     "text": [
      " banana cake\n"
     ]
    }
   ],
   "source": [
    "temp = ('', 'banana', 'cake')\n",
    "a, b, c = temp\n",
    "print(a, b, c)"
   ]
  },
  {
   "cell_type": "code",
   "execution_count": null,
   "id": "cc8364b5-80ac-4095-ab0a-585345e30cb6",
   "metadata": {},
   "outputs": [],
   "source": [
    "#80 ***"
   ]
  },
  {
   "cell_type": "code",
   "execution_count": 248,
   "id": "e0469fef-80f5-4ce9-99ac-fc37a7b69e62",
   "metadata": {},
   "outputs": [
    {
     "data": {
      "text/plain": [
       "(2,\n",
       " 4,\n",
       " 6,\n",
       " 8,\n",
       " 10,\n",
       " 12,\n",
       " 14,\n",
       " 16,\n",
       " 18,\n",
       " 20,\n",
       " 22,\n",
       " 24,\n",
       " 26,\n",
       " 28,\n",
       " 30,\n",
       " 32,\n",
       " 34,\n",
       " 36,\n",
       " 38,\n",
       " 40,\n",
       " 42,\n",
       " 44,\n",
       " 46,\n",
       " 48,\n",
       " 50,\n",
       " 52,\n",
       " 54,\n",
       " 56,\n",
       " 58,\n",
       " 60,\n",
       " 62,\n",
       " 64,\n",
       " 66,\n",
       " 68,\n",
       " 70,\n",
       " 72,\n",
       " 74,\n",
       " 76,\n",
       " 78,\n",
       " 80,\n",
       " 82,\n",
       " 84,\n",
       " 86,\n",
       " 88,\n",
       " 90,\n",
       " 92,\n",
       " 94,\n",
       " 96,\n",
       " 98)"
      ]
     },
     "execution_count": 248,
     "metadata": {},
     "output_type": "execute_result"
    }
   ],
   "source": [
    "a = tuple(range(2, 100, 2))\n",
    "a"
   ]
  }
 ],
 "metadata": {
  "kernelspec": {
   "display_name": "Python 3 (ipykernel)",
   "language": "python",
   "name": "python3"
  },
  "language_info": {
   "codemirror_mode": {
    "name": "ipython",
    "version": 3
   },
   "file_extension": ".py",
   "mimetype": "text/x-python",
   "name": "python",
   "nbconvert_exporter": "python",
   "pygments_lexer": "ipython3",
   "version": "3.11.7"
  }
 },
 "nbformat": 4,
 "nbformat_minor": 5
}
