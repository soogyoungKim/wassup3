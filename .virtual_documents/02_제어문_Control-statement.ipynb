


# 돈이 있으면 택시를 타고, 없으면 걸어간다

money = True
if money:
    print("택시를 타고 가라")
else:
    print("걸어 가라")


# 단락 간격 주의


# : > 코드 명령의 시작





# 비교 연산자
x = 3
y = 2
x > y


# 만약 3000원 이상의 돈이 있으면 택시를 타고, 없으면 걸어가라

money = 2000
if money >= 3000 :
    print("택시를 타고 가라")
else:
    print("걸어 가라")





# 3000원 이상의 돈이 있거나 카드가 있다면 택시를 타고, 없으면 걸어가라


money = 2000
card = True
if money >= 3000 or card :
    print("택시를 타고 가라")
else:
    print("걸어 가라")





1 in [1, 2, 3]


1 not in [1, 2, 3]


# 만약 주머니에 돈이 있으면 택시를 타고 가고, 없으면 걸어가라.


pocket = ['paper', 'cellphone', 'money']
if 'money' in pocket:
    print("택시를 타고 가라")
else:
    print("걸어가라")





pocket = ['paper', 'money', 'cellphone']
if 'money' in pocket:
    pass 
else:
    print("카드를 꺼내라")





#주머니에 돈이 있으면 택시를 타고 가고, 주머니에 돈은 없지만 카드가 있으면 택시를 타고 가고, 돈도 없고 카드도 없으면 걸어가라.


pocket = ['paper', 'cellphone']
card = True
if 'money' in pocket:
    print("택시를 타고가라")
else:
    if card:
       print("택시를 타고가라")
    else:
       print("걸어가라")


 pocket = ['paper', 'cellphone']
 card = True
 if 'money' in pocket:
     print("택시를 타고가라")
elif card: 
     print("택시를 타고가라")
else:
     print("걸어가라")


if 'money' in pocket : pass
else : print("카드를 꺼내라")





score = 60
if score >= 60:
    message = "success"
else:
    message = "failure"

message


message = "success" if score >= 60 else "failure"
score = 50
message





#열 번 찍어 안 넘어가는 나무 없다


hit = 0
while hit < 10:
    hit = hit + 1
    print("나무를 %d번 찍었다." % hit)
    if hit == 10:
        print("나무가 넘어갔다")


prompt = """
1. Add
2. Del
3. List
4. Quit

Enter number: """


print(prompt)


number = 0
while number != 4:
    print(prompt)
    number = int(input())





coffee = 10
money = 300
while money : 
    print('돈을 받았으니 커피를 준다')
    coffee = coffee - 1
    print(f'남은 커피의 양은 {coffee}입니다.')
    if coffee == 0:
        print('커피가 품절됐습니다.')
        break


coffee = 10

while True :
    money = int(input('돈을 넣어주세요:'))

    if money == 300:
        print(f'{money}원을 받았습니다. 커피를 드립니다.')
        coffee = coffee - 1
        print(f'남은 커피의 양은 {coffee}입니다.')
    elif money > 300:
        print(f'{money}원을 받았습니다. 잔돈 {money-300}원을 드립니다. 커피를 드립니다.')
        coffee = coffee - 1
        print(f'남은 커피의 양은 {coffee}입니다.')
    else :
        print(f'돈이 부족합니다. {money}원을 반환합니다.')
        coffee = coffee - 0
        print(f'남은 커피의 양은 {coffee}입니다.')

    if coffee == 0:
        print('커피가 품절되었습니다. 영업을 종료합니다.')
        break





# 전형적인 for 문

test_list = ['one', 'two', 'three'] 
for i in test_list: 
    print(i)


marks = [90, 25, 67, 45, 80]
s = 0 #라벨 부여
for mark in marks :
    s = s+1
    if mark >= 60:
        print(f'{s}번 학생은 합격이다.')
    else :
        print(f'{s}번 학생은 불합격이다.')





marks = [90, 25, 67, 45, 80]
s = 0 #라벨 부여
for mark in marks :
    s = s+1
    if mark >= 60:
        print(f'{s}번 학생 축하합니다. 합격입니다.')
    else :
        continue


# marks2.py
marks = [90, 25, 67, 45, 80]

number = 0 
for mark in marks: 
    number = number +1 
    if mark < 60:
        continue 
    print("%d번 학생 축하합니다. 합격입니다. " % number)





a = range(10)
a


range(1,11)
a = sum(range(1,11))
a


p = 0
for i in range(1,11):
    p = p + i
print(p)


# 구구단 프로그램
for n in range(2,10) :
    for i in range(1,10) :
        print(n*i)





# 시간 측정을 위한 코드, 2배넘게 차이남
import time

start = time.time() 
numbers = [i for i in range(1000000)] 
end = time.time() 
print('List Comprehension Time:', end-start)


start = time.time() 
numbers = []
for i in range(1000000):
    numbers.append(i)
end = time.time() 
print('For loop Time:', end-start)


a = [1,2,3,4]
result = []
for num in a:
    result.append(num*3)
print(result)


list = {'홍길동':'010-123-4567'}
prompt = """
1. Add
2. Edit
3. Delete
4. Quit
Enter number: """
n = int(input())

if n == 1 :
    name = input('이름을 입력하세요')
    if name in list :
        print({name}, list.get({name}))
    else :
        print('검색하신 결과가 없습니다.')
    

elif n == 2 : 
    print(name = input('이름을 입력하세요'))
    if name in list :
        print({name}, get({name}))

elif n == 3 :
    print(name = str.input('이름을 입력하세요')argument of type 'builtin_function_or_method' is not iterable)







