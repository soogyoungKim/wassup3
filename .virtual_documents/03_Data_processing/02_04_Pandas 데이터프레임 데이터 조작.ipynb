














import pandas as pd
import numpy as np


s = pd.Series(range(10))
s


s[3] = np.nan
s


s.count()





np.random.seed(2)
df = pd.DataFrame(np.random.randint(5, size=(4, 4)), dtype=float)
df


df.iloc[2, 3] = np.nan
df


df.count()





import seaborn as sns


titanic = sns.load_dataset("titanic")
titanic.head()


len(titanic)





titanic.count()











import pandas as pd
np.random.seed(1)
s2 = pd.Series(np.random.randint(6, size=100))
s2.tail()


s2.value_counts()





df


df[0].value_counts()














s2.value_counts()


s2.value_counts().sort_index() 





s


s.sort_values()





s.sort_values?


s.sort_values(ascending=False)





df


df.sort_values(by=2)





df.sort_values(by=1)


df.sort_values(by=[1, 2])





titanic[['sex', 'age', 'class', 'alive']]


titanic['sex'].sort_values()


titanic['sex'].value_counts()


list1 = ['sex', 'age', 'class', 'alive']
for l in list1:
    print(titanic[l].value_counts())
    print('='*10)











np.random.seed(1)
df2 = pd.DataFrame(np.random.randint(10, size=(4, 8)))
df2





df2.sum(axis=1)


df2["RowValSum"] = df2.sum(axis=1)
df2





df2.sum()


df2.loc["ColTotal"] = df2.sum() # df2.loc["ColTotal", :] 


df2








df


df.mean()


df.mean(axis=1)





titanic.head()


# 1. 타이타닉호 승객의 평균 나이를 구하라.
titanic['age'].mean()


titanic['sex']=='female'


# 타이타닉호 승객중 여성 승객의 평균 나이를 구하라
titanic[titanic['sex']=='female']['age'].mean()


titanic['class']=='First'


# 3. 타이타닉호 승객중 1등실 선실의 여성 승객의 평균 나이를 구하라.
titanic[(titanic['class']=='First') & (titanic['sex']=='female')]['age'].mean()





df3 = pd.DataFrame({
    'A': [1, 3, 4, 3, 4],
    'B': [2, 3, 1, 2, 3],
    'C': [1, 5, 2, 4, 4]
})
df3





df3.apply(lambda x: x.max() - x.min()) # default axis=0,





df3.apply(lambda x: x.max() - x.min(), axis=1)





df3


df3.apply(pd.value_counts)





titanic["adult/child"] = titanic.apply(lambda r: "adult" if r.age >= 20 else "child", axis=1)
titanic.tail()





titanic["category1"] = titanic.apply(lambda r: r.sex if r.age >= 20 else "child", axis=1)
titanic








df3


df3['A']


df3['A'].value_counts()


# 각 열의 고유한 값 수를 파악하는 방법
df3.apply(pd.value_counts) # axis=0 열기준


df3.apply(pd.value_counts).fillna(0.0)





titanic['age'].value_counts()


titanic['age'].sort_values()


titanic['age'].isnull() # 불린인덱싱


titanic['age'].isnull().sum()


titanic[ titanic['age'].isnull() ]['age']


round(titanic['age'].mean())


titanic['age'].fillna( round(titanic['age'].mean()) )


titanic['age'].isnull().sum()


# titanic['age'].fillna( round(titanic['age'].mean()), inplace=True)
titanic['age'] = titanic['age'].fillna( round(titanic['age'].mean() ))
titanic.tail()


titanic['age'].fillna( round(titanic['age'].mean()), inplace=True) # 원본에 적용해줘
titanic.tail()


titanic['age'].isnull().sum()








df3.apply(pd.value_counts).fillna(0).astype(int)





titanic.head()


titanic['category2'] = titanic.sex + titanic.age.astype(int).astype(str)
titanic


titanic["category2"] = titanic.apply(lambda x: x.sex + str(int(x.age)), axis=1)
titanic











ages = [0, 2, 10, 21, 23, 37, 31, 61, 20, 41, 32, 101]





pd.cut?


bins = [1, 20, 40, 50, 70, 100]
labels = ["미성년자", "청년", "중년", "장년", "노년"]
cats = pd.cut(ages, bins, labels=labels)
cats





type(cats)


cats.categories


cats.codes


df4 = pd.DataFrame(ages, columns=["ages"])
df4


df4["age_cat"] = pd.cut(df4.ages, bins, labels=labels)
print(bins)
print(labels)
df4





df4['age_cat']


df4.age_cat.astype(str) + df4.ages.astype(str)





data = np.random.randn(1000)
cats = pd.qcut(data, 4, labels=["Q1", "Q2", "Q3", "Q4"])
cats


pd.value_counts(cats)





bins = [1, 20, 40, 50, 70, 100]
labels = ["미성년자", "청년", "중년", "장년", "노년"]

df5 = pd.cut(titanic.age, bins, labels=labels)
df5.head()


df5.value_counts()


df5.value_counts()/ len(df5) * 100





bins = [1, 20, 40, 50, 70, 100]
labels = ["미성년자", "청년", "중년", "장년", "노년"]
sexlabel = ['남성', '여성']


titanic["category3"] = pd.cut(titanic.age, bins, labels=labels)
titanic["category3"] 


titanic["category3"] = titanic.apply(lambda x : '미성년자' if x.age <= 20 else x.category3 + x.sex, axis=1)
titanic


titanic["category3"] = pd.cut(titanic.age, bins, labels=labels)
titanic["category3"] = titanic.apply(lambda x : '미성년자' if x.age <= 20 else 
                                     (x.category3 + '남성' if x.sex == 'male' else x.category3 + '여성'), axis=1)
titanic
