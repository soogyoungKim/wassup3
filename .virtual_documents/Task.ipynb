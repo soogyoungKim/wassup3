





#1


print("Hello World")


#2


print("Mary's cosmetics")


#3


print('신씨가 소리질렀다. "도둑이야".')


#4


print('C:\Windows')


#5


print("안녕하세요.\n만나서\t\t반갑습니다.")


# \n : 줄바꿈 
# \t : 탭


#6


print("오늘은", "월요일")


#7


print('naver','kakao','sk','samsung', sep=';')


#8


print('naver','kakao','sk','samsung', sep='/')


#9


print("first","second")


print("first", end=""); print("second")


#10


a = 5/3
a


print(5/3)





#11


삼성전자 = 50000
총평가금액 = 삼성전자 * 10
print(총평가금액)


시가총액 = 29800000000000
현재가 = 50000
PER = 15.79

print(시가총액, 현재가, PER)

print(시가총액, type(시가총액))
print(현재가, type(현재가))
print(PER, type(PER))


#13


s = "hello"
s = s + "!"
t = "print"

print(s, t)


#14


print(2+2*3)


#15


a = "132"
print (type(a))


#16


num_str = 720
type(num_str)


num_str = "720"
num_int = int(num_str)
print(num_int+1, type(num_int))


#17


num = 100
num_str = str(num)
print(str(num), type(str(num)))


#18


a = "15.79"
b = float(a)
b, type(b)


#19


year = "2020"
a = int(year)

print(a+4,a+3,a+2)
print(a-3,a-2,a-1)


#20


a = 48584
총금액 = a * 36
print(총금액)





#21


letters = 'python'
print(letters[0], letters[2])



#22


license_plate = "24가 2210"
a = license_plate[-4:]
a


#23


string = "홀짝홀짝홀짝"
a = string[::2]
a


#24 ***


string = "PYTHON"
a = string[::-1]
a


#25


phone_number = "010-1111-2222"
a = phone_number.delete("-")
a


phone_number = "010-1111-2222"
a = phone_number.replace("-", " ")
a


#26


phone_number = "010-1111-2222"
a = phone_number.replace("-", " ")
b = a.replace(" ", "")
b


#27


url = "http://sharebook.kr"
a = url.split('.')
print(a[-1])


#28


>> lang = 'python'
>> lang[0] = 'P'
>> print(lang)


#29


string = 'abcdfe2a354a32a'
a = string.replace('a', 'A')
a


#30


string = 'abcd'
string.replace('b', 'B')
print(string)


string = 'abcd'
b = string.replace('b', 'B')
b





#31


a = "3"
b = "4"
print(a + b)


#32


print("Hi" * 3)


#33


print('-'*80)


#34


t1 = 'python'
t2 = 'java'

print((t1 + ' ' + t2 + ' ') * 4)


#35


name1 = "김민수" 
age1 = 10
name2 = "이철희"
age2 = 13

f'이름 : {name1} 나이 : {age1} \n 이름 : {name2} 나이 : {age2}'


name1 = "김민수" 
age1 = 10
name2 = "이철희"
age2 = 13
print("이름: %s 나이: %d" % (name1, age1))
print("이름: %s 나이: %d" % (name2, age2))


#36


name1 = "김민수" 
age1 = 10
name2 = "이철희"
age2 = 13

print("이름: {} 나이: {}".format(name1,age1))
print("이름: {} 나이: {}".format(name2,age2))


#37


name1 = "김민수" 
age1 = 10
name2 = "이철희"
age2 = 13

print(f'이름 : {name1} 나이 : {age1}')
print(f'이름 : {name2} 나이 : {age2}')


#38


상장주식수 = "5,969,782,550"
a = 상장주식수.replace(',', '')
b = int(a)
b, type(b)


#39


분기 = "2020/03(E) (IFRS연결)"
print(분기[:7])


#40


data = "   삼성전자    "
a=data.strip()
a





#41


ticker = "btc_krw"
a = ticker.upper()
a


#42


ticker = "BTC_KRW"
a = ticker.lower()
a


#43 ***


a = 'hello'
b = a.capitalize()
b


# 44 ***


file_name = "보고서.xlsx"
a = file_name.endswith('xlsx')
a


#45 ***


file_name = "보고서.xlsx"
a = file_name.endswith(('xlsx','xls'))
a


#46


file_name = "2020_보고서.xlsx"
a = file_name.startswith('2020')
a


#47


a = "hello world"
b = a.split(' ')
b


a = "hello world"
a.split()


#48


ticker = "btc_krw"
a = ticker.split('_')
a


#49


date = "2020-05-01"
a = date.split('-')
a


#50


data = "039490     "
a = data.rstrip()
a





#51


a = '닥터_스트레인지'
b = '스플릿'
c = '럭키'

[a, b, c]


#52


movie_rank = ["닥터 스트레인지", "스플릿", "럭키"]
new = movie_rank.append("베트맨")
print(new)


movie_rank = ["닥터 스트레인지", "스플릿", "럭키"]
movie_rank.append("베트맨")
print(movie_rank)


#53


movie_rank = ['닥터 스트레인지', '스플릿', '럭키', '배트맨']
movie_rank.insert(1, '슈퍼맨')
movie_rank


#54


movie_rank = ['닥터 스트레인지', '슈퍼맨', '스플릿', '럭키', '배트맨']
del movie_rank['럭키']
print(movie_rank)


movie_rank = ['닥터 스트레인지', '슈퍼맨', '스플릿', '럭키', '배트맨']
del movie_rank[3]
print(movie_rank)


#55


movie_rank = ['닥터 스트레인지', '슈퍼맨', '스플릿', '배트맨']
del movie_rank[2, 3]
movie_rank


movie_rank = ['닥터 스트레인지', '슈퍼맨', '스플릿', '배트맨']
del movie_rank[3]
del movie_rank[2]
movie_rank


#56


lang1 = ["C", "C++", "JAVA"]
lang2 = ["Python", "Go", "C#"]
langs = lang1 + lang2
langs


#57


nums = [1, 2, 3, 4, 5, 6, 7]
("max: ", max(nums)), ("min: ", min(nums))


print("max: ", max(nums))
print("min: ", min(nums))


#58


nums = [1, 2, 3, 4, 5]
sum(nums)


#59


cook = ["피자", "김밥", "만두", "양념치킨", "족발", "피자", "김치만두", "쫄면", "소시지", "라면", "팥빙수", "김치전"]
cook.count()


cook = ["피자", "김밥", "만두", "양념치킨", "족발", "피자", "김치만두", "쫄면", "소시지", "라면", "팥빙수", "김치전"]
len(cook)


#60


nums = [1, 2, 3, 4, 5]
average(num)


nums = [1, 2, 3, 4, 5]
average = sum(nums) / len(nums)
average





#61


price = ['20180728', 100, 130, 140, 150, 160, 170]
price[1:]


#62


nums = [1, 2, 3, 4, 5, 6, 7, 8, 9, 10]
nums[::2]


#63


nums = [1, 2, 3, 4, 5, 6, 7, 8, 9, 10]
nums[1::2]


#64


nums = [1, 2, 3, 4, 5]
nums[::-1]


#65


interest = ['삼성전자', 'LG전자', 'Naver']
interest[0], interest[2]


#66 ***


interest = ['삼성전자', 'LG전자', 'Naver', 'SK하이닉스', '미래에셋대우']
' '.join(interest)


#67


interest = ['삼성전자', 'LG전자', 'Naver', 'SK하이닉스', '미래에셋대우']
'/'.join(interest)


#68


interest = ['삼성전자', 'LG전자', 'Naver', 'SK하이닉스', '미래에셋대우']
"\n".join(interest)


interest = ['삼성전자', 'LG전자', 'Naver', 'SK하이닉스', '미래에셋대우']
print("\n".join(interest))


#69


string = "삼성전자/LG전자/Naver"
string.split("/")


#70


data = [2, 4, 3, 1, 5, 10, 9]
data.sort()
data





#71


my_variable = ()
my_variable


#72


movie_rank = ('닥터 스트레인지', '스플릿', '럭키')
movie_rank


#73


t1 = (1, )
t1, type(t1)


#74


>> t = (1, 2, 3)
>> t[0] = 'a'
Traceback (most recent call last):
  File "<pyshell#46>", line 1, in <module>
    t[0] = 'a'
TypeError: 'tuple' object does not support item assignment

#요소의 값을 변경할 수 없다.


#75


t = 1, 2, 3, 4
type(t)


#76


t = ('a', 'b', 'c')
t = ('A', 'b', 'c')
t


#77


interest = ('삼성전자', 'LG전자', 'SK Hynix')
a = list(interest)
a


#78


interest = ['삼성전자', 'LG전자', 'SK Hynix']
a = tuple(interest)
a


#79


temp = ('', 'banana', 'cake')
a, b, c = temp
print(a, b, c)


#80 ***


a = tuple(range(2, 100, 2))
a





#81 ＊＊＊


scores = [8.8, 8.9, 8.7, 9.2, 9.3, 9.7, 9.9, 9.5, 7.8, 9.4]
*valid_score, a, b = scores
valid_score


#82 ***


scores = [8.8, 8.9, 8.7, 9.2, 9.3, 9.7, 9.9, 9.5, 7.8, 9.4]
a, b, *valid_score = scores
valid_score



# 83


scores = [8.8, 8.9, 8.7, 9.2, 9.3, 9.7, 9.9, 9.5, 7.8, 9.4]
a, *valid_score, b = scores
valid_score



#84


dic = {'temp'}
dic


temp = { }
type(temp)


#85


p = {'메로나':1000,'폴라포':1200, '빵빠레':1800}
p


#86


p['죠스바']=1200
p


p['월드콘']=1500
p


#87


ice = {'메로나': 1000,
       '폴로포': 1200,
       '빵빠레': 1800,
       '죠스바': 1200,
       '월드콘': 1500}

ice['메로나']


#88


ice = {'메로나': 1000,
       '폴로포': 1200,
       '빵빠레': 1800,
       '죠스바': 1200,
       '월드콘': 1500}

ice['메로나'] = 1300
ice


#89


ice = {'메로나': 1000,
       '폴로포': 1200,
       '빵빠레': 1800,
       '죠스바': 1200,
       '월드콘': 1500}

del ice['메로나']
ice


# 90 - 없는 값을 조회해서





#91


i = {"메로나": [300, 20], "비비빅": [400, 3], "죠스바": [250, 100]}
i


#92


i = {"메로나": [300, 20], "비비빅": [400, 3], "죠스바": [250, 100]}
print(i["메로나"][0],'원')


#93


i = {"메로나": [300, 20], "비비빅": [400, 3], "죠스바": [250, 100]}
print(i["메로나"][1],'개')


#94


i['월드콘'] = (500,7)
i


#95


i.keys()


icecream = {'탱크보이': 1200, '폴라포': 1200, '빵빠레': 1800, '월드콘': 1500, '메로나': 1000}
ice = list(icecream.keys())
print(ice)


#96


i = {'탱크보이': 1200, '폴라포': 1200, '빵빠레': 1800, '월드콘': 1500, '메로나': 1000}
p = list(i.values())
p


#97


i = {'탱크보이': 1200, '폴라포': 1200, '빵빠레': 1800, '월드콘': 1500, '메로나': 1000}
sum(i.values())


#98


new = {'팥빙수':2700, '아맛나':1000}
i.update(new)
i


#99


k = ("apple", "pear", "peach")
v = (300, 250, 400)
r = dict(zip(k,v))
r


#100


date = ['09/05', '09/06', '09/07', '09/08', '09/09']
close_price = [10500, 10300, 10100, 10800, 11000]
close_table = dict(zip(date,close_price))
close_table





#101 - bool


#102


print(3 == 5)


#103


print(3 < 5)


#104


x = 4
print(1 < x < 5)


#105


print ((3 == 3) and (4 != 3))


#106 - 잘못된 연산자


#107


if 4 < 3:
print("Hello World")


#108


if 4 < 3:
    print("Hello World.")
else:
    print("Hi, there.")


#109


if 4 < 3:
    print("Hello World.")
else:
    print("Hi, there.")


#110


if True :
    if False:
        print("1")
        print("2")
    else:
        print("3")
else :
    print("4")
print("5")





#111


u = input('입력하세요')
print(u*2)


#112


u = input('숫자를 입력하세요')
print(int(u)+10)


#113


u = input("")
if int(u) % 2 == 0:
    print('짝수')
else : 
    print ('홀수')


#114


a = input("값을 입력하세요")
n = int(a) + 20
if n > 255 :
    print(255)
else : 
    print(n)


#115


a = input("값을 입력하세요")
n = int(a) - 20
if n > 255 :
    print(255)
elif n < 0 :
    print(0)
else : 
    print(n)


#116 ***


a = input("현재 시간:00")
if a[-2:] == "00":
    print("정각입니다.)
else : 
    print("정각이 아닙니다")


time = input("현재시간: ")
if time[-2:] == "00":
    print("정각 입니다.")
else:
    print("정각이 아닙니다.")


#117


f = ["사과", "포도", "홍시"]
a = input("좋아하는 과일은?")

if a in f :
    print("정답입니다.")
else : 
    print("오답입니다.")


#118


warn_investment_list = ["Microsoft", "Google", "Naver", "Kakao", "SAMSUNG", "LG"]
a = input("종목을 입력하세요.")

if a in warn_investment_list :
    print("투자 경고 종목입니다.")
else : 
    print("투자 경고 종목이 아닙니다.")


#119


fruit = {"봄" : "딸기", "여름" : "토마토", "가을" : "사과"}
a = input('좋아하는 계절은?')

if a in fruit.keys() :
    print('정답입니다')
else : 
    print('오답입니다')


#120


fruit = {"봄" : "딸기", "여름" : "토마토", "가을" : "사과"}
a = input('좋아하는 과일은?')

if a in fruit.values() :
    print('정답입니다')
else : 
    print('오답입니다')





#121


u = input("")
if u.islower():
    print(u.upper())
else:
    print(u.lower())


#122



