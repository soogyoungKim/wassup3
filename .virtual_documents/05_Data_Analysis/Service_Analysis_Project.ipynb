

















import pandas as pd


access_data = pd.read_table('data/access_detail.csv',sep=',')





access_data.head()


access_data.info()


access_data.describe()








# step1) access_date 의 데이터 종류를 확인 해봅시다!
type(access_data['access_date'][0])


# step2) 우리가 원하는 시간의 데이터 형태로 변경하기

access_data['access_date_time'] = pd.to_datetime(access_data['access_date'], format='%Y-%m-%dT%H:%M:%S.%f')
# access_data['access_date_time'] = pd.to_datetime(access_data['access_date'], format='mixed')

print(type(access_data['access_date_time'][0]))
access_data.tail(5)


# step3) 요일 추가하기
# [날짜 컬럼].dt.day_name 으로 해당 날짜의 요일을 가져오자
access_data['access_date_time_weekday'] = access_data['access_date_time'].dt.day_name()
access_data.tail(5)


# step4) 요일 별 접속한 수강생 수 구하기
weekdata = access_data.groupby('access_date_time_weekday')['user_id'].count()
weekdata


# 요일 순서대로 정렬하기
weeks = ['Monday', 'Tuesday', 'Wednesday', 'Thursday', 'Friday', 'Saturday', 'Sunday']
weekdata = weekdata.agg(weeks) #weeks의 리스트에 따라 재배열
weekdata


# step5) 시간 별 접속한 수강생 수 전처리 하기

access_data['access_date_time_hour'] = access_data['access_date_time'].dt.hour

hourdata = access_data.groupby('access_date_time_hour')['user_id'].count()
hourdata = hourdata.sort_index()
hourdata





import matplotlib.pyplot as plt
import numpy as np
import koreanize_matplotlib


plt.bar(weekdata.index, weekdata.values)


# 요일별 수강생 수  막대그래프 그리기

#그래프 사이즈
plt.figure(figsize=(10,5))

#그래프 x축 y축
plt.bar(weekdata.index, weekdata.values)

#그래프 명
plt.title('요일별 수강 완료 수강생 수')

#그래프 x축 레이블
plt.xlabel('요일')

#그래프 y축 레이블
plt.ylabel('수강생(명)')

#x축 레이블을
plt.xticks()

#그래프 출력
plt.show()


# 시간 별 접속 하는 수강생 수의 꺾은선 그래프 그리기

#그래프 사이즈 변경
plt.figure(figsize=(10,5))

#그래프 x축 y축
plt.plot(hourdata.index, hourdata.values)

#그래프 명
plt.title('시간별 수강 완료 사용자 수')

#그래프 x축 레이블
plt.xlabel('시간')

#그래프 y축 레이블
plt.ylabel('사용자(명)')

#x축 눈금 표시 하기
plt.xticks(np.arange(24))

#그래프 출력
plt.show()


# 요일 별 접속 시간 살펴보기 

#피벗테이블 만들기
est_data_pivot_table = pd.pivot_table(access_data, values='user_id',   #values : 열에 들어 가는 부분
                       index=['access_date_time_weekday'], #index : 행에 들어가는 부분
                       columns=['access_date_time_hour'],  
                       aggfunc="count").agg(weeks)  #aggfunc : 데이터 축약시 사용할 함수
est_data_pivot_table


# 히트맵으로 나타내기
#그래프 사이즈 변경
plt.figure(figsize=(14,5))

#pcolor를 이용하여 heatmap 그리기
plt.pcolor(est_data_pivot_table)

#히트맵에서의 x축
plt.xticks(np.arange(0.5, len(est_data_pivot_table.columns), 1), est_data_pivot_table.columns)

#히트맵에서의 y축
plt.yticks(np.arange(0.5, len(est_data_pivot_table.index), 1), est_data_pivot_table.index)

#그래프 명
plt.title('요일별 종료 시간 히트맵')

#그래프 x축 레이블
plt.xlabel('시간')

#그래프 y축 레이블
plt.ylabel('요일')

#plt.colorbar() 명령어를 추가하면 그래프 옆에 숫자별 색상값을 나타내는 컬러바를 보여 줍니다
plt.colorbar()
plt.show()











import pandas as pd
area_data = pd.read_table('data/students_area_detail.csv',sep=',')
area_data.head()


area_data.info()


area_data.describe()


area_data.describe(include='all')








area_data['area'].unique()


# 지역 분류 하기
category_range = set(area_data['area']) # 유니크한 지역정보
print(category_range, len(category_range))





# (1) “접속지역, 해당 지역 위도, 해당 지역 경도” 만으로 이루어진 테이블 만들기
#새로운 테이블을 만들고자 할 땐 기존의 테이블에서 필요한 "열의 이름"을 대괄호에 넣어 변수에 지정해 주면 됩니다
area_info = area_data[['area','latitude','longitude']]

#잘 만들어졌는지 초기 5개의 데이터 확인하기
area_info.head()


# (2) 수많은 중복 정보 삭제 하기 
# step1) 중복되는 테이블의 정보를 삭제 시켜봅시다!
#drop_duplicates()을 이용하면, area(지역) 컬럼의 중복 데이터를 처리 할 수 있습니다. :)

area_info=area_info.drop_duplicates(['area'])
area_info


#.reset_index()를 이용해, 인덱스를 재정렬 할 수 있어요!
area_info= area_info.reset_index()
area_info


# (3) 가공된 테이블인 “지역의 이름”을 기준으로 데이터를 정렬하기!
area_info = area_info.sort_values(by="area", ascending=True)
area_info


# (4) 각 지역별 총 학생수 구하기
number_of_students = pd.DataFrame(area_data.groupby('area')['user_id'].count())
number_of_students


# (5) 지역별 총 학생수를 기존 테이블과 합치기
#merge()를 이용하여, 두 테이블을 병합 할수 있어요 :)!
result = pd.merge(area_info, number_of_students, on="area")
result





# 지역별 수강생 수 라인 그래프 그리기

#그래프 사이즈 변경
plt.figure(figsize=(10,5))

#그래프 x축 y축
plt.plot(result['area'], result['user_id'])

#그래프 명
plt.title('지역별 사용자 수')

#그래프 x축 레이블
plt.xlabel('지역')

#그래프 y축 레이블
plt.ylabel('사용자(명)')

#x축 눈금 수
plt.xticks(np.arange(13))

#그래프 출력
plt.show()


# 필요한 라이브러리 사용 선언하기
import folium
from folium.plugins import MarkerCluster


# (1) 대한민국 위도 경도 설정 하기 (대전광역시 : 36.3398175, 127.3940486)
m = folium.Map(location=[36.3398175, 127.3940486], zoom_start=7) 
m


# (2) 가공한 데이터를 반복문 으로 읽어서 지도에 찍어주기
for n in result.index:
  radius = result.loc[n,'user_id']
	#loc[n,"열 이름"]  => loc[]를 활용하여 n번째의 열을 조회 할수 있습니다!
	#즉, n번(지역)의 user의 수를 가져 올수 있는 것이죠!
  folium.CircleMarker([result['latitude'][n], result['longitude'][n]],
                        radius = radius/50, fill=True).add_to(m)
	#.add_to(m)를 활용하여, 지정해 두었던 우리나라의 지도를 가져올 수 있습니다!
m











#Pandas 사용 선언하기
import pandas as pd

#데이터 불러오기
done_data = pd.read_table('data/done_detail.csv',sep=',')


done_data.head()


done_data.info()


done_data.describe()





# 시간 데이터 전처리
done_data['done_date_time'] = pd.to_datetime(done_data['done_date'], format='mixed')
done_data.tail(5)


# 요일 추가하기
done_data['done_date_time_weekday'] = done_data['done_date_time'].dt.day_name()
done_data.tail(5)


#요일 별 수강완료 수강생 수 전처리 하기
weeks = ['Monday', 'Tuesday', 'Wednesday', 'Thursday', 'Friday', 'Saturday', 'Sunday']
weekdata = done_data.groupby('done_date_time_weekday')['user_id'].count()
weekdata = weekdata.agg(weeks)
weekdata


#요일 별 수강완료 수강생 수 라인 그래프 그리기
#그래프 사이즈
plt.figure(figsize=(10,5))

#그래프 x축 y축
plt.bar(weekdata.index, weekdata.values)

#그래프 명
plt.title('요일별 수강 완료 수강생 수')

#그래프 x축 레이블
plt.xlabel('요일')

#그래프 y축 레이블
plt.ylabel('수강생(명)')

#x축 레이블을 90도로 변환 
plt.xticks(rotation=90)

#그래프 출력
plt.show()




















import pandas as pd
user_data = pd.read_csv('data/user_db.csv')


#표의 상단 5개 데이터 읽기
user_data.head()

#표의 마지막 5개의 정보를 보려면, tail()이라는 것도 이용할 수 있어요! 
user_data.tail()








user_data.describe()


# 결측치 체크
user_data.info()


# 결측치 확인하기
user_data.isnull().sum()


# 결측치 제거하기(주의)
user_data = user_data.dropna() # 빈데이터가 존재하는 행 제거
user_data.info()





#수업 신청 경로 기준 수강생수 
access_media = user_data.groupby('access_media')['user_id'].count()
access_media


# 바그래프 그리기 

#plt.figure(width, height) 
plt.figure(figsize=(6,6))

#각각 어떤 값이 들어가야 하는지 입력해 볼까요?
#plt.bar(X축값, Y축값)
plt.bar(access_media.index , access_media.values)
# plt.bar(access_media.index, access_media.values, color = ['gold', 'b', '#FF0000', 'green','orange','red','#000000'], alpha = 0.3)

#그래프의 제목
plt.title('수강생 별 수강 신청 경로')

#그래프의 x축 라벨 이름
plt.xlabel('수강 신청 경로')

#그래프의 y축 라벨 이름
plt.ylabel('수강생 수')

#x축 눈금의 글씨의 각도 변경을 위해 plt.xticks(rotation="원하는 각도")를 이용해요!
#x축 눈금의 글씨를 45도 회전
plt.xticks(rotation=45)

#그래프를 화면에 나타나도록 합니다.
plt.show()














user_class_data = pd.read_table('data/user_registered_class.csv',sep=',')
user_class_data


user_class_data.info()


user_class_data.describe()








# (1) 각 강의의 신청자 총합 구하기
#각 수업에서 1(수강 신청) 한 사람의 수 세기
sum_of_students_by_class = user_class_data[user_class_data==1].count()
sum_of_students_by_class


# (2) 불필요한 “user_id” 부분  제거하기
#테이블.drop("삭제할 행/열")을 통해 데이터를 삭제 할수 있습니다.
sum_of_students_by_class = sum_of_students_by_class.drop('user_id').drop('web.1')
sum_of_students_by_class





# 바 그래프
#그래프 사이즈 설정
plt.figure(figsize=(10,5))

#각각 어떤 값이 들어가야 하는지 입력해 볼까요?
#plt.bar(X축값, Y축값)
plt.bar(sum_of_students_by_class.index ,sum_of_students_by_class.values)

#그래프 타이틀
plt.title('AI기획강의를 신청한 학생 수강이력')

#x축 레이블
plt.xlabel('강의')

#y축 레이블
plt.ylabel('수강생(명)')

#그래프 보여주기
plt.show()














#수강 데이터 가지고 오기
user_data_app = pd.read_table('data/user_db_app.csv',sep=',')
user_data_ai = pd.read_table('data/user_db_ai.csv',sep=',')


user_data_app.head()


user_data_ai.head()


user_data_app.info()


# 수치형 데이터에 맞춰진 듯
user_data_app.describe(include='all')


user_data_ai.info()


user_data_ai.describe()








print(user_data_app['goal'].unique())
print(user_data_ai['goal'].unique())


#수업 신청 목표 기준으로 수강생 수 집계
app_users_goal = user_data_app.groupby('goal')['user_id'].count()
app_users_goal


#수업 신청 목표 기준으로 수강생 수 합계
ai_users_goal= user_data_ai.groupby('goal')['user_id'].count()
ai_users_goal





#그래프 크기 설정 (인치)
plt.figure(figsize=(8,6))

#x축 y축 설정을 동일하게 해주고, color와, label을 추가 해주시면 됩니다. 참 쉽죠?

#app개발 수강생 관심 분야
plt.plot(app_users_goal.index, app_users_goal.values, color="red", label="app")
#AI기획 수강생 관심 분야
plt.plot(ai_users_goal.index, ai_users_goal.values, color="blue", label="ai")


#각 그래프의 범례는 .legend()을 이용하여 만들어 줍니다! :)
plt.legend()

#그래프 타이틀
plt.title("앱개발과 AI기획 수강생의 관심사")
#x축 레이블
plt.xlabel('수강 목적')
#y축 레이블
plt.ylabel('수강생 수')

#그래프 보여주기
plt.show()











import pandas as pd
import numpy as np
import matplotlib.pyplot as plt





user_data = pd.read_table('data/user_db.csv',sep=',')
user_data


user_data.info()


user_data.describe()








# step 1) 할인을 받아 결제한 사람과, 정가 결제 한 사람의 인원 수 구하기

# user_data['group'] ==1 이라는 조건을 두고 그것이 일치하는 user의 수를 세면 됩니다!
 #할인 혜택 받은 사람의 결제 수 
sum_of_students_by_discounted = user_data[user_data['group']==1]['user_id'].count()
sum_of_students_by_discounted


# 할인 혜택 받지 않은 사람의 결제 수
sum_of_students_by_not_discounted = user_data[user_data['group']==0]['user_id'].count()
sum_of_students_by_not_discounted


# step 2)각 그룹의 결제 전환율 구하기 

#각 결제 인원에서 실제 실험 인원인 12000명을 나누고 각 퍼센테이지 구하기
percent_of_students_by_not_discounted = (sum_of_students_by_not_discounted/12000) *100

percent_of_students_by_discounted = (sum_of_students_by_discounted/12000) *100

print(percent_of_students_by_not_discounted , percent_of_students_by_discounted )





#그래프 사이즈
plt.figure(figsize=(10,5))
#x 그룹 지정하기
x_list =["정가 구입 그룹", "할인 적용 그룹"]
#y 값
#각각 어떤 값이 들어가야 하는지 입력해 볼까요?
y_list = [percent_of_students_by_not_discounted ,percent_of_students_by_discounted]

#x,y값 설정
plt.bar(x_list, y_list)
#그래프 타이틀
plt.title('할인 여부 결제 전환율 비교 분석')
#x축 레이블
plt.xlabel('할인 적용 여부')
#y축 레이블
plt.ylabel('결제 전환율')
#그래프 보여주기
plt.show()











user_data = pd.read_table('data/user_db.csv',sep=',')
user_data








#각 할인별 신청한 수강생 수 구하기
students_discounted = user_data.groupby('discounted')['user_id'].count()
students_discounted





#그래프 사이즈 
plt.figure(figsize=(10,5))
x_list =["1만원 쿠폰 그룹", "2만원 쿠폰 그룹", "3만원 쿠폰 그룹"]
#x,y값 설정
plt.bar(x_list, students_discounted.values)
#그래프 타이틀
plt.title('할인 율 별 수강 신청 자 수')
#x축 레이블
plt.xlabel('할인 적용 범위')
#y축 레이블
plt.ylabel('수업 신청한 수강생')
#그래프 보여주기
plt.show()












import pandas as pd
import matplotlib.pyplot as plt





user_data = pd.read_csv('data/user_data.csv')
user_data.head()


user_data.info()


user_data.describe(include='all')








# 나이대별로 수강률 합 구하기
progress_rate_by_age = user_data.groupby('age')['progress_rate'].sum()
progress_rate_by_age


#나이대별 수강인원 구하기
number_people_by_age = user_data.groupby('age')['_id'].count()
number_people_by_age


#나이대별 완주율 평균 구하기
average = progress_rate_by_age/number_people_by_age
average





plt.bar(average.index, average, width=8)


## plt.figure(width, height) : 넓이와 높이 만큼 이미지를 생성한다는 것을 말해줍니다!
plt.figure(figsize=(6,6))

#그래프의 x축 눈금 설정
plt.xticks([10,20,30,40,50])

#그래프의 바에 각 수치율을 추가 해 볼까요?
bar = plt.bar(average.index, average, width=8)
for rect in bar:
    height = rect.get_height()
    plt.text(rect.get_x() + rect.get_width()/2.0, height, '%.1f' % height, ha='center', va='bottom', size = 12)

#그래프의 제목
#타이틀과 그래프와의 간격은 pad= 수치 로 나타내어요!
plt.title('[나이대 별 평균 수강율]',fontsize=15,pad=20)

#그래프의 x축 라벨 이름
#labelpad 파라미터는 축 레이블의 여백을 지정합니다.
plt.xlabel('나이',fontsize=12,labelpad=20)

#그래프의 y축 라벨 이름
plt.ylabel('수강생(명)',fontsize=14,rotation=360,labelpad=35)

#그래프를 화면에 나타나도록 합니다.
plt.show()














import pandas as pd


user_data = pd.read_csv('data/user_data.csv')
user_data.head()


user_data.info()


user_data.describe(include='all')








# 집중케어 유무로 분류한 각 그룹의 수강생 수 전처리 하기
# managed = ['TRUE','FALSE'] # 데이터 수정하기
# managed


# 관리 여부에 따라, 수강완료율 평균 구하기
managed_data_avg = user_data.groupby('managed')['progress_rate'].sum() / user_data.groupby('managed')['_id'].count()
managed_data_avg


user_data['managed'].value_counts()


mngF = user_data[user_data['managed']==False]
print(mngF['progress_rate'].sum(), mngF['_id'].count())
print(mngF['progress_rate'].sum() / mngF['_id'].count())


mngT = user_data[user_data['managed']==True]
print(mngT['progress_rate'].sum(), mngT['_id'].count())
print(mngT['progress_rate'].sum() / mngT['_id'].count())





#plt.figure(width, height) : 넓이와 높이 만큼 이미지를 생성한다는 것을 말해줍니다!
plt.figure(figsize=(6,6))


#각각 어떤 값이 들어가야 하는지 입력해 볼까요?

#그래프의 바에 각 수치율을 추가 해 볼까요?
bar = plt.bar(managed_data_avg.index, managed_data_avg.values)

for rect in bar:
    height = rect.get_height()
    plt.text(rect.get_x() + rect.get_width()/2.0, height, '%.1f' % height, ha='center', va='bottom', size = 12)

#그래프의 제목
plt.title('집중케어 유무에 따른 평균 완주율',fontsize=14)

#그래프의 x축 라벨 이름
plt.xlabel('집중케어 여부',fontsize=12,labelpad=35)

#x축 눈금 레이블 지정하기
#기존의 0,1이라는 x축 레이블을, labels =["..."]로 변경 가능 합니다 :)
plt.xticks([0,1], labels=["집중케어 비신청자","집중케어 신청자"])

#그래프의 y축 라벨 이름
plt.ylabel('평균 완주율',fontsize=12)

#x축 눈금
plt.xticks()
#y축 눈금
plt.yticks()
#그래프를 화면에 나타나도록 합니다.
plt.show()




















import pandas as pd


cohort_data = pd.read_table('data/cohort_data.csv',sep=',')
cohort_data.head()


cohort_data.info()


cohort_data.describe(include='all')











# 날짜 데이터 타입 확인하기
type(cohort_data['created_at'][0])


# 데이터 타임 객체로 변환하기
# format='%Y-%m-%dT%H:%M:%S.%f'
cohort_data['start_time'] = pd.to_datetime(cohort_data['created_at'], format='mixed')
cohort_data.tail()


type(cohort_data['start_time'][0])


#수강 시작 주(기수) 구하고, 테이블의 열로 추가 하기
cohort_data['start_week(usr_grp)']= cohort_data['start_time'].dt.isocalendar().week
cohort_data.tail()
#  .dt.isocalendar().week ⇒ 날짜를 주(week) 로 변경 할수 있습니다. 


# 처음 수강 시작한 주 범위 확인 하기
#이전에 배웠듯이 set()은 set안의 데이터는 순서가 정해져있지 않고, 중복되지 않는 고유한 요소를 가져옵니다!
category_range = set(cohort_data['start_week(usr_grp)'])
category_range





# 2. 범주화할 데이터 리스트 만들기
progress_rate = list(cohort_data['progress_rate'])
progress_rate[:10]


# 3. 범주를 구분하는 기준 및 라벨(수강 주차(콘텐츠순서)) 만들기
#범주를 구분하는 기준 bins 처음(0)과 끝(100) 잊지 말고 기입 해주세요!
bins = [0, 4.11, 26.03, 41.10, 61.64, 80.82, 100]
#구분한 범주의 라벨 labels
labels=[0,1,2,3,4,5]


# 4. 진도율에 따라 주차(콘텐츠 순서)별로 변경하기
# 범주화 하기 pd.cut
cuts = pd.cut(progress_rate, bins, right=True, include_lowest=True, labels=labels)
cuts


#범주화 결과물을 테이블로 변경하기
cuts = pd.DataFrame(cuts)
cuts.tail()


# 기존 테이블에 현재 수강 주차(순서) 테이블 합치기 
# concat() 함수를 이용하여, cohort_data 테이블과, cuts 테이블 병합 할수 있습니다 :)
cohort_data = pd.concat([cohort_data, cuts],axis=1, join='inner')
cohort_data.head()


# 수강 주차(순서)의 컬럼 이름 변경하기
cohort_data.columns[6]="week(con_no)"
#6번째의 컬럼의 이름만 "weeks" 변경 해주면 되겠죠? 하지만 이렇게 작성하면 오류가 발생 할꺼예요!


#그래서, 귀찮더라도, 우리가 원하는 컬럼의 이름을 다 작성해 줍시다!
cohort_data.columns=['created_at','user_id','name','progress_rate','start_time','start_week(usr_grp)',"week(con_no)"]
cohort_data





# step 1) 수강 시작 주(기수)와, 수강 주차(순서)를 기준으로 테이블 만들기
grouping = cohort_data.groupby(['start_week(usr_grp)',"week(con_no)"])
grouping


pd.Series.nunique?


# step 2) 수강 시작 주와, 수강 주차에 각 해당하는 수강생 수 구하고, 테이블로 변경하기 
cohort_data = grouping['user_id'].apply(pd.Series.nunique)
cohort_data = pd.DataFrame(cohort_data)
cohort_data.head(6)


cohort_data.at?


cohort_data.at[ (31,3) , 'user_id' ]


cohort_data.loc[ (31,3) , 'user_id' ]


# step 3) 수강 주차 별, 수강한 총 인원 구하기
# ⇒ 각 주차별로 머물러 있는 수강생 수는 구했지만,
# 우리에게 필요한 것은 수강 주차별 수강을 '완료'한 총 인원 입니다!  (누적합)

#첫 주가 31주니 변수를 하나 만들어 줍니다!
f = 31

#처음 수강 시작한 주의 범위가 {31,32,33,34,35,36} 이니, range(6)으로 합시다!
for i in range(6):
	#5주차의 강의가 마지막이고, 0주차까지 이니, 시작은 5에서 시작해 1씩 0까지 감소 시킬수 있어요!
  for j in range(5, 0, -1):
    # at함수 : 테이블의 하나의 요소에 접근 할수 있습니다 .
    cohort_data.at[ (f, j-1) , 'user_id'] = int(cohort_data.at[(f,j),'user_id']) +  int(cohort_data.at[(f,j-1),'user_id'])
	#주차는(31부터 32 33..) 1씩 늘어나죠?
  f = f + 1


# step4) cohort_data에 인덱스 설정하기  
cohort_data = cohort_data.reset_index()
cohort_data.head()








# 피벗테이블 만들기
cohort_counts = cohort_data.pivot(index="start_week(usr_grp)",
                                  columns="week(con_no)",
                                  values="user_id")
cohort_counts





# 리텐션 테이블 생성 및 각 데이터에 나눠 줄 수강 시작 주 총 인원 구하기
# 수강 첫 주 총 인원 구하기

# 앞서 만든 피벗 테이블을 retention 변수에 저장하기
retention = cohort_counts

#각 주(week) 별 최초 수강생 수만 가져오기 (나눠줄때, 분모가 되는 부분!)
cohort_sizes = cohort_counts.iloc[:, 0]
cohort_sizes


#  각 데이터에 수강 시작 주의 총 인원 나눠주기
# 표의 단일 데이터에 최초 수강생의 수를 나누어, 각 주당 수강생 수강율 나타내기! 
retention = cohort_counts.divide(cohort_sizes, axis=0)
retention.head()


#각 수치 퍼센트로 변경하기
#round 함수로 3자리 수에서 반올림 한 후, 100을 곱해 줍니다!
retention.round(3)*100





import seaborn as sns
import matplotlib.pyplot as plt
import koreanize_matplotlib


import seaborn as sns
#테이블 크기 설정 하기
plt.figure(figsize=(10,8))

sns.heatmap(data= retention,
           annot=True, #각 cell의 데이터 표기 유무를 나타냅니다!
           fmt='.0%', #values(데이터의 값) 값의 소수점 표기
           vmin=0,# 색범위 최소값 설정
           vmax=1,# 색범위 최댓값 설정
           cmap="BuGn" #히트맵의 색을 설정합니다
						)

plt.xlabel('주차(콘텐츠 순서)', fontsize=14,labelpad=30)

plt.ylabel('개강일(기수)', fontsize=14,labelpad=30)
plt.yticks()

plt.show()














cohort_data = pd.read_table('data/cohort_data.csv',sep=',')

#날짜 데이터 타입 변경
cohort_data['start_time'] = pd.to_datetime(cohort_data['created_at'], format='mixed')

#시작 week 구하기
cohort_data['start_week']= cohort_data['start_time'].dt.isocalendar().week

#시작 주 범위 알기
category_range = set(cohort_data['start_week'])

# 범주화 하기
progress_rate = list(cohort_data['progress_rate'])

#범주를 구분하는 기준 bins
bins = [0,4.11,26.03,41.10,61.64,80.82,100]

#구분한 범주의 라벨 labels
labes=[0,1,2,3,4,5]

#범주화에 사용하는 함수 pd.cut
cuts = pd.cut(progress_rate,bins, right=True,include_lowest=True, labels=labes)
cuts = pd.DataFrame(cuts)

# 표 합치기
cohort_data = pd.concat([cohort_data,cuts],axis=1, join='inner')

#표 인덱스 변경하기
cohort_data.columns=['created_at','user_id','name','progress_rate','start_time','start_week(usr_grp)',"week(con_no)"]

#시작주와, 수강 주차별 기준으로 표 grouping 하기
grouping = cohort_data.groupby(['start_week(usr_grp)',"week(con_no)"])

#시작주와, 수강 주차별에 해당하는 수강생 수 구하기
cohort_data = grouping['user_id'].apply(pd.Series.nunique)
cohort_data = pd.DataFrame(cohort_data)

#각 주차별 수강한 수강생 총 합 구하기
k=31
for i in range(6):
  for j in range(5, 0, -1):
    cohort_data.at[(k,j-1), 'user_id'] = int(cohort_data.at[(k,j),'user_id']) +  int(cohort_data.at[(k,j-1),'user_id'])
  k=k+1
cohort_data = cohort_data.reset_index()
cohort_data.head()


cohort_counts = cohort_data.pivot(index="start_week(usr_grp)",
                                  columns="week(con_no)",
                                  values="user_id")

# 앞서 만든 피벗 테이블을 retention 변수에 저장하기
retention = cohort_counts
#각 주(week) 별 최초 수강생 수만 가져오기
cohort_sizes = cohort_counts.iloc[:,0]


# 최초 수강생 수를 각 데이터에 나눠주기
retention = cohort_counts.divide(cohort_sizes, axis=0)

#각 수치 퍼센트로 변경하기
retention.round(3)*100


# 1) 주차 간 전환율 리텐션 테이블 만들기
#첫 시작주가 31주이죠!
w=31
#36주까지 있으니, for 구문의 range를 6으로 둡시다
for i in range(6):
	#각 시작 주차별 수강 주차는 총 0부터 5까지의 범위가 있죠? 그래서 range(1, 6, 1)로 설정합니다. 1부터 시작하여, 5까지 1씩 커진다는 뜻 입니다!
    for j in range(5, 1, -1):
        retention.at[(w,j)] = retention.at[(w,j)] / retention.at[(w,j-1)]
    w = w+1

retention


# 2) 주차 간 전환율 그래프로 나타내기
plt.figure(figsize=(10,8))

sns.heatmap(data=retention,
           annot=True,
           fmt='.0%',
           vmin=0,
           vmax=1,
           cmap="BuGn")


plt.xlabel('주차(콘텐츠 순서)', fontsize=14,labelpad=30)
plt.title('개강일별 직전주차(콘텐츠) 대비 전환율', fontsize=20)
plt.ylabel('개강일(기수)', fontsize=14,labelpad=30)
plt.yticks()

plt.show()





cohort_counts


# 1) 주차 간 전환율 리텐션 테이블 만들기
#첫 시작주가 31주이죠!
w=31
#36주까지 있으니, for 구문의 range를 6으로 둡시다
for i in range(6):
	#각 시작 주차별 수강 주차는 총 0부터 5까지의 범위가 있죠? 그래서 range(1, 6, 1)로 설정합니다. 1부터 시작하여, 5까지 1씩 커진다는 뜻 입니다!
    for j in range(5, 1, -1):
        retention.at[(w,j)] = cohort_counts.at[(w,j)] / cohort_counts.at[(w,j-1)]
    w = w+1

retention


# 2) 주차 간 전환율 그래프로 나타내기
plt.figure(figsize=(10,8))

sns.heatmap(data=retention,
           annot=True,
           fmt='.0%',
           vmin=0,
           vmax=1,
           cmap="BuGn")


plt.xlabel('주차(콘텐츠 순서)', fontsize=14,labelpad=30)
plt.title('개강일별 직전주차(콘텐츠) 대비 전환율', fontsize=20)
plt.ylabel('개강일(기수)', fontsize=14,labelpad=30)
plt.yticks()

plt.show()
