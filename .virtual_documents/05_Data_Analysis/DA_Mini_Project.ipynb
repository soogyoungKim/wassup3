








import pandas as pd
import numpy as np
import seaborn as sns

user_data = pd.read_csv('data/mini.csv')

user_data.info()
user_data.describe()


user_data.head()


user_data.shape


# 총 10000행과 15열을 가진 데이터다.





user_data.isnull().sum()


user_data[user_data.isna().sum(axis=1) > 0]


# 결측치는 없는 것으로 보인다.





user_data['subscription_type'].unique()


user_data['payment_pattern'].unique()


# 성취도 별 수강생 분포도를 알아보자


# 최근 학습 성취도를 기준으로 데이터프레임 만들기


df = pd.DataFrame(user_data, columns=['recent_learning_achievement','payment_pattern'])
df.head()


# groupby로 집계하기 전에 column 추가 생성하기
# 각 성취도가 포함된 범위값을 column(percent)으로 추가하여 구한다.


df['percent'] = 0 


def find_group(recent_learning_achievement):
    groups = [ 60, 70, 80, 90, 100]
    for i in range(len(groups)):
        if recent_learning_achievement < groups[i]:
            if i == 0:
                return 0
            
            return groups[i-1]


df['percent'] = [find_group(e) for e in df.recent_learning_achievement]


df.groupby('percent').count()


df[['percent', 'payment_pattern']].groupby('percent').count().sort_values('payment_pattern')


# 가장 분포도가 많은 성취율은 70%이며, 90%이상 학습한 유저는 9,942명 중에서 592명으로 약 17%를 차지한다.


user_data['achievement_bins_10'] = pd.cut(user_data['recent_learning_achievement'], bins=range(0, 110, 10))


import matplotlib.pyplot as plt
import seaborn as sns


# 결제 패턴별로 조회하기 위해 10 단위로 성취도 범위 다시 나누기


bins = range(0, 110, 10)
labels = [f'{i}-{i+9}' for i in bins[:-1]]


# 'achievement_range'라는 새로운 열 생성하기


user_data['achievement_range'] = pd.cut(user_data['recent_learning_achievement'], bins=bins, labels=labels, right=False)


# 'achievement_range'와 'payment_pattern'으로 그룹화하여 개수 세기


import warnings
warnings.filterwarnings(action='ignore')

user_achievement_payment_distribution = user_data.groupby(['achievement_range', 'payment_pattern']).size().unstack(fill_value=0)
user_achievement_payment_distribution


# 이번에는 성취도를 상위, 중간, 하위 그룹으로 나누어 결제 패턴을 확인해보고자 한다.


user_data['achievement_group'] = pd.qcut(user_data['recent_learning_achievement'], q=3, labels=['Low', 'Medium', 'High'])


payment_pattern_distribution = user_data.groupby(['achievement_group', 'payment_pattern']).size().unstack().fillna(0)
payment_pattern_distribution


# 성취도와 결제 패턴의 상관관계 알아보기


corr_user_data = user_data[['recent_learning_achievement', 'payment_pattern']].corr()
corr_user_data


# 상관계수가 거의 0에 가깝다.. 선형 관계가 없는 것 같다 ..


payment_corr, payment_pvalue = pearsonr(data['recent_learning_achievement'], data['payment_pattern'])
subscription_corr, subscription_pvalue = pearsonr(data['recent_learning_achievement'], data['subscription_type_numeric'])

print(f"Correlation between recent learning achievement and payment pattern: {payment_corr} (p-value: {payment_pvalue})")
print(f"Correlation between recent learning achievement and subscription type: {subscription_corr} (p-value: {subscription_pvalue})")


# Chi-square 테스트? (이건 chat-gpt 선생님의 도움을 받았다)


import scipy.stats as stats
chi2, p, dof, ex = stats.chi2_contingency(payment_pattern_distribution)
print(f"Chi-square test statistic: {chi2}")
print(f"p-value: {p}")


if p < 0.05:
    print("결제 패턴에 성과 그룹 간에 유의한 차이가 있습니다.")
else:
    print("결제 패턴에 성과 그룹 간에 유의한 차이가 없습니다.")


# 이름부터 심상치 않은 카이제곱 검증... 두 범주형 변수에 대한 분석 방법이란다. 어쨋든 앞서 내가 확인한 것과 크게 다르지 않는 것으로...


# 추가로 각 그룹별 선호하는 난이도를 알아보자


difficulty_distribution = user_data.groupby(['achievement_range', 'preferred_difficulty_level']).size().unstack(fill_value=0)
difficulty_distribution





user_achievement_payment_distribution.plot(kind='bar', stacked=True, figsize=(12, 8))
plt.title('Distribution of Payment Patterns Across Recent Learning Achievement Ranges')
plt.xlabel('Recent Learning Achievement Range')
plt.ylabel('Count')
plt.legend(title='Payment Pattern', bbox_to_anchor=(1.05, 1), loc='upper left')
plt.xticks(rotation=45)
plt.tight_layout()

plt.show()


plt.figure(figsize=(12, 8))
for column in user_achievement_payment_distribution.columns:
    plt.plot(user_achievement_payment_distribution.index, user_achievement_payment_distribution[column], marker='o', label=f'Payment Pattern {column}')

plt.title('Distribution of Payment Patterns Across Recent Learning Achievement Ranges')
plt.xlabel('Recent Learning Achievement Range')
plt.ylabel('Count')
plt.legend(title='Payment Pattern', bbox_to_anchor=(1.05, 1), loc='upper left')
plt.xticks(rotation=45)
plt.grid(True)
plt.tight_layout()

plt.show()



difficulty_distribution.plot(kind='bar', stacked=True, figsize=(12, 8))
plt.title('Preferred Difficulty Level Distribution by Recent Learning Achievement Range')
plt.xlabel('Recent Learning Achievement Range')
plt.ylabel('Count')
plt.legend(title='Preferred Difficulty Level', bbox_to_anchor=(1.05, 1), loc='upper left')
plt.xticks(rotation=45)
plt.tight_layout()


# 3개월 이상 결제한 유저의 최근 학습 성취도는 70% 이상이 제일 많았다. 따라서 70% 이상 학습한 유저들의 재구독이 높을 것으로 보인다.
# 전반적으로 선호하는 난이도가 'low'인것을 보아, 수강룰 70% 이상 달성시 새로운 강의(쉬운 난이도)를 할인받아 결제할 수 있는 프로모션을 진행하면 어떨끼?











# 월(30일) 데이터에서 7일 단위로 범위를 나누기


bins = range(0, 29, 7)  # 간단하게 보기 위해 임의로 월 일수를 28일로 설정
labels = [f'Week {i//7 + 1}' for i in bins[:-1]]


# 'week_range'라는 새로운 열(주) 생성하기


user_data['week_range'] = pd.cut(user_data['monthly_active_learning_days'], bins=bins, labels=labels, right=False)


# 주 4회 이상 학습한 유저와 그렇지 않은 유저를 구분하는 새로운 열 생성


user_data['active_weekly'] = user_data['monthly_active_learning_days'] >= 16  # 주 4회 학습은 월 16회 이상 학습


# 유저 그룹 생성하기


active_users = user_data[user_data['active_weekly']]
inactive_users = user_data[~user_data['active_weekly']]


# 그룹별 결제 비율은?


active_repayment_rate = (active_users['payment_pattern'] > 0).mean()
inactive_repayment_rate = (inactive_users['payment_pattern'] > 0).mean()


print(f"주 4회 이상 학습한 사용자의 결제 비율: {active_repayment_rate:.2%}")
print(f"주 4회 이하 학습한 사용자의 결제 비율: {inactive_repayment_rate:.2%}")


# 그룹별 구독 유형은 어떻게 될까?


active_subscription_distribution = active_users['subscription_type'].value_counts(normalize=True)
inactive_subscription_distribution = inactive_users['subscription_type'].value_counts(normalize=True)


print("주 4회 이상 학습한 사용자의 subscription_type 분포:")
print(active_subscription_distribution)
print("\n주 4회 이하 학습한 사용자의 subscription_type 분포:")
print(inactive_subscription_distribution)


# 상관관계를 알아보자


corr_user_data_day = user_data[['active_weekly', 'payment_pattern',]].corr()
print(corr_user_data_day)


# 역시나 학습 일수도.. 상관관계가 약하다.





categories = ['Active (>= 4 times/week)', 'Inactive (< 4 times/week)']
rates = [active_repayment_rate, inactive_repayment_rate]

plt.figure(figsize=(8, 6))
plt.bar(categories, rates, color=['blue', 'orange'])
plt.ylabel('Payment Rate')
plt.title('Payment Rate by Activity Level')
plt.ylim(0, 1)
plt.show()


fig, axes = plt.subplots(1, 2, figsize=(14, 6), sharey=True)

active_subscription_distribution.plot(kind='bar', ax=axes[0], color='blue', alpha=0.7)
axes[0].set_title('Active Users (>= 4 times/week)')
axes[0].set_xlabel('Subscription Type')
axes[0].set_ylabel('Proportion')

inactive_subscription_distribution.plot(kind='bar', ax=axes[1], color='orange', alpha=0.7)
axes[1].set_title('Inactive Users (< 4 times/week)')
axes[1].set_xlabel('Subscription Type')

plt.suptitle('Subscription Type Distribution by Activity Level')
plt.show()


# 학습 일수는 크게 영향을 끼치지 않나보다 .. 
# 유저 전반적으로 'Basic'을 구독하는 경향이 있는데, 신규 유저를 대상으로 'Basic' 3개월 결제시 'Premium'을 1개월 체험할 수 있는 프로모션을 진행하면 어떨까?











# 3개월 이상 결제한 유저 그룹과 그렇지 않은 유저 그룹으로 구분하기


payment_7_users = user_data[user_data['payment_pattern'] == 7]
other_users = user_data[user_data['payment_pattern'] != 7]


# 각 그룹에서 재결제 가능성의 비율 계산 (target)


payment_7_repayment_rate = payment_7_users['target'].mean()
other_repayment_rate = other_users['target'].mean()


print(f"'payment_pattern'이 7인 유저의 재결제 가능성: {payment_7_repayment_rate:.2%}")
print(f"'payment_pattern'이 7이 아닌 유저의 재결제 가능성: {other_repayment_rate:.2%}")


# 결제 패턴별 유저의 접속 시간과 학습 일수의 평균은 어떻게 될까?


payment_pattern_stats = user_data.groupby('payment_pattern')[['monthly_active_learning_days', 'average_login_time']].mean()
payment_pattern_stats.reset_index(inplace=True)
payment_pattern_stats





categories = ['Payment Pattern 7', 'Other Payment Patterns']
rates = [payment_7_repayment_rate, other_repayment_rate]

plt.figure(figsize=(8, 6))
plt.bar(categories, rates, color=['blue', 'orange'])
plt.ylabel('payment Rate')
plt.title('Payment Rate by Payment Pattern')
plt.ylim(0, 1)
plt.show()


# 결제 패턴과는 크게 상관이 없나보다 ...











# 커뮤니티 고유값 일아보가


user_data['community_engagement_level'].unique


user_data['community_engagement_level'].value_counts()


# 각 커뮤니티 참여도에 따라 그룹을 생성하고 결제율을 target을 사용하여 계산하기


purchase_rate = user_data.groupby('community_engagement_level')['target'].mean()
purchase_rate


# chat-gpt 선생님의 도움을 받아 테스트 및 검증하기


anova_result = stats.f_oneway(
    *[group['target'].values for name, group in user_data.groupby('community_engagement_level')]
)
print(f"ANOVA test statistic: {anova_result.statistic}")
print(f"p-value: {anova_result.pvalue}")

if anova_result.pvalue < 0.05:
    print("커뮤니티 참여도 그룹 간에 재결제율 차이가 유의합니다.")
else:
    print("커뮤니티 참여도 그룹 간에 재결제율 차이가 유의하지 않습니다.")





plt.figure(figsize=(10, 6))
sns.barplot(x=purchase_rate.index, y=purchase_rate.values)
plt.title('purchase Rate by Community Engagement Level')
plt.xlabel('Community Engagement Level')
plt.ylabel('Purchase Rate')
plt.show()


# 커뮤니티 참여도도 큰 기여를 하지 않나 보다 ...



