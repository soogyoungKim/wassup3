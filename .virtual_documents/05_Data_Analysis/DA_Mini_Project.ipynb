


import pandas as pd
user_data = pd.read_csv('data/mini.csv')


user_data.head()
