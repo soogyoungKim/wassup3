


a = 123


a


a = -178
a


a = 0
a


a = 1.2
a


a = 0x8ff
b = 0xABC
a, b


a = 3
b = 4
a + b





a ** b





7 % 3


3 % 7





7 // 4


7 / 4





"Hello world"


'Hello world'


"""Hello world"""


'''
Hello world
'''





"python's favorite food is perl"


'"Python is so easy" He said.'


'python\'s favorite food is perl'


"Life is too short \n  you need python"


multiline = "Life is too short \n  you need python"
multiline


print(multiline)


multiline = '''
Life is too short
You need python
'''





head = "Python"
tail = " is Fun!"
head + tail


a = 'Python'
a * 5


print('='*50)


a = 'Life is too short.'
len(a)





a = 'Life is too short, You need python'


len(a)


a[3]


a[13]


a[-1]


a[-7]





a = "Life is too short, You need python"
a[0]+a[1]+a[2]+a[3]


a[0:4]





a[19:34]





a = "20240610Sunny"
date = a[:8]
weather = a[8:]


date


weather





a = 'pithon'
a[1] = 'y'
a


b = a[0]+'y'+a[2:]
b








# 숫자 바로 대입
"I eat %d apples"%3


# 문자열 바로 대입
"I eat %s apples"%'five'


###### 숫자 > 문자 (OK) 문자 > 숫자 (NO)


# 숫자 값을 나타내는 변수로 대입
num = 3
"i eat %d apples"%num


# 2개 이상 값 넣기
num = 10
day = 'three'
"I ate %d apples. I was sick for %s days."%(num, day)


"오늘의 습도는 %d%% 입니다."%70





"%0.2f"%3.14159268


"%0.4f"%3.14159268


y = 3.141592
"{0:0.4f}".format(y)





"I eat {} apples.".format(3)


"I eat {} apples.".format('five')


num = 10
"I eat {} apples".format(num)


# 2개 이상 값 넣기
num = 10
day = 'three'
"I ate {} apples. I was sick for {} days.".format(num, day)


"I ate {0} apples. I was sick for {1} days.".format(num, day)


"I ate {num} apples. I was sick for {day} days.".format(num, day)


> 변수의 이름을 다이렉트로 넣어서


"I ate {num} apples. I was sick for {day} days.".format(num=10, day=3)


"I ate {num} apples. I was sick for {day} days.".format(day=3, num=10)





name = '홍길동'
age = 30
f'나의 이름은 {name}입니다. 나이는 {age}입니다.'


f'나는 내년이면 {age+1}살이 됩니다.'


d = {'name':'홍길동', 'age' : 30}
f'나의 이름은 {d["name"]}입니다. 나이는 {d["age"]}입니다.'





# 문자 개수 세기 count
a = 'hobby'
a.count('b')


# 위치 알려주기 find
a = "python is the best choice"
a.find('b')


a.find('k') # 없는 문자 찾을 시 -1로 표기(이상치) > 오류를 유보시킬 때 사용


# 위치 알려주기 index
a = "Life is too short."
a.index('t')


a.index('k') # 값이 없을 시 오류 발생 > 오류 발생 필수 표기시 사용 > 프로그램의 안정성을 해칠 때, 사용자에게 크리티컬한 이슈(보안 등)를 알릴 때


# 문자열 삽입 join
a = 'abcd'
a


','.join(a)


a = ['a','b','c','d']
':'.join(a)





a = 'hi'
a.upper()


a = 'HI'
a.lower()


# 왼쪽 공백 지우기 Lstrip
a = "     hi     "
a.lstrip()


a.rstrip()


a.strip()





a = 'Life is too short'
a.replace('Life', 'Your leg')





a.split(',')


b = 'a:b:c:d'
b.split(':')





a = 1
a, type(a)


b = 'python'
b, type(b)


c = [1,2,3]
c, type(c)


id(a)


# 복사(참조)
a = [1,2,3] # 리스트는 수정 가능
b = a
id(a), id(b)


a is b


del b


a


a[1]= 4
a


a = [1,2,3]
b = a[:]
id(a), id(b)


a[:]





from copy import copy


a = [1,2,3]
a


b = copy(a) #깊은 복사
id(a), id(b)


b is a #변수 자체를 비교


b == a #값만 비교





a = 'python'
b = 'Life'
a, b


[a, b] = ['python', 'Life']
a, b


a = 3
b = 5

a, b = b, a

a, b





odd = [1, 3, 5, 7, 9]
odd


type(odd)


a = []
b = [1,2,3]
c = ['Life', 'is', 'too', 'short']
d = [1, 2, 'Life', 'is']
e = [3, 4, ['Life', 'is']]

print(a,type(a))
print(b,type(b))
print(c,type(c))
print(d,type(d))
print(e,type(e))


a = list(a)
a, type(a)





a = [1,2,3]
a


a[0]


a[0] + a[2]


a = [1,2,3,['a','b','c']]
a


len(a)


a[3]


a[3][1]


### 삼중 리스트 인덱싱


e = [3, 4, ['a','b',['Life', 'is']]]
e


e[2][2][0]





a = [1,2,3,4,5]
a[2:4]


a[::2]


a[1::2]





a = [1, 2, 3, ['e','f']]
a[2:5]


a[3][:2]


a[2:-1]


a=[1,2,3,4,5]
del a[2:]
a





# 리스트 요소 추가 append
a = [1,2,3]
a


a.append(5)
a


a


# 리스트 정렬 sort
a = [1, 4, 3, 2]
a.sort()
a


a.sort?


a.sort(reverse = True)
a


#리스트 뒤집기 reverse
a = ['a', 'c' , 'b']
a.reverse()
a


# 인덱스 반환 index
a = [1,2,3]
a.index(3)


# 리스트 요소 삽입 insert
a = [1,2,3]
a.insert(0,4)
a


a.insert? #독스트링


# Remove
a = [1,2,3,1,2,3]
a.remove(3)
a


del a[3]


a


#pop
b = [1,2,3]
b.pop()


b


b.pop?


# count
a = [1,2,3,1]
a.count(1)


# extend
a = [1,2,3]
a.extend([4,5])
a


b = [6,7]
a.extend(b)
a


a.extend?





a = 1
a = a + 2
a


a += 3
a


a = [1,2,3]
a += [4,5]
a


a += [9] #리스트는 리스트끼리 연산 가능
a


a += 9
a





t1 = ()
t2 = (1, )
t3 = (1,2,3)
t4 = 1,2,3
t5 = ('a','b',('ab', 'cd'))

print(t1, type(t1))
print(t2, type(t2))
print(t3, type(t3))
print(t4, type(t4))
print(t5, type(t5))


t1, t2


type((1)), type((1, ))


t1 = (1,2, 'a','b')
del t1[0]


t1[0] = 'c'





# 인덱싱
t1 = (1,2, 'a', 'b')
t1[0]


t1 = (1,2, 'a', 'b')
t1[1:]





#튜플 더하기
t1 = (1,2, 'a', 'b')
t2 = (3,4)
t3 = t1 + t2
t3


#튜플 곱하기
t2 = (3,4)
t3 = t2 * 3
t3





len(t1)





dic = {'name': 'pey', 'phone': '010-9999-1234', 'birth': '1118'}
dic


type(dic)


a = {1 : 'hi'}
a, type(a)


a = {'a' : [1,2,3]}
a, type(a)





a = {1: 'a'}
a[2]


a[2] = 'b'
a


a['name'] = 'pay'
a


a[3] = [1,2,3]
a


del a[1]
a





# key 사용해서 value 얻기
grade = {'pey': 10, 'julliet': 99}
grade['pey']


grade['julliet']





a = {[1,2] : 'hi'}





# key 리스트 만들기 > keys

a = {'name': 'pey', 'phone': '010-9999-1234', 'birth': '1118'}
a.keys()


for k in a.keys() :
    print (k)


# Value 리스트 만들기 - values
a = {'name': 'pey', 'phone': '010-9999-1234', 'birth': '1118'}
a.values()


# Key, Value 쌍 얻기 - items
a.items()


# Key: Value 쌍 모두 지우기 - clear
a.clear()
a


# Key로 Value 얻기 - get



a = {'name': 'pey', 'phone': '010-9999-1234', 'birth': '1118'}
a.get('name')


## 해당 key가 딕셔너리 안에 있는지 조사 - in
'name' in a





s1 = set([1,2,3])
s1, type(s1)


# 유니크한 값만 남기기
s2 = set('hello')
s2


l1 = list(s1)
l1


s1[0]





s1 = set([1, 2, 3, 4, 5, 6])
s2 = set([4, 5, 6, 7, 8, 9])


# 교집합 구하기
s1.intersection(s2)


# 합집합 구하기
s1.union(s2)


s1 | s2


# 차집합 구하기
s1 - s2


s1.difference(s2)





# 값 1개 추가하기 - add
s1 = set([1,2,3])
s1


s1.add(4)
s1


# 값 여러개 추가하기 - update
s1.update([4,5,6])
s1


# 특정 값 제거하기 - remove
s1.remove(2)
s1








a = True
b = False


type(a), type(b)


1 == 1


2 > 1


2 < 1





a = [1,2,3,4]
# 조건 반복문 while iterable
while a:
    print(a.pop())


if []:
    print('참')
else :
    print('거짓')





bool?


bool('python')


bool()


bool(' ')


bool(0)


bool(3)


True


True + False


True + True



