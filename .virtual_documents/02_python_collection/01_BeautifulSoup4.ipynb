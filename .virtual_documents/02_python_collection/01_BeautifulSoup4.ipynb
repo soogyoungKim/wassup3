


pip list


pip install bs4


pip install lxml


## parser


from bs4 import BeautifulSoup
import lxml     


html = '''
<div id=prices >
    <table >
        <tr class=bb>
            <th class="bb lm lft">Date
            <th class="rgt bb">Open
            <th class="rgt bb">High
            <th class="rgt bb">Low
            <th class="rgt bb">Close
            <th class="rgt bb rm">Volume
        <tr>
            <td class="lm">Feb 28, 2014
            <td class="rgt">100.71
            <td class="rgt">100.71
            <td class="rgt">100.71
            <td class="rgt">100.71
            <td class="rgt rm">0
     </table>

'''


#lxml의 HTML파서
BeautifulSoup(html, 'lxml')


# 파이썬 표준 html파서
BeautifulSoup(html, 'html.parser') 





pwd


html_file = open('sample/market.html', encoding='utf-8')
html_file


html_src = html_file.read()
html_file.close()


html_src


print(html_src)


# DOM구조로 변환(구문 분석)
soup = BeautifulSoup(html_src, 'lxml')


type(soup)


soup





soup.find?


#객체.매서드('찾을 것')

soup.find('p')


type(soup.find('p'))


# 돔 객체 > result > 태그 객체 > 데이터 타입 객체


soup.find_all('p')


type(soup.find_all('p'))


soup.find('p', id = 'orange')


soup.find_all(class_= 'fruit')





soup.select?


soup.select('p')


soup.select_one('p')


## css 셀렉터 문법
soup.select('#orange') #id속성


soup.select_one('#orange')


soup.select('.price') #.클래스속성


#list = 이터러블하다 = for 문을 돌릴 수 있다


type(soup.select('.price'))


# And 관계
soup.select('p#orange')


# Or 관계 a태그 또는 스토어클래스에 해당하는 모든 요소를 찾아줘
soup.select('a, .store') # , = or 관계


soup.select('.fruit.best')


soup.select('.fruit.best>a') # > = 관계(자식) 공백없이 사용 추천 공백은 자손을 의미함


soup.select('.fruit.best>span>a')


# 태그 객체만 조회할 수 있음 result X


soup.select('.fruit.best a')[0].text


mylist = soup.select('.fruit.best a')[0]


mylist


mylist = soup.select('.fruit.best a')
for tagitem in mylist :
    print(tagitem.text)


tagitem['href'] # 키 조회


mylist = soup.select('.fruit.best a')
for tagitem in mylist :
    print(tagitem['href'])


list = soup.select('.fruit')
for item in list :
    name = item['title']
    price = item.find('span','price').text
    count = item.find('span','count').text
    store = item.find('span','store').text
    url = item.find('a')['href']
    print(name, price, count, store, url)





e = soup.find('p', id='orange')


type(e)


e.name


e.attrs


e.attrs['title']


for item in e.strings:
    print(item)





# 부모 요소
e.parent


# 모든 조상 요소
e.parents


for item in e.parents:
    print(item.name)


# 모든 자손 요소(list)
e.contents


# 모든 자식 요소(eter)
e.children


for item in e.children:
    print(item.name)
