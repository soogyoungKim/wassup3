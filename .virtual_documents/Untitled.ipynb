





#1


print("Hello World")


#2


print("Mary's cosmetics")


#3


print('신씨가 소리질렀다. "도둑이야".')


#4


print('C:\Windows')


#5


print("안녕하세요.\n만나서\t\t반갑습니다.")


# \n : 줄바꿈 
# \t : 탭


#6


print("오늘은", "월요일")


#7


print('naver','kakao','sk','samsung', sep=';')


#8


print('naver','kakao','sk','samsung', sep='/')


#9


print("first","second")


print("first", end=""); print("second")


#10


a = 5/3
a


print(5/3)





#11


삼성전자 = 50000
총평가금액 = 삼성전자 * 10
print(총평가금액)


시가총액 = 29800000000000
현재가 = 50000
PER = 15.79

print(시가총액, 현재가, PER)

print(시가총액, type(시가총액))
print(현재가, type(현재가))
print(PER, type(PER))


#13


s = "hello"
s = s + "!"
t = "print"

print(s, t)


#14


print(2+2*3)


#15


a = "132"
print (type(a))


#16


num_str = 720
type(num_str)


num_str = "720"
num_int = int(num_str)
print(num_int+1, type(num_int))


#17


num = 100
num_str = str(num)
print(str(num), type(str(num)))


#18


a = "15.79"
b = float(a)
b, type(b)


#19


year = "2020"
a = int(year)

print(a+4,a+3,a+2)
print(a-3,a-2,a-1)


#20


a = 48584
총금액 = a * 36
print(총금액)





#21


letters = 'python'
print(letters[0], letters[2])



#22


license_plate = "24가 2210"
a = license_plate[-4:]
a


#23


string = "홀짝홀짝홀짝"
a = string[::2]
a


#24 ***


string = "PYTHON"
a = string[::-1]
a


#25


phone_number = "010-1111-2222"
a = phone_number.delete("-")
a


phone_number = "010-1111-2222"
a = phone_number.replace("-", " ")
a


#26


phone_number = "010-1111-2222"
a = phone_number.replace("-", " ")
b = a.replace(" ", "")
b


#27


url = "http://sharebook.kr"
a = url.split('.')
print(a[-1])


#28


>> lang = 'python'
>> lang[0] = 'P'
>> print(lang)


#29


string = 'abcdfe2a354a32a'
a = string.replace('a', 'A')
a


#30


string = 'abcd'
string.replace('b', 'B')
print(string)


string = 'abcd'
b = string.replace('b', 'B')
b





#31


a = "3"
b = "4"
print(a + b)


#32


print("Hi" * 3)


#33


print('-'*80)


#34


t1 = 'python'
t2 = 'java'

print((t1 + ' ' + t2 + ' ') * 4)


#35


name1 = "김민수" 
age1 = 10
name2 = "이철희"
age2 = 13

f'이름 : {name1} 나이 : {age1} \n 이름 : {name2} 나이 : {age2}'


name1 = "김민수" 
age1 = 10
name2 = "이철희"
age2 = 13
print("이름: %s 나이: %d" % (name1, age1))
print("이름: %s 나이: %d" % (name2, age2))


#36


name1 = "김민수" 
age1 = 10
name2 = "이철희"
age2 = 13

print("이름: {} 나이: {}".format(name1,age1))
print("이름: {} 나이: {}".format(name2,age2))


#37


name1 = "김민수" 
age1 = 10
name2 = "이철희"
age2 = 13

print(f'이름 : {name1} 나이 : {age1}')
print(f'이름 : {name2} 나이 : {age2}')


#38


상장주식수 = "5,969,782,550"
a = 상장주식수.replace(',', '')
b = int(a)
b, type(b)
