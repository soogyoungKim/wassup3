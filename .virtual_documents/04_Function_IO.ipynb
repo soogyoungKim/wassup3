


def add(a,b) :
    return a + b


a = 3
b = 4
add(3,4)


c = add(3,4)
c





# 일반적인 함수
def add(a,b):
    result = a+b
    return result


# 입력갑이 없는 함수
def say():
    return 'Hi'


say()


print?


# 리턴값이 없는 함수
def add(a,b):
    print("%d, %d의 합은 %d입니다." % (a,b,a+b))
add(3,4)


c


c = add(3,4)


c #전역변수? 문자만 입력하는 것이 아니라 함수 입력


#글로벌 영역 vs 로컬 영역

#라벨 지정 > 순서를 바꿀 수 있다


# 매개변수를 지정하여 호출하기
def sub(a,b):
    return a - b


a = sub(3,7)
a


sub(a=7, b=3)


sub(b=3, a=7) #라벨 > 순서 바꿀 수 있음


# 입력값이 몇 개가 될지 모를 때에는 어떻게 해야하느낙=


def add_many(*args): 
    result = 0 
    for i in args: 
        result = result + i   # *args에 입력받은 모든 값을 더한다.
    return result 



add_many(1,3,5,7,9)


def add_many(*args1, *args2): 
    result = 0 
    for i in args: 
        result = i + i   # *args에 입력받은 모든 값을 더한다.
        result = i * i  
    return result 


add(2,3)


add_mul('add' ,1,2,3,4,g)





dict?


def print_kwargs(**kwargs):
    print(kwargs)


print_kwargs(a=1)


def print_kwargs(**kwargs):
    print(kwargs)


print_kwargs(a=1)


print_kwargs(name='foo', age=3)





def add_and_mul(a,b):
    return a+b, a*b


a = add_and_mul(3,4)
a


len(a), type(a)


a, b = add_and_mul(3,4)
a


b


def add_and_mul(a,b):
    return a+b
    return a*b


add_and_mul(3,4)


# return의 또 다른 쓰임새


def say_nick(nick): 
    if nick == "바보": 
        return 
    print("나의 별명은 %s 입니다." % nick)



say_nick('야호')


say_nick('바보')





def say_myself(name, age, man=True): 
    print("나의 이름은 %s 입니다." % name) 
    print("나이는 %d살입니다." % age) 
    if man: 
        print("남자입니다.")
    else: 
        print("여자입니다.")


say_myself('이스트',20)


def say_myself(name, man=True, age): 
    print("나의 이름은 %s 입니다." % name) 
    print("나이는 %d살입니다." % age) 
    if man: 
        print("남자입니다.") 
    else: 
        print("여자입니다.")


# 맨 뒤에 값을 두어야함





a = 1
def vartest(a) :
    a = a + 1
    print(a)


vartest(1)


print(1)


## 함수 안에서 함수 밖의 변수를 변경하는 방법


# return


a = 1 
def vartest(a): 
    a = a +1 
    return a

a = vartest(a) 
print(a)


# 글로벌 명령
a = 1
def vartest() :
    global a
    a = a+1 
vartest()
print(a)








def add(a,d):
    return a+b


add = lambda a, b: a+b
result = add(3,4)
print(result)





# input 사용하기 
a = input()


# 프롬프ㅌ로 사용자 입력받기
a = input('입력하세요')
a


## 파일 읽고 쓰기


f = open('새파일.txt','w')
f.close()


open?


f = open('C:/workspace/wassup3/01_python_grammer/output/새파일.txt', 'w')
f.close()





f = open("C:/workspace/wassup3/01_python_grammer/output/새파일.txt", 'w')
for i in range(1, 11):
    data = "%d번째 줄입니다.\n" % i
    f.write(data)
f.close()


for i in range(1, 11):
    data = "%d번째 줄입니다.\n" % i
    print(data)





# readline 함수
f = open('C:/workspace/wassup3/01_python_grammer/output/새파일.txt', 'r')
line = f.readline()
print(line)
f.close()


f = open("C:/workspace/wassup3/01_python_grammer/output/새파일.txt", 'r')
while True:
    line = f.readline()
    if not line: break
    print(line)
f.close()


# read 함수 사용하기


f = open("C:/workspace/wassup3/01_python_grammer/output/새파일.txt", 'r')
lines = f.readlines()
for line in lines:
    line = line.strip()  # 줄 끝의 줄 바꿈 문자를 제거한다.
    print(line)
f.close()


## 파일 객체를 for문과 함께 사용하기
f = open("C:/workspace/wassup3/01_python_grammer/output/새파일.txt","r")
print(f, type(f))


for line in f:
    print(line)
f.close()





f = open("C:/workspace/wassup3/01_python_grammer/output/새파일.txt",'a') #w쓰면 안됨, 내용 겹침
for i in range(11, 20):
    data = "%d번째 줄입니다.\n" % i
    f.write(data)
f.close()





f = open("foo.txt", 'w')
f.write("Life is too short, you need python")
f.close()


with open("foo.txt", "w") as f:
    f.write("Life is too short, you need python")


# 인코딩



