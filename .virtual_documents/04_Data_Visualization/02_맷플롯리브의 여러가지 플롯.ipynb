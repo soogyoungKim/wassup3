














import matplotlib as mpl
import matplotlib.pylab as plt
import koreanize_matplotlib
import numpy as np


fruits = ['apple', 'blueberry', 'cherry', 'orange']
counts = [40, 100, 30, 55]
plt.bar(fruits, counts)
plt.show()


colors = ['red', 'blue', 'darkred', 'orange']
plt.bar(fruits, counts, color=colors)
plt.show()


# 다중 막대 차트
counts2 = [20, 80, 20, 60]
colors2 = ['tomato', 'cornflowerblue', 'indianred', 'gold']

idx = np.arange(len(counts))

width = 0.4

plt.bar(idx, counts, width, color=colors)
# plt.bar(x=idx, height=counts, width=width, color=colors)
plt.bar(idx + width, counts2, width, color=colors2)

plt.xticks(idx + width / 2, fruits)
plt.show()


# 가로 막대 차트  
# 요인이 많거나 값이 크면 보기 어렵고, 라벨명이 길어도 괜찮음
# 다중 막대 차트
counts2 = [20, 80, 20, 60]
colors2 = ['tomato', 'cornflowerblue', 'indianred', 'gold']

width = 0.4

plt.barh(idx, counts, width, color=colors)
# plt.bar(x=idx, height=counts, width=width, color=colors)

plt.barh(idx + width, counts2, width, color=colors2)

plt.yticks(idx + width / 2, fruits)
plt.show()





np.random.seed(0)

people = ['몽룡', '춘향', '방자', '향단'] # xlabel
x = np.arange(len(people)) # X 

y = 3 + 10 * np.random.rand(len(people)) # y
error = np.random.rand(len(people)) 

plt.title("Bar Chart")
plt.bar(x, y, yerr=error, alpha=0.7) # 변경
plt.xticks(x, people) # 변경

plt.xlabel('x 라벨')
plt.show()


help(plt.barh)


plt.barh?


np.random.seed(0)

people = ['몽룡', '춘향', '방자', '향단'] # xlabel
y = np.arange(len(people)) # X 

x = 3 + 10 * np.random.rand(len(people)) # y
error = np.random.rand(len(people)) 

plt.title("Bar Chart")
plt.barh(y, x, yerr=error, alpha=0.7) # 변경
plt.xticks(y, people) # 변경

plt.xlabel('y 라벨')
plt.show()


# 가로 막대로 바꿔보자.
np.random.seed(0)

people = ['몽룡', '춘향', '방자', '향단']
y_pos = np.arange(len(people)) # x 값

performance = 3 + 10 * np.random.rand(len(people)) # y값
error = np.random.rand(len(people)) # 에러 랜덤 입력

plt.title("Barh Chart")
plt.barh(y_pos, performance, xerr=error, alpha=0.4)

plt.yticks(y_pos, people)
plt.xlabel('x 라벨')
plt.show()








X = np.linspace(0.1, 2*np.pi, 10)
plt.plot(X, np.cos(X))
plt.show()


x = np.linspace(0.1, 2*np.pi, 10)

plt.title("Stem Plot")
plt.stem(x, np.cos(x), '-.')
plt.show()








ratio = [0.25, 0.1, 0.3, 0.35]
grade = ['A', 'B', 'C', 'D']
plt.pie(ratio, labels=grade)
plt.show()


plt.pie(ratio, labels=grade, autopct='%.1f%%')
plt.show()


# 스타일
cmap = plt.get_cmap('tab20c') # theme
colors = cmap(np.arange(len(ratio)) % cmap.N)
# colors = ['blue', 'green', 'cyan', 'orange']

explode = (0.2, 0, 0, 0.1) # 분리시키는 정도
plt.pie(ratio, labels=grade, autopct='%.1f%%', startangle=90, counterclock=False, colors=colors, explode=explode)
plt.show()


labels = ['개구리', '돼지', '개', '통나무']
sizes = [15, 30, 45, 10]
colors = ['yellowgreen', 'gold', 'lightskyblue', 'lightcoral']
explode = (0, 0.1, 0, 0)

plt.title("Pie Chart")
plt.pie(sizes, explode=explode, labels=labels, colors=colors,
        autopct='%1.1f%%', shadow=True, startangle=90)
# plt.axis('equal')
plt.show()





score = [21, 78, 89, 57, 75, 99, 98, 87, 70, 65, 88, 95, 94, 55, 93, 83, 78, 62, 65, 77, 80]


plt.boxplot(score)
plt.show()


# 가로로 그리기
plt.boxplot(score, vert=False)
plt.show()


bp = plt.boxplot(score, vert=False, patch_artist=True
plt.boxplot?


bp = plt.boxplot(score, vert=False, patch_artist=True)
# bp

for box in bp['boxes']:
    box.set(color='blue', linewidth=2, facecolor = 'yellow')

for cap in bp['caps']:
    cap.set(color='red', linewidth=2)

for whisker in bp['whiskers']:
    whisker.set(color='orange', linewidth=2)

for median in bp['medians']:
    median.set(color='cyan', linewidth=2)

for flier in bp['fliers']:
    flier.set(marker='s', markerfacecolor='r', markersize=10, markeredgecolor='r')
    
plt.show()


bp


data1 = np.random.normal(0, 1, 1000)
data2 = np.random.normal(1, 1, 1000)


plt.boxplot([data1, data2])
plt.show()








plt.hist?


np.random.seed(0)
x = np.random.randn(1000)

plt.title("Histogram")
# plt.hist(x, bins=10)
arrays, bins, patches = plt.hist(x, bins=10)
plt.show()


arrays # 밀도


bins


score = [21, 78, 89, 57, 75, 99, 98, 87, 70, 65, 88, 95, 94, 55, 93, 83, 78, 62, 65, 77, 80]
plt.hist(score)
plt.show()


# bins 수 설정
plt.hist(score, bins=5)
plt.show()


# 누적 히스토그램
plt.hist(score, cumulative=True)
plt.show()


# 모양 바꾸기
plt.hist(score, histtype='step')
plt.show()


# 다양한 스타일
data1 = np.random.normal(0, 1, 1000)
data2 = np.random.normal(1, 1, 1000)

# bar, barstacked, step, step filld
fig, axs = plt.subplots(2, 2, figsize=(10, 5))

axs[0,0].hist([data1, data2] , bins=30, color=['red', 'blue'], histtype='bar'  )
axs[0,0].set_title('Bar')

axs[0,1].hist([data1, data2] , bins=30, color=['red', 'blue'], histtype='barstacked'  )
axs[0,1].set_title('Bar Stacked')

axs[1,0].hist([data1, data2] , bins=30, color=['red', 'blue'], histtype='step'  )
axs[1,0].set_title('Step')

axs[1,1].hist([data1, data2] , bins=30, color=['red', 'blue'], histtype='stepfilled'  )
axs[1,1].set_title('Step Filld')

fig.subplots_adjust(hspace=0.5) # 서브플롯 간격 띄우기

plt.show()








data1 = np.random.normal(0, 1, 1000)
data2 = np.random.normal(1, 1, 1000)


plt.scatter(data1, data2)
plt.show()


size = 50
colors = np.random.rand(1000)
plt.scatter(data1, data2, s=size, c=colors, alpha=0.7)
plt.show()


data3 = np.random.normal(1, 50, 1000)
plt.scatter(data1, data2, s=data3, c=data3, alpha=0.6, cmap='hsv')
plt.show()





N = 30
np.random.seed(0)

x = np.random.rand(N)
y = np.random.rand(N)
color = np.random.rand(N)
size = np.pi * (15 * np.random.rand(N))**2 # 볼륨의미하는 데이터, 원 넓이, pi*r^2

plt.title("Bubble Chart")
plt.scatter(x, y, s=size, c=color) # 색에 랜덤값 입력
plt.show()








# 히트맵
data_con = [[3, 4, 5], [4, 5, 3], [3, 4, 3]]
# plt.imshow(data_con)
plt.imshow(data_con, cmap='autumn')
plt.colorbar()
plt.show()


from sklearn.datasets import load_digits
digits = load_digits()
X = digits.images[0]
X


plt.title("mnist digits; 0")
plt.imshow(X, interpolation='nearest')

# plt.subplots_adjust(left=0.35, right=0.65, bottom=0.35, top=0.65)
plt.show()


plt.title("mnist digits; 0")
plt.imshow(X, interpolation='nearest', cmap=plt.cm.bone_r)

plt.xticks([]) # ticks 숨기기
plt.yticks([])
# plt.axis('off')

# plt.subplots_adjust(left=0.35, right=0.65, bottom=0.35, top=0.65)
plt.show()





dir(plt.cm)[:10]


fig, axes = plt.subplots(1, 4, figsize=(12, 3), subplot_kw={'xticks': [], 'yticks': []})

axes[0].set_title("plt.cm.Blues")
axes[0].imshow(X, interpolation='nearest', cmap=plt.cm.Blues)

axes[1].set_title("plt.cm.Blues_r")
axes[1].imshow(X, interpolation='nearest', cmap=plt.cm.Blues_r)

axes[2].set_title("plt.BrBG")
axes[2].imshow(X, interpolation='nearest', cmap='BrBG')

axes[3].set_title("plt.BrBG_r")
axes[3].imshow(X, interpolation='nearest', cmap='BrBG_r')
plt.show()





methods = [
    None, 'none', 'nearest', 'bilinear', 'bicubic', 'spline16',
    'spline36', 'hanning', 'hamming', 'hermite', 'kaiser', 'quadric',
    'catrom', 'gaussian', 'bessel', 'mitchell', 'sinc', 'lanczos'
]

fig, axes = plt.subplots(3, 6, figsize=(12, 6), subplot_kw={'xticks': [], 'yticks': []})


for ax, interp_method in zip(axes.flat, methods):
    ax.imshow(X, cmap=plt.cm.bone_r, interpolation=interp_method)
    ax.set_title(interp_method)
    
    
plt.show()


# axes.flat : 배열에 대한 1차원 반복기
# 배열에 대한 이터레이터이기 때문에 3X2축 배열의 모든 축을 반복할 수 있다.
# 아래처럼 고차원 배열의 값을 뽑으려면 고차원의 포문으로 뽑아야 함.

import numpy as np

a = np.array([[2,3],
              [4,5],
              [6,7]])

for i in a.flat:
    print(i)


a.flat


a.ravel()


for i in a.ravel():
    print(i)








def f(x, y): # z값 계산 합수
    return (1 - (x/2) + (x**5) + (y**3)) * np.exp(-x**2 - y**2)

n = 256
x = np.linspace(-3, 3, n)
y = np.linspace(-3, 3, n)

XX, YY = np.meshgrid(x, y) # 그리드 포인트 행렬값으로 변환
ZZ = f(XX, YY) # z값 계산

plt.title("Contour plots")
plt.contourf(XX, YY, ZZ, alpha=.75, cmap='jet') # 색깔로 표시
plt.contour(XX, YY, ZZ, colors='black') # 등고선만 표시
plt.show()





# matplotlib 3.2.0부터 axes3d를 명시적으로 임포트 하지 않아도 됨
# from mpl_toolkits.mplot3d import Axes3D
X = np.arange(-4, 4, 0.25)
Y = np.arange(-4, 4, 0.25)
XX, YY = np.meshgrid(X, Y)
ZZ = np.sin(np.sqrt(XX**2 + YY**2))


fig = plt.figure()
# ax = Axes3D(fig)
ax = fig.add_subplot(111, projection='3d')
ax.set_title("3D Surface Plot")

ax.plot_surface(XX, YY, ZZ, rstride=3, cstride=2, cmap='hot')
plt.show()


# from mpl_toolkits.mplot3d import axes3d
# import matplotlib.pyplot as plt
# import numpy as np

fig, ax = plt.subplots(subplot_kw={"projection": "3d"})
#fig = plt.figure()
#ax = fig.add_subplot(111, projection='3d')

x = np.linspace(-10, 10, 11)
X = np.tile(x, (11, 1))
Y = np.transpose(X)
Z = np.random.rand(11, 11)

ax.plot_surface(X, Y, Z)
ax.set_zlim(-10, 10)

plt.tight_layout()
plt.show()


# 축 는금 지정하기
#  세 개의 2차원 어레이를 3차원 Surface로 표현했습니다.

fig = plt.figure()
ax = fig.add_subplot(111, projection='3d')

x = np.linspace(-10, 10, 11)
X = np.tile(x, (11, 1))
Y = np.transpose(X)
Z = np.random.rand(11, 11)
Z2 = 1.5 * np.random.rand(11, 11) + 2
Z3 = np.random.rand(11, 11) - 2

ax.plot_surface(X, Y, Z)
ax.plot_surface(X, Y, Z2)
ax.plot_surface(X, Y, Z3)
ax.set_zlim(-10, 10)

# set_xticks(), set_yticks(), set_zticks()는 X, Y, Z축의 눈금의 위치를 지정합니다.
ax.set_xticks([-10, -5, 0, 5, 10])
ax.set_yticks([-10, -5, 0, 5, 10])
ax.set_zticks([-10, -5, 0, 5, 10])

plt.tight_layout()
plt.show()


# 컬러맵, 컬러바 사용하기

fig = plt.figure()
ax = fig.add_subplot(111, projection='3d')

x = np.linspace(-10, 10, 11)
X = np.tile(x, (11, 1))
Y = np.transpose(X)
Z = 2 * np.random.rand(11, 11) - 1

surf = ax.plot_surface(X, Y, Z, cmap='viridis') # plot_surface() 함수의 cmap은 3차원 Surface의 컬러맵을 지정합니다.

ax.set_zlim(-5, 5)
ax.set_xticks([-10, -5, 0, 5, 10])
ax.set_yticks([-10, -5, 0, 5, 10])
ax.set_zticks([-5, 0, 5])

fig.colorbar(surf, shrink=0.6, aspect=8) # colorbar()를 호출하면 그래프에 컬러바를 표시합니다.
# shrink는 컬러바의 크기, aspect는 컬러바의 종횡비를 지정합니다.

surf.set_clim(-1.0, 1.0)
plt.tight_layout()
plt.show()
