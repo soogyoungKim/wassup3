# # 시각화 한글 표시
# !sudo apt-get install -y fonts-nanum
# !sudo fc-cache -fv
# !rm ~/.cache/matplotlib -rf


# import matplotlib.pyplot as plt
# plt.rc('font', family='NanumBarunGothic')


import pandas as pd
import numpy as np
import matplotlib.pyplot as plt
import seaborn as sns


# 한글 및 특정 문자 깨짐 문제 해결
import koreanize_matplotlib # 시본의 한글 깨짐은 해결못하지만, - 깨짐 해결

from matplotlib import font_manager, rc # 폰트 세팅을 위한 모듈 추가
font_path = "C:/Windows/Fonts/malgun.ttf" # 사용할 폰트명 경로 삽입
font = font_manager.FontProperties(fname = font_path).get_name()
rc('font', family = font)


# 주의 메시지 숨기기
import warnings
warnings.filterwarnings("ignore")


df = pd.read_csv('data/trade_apt_api_2023_address.txt', sep='\t')
df['거래금액'] = df['거래금액'].str.replace(',', '').str.replace(' ', '').astype(int)
df.head()


df.describe()


df.info()





data1 = df['거래금액']
data2 = df['층']
data3 = df['전용면적']
data4 = df['건축년도']


data1.values


fig, axs = plt.subplots(2, 2, figsize=(10, 5))
axs[0,0].hist(data1.values, bins=10)
axs[0,0].set_title('거래금액')

axs[0,1].hist(data2.values, bins=10)
axs[0,1].set_title('층')

axs[1,0].hist(data3.values, bins=10)
axs[1,0].set_title('전용면적')

axs[1,1].hist(data4.values, bins=10)
axs[1,1].set_title('건축년도')

fig.subplots_adjust(hspace=0.5)
plt.show()





df_sum = df.groupby('지역명')['거래금액'].sum()
df_sum


plt.pie(df_sum.values, labels = df_sum.index, autopct='%.1f%%', startangle=90, counterclock=False)
plt.show()


df_mean = df.groupby('지역명')['거래금액'].mean()
df_mean


plt.pie(df_mean.values, labels = df_mean.index, autopct='%.1f%%', startangle=90, counterclock=False)
plt.show()





plt.boxplot([data1, data2, data3, data4])
plt.xticks(np.arange(1, 5), labels=['거래금액', '층', '전용면적', '건축년도'])

plt.show()


fig, axs = plt.subplots(2, 2, figsize=(10, 5))

axs[0,0].boxplot(data1.values)
axs[0,0].set_title('거래금액')

axs[0,1].boxplot(data2.values)
axs[0,1].set_title('층')

axs[1,0].boxplot(data3.values)
axs[1,0].set_title('전용면적')

axs[1,1].boxplot(data4.values)
axs[1,1].set_title('건축년도')

fig.subplots_adjust(hspace=0.5)
plt.show()





df_mean = df.groupby('법정동')['거래금액'].mean().sort_values(ascending=True)
plt.figure(figsize=(5, 8))
plt.barh(df_mean.index, df_mean.values)
plt.show()


bars = plt.barh(df_mean.index, df_mean.values)

for bar in bars:
    width = bar.get_width()
    plt.text(width+5000,
             bar.get_y() + bar.get_height()/2,
             f'{width:,.0f}',
             ha='left',
             va='center')
plt.show()





# from matplotlib import font_manager, rc # 폰트 세팅을 위한 모듈 추가
# font_path = "C:/Windows/Fonts/malgun.ttf" # 사용할 폰트명 경로 삽입
# font = font_manager.FontProperties(fname = font_path).get_name()
# rc('font', family = font)


# sns.set_theme(style="ticks") # 테마 적용하면 한글적용이 풀림

df_num = df[['거래금액', '층', '전용면적', '건축년도']]
sns.pairplot(df_num)
plt.show()





corr = df_num.corr()
sns.heatmap(corr, annot=True, fmt=".1%", cmap='YlOrBr')
plt.show()
