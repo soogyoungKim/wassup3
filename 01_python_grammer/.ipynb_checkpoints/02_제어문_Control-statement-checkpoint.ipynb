{
 "cells": [
  {
   "cell_type": "markdown",
   "id": "1b1c6ccc-3c5f-4a13-986e-78937774a4c9",
   "metadata": {},
   "source": [
    "# if 분기문"
   ]
  },
  {
   "cell_type": "code",
   "execution_count": 5,
   "id": "4837fa5e-0fc6-4f94-a28b-9706678cd031",
   "metadata": {},
   "outputs": [
    {
     "name": "stdout",
     "output_type": "stream",
     "text": [
      "택시를 타고 가라\n"
     ]
    }
   ],
   "source": [
    "# 돈이 있으면 택시를 타고, 없으면 걸어간다\n",
    "\n",
    "money = True\n",
    "if money:\n",
    "    print(\"택시를 타고 가라\")\n",
    "else:\n",
    "    print(\"걸어 가라\")"
   ]
  },
  {
   "cell_type": "code",
   "execution_count": 6,
   "id": "b14b7dac-a1aa-465d-a010-1ab02527deba",
   "metadata": {},
   "outputs": [],
   "source": [
    "# 단락 간격 주의"
   ]
  },
  {
   "cell_type": "code",
   "execution_count": null,
   "id": "d5916018-0d48-45f1-a5e1-33392a766ed8",
   "metadata": {},
   "outputs": [],
   "source": [
    "# : > 코드 명령의 시작"
   ]
  },
  {
   "cell_type": "markdown",
   "id": "61b10d56-3523-4232-acd4-d620c40abec2",
   "metadata": {},
   "source": [
    "## 조건문이란 무엇인가?\n",
    "\n",
    "참과 거짓을 판단하는 문장"
   ]
  },
  {
   "cell_type": "code",
   "execution_count": 7,
   "id": "ca240d0a-57e9-4520-849a-ab443bd54e36",
   "metadata": {},
   "outputs": [
    {
     "data": {
      "text/plain": [
       "True"
      ]
     },
     "execution_count": 7,
     "metadata": {},
     "output_type": "execute_result"
    }
   ],
   "source": [
    "# 비교 연산자\n",
    "x = 3\n",
    "y = 2\n",
    "x > y"
   ]
  },
  {
   "cell_type": "code",
   "execution_count": 9,
   "id": "62a167d5-0ce2-4028-863b-e48837fd6eeb",
   "metadata": {},
   "outputs": [
    {
     "name": "stdout",
     "output_type": "stream",
     "text": [
      "걸어 가라\n"
     ]
    }
   ],
   "source": [
    "# 만약 3000원 이상의 돈이 있으면 택시를 타고, 없으면 걸어가라\n",
    "\n",
    "money = 2000\n",
    "if money >= 3000 :\n",
    "    print(\"택시를 타고 가라\")\n",
    "else:\n",
    "    print(\"걸어 가라\")"
   ]
  },
  {
   "cell_type": "markdown",
   "id": "a7743f13-0523-455c-8c64-3d7839468300",
   "metadata": {},
   "source": [
    "## and, or, not"
   ]
  },
  {
   "cell_type": "code",
   "execution_count": null,
   "id": "580d1619-ad74-4c4e-8a5a-3fd1ba016043",
   "metadata": {},
   "outputs": [],
   "source": [
    "# 3000원 이상의 돈이 있거나 카드가 있다면 택시를 타고, 없으면 걸어가라"
   ]
  },
  {
   "cell_type": "code",
   "execution_count": 13,
   "id": "da9e98ce-43f9-4517-ba35-d1edd2e4875e",
   "metadata": {},
   "outputs": [
    {
     "name": "stdout",
     "output_type": "stream",
     "text": [
      "택시를 타고 가라\n"
     ]
    }
   ],
   "source": [
    "money = 2000\n",
    "card = True\n",
    "if money >= 3000 or card :\n",
    "    print(\"택시를 타고 가라\")\n",
    "else:\n",
    "    print(\"걸어 가라\")"
   ]
  },
  {
   "cell_type": "markdown",
   "id": "86e66094-e1d1-4653-a48d-f6f19825df6f",
   "metadata": {},
   "source": [
    "## not, not in"
   ]
  },
  {
   "cell_type": "code",
   "execution_count": 17,
   "id": "32d96eec-f610-4084-b03b-923b91b2bd45",
   "metadata": {},
   "outputs": [
    {
     "data": {
      "text/plain": [
       "True"
      ]
     },
     "execution_count": 17,
     "metadata": {},
     "output_type": "execute_result"
    }
   ],
   "source": [
    "1 in [1, 2, 3]"
   ]
  },
  {
   "cell_type": "code",
   "execution_count": 18,
   "id": "e9b51671-116d-45e7-acd6-225b6cf92c30",
   "metadata": {},
   "outputs": [
    {
     "data": {
      "text/plain": [
       "False"
      ]
     },
     "execution_count": 18,
     "metadata": {},
     "output_type": "execute_result"
    }
   ],
   "source": [
    "1 not in [1, 2, 3]"
   ]
  },
  {
   "cell_type": "code",
   "execution_count": null,
   "id": "107deb5f-bb7b-49cd-8116-92a886b78357",
   "metadata": {},
   "outputs": [],
   "source": [
    "# 만약 주머니에 돈이 있으면 택시를 타고 가고, 없으면 걸어가라."
   ]
  },
  {
   "cell_type": "code",
   "execution_count": 19,
   "id": "02e77238-5e46-49d4-9319-d21bbf72aba2",
   "metadata": {},
   "outputs": [
    {
     "name": "stdout",
     "output_type": "stream",
     "text": [
      "택시를 타고 가라\n"
     ]
    }
   ],
   "source": [
    "pocket = ['paper', 'cellphone', 'money']\n",
    "if 'money' in pocket:\n",
    "    print(\"택시를 타고 가라\")\n",
    "else:\n",
    "    print(\"걸어가라\")"
   ]
  },
  {
   "cell_type": "markdown",
   "id": "f981c6cc-8c74-4d0b-818f-783fd834722d",
   "metadata": {},
   "source": [
    "## 조건문에서 아무 일도 하지 않도록 설정하려면?\n",
    "\n",
    "주머니에 돈이 있으면 가만히 있고, 없으면 카드를 꺼내라"
   ]
  },
  {
   "cell_type": "code",
   "execution_count": 22,
   "id": "83451707-2b1a-493b-b64c-2541ccde95a1",
   "metadata": {},
   "outputs": [],
   "source": [
    "pocket = ['paper', 'money', 'cellphone']\n",
    "if 'money' in pocket:\n",
    "    pass \n",
    "else:\n",
    "    print(\"카드를 꺼내라\")"
   ]
  },
  {
   "cell_type": "markdown",
   "id": "801a0c5b-3736-4379-8eb7-de9541c017d0",
   "metadata": {},
   "source": [
    "## 다양한 조건을 판단하는  elif"
   ]
  },
  {
   "cell_type": "code",
   "execution_count": null,
   "id": "6032d3c2-ebf8-48d4-90f2-3246a6b22e16",
   "metadata": {},
   "outputs": [],
   "source": [
    "#주머니에 돈이 있으면 택시를 타고 가고, 주머니에 돈은 없지만 카드가 있으면 택시를 타고 가고, 돈도 없고 카드도 없으면 걸어가라."
   ]
  },
  {
   "cell_type": "code",
   "execution_count": 23,
   "id": "6366109f-3986-44b4-88d2-9a7125668d36",
   "metadata": {},
   "outputs": [
    {
     "name": "stdout",
     "output_type": "stream",
     "text": [
      "택시를 타고가라\n"
     ]
    }
   ],
   "source": [
    "pocket = ['paper', 'cellphone']\n",
    "card = True\n",
    "if 'money' in pocket:\n",
    "    print(\"택시를 타고가라\")\n",
    "else:\n",
    "    if card:\n",
    "       print(\"택시를 타고가라\")\n",
    "    else:\n",
    "       print(\"걸어가라\")"
   ]
  },
  {
   "cell_type": "code",
   "execution_count": 24,
   "id": "53c9287e-0443-4595-a457-34d9f8e7d5f4",
   "metadata": {},
   "outputs": [
    {
     "name": "stdout",
     "output_type": "stream",
     "text": [
      "택시를 타고가라\n"
     ]
    }
   ],
   "source": [
    " pocket = ['paper', 'cellphone']\n",
    " card = True\n",
    " if 'money' in pocket:\n",
    "     print(\"택시를 타고가라\")\n",
    "elif card: \n",
    "     print(\"택시를 타고가라\")\n",
    "else:\n",
    "     print(\"걸어가라\")"
   ]
  },
  {
   "cell_type": "code",
   "execution_count": 26,
   "id": "db748543-a9e3-45cd-bd70-013c8a76fc6d",
   "metadata": {},
   "outputs": [
    {
     "name": "stdout",
     "output_type": "stream",
     "text": [
      "카드를 꺼내라\n"
     ]
    }
   ],
   "source": [
    "if 'money' in pocket : pass\n",
    "else : print(\"카드를 꺼내라\")"
   ]
  },
  {
   "cell_type": "markdown",
   "id": "851798b8-a4d2-4da4-b3af-ac036d9cf1c0",
   "metadata": {},
   "source": [
    "## 조건부 표현식"
   ]
  },
  {
   "cell_type": "code",
   "execution_count": 31,
   "id": "fb260d65-6168-482c-896d-06a40f9feb22",
   "metadata": {},
   "outputs": [
    {
     "data": {
      "text/plain": [
       "'success'"
      ]
     },
     "execution_count": 31,
     "metadata": {},
     "output_type": "execute_result"
    }
   ],
   "source": [
    "score = 60\n",
    "if score >= 60:\n",
    "    message = \"success\"\n",
    "else:\n",
    "    message = \"failure\"\n",
    "\n",
    "message"
   ]
  },
  {
   "cell_type": "code",
   "execution_count": 33,
   "id": "433fe5f0-80b0-4310-88ad-ef0a4480ccd1",
   "metadata": {},
   "outputs": [
    {
     "data": {
      "text/plain": [
       "'failure'"
      ]
     },
     "execution_count": 33,
     "metadata": {},
     "output_type": "execute_result"
    }
   ],
   "source": [
    "message = \"success\" if score >= 60 else \"failure\"\n",
    "score = 50\n",
    "message"
   ]
  },
  {
   "cell_type": "markdown",
   "id": "6b29e2a4-022a-4f37-8e7f-1948c03939ca",
   "metadata": {},
   "source": [
    "# While 조건 반복문"
   ]
  },
  {
   "cell_type": "code",
   "execution_count": null,
   "id": "7fd98c0d-c7fc-4a12-970e-b6d1b7e15831",
   "metadata": {},
   "outputs": [],
   "source": [
    "#열 번 찍어 안 넘어가는 나무 없다"
   ]
  },
  {
   "cell_type": "code",
   "execution_count": 34,
   "id": "d49c5343-ea38-410f-895c-34c53356cb6f",
   "metadata": {},
   "outputs": [
    {
     "name": "stdout",
     "output_type": "stream",
     "text": [
      "나무를 1번 찍었다.\n",
      "나무를 2번 찍었다.\n",
      "나무를 3번 찍었다.\n",
      "나무를 4번 찍었다.\n",
      "나무를 5번 찍었다.\n",
      "나무를 6번 찍었다.\n",
      "나무를 7번 찍었다.\n",
      "나무를 8번 찍었다.\n",
      "나무를 9번 찍었다.\n",
      "나무를 10번 찍었다.\n",
      "나무가 넘어갔다\n"
     ]
    }
   ],
   "source": [
    "hit = 0\n",
    "while hit < 10:\n",
    "    hit = hit + 1\n",
    "    print(\"나무를 %d번 찍었다.\" % hit)\n",
    "    if hit == 10:\n",
    "        print(\"나무가 넘어갔다\")"
   ]
  },
  {
   "cell_type": "code",
   "execution_count": 35,
   "id": "9bbbccec-c498-4fd4-83dc-1fb7d812f0c2",
   "metadata": {},
   "outputs": [],
   "source": [
    "prompt = \"\"\"\n",
    "1. Add\n",
    "2. Del\n",
    "3. List\n",
    "4. Quit\n",
    "\n",
    "Enter number: \"\"\""
   ]
  },
  {
   "cell_type": "code",
   "execution_count": 37,
   "id": "7b7e0683-0317-43d7-8907-7a5b6c832d4b",
   "metadata": {},
   "outputs": [
    {
     "name": "stdout",
     "output_type": "stream",
     "text": [
      "\n",
      "1. Add\n",
      "2. Del\n",
      "3. List\n",
      "4. Quit\n",
      "\n",
      "Enter number: \n"
     ]
    }
   ],
   "source": [
    "print(prompt)"
   ]
  },
  {
   "cell_type": "code",
   "execution_count": 39,
   "id": "bbd1b11c-0ec6-4d5d-a891-ba8af71953b3",
   "metadata": {},
   "outputs": [
    {
     "name": "stdout",
     "output_type": "stream",
     "text": [
      "\n",
      "1. Add\n",
      "2. Del\n",
      "3. List\n",
      "4. Quit\n",
      "\n",
      "Enter number: \n"
     ]
    },
    {
     "name": "stdin",
     "output_type": "stream",
     "text": [
      " 1\n"
     ]
    },
    {
     "name": "stdout",
     "output_type": "stream",
     "text": [
      "\n",
      "1. Add\n",
      "2. Del\n",
      "3. List\n",
      "4. Quit\n",
      "\n",
      "Enter number: \n"
     ]
    },
    {
     "name": "stdin",
     "output_type": "stream",
     "text": [
      " 2\n"
     ]
    },
    {
     "name": "stdout",
     "output_type": "stream",
     "text": [
      "\n",
      "1. Add\n",
      "2. Del\n",
      "3. List\n",
      "4. Quit\n",
      "\n",
      "Enter number: \n"
     ]
    },
    {
     "name": "stdin",
     "output_type": "stream",
     "text": [
      " 4\n"
     ]
    }
   ],
   "source": [
    "number = 0\n",
    "while number != 4:\n",
    "    print(prompt)\n",
    "    number = int(input())"
   ]
  },
  {
   "cell_type": "markdown",
   "id": "40f76042-d2e9-440f-bb9b-6cab7ec8b016",
   "metadata": {},
   "source": [
    "## while 문 강제로 빠져나가기"
   ]
  },
  {
   "cell_type": "code",
   "execution_count": null,
   "id": "22971fd3-38aa-4fdd-bb3a-21f46bf681ff",
   "metadata": {},
   "outputs": [],
   "source": [
    "coffee = 10\n",
    "money = 300\n",
    "while money : \n",
    "    print('돈을 받았으니 커피를 준다')\n",
    "    coffee = coffee - 1\n",
    "    print(f'남은 커피의 양은 {coffee}입니다.')\n",
    "    if coffee == 0:\n",
    "        print('커피가 품절됐습니다.')\n",
    "        break"
   ]
  },
  {
   "cell_type": "code",
   "execution_count": null,
   "id": "9819f3f1-be19-4358-9189-043c57549ad2",
   "metadata": {
    "collapsed": true,
    "jupyter": {
     "outputs_hidden": true
    }
   },
   "outputs": [
    {
     "name": "stdin",
     "output_type": "stream",
     "text": [
      "돈을 넣어주세요: 300\n"
     ]
    },
    {
     "name": "stdout",
     "output_type": "stream",
     "text": [
      "300원을 받았습니다. 커피를 드립니다.\n",
      "남은 커피의 양은 9입니다.\n"
     ]
    },
    {
     "name": "stdin",
     "output_type": "stream",
     "text": [
      "돈을 넣어주세요: 400\n"
     ]
    },
    {
     "name": "stdout",
     "output_type": "stream",
     "text": [
      "400원을 받았습니다. 잔돈 100원을 드립니다. 커피를 드립니다.\n",
      "남은 커피의 양은 8입니다.\n"
     ]
    },
    {
     "name": "stdin",
     "output_type": "stream",
     "text": [
      "돈을 넣어주세요: 200\n"
     ]
    },
    {
     "name": "stdout",
     "output_type": "stream",
     "text": [
      "돈이 부족합니다. 200원을 반환합니다.\n",
      "남은 커피의 양은 8입니다.\n"
     ]
    }
   ],
   "source": [
    "coffee = 10\n",
    "\n",
    "while True :\n",
    "    money = int(input('돈을 넣어주세요:'))\n",
    "\n",
    "    if money == 300:\n",
    "        print(f'{money}원을 받았습니다. 커피를 드립니다.')\n",
    "        coffee = coffee - 1\n",
    "        print(f'남은 커피의 양은 {coffee}입니다.')\n",
    "    elif money > 300:\n",
    "        print(f'{money}원을 받았습니다. 잔돈 {money-300}원을 드립니다. 커피를 드립니다.')\n",
    "        coffee = coffee - 1\n",
    "        print(f'남은 커피의 양은 {coffee}입니다.')\n",
    "    else :\n",
    "        print(f'돈이 부족합니다. {money}원을 반환합니다.')\n",
    "        coffee = coffee - 0\n",
    "        print(f'남은 커피의 양은 {coffee}입니다.')\n",
    "\n",
    "    if coffee == 0:\n",
    "        print('커피가 품절되었습니다. 영업을 종료합니다.')\n",
    "        break"
   ]
  },
  {
   "cell_type": "markdown",
   "id": "990c51d8-27f9-405f-a38b-71395ceff666",
   "metadata": {},
   "source": [
    "# for loop 반복문"
   ]
  },
  {
   "cell_type": "code",
   "execution_count": 3,
   "id": "2d878dd4-66c9-430a-8d44-6e4eb4d3f892",
   "metadata": {},
   "outputs": [
    {
     "name": "stdout",
     "output_type": "stream",
     "text": [
      "one\n",
      "two\n",
      "three\n"
     ]
    }
   ],
   "source": [
    "# 전형적인 for 문\n",
    "\n",
    "test_list = ['one', 'two', 'three'] \n",
    "for i in test_list: \n",
    "    print(i)"
   ]
  },
  {
   "cell_type": "code",
   "execution_count": 8,
   "id": "31fbeda8-a75c-4d40-a9cd-aea1aa36f73a",
   "metadata": {},
   "outputs": [
    {
     "name": "stdout",
     "output_type": "stream",
     "text": [
      "1번 학생은 합격이다.\n",
      "2번 학생은 불합격이다.\n",
      "3번 학생은 합격이다.\n",
      "4번 학생은 불합격이다.\n",
      "5번 학생은 합격이다.\n"
     ]
    }
   ],
   "source": [
    "marks = [90, 25, 67, 45, 80]\n",
    "s = 0 #라벨 부여\n",
    "for mark in marks :\n",
    "    s = s+1\n",
    "    if mark >= 60:\n",
    "        print(f'{s}번 학생은 합격이다.')\n",
    "    else :\n",
    "        print(f'{s}번 학생은 불합격이다.')"
   ]
  },
  {
   "cell_type": "markdown",
   "id": "7962242e-1750-4764-bba7-0afc6fff3e7c",
   "metadata": {},
   "source": [
    "## for문과 continue문"
   ]
  },
  {
   "cell_type": "code",
   "execution_count": 10,
   "id": "6f3605b0-4602-40ef-a097-60f2d4a315fc",
   "metadata": {},
   "outputs": [
    {
     "name": "stdout",
     "output_type": "stream",
     "text": [
      "1번 학생 축하합니다. 합격입니다.\n",
      "3번 학생 축하합니다. 합격입니다.\n",
      "5번 학생 축하합니다. 합격입니다.\n"
     ]
    }
   ],
   "source": [
    "marks = [90, 25, 67, 45, 80]\n",
    "s = 0 #라벨 부여\n",
    "for mark in marks :\n",
    "    s = s+1\n",
    "    if mark >= 60:\n",
    "        print(f'{s}번 학생 축하합니다. 합격입니다.')\n",
    "    else :\n",
    "        continue"
   ]
  },
  {
   "cell_type": "code",
   "execution_count": 11,
   "id": "cfdf3834-d217-4506-aa06-a233c766dc45",
   "metadata": {},
   "outputs": [
    {
     "name": "stdout",
     "output_type": "stream",
     "text": [
      "1번 학생 축하합니다. 합격입니다. \n",
      "3번 학생 축하합니다. 합격입니다. \n",
      "5번 학생 축하합니다. 합격입니다. \n"
     ]
    }
   ],
   "source": [
    "# marks2.py\n",
    "marks = [90, 25, 67, 45, 80]\n",
    "\n",
    "number = 0 \n",
    "for mark in marks: \n",
    "    number = number +1 \n",
    "    if mark < 60:\n",
    "        continue \n",
    "    print(\"%d번 학생 축하합니다. 합격입니다. \" % number)"
   ]
  },
  {
   "cell_type": "markdown",
   "id": "42d146d8-3350-4bc1-a814-61fc997240b2",
   "metadata": {},
   "source": [
    "## for문과 함께 자주 사용하는 range 함수"
   ]
  },
  {
   "cell_type": "code",
   "execution_count": 13,
   "id": "aa813daf-7353-4dbd-ab87-718072449100",
   "metadata": {},
   "outputs": [
    {
     "data": {
      "text/plain": [
       "range(0, 10)"
      ]
     },
     "execution_count": 13,
     "metadata": {},
     "output_type": "execute_result"
    }
   ],
   "source": [
    "a = range(10)\n",
    "a"
   ]
  },
  {
   "cell_type": "code",
   "execution_count": 18,
   "id": "e2033a1f-f351-476a-bdc4-3cf1786d50a7",
   "metadata": {},
   "outputs": [
    {
     "data": {
      "text/plain": [
       "55"
      ]
     },
     "execution_count": 18,
     "metadata": {},
     "output_type": "execute_result"
    }
   ],
   "source": [
    "range(1,11)\n",
    "a = sum(range(1,11))\n",
    "a"
   ]
  },
  {
   "cell_type": "code",
   "execution_count": 17,
   "id": "e7ee8605-b80b-4c16-ba46-e1780ab93540",
   "metadata": {},
   "outputs": [
    {
     "name": "stdout",
     "output_type": "stream",
     "text": [
      "55\n"
     ]
    }
   ],
   "source": [
    "p = 0\n",
    "for i in range(1,11):\n",
    "    p = p + i\n",
    "print(p)"
   ]
  },
  {
   "cell_type": "code",
   "execution_count": 27,
   "id": "093288ca-e1a3-42f1-9bcb-1a414cfc5bfe",
   "metadata": {},
   "outputs": [
    {
     "name": "stdout",
     "output_type": "stream",
     "text": [
      "2\n",
      "4\n",
      "6\n",
      "8\n",
      "10\n",
      "12\n",
      "14\n",
      "16\n",
      "18\n",
      "3\n",
      "6\n",
      "9\n",
      "12\n",
      "15\n",
      "18\n",
      "21\n",
      "24\n",
      "27\n",
      "4\n",
      "8\n",
      "12\n",
      "16\n",
      "20\n",
      "24\n",
      "28\n",
      "32\n",
      "36\n",
      "5\n",
      "10\n",
      "15\n",
      "20\n",
      "25\n",
      "30\n",
      "35\n",
      "40\n",
      "45\n",
      "6\n",
      "12\n",
      "18\n",
      "24\n",
      "30\n",
      "36\n",
      "42\n",
      "48\n",
      "54\n",
      "7\n",
      "14\n",
      "21\n",
      "28\n",
      "35\n",
      "42\n",
      "49\n",
      "56\n",
      "63\n",
      "8\n",
      "16\n",
      "24\n",
      "32\n",
      "40\n",
      "48\n",
      "56\n",
      "64\n",
      "72\n",
      "9\n",
      "18\n",
      "27\n",
      "36\n",
      "45\n",
      "54\n",
      "63\n",
      "72\n",
      "81\n"
     ]
    }
   ],
   "source": [
    "# 구구단 프로그램\n",
    "for n in range(2,10) :\n",
    "    for i in range(1,10) :\n",
    "        print(n*i)"
   ]
  },
  {
   "cell_type": "markdown",
   "id": "1dee45c4-3e70-43f0-8ed5-3bee505cd088",
   "metadata": {},
   "source": [
    "## 리스트 컴프리헨션"
   ]
  },
  {
   "cell_type": "code",
   "execution_count": 28,
   "id": "52d7b3a2-81a8-449d-a7b8-d33895e28507",
   "metadata": {},
   "outputs": [
    {
     "name": "stdout",
     "output_type": "stream",
     "text": [
      "List Comprehension Time: 0.1498398780822754\n"
     ]
    }
   ],
   "source": [
    "# 시간 측정을 위한 코드, 2배넘게 차이남\n",
    "import time\n",
    "\n",
    "start = time.time() \n",
    "numbers = [i for i in range(1000000)] \n",
    "end = time.time() \n",
    "print('List Comprehension Time:', end-start)"
   ]
  },
  {
   "cell_type": "code",
   "execution_count": 29,
   "id": "d3eff4b6-d77a-4306-b3ce-1bf932f631a5",
   "metadata": {},
   "outputs": [
    {
     "name": "stdout",
     "output_type": "stream",
     "text": [
      "For loop Time: 0.3463301658630371\n"
     ]
    }
   ],
   "source": [
    "start = time.time() \n",
    "numbers = []\n",
    "for i in range(1000000):\n",
    "    numbers.append(i)\n",
    "end = time.time() \n",
    "print('For loop Time:', end-start)"
   ]
  },
  {
   "cell_type": "code",
   "execution_count": 30,
   "id": "1a8bff0f-c80d-45b5-bff9-b8c6eae7ec44",
   "metadata": {},
   "outputs": [
    {
     "name": "stdout",
     "output_type": "stream",
     "text": [
      "[3, 6, 9, 12]\n"
     ]
    }
   ],
   "source": [
    "a = [1,2,3,4]\n",
    "result = []\n",
    "for num in a:\n",
    "    result.append(num*3)\n",
    "print(result)"
   ]
  },
  {
   "cell_type": "code",
   "execution_count": 59,
   "id": "212e5636-43d2-440b-a1ea-eef44380fcd1",
   "metadata": {},
   "outputs": [
    {
     "ename": "SyntaxError",
     "evalue": "invalid syntax (3825081392.py, line 12)",
     "output_type": "error",
     "traceback": [
      "\u001b[1;36m  Cell \u001b[1;32mIn[59], line 12\u001b[1;36m\u001b[0m\n\u001b[1;33m    if name in list[] :\u001b[0m\n\u001b[1;37m                    ^\u001b[0m\n\u001b[1;31mSyntaxError\u001b[0m\u001b[1;31m:\u001b[0m invalid syntax\n"
     ]
    }
   ],
   "source": [
    "list = {'홍길동':'010-123-4567'}\n",
    "prompt = \"\"\"\n",
    "1. Add\n",
    "2. Edit\n",
    "3. Delete\n",
    "4. Quit\n",
    "Enter number: \"\"\"\n",
    "n = int(input())\n",
    "\n",
    "if n == 1 :\n",
    "    name = input('이름을 입력하세요')\n",
    "    if name in list :\n",
    "        print({name}, list.get({name}))\n",
    "    else :\n",
    "        print('검색하신 결과가 없습니다.')\n",
    "    \n",
    "\n",
    "elif n == 2 : \n",
    "    print(name = input('이름을 입력하세요'))\n",
    "    if name in list :\n",
    "        print({name}, get({name}))\n",
    "\n",
    "elif n == 3 :\n",
    "    print(name = str.input('이름을 입력하세요')argument of type 'builtin_function_or_method' is not iterable)\n",
    "\n",
    "\n",
    "\n"
   ]
  },
  {
   "cell_type": "code",
   "execution_count": null,
   "id": "917720d6-924d-408c-8a0c-58af6afc53dd",
   "metadata": {},
   "outputs": [],
   "source": []
  }
 ],
 "metadata": {
  "kernelspec": {
   "display_name": "Python 3 (ipykernel)",
   "language": "python",
   "name": "python3"
  },
  "language_info": {
   "codemirror_mode": {
    "name": "ipython",
    "version": 3
   },
   "file_extension": ".py",
   "mimetype": "text/x-python",
   "name": "python",
   "nbconvert_exporter": "python",
   "pygments_lexer": "ipython3",
   "version": "3.11.7"
  }
 },
 "nbformat": 4,
 "nbformat_minor": 5
}
