{
 "cells": [
  {
   "cell_type": "markdown",
   "id": "8b885db5-3f66-4d4a-a788-ff1b6b6945ef",
   "metadata": {},
   "source": [
    "# 클래스(Class)"
   ]
  },
  {
   "cell_type": "code",
   "execution_count": 1,
   "id": "52179ab5-2612-4452-b107-e56d55f6832f",
   "metadata": {},
   "outputs": [
    {
     "name": "stdout",
     "output_type": "stream",
     "text": [
      "3\n",
      "7\n"
     ]
    }
   ],
   "source": [
    "# 더하기\n",
    "# calculator.py\n",
    "result = 0\n",
    "\n",
    "def add(num):\n",
    "    global result\n",
    "    result += num  # 결괏값(result)에 입력값(num) 더하기\n",
    "    return result  # 결괏값 리턴\n",
    "\n",
    "print(add(3))\n",
    "print(add(4))"
   ]
  },
  {
   "cell_type": "code",
   "execution_count": null,
   "id": "afa14702-f1e3-4bb2-88e8-12c9c5e40aad",
   "metadata": {},
   "outputs": [],
   "source": [
    "# calculator2.py #변수 분리\n",
    "result1 = 0\n",
    "result2 = 0\n",
    "\n",
    "def add1(num):  # 계산기1\n",
    "    global result1\n",
    "    result1 += num\n",
    "    return result1\n",
    "\n",
    "def add2(num):  # 계산기2\n",
    "    global result2\n",
    "    result2 += num\n",
    "    return result2\n",
    "\n",
    "print(add1(3))\n",
    "print(add1(4))\n",
    "print(add2(3))\n",
    "print(add2(7))\n"
   ]
  },
  {
   "cell_type": "code",
   "execution_count": 2,
   "id": "c2d68046-e49d-40f4-b323-05fc57e8a191",
   "metadata": {},
   "outputs": [
    {
     "name": "stdout",
     "output_type": "stream",
     "text": [
      "3\n",
      "7\n",
      "3\n",
      "10\n"
     ]
    }
   ],
   "source": [
    "# calculator3.py\n",
    "class Calculator:\n",
    "    def __init__(self):\n",
    "        self.result = 0\n",
    "\n",
    "    def add(self, num):\n",
    "        self.result += num\n",
    "        return self.result\n",
    "\n",
    "cal1 = Calculator()\n",
    "cal2 = Calculator()\n",
    "\n",
    "print(cal1.add(3))\n",
    "print(cal1.add(4))\n",
    "print(cal2.add(3))\n",
    "print(cal2.add(7))\n"
   ]
  },
  {
   "cell_type": "markdown",
   "id": "3bcf5d16-47db-4e26-b67e-1dc374754ec0",
   "metadata": {
    "jupyter": {
     "source_hidden": true
    }
   },
   "source": [
    "## 클래스와 객체"
   ]
  },
  {
   "cell_type": "code",
   "execution_count": 3,
   "id": "69d487ed-cfb4-4e2a-b275-b215312c72ef",
   "metadata": {},
   "outputs": [],
   "source": [
    "class Cookie:\n",
    "    pass\n"
   ]
  },
  {
   "cell_type": "code",
   "execution_count": 4,
   "id": "6df5780b-160a-4c00-95df-ccf5e7329a7e",
   "metadata": {},
   "outputs": [
    {
     "data": {
      "text/plain": [
       "__main__.Cookie"
      ]
     },
     "execution_count": 4,
     "metadata": {},
     "output_type": "execute_result"
    }
   ],
   "source": [
    "type(Cookie())"
   ]
  },
  {
   "cell_type": "code",
   "execution_count": 6,
   "id": "5dd17b5a-b49b-4704-b76c-16b4c0e265a3",
   "metadata": {},
   "outputs": [
    {
     "name": "stdout",
     "output_type": "stream",
     "text": [
      "<__main__.Cookie object at 0x000001A35A706610> <class '__main__.Cookie'>\n"
     ]
    }
   ],
   "source": [
    "a = Cookie()\n",
    "print(a,type(a))"
   ]
  },
  {
   "cell_type": "markdown",
   "id": "189193a0-a8e6-4a75-bbca-68d989404b2a",
   "metadata": {},
   "source": [
    "## 사칙연산 클래스 만들기"
   ]
  },
  {
   "cell_type": "code",
   "execution_count": 8,
   "id": "ba5e7ef4-8cbc-4c6e-aaf7-17454e8f5555",
   "metadata": {},
   "outputs": [],
   "source": [
    "class FourCal:\n",
    "    pass"
   ]
  },
  {
   "cell_type": "code",
   "execution_count": 9,
   "id": "a0dc53ff-4fd9-4651-870c-b543da0b7a19",
   "metadata": {},
   "outputs": [
    {
     "data": {
      "text/plain": [
       "__main__.FourCal"
      ]
     },
     "execution_count": 9,
     "metadata": {},
     "output_type": "execute_result"
    }
   ],
   "source": [
    "a = FourCal()\n",
    "type(a)"
   ]
  },
  {
   "cell_type": "code",
   "execution_count": 11,
   "id": "d48967bc-9984-48e6-9b3f-5d55996d0611",
   "metadata": {},
   "outputs": [],
   "source": [
    "# 객체에 연산할 숫자를 지정하기\n",
    "class FourCal:\n",
    "    def setdata(self, first,second) : #method(=function) # 매개변수\n",
    "        self.first = first # 매서드의 수행문\n",
    "        self.second = second # 매서드의 수행"
   ]
  },
  {
   "cell_type": "code",
   "execution_count": 13,
   "id": "2688edaf-eb21-459e-9e05-40ee449c5944",
   "metadata": {},
   "outputs": [],
   "source": [
    "# function\n",
    "def setdata(self, first,second) :\n",
    "    self.first = first \n",
    "    self.second = second "
   ]
  },
  {
   "cell_type": "code",
   "execution_count": 14,
   "id": "6ed4ce6f-3455-49e7-a4bb-f88d267e9525",
   "metadata": {},
   "outputs": [],
   "source": [
    "a = FourCal()\n",
    "a.setdata(4,2)"
   ]
  },
  {
   "cell_type": "code",
   "execution_count": 16,
   "id": "b1901581-0031-4fda-b9e5-163cc36057a2",
   "metadata": {},
   "outputs": [
    {
     "name": "stdout",
     "output_type": "stream",
     "text": [
      "<function setdata at 0x000001A35CE1DD00>\n"
     ]
    }
   ],
   "source": [
    "# 매서드를 호출하는 또다른 방법?\n",
    "a = FourCal()\n",
    "FourCal.setdata(a,4,2)\n",
    "print(setdata)"
   ]
  },
  {
   "cell_type": "markdown",
   "id": "3da74c2a-76e1-4e8d-b07e-6c7e732b898c",
   "metadata": {
    "jupyter": {
     "source_hidden": true
    }
   },
   "source": [
    "## setdata의 매서드 수행문"
   ]
  },
  {
   "cell_type": "code",
   "execution_count": 18,
   "id": "010a50bb-ee4d-4cf2-b4b9-ebbd4942b43f",
   "metadata": {},
   "outputs": [
    {
     "data": {
      "text/plain": [
       "4"
      ]
     },
     "execution_count": 18,
     "metadata": {},
     "output_type": "execute_result"
    }
   ],
   "source": [
    "a.first #변수,, 속성"
   ]
  },
  {
   "cell_type": "code",
   "execution_count": 20,
   "id": "0b968da1-42d6-4779-8246-49da105a1513",
   "metadata": {},
   "outputs": [
    {
     "data": {
      "text/plain": [
       "2"
      ]
     },
     "execution_count": 20,
     "metadata": {},
     "output_type": "execute_result"
    }
   ],
   "source": [
    "a.second"
   ]
  },
  {
   "cell_type": "code",
   "execution_count": 21,
   "id": "1230c028-3e64-44bd-a004-54609cdf2467",
   "metadata": {},
   "outputs": [
    {
     "data": {
      "text/plain": [
       "<bound method FourCal.setdata of <__main__.FourCal object at 0x000001A35D995350>>"
      ]
     },
     "execution_count": 21,
     "metadata": {},
     "output_type": "execute_result"
    }
   ],
   "source": [
    "a.setdata"
   ]
  },
  {
   "cell_type": "code",
   "execution_count": null,
   "id": "b96f176d-e811-47ff-8377-e387aa077d65",
   "metadata": {},
   "outputs": [],
   "source": []
  },
  {
   "cell_type": "code",
   "execution_count": 23,
   "id": "790414c3-8fd3-4f70-a3c7-6dac51f3dc95",
   "metadata": {},
   "outputs": [
    {
     "ename": "TypeError",
     "evalue": "FourCal.setdata() missing 1 required positional argument: 'second'",
     "output_type": "error",
     "traceback": [
      "\u001b[1;31m---------------------------------------------------------------------------\u001b[0m",
      "\u001b[1;31mTypeError\u001b[0m                                 Traceback (most recent call last)",
      "Cell \u001b[1;32mIn[23], line 1\u001b[0m\n\u001b[1;32m----> 1\u001b[0m a\u001b[38;5;241m.\u001b[39msetdata(\u001b[38;5;241m1\u001b[39m)\n",
      "\u001b[1;31mTypeError\u001b[0m: FourCal.setdata() missing 1 required positional argument: 'second'"
     ]
    }
   ],
   "source": [
    "a.setdata(1)"
   ]
  },
  {
   "cell_type": "code",
   "execution_count": 24,
   "id": "18c56639-7095-448d-8f1f-332a3fe2fd85",
   "metadata": {},
   "outputs": [
    {
     "data": {
      "text/plain": [
       "4"
      ]
     },
     "execution_count": 24,
     "metadata": {},
     "output_type": "execute_result"
    }
   ],
   "source": [
    "a = FourCal()\n",
    "b = FourCal()\n",
    "\n",
    "a.setdata(4,1)\n",
    "a.first"
   ]
  },
  {
   "cell_type": "code",
   "execution_count": 25,
   "id": "87c7d0d4-d756-4d4c-8317-d4a769d989eb",
   "metadata": {},
   "outputs": [
    {
     "data": {
      "text/plain": [
       "5"
      ]
     },
     "execution_count": 25,
     "metadata": {},
     "output_type": "execute_result"
    }
   ],
   "source": [
    "b.setdata(5,2)\n",
    "b.first"
   ]
  },
  {
   "cell_type": "markdown",
   "id": "6e0c31ac-b904-4f53-a6e0-021f0434c773",
   "metadata": {},
   "source": [
    "## 더하기 기능 만들기"
   ]
  },
  {
   "cell_type": "code",
   "execution_count": 36,
   "id": "2ea3e14b-ba18-4309-b98e-e0af89983f7f",
   "metadata": {},
   "outputs": [],
   "source": [
    "class FourCal:\n",
    "    def setdata(self, first,second) :\n",
    "        self.first = first \n",
    "        self.second = second\n",
    "\n",
    "    def add(self) :\n",
    "        result = self.first + self.second\n",
    "        return result"
   ]
  },
  {
   "cell_type": "code",
   "execution_count": 37,
   "id": "dd3c9343-8aa2-4d3c-895d-833117070eee",
   "metadata": {},
   "outputs": [
    {
     "data": {
      "text/plain": [
       "7"
      ]
     },
     "execution_count": 37,
     "metadata": {},
     "output_type": "execute_result"
    }
   ],
   "source": [
    "a = FourCal()\n",
    "a.setdata(3,4)\n",
    "a.add()"
   ]
  },
  {
   "cell_type": "code",
   "execution_count": 38,
   "id": "204320d4-5a40-4c1d-9efa-04196c47997d",
   "metadata": {},
   "outputs": [],
   "source": [
    "## 빼기 기능 만들기"
   ]
  },
  {
   "cell_type": "code",
   "execution_count": 49,
   "id": "72bfb25c-5e53-4ac9-acb3-454ee33c12e0",
   "metadata": {},
   "outputs": [],
   "source": [
    "class FourCal : \n",
    "    def setdata(self, f, s) : \n",
    "        self.f = f\n",
    "        self.s = s\n",
    "\n",
    "    def deduct(self) :\n",
    "        result = self.f - self.s\n",
    "        return result"
   ]
  },
  {
   "cell_type": "code",
   "execution_count": 50,
   "id": "fb54e74c-8c60-4da6-bfe1-ef3a40922bfc",
   "metadata": {},
   "outputs": [
    {
     "data": {
      "text/plain": [
       "-1"
      ]
     },
     "execution_count": 50,
     "metadata": {},
     "output_type": "execute_result"
    }
   ],
   "source": [
    "a = FourCal()\n",
    "a.setdata(2,3)\n",
    "a.deduct()"
   ]
  },
  {
   "cell_type": "code",
   "execution_count": null,
   "id": "5453b41d-bd09-4f4f-be57-24c0f98aa3ae",
   "metadata": {},
   "outputs": [],
   "source": [
    "## 사칙연산 기능 만들기"
   ]
  },
  {
   "cell_type": "code",
   "execution_count": 52,
   "id": "91b46fba-d26a-494f-8db6-c6b3c7ffdcae",
   "metadata": {},
   "outputs": [],
   "source": [
    "class FourCal : \n",
    "    def setdata(self, f, s) : \n",
    "        self.f = f\n",
    "        self.s = s\n",
    "\n",
    "    def add(self) :\n",
    "        result = self.f + self.s\n",
    "        return result\n",
    "    \n",
    "    def sub(self) :\n",
    "        result = self.f - self.s\n",
    "        return result\n",
    "\n",
    "    def mul(self) :\n",
    "        result = self.f * self.s\n",
    "        return result\n",
    "\n",
    "    def div(self) :\n",
    "        result = self.f / self.s\n",
    "        return result"
   ]
  },
  {
   "cell_type": "code",
   "execution_count": 54,
   "id": "42347d05-d422-4a93-acab-f2047af08469",
   "metadata": {},
   "outputs": [
    {
     "data": {
      "text/plain": [
       "7"
      ]
     },
     "execution_count": 54,
     "metadata": {},
     "output_type": "execute_result"
    }
   ],
   "source": [
    "a = FourCal()\n",
    "a.setdata(3,4)\n",
    "a.add()"
   ]
  },
  {
   "cell_type": "code",
   "execution_count": 77,
   "id": "229bfeaf-132c-4a49-893a-5564c1671952",
   "metadata": {},
   "outputs": [],
   "source": [
    "class FourCal:\n",
    "    def __init__(self, first, second):\n",
    "        self.first = first\n",
    "        self.second = second\n",
    "       \n",
    "    def setdata(self, first, second):\n",
    "        self.first = first\n",
    "        self.second = second\n",
    "       \n",
    "    def add(self):\n",
    "        result = self.first + self.second\n",
    "        return result\n",
    "            \n",
    "    def mul(self):\n",
    "        result = self.first * self.second\n",
    "        return result\n",
    "            \n",
    "    def sub(self):\n",
    "        result = self.first - self.second\n",
    "        return result\n",
    "            \n",
    "    def div(self):\n",
    "        result = self.first / self.second\n",
    "        return result"
   ]
  },
  {
   "cell_type": "code",
   "execution_count": 61,
   "id": "f636cd16-284b-4e1b-9737-f14c88275abd",
   "metadata": {},
   "outputs": [],
   "source": [
    "a = FourCal"
   ]
  },
  {
   "cell_type": "code",
   "execution_count": 79,
   "id": "1561ffca-db24-499e-a09f-55942abeb2b3",
   "metadata": {},
   "outputs": [],
   "source": [
    "a = FourCal(4,2)"
   ]
  },
  {
   "cell_type": "code",
   "execution_count": 80,
   "id": "d69e67c7-5c8b-4695-8800-d62a80498caf",
   "metadata": {},
   "outputs": [
    {
     "name": "stdout",
     "output_type": "stream",
     "text": [
      "6\n"
     ]
    }
   ],
   "source": [
    "print(a.add())"
   ]
  },
  {
   "cell_type": "code",
   "execution_count": null,
   "id": "e876fadb-33c4-450a-838f-d2999f630a51",
   "metadata": {},
   "outputs": [],
   "source": []
  },
  {
   "cell_type": "markdown",
   "id": "3f855742-8e5b-49f7-933f-fdf3a784593d",
   "metadata": {
    "jupyter": {
     "source_hidden": true
    }
   },
   "source": [
    "## 클래스의 상속"
   ]
  },
  {
   "cell_type": "code",
   "execution_count": 67,
   "id": "fbacd657-df49-4a72-8feb-79b5216dade4",
   "metadata": {},
   "outputs": [],
   "source": [
    "class MoreFourCal (FourCal) :\n",
    "    pass"
   ]
  },
  {
   "cell_type": "code",
   "execution_count": 69,
   "id": "a2a6a0ec-e7a2-41dc-a4bb-5ee1d1b4463d",
   "metadata": {},
   "outputs": [
    {
     "data": {
      "text/plain": [
       "<__main__.MoreFourCal at 0x1a35e5e75d0>"
      ]
     },
     "execution_count": 69,
     "metadata": {},
     "output_type": "execute_result"
    }
   ],
   "source": [
    "a = MoreFourCal(2,3)\n",
    "a"
   ]
  },
  {
   "cell_type": "code",
   "execution_count": 81,
   "id": "05df684a-dad3-4c6f-bb84-9193ae6f1c3e",
   "metadata": {},
   "outputs": [
    {
     "data": {
      "text/plain": [
       "(6, 8, 2, 2.0)"
      ]
     },
     "execution_count": 81,
     "metadata": {},
     "output_type": "execute_result"
    }
   ],
   "source": [
    "a.add(), a.mul(), a.sub(), a.div()"
   ]
  },
  {
   "cell_type": "code",
   "execution_count": 82,
   "id": "03cc51eb-f48d-4f92-91ad-1940245e99cd",
   "metadata": {},
   "outputs": [],
   "source": [
    "class MoreFourCal(FourCal) : \n",
    "    def pow(self):\n",
    "        result = self.first ** self.second\n",
    "        return result"
   ]
  },
  {
   "cell_type": "code",
   "execution_count": 83,
   "id": "40b8564c-49dd-4f30-a54f-d93995e7a9e7",
   "metadata": {},
   "outputs": [],
   "source": [
    "a = MoreFourCal(4,3)"
   ]
  },
  {
   "cell_type": "code",
   "execution_count": 85,
   "id": "c92d126d-0015-422d-8e44-1f4ebb05de39",
   "metadata": {},
   "outputs": [
    {
     "data": {
      "text/plain": [
       "(7, 12, 1, 1.3333333333333333, 64)"
      ]
     },
     "execution_count": 85,
     "metadata": {},
     "output_type": "execute_result"
    }
   ],
   "source": [
    "a.add(), a.mul(), a.sub(), a.div(), a.pow()"
   ]
  },
  {
   "cell_type": "code",
   "execution_count": null,
   "id": "756fa09f-d72a-4097-87eb-5c44adce7d03",
   "metadata": {},
   "outputs": [],
   "source": [
    "# 범위 주석 : 드래그 + ctrl + /"
   ]
  },
  {
   "cell_type": "markdown",
   "id": "38596733-3514-4b06-ac25-7b8ebf24c4ff",
   "metadata": {},
   "source": [
    "## 매서드 오버라이딩"
   ]
  },
  {
   "cell_type": "code",
   "execution_count": 88,
   "id": "6b47840d-f4a9-4de8-b80b-aebe08c269e8",
   "metadata": {},
   "outputs": [
    {
     "ename": "ZeroDivisionError",
     "evalue": "division by zero",
     "output_type": "error",
     "traceback": [
      "\u001b[1;31m---------------------------------------------------------------------------\u001b[0m",
      "\u001b[1;31mZeroDivisionError\u001b[0m                         Traceback (most recent call last)",
      "Cell \u001b[1;32mIn[88], line 2\u001b[0m\n\u001b[0;32m      1\u001b[0m a \u001b[38;5;241m=\u001b[39m FourCal(\u001b[38;5;241m4\u001b[39m,\u001b[38;5;241m0\u001b[39m)\n\u001b[1;32m----> 2\u001b[0m a\u001b[38;5;241m.\u001b[39mdiv()\n",
      "Cell \u001b[1;32mIn[77], line 23\u001b[0m, in \u001b[0;36mFourCal.div\u001b[1;34m(self)\u001b[0m\n\u001b[0;32m     22\u001b[0m \u001b[38;5;28;01mdef\u001b[39;00m \u001b[38;5;21mdiv\u001b[39m(\u001b[38;5;28mself\u001b[39m):\n\u001b[1;32m---> 23\u001b[0m     result \u001b[38;5;241m=\u001b[39m \u001b[38;5;28mself\u001b[39m\u001b[38;5;241m.\u001b[39mfirst \u001b[38;5;241m/\u001b[39m \u001b[38;5;28mself\u001b[39m\u001b[38;5;241m.\u001b[39msecond\n\u001b[0;32m     24\u001b[0m     \u001b[38;5;28;01mreturn\u001b[39;00m result\n",
      "\u001b[1;31mZeroDivisionError\u001b[0m: division by zero"
     ]
    }
   ],
   "source": [
    "a = FourCal(4,0)\n",
    "a.div()"
   ]
  },
  {
   "cell_type": "code",
   "execution_count": 91,
   "id": "e030bf9d-93ed-490d-a179-ac557eb0ba31",
   "metadata": {},
   "outputs": [],
   "source": [
    "class SafeFourCal(FourCal):\n",
    "    def div(self):\n",
    "        if self.second == 0: # 나누는 값이 0인 경우 0을 리턴하도록 수정\n",
    "            return 0\n",
    "        else : \n",
    "            return self.first / self.second"
   ]
  },
  {
   "cell_type": "code",
   "execution_count": 93,
   "id": "5da7af98-f186-4e12-9172-569940923792",
   "metadata": {},
   "outputs": [
    {
     "data": {
      "text/plain": [
       "0"
      ]
     },
     "execution_count": 93,
     "metadata": {},
     "output_type": "execute_result"
    }
   ],
   "source": [
    "a = SafeFourCal(4,0)\n",
    "a.div()"
   ]
  },
  {
   "cell_type": "markdown",
   "id": "23a4faa5-5191-4807-857e-f790ec8ca9ea",
   "metadata": {},
   "source": [
    "## 클래스 변수"
   ]
  },
  {
   "cell_type": "code",
   "execution_count": 97,
   "id": "f1fdac1d-b5df-4c98-8e9f-4bfd523f9730",
   "metadata": {},
   "outputs": [],
   "source": [
    "class Family :\n",
    "    lastname = \"김\""
   ]
  },
  {
   "cell_type": "code",
   "execution_count": 98,
   "id": "135cf623-3944-4547-8981-df9ecd70aa55",
   "metadata": {},
   "outputs": [
    {
     "data": {
      "text/plain": [
       "'김'"
      ]
     },
     "execution_count": 98,
     "metadata": {},
     "output_type": "execute_result"
    }
   ],
   "source": [
    "Family.lastname"
   ]
  },
  {
   "cell_type": "code",
   "execution_count": 99,
   "id": "bf8f50ec-a8d7-4647-a58b-340efb2fca84",
   "metadata": {},
   "outputs": [
    {
     "data": {
      "text/plain": [
       "('김', '김')"
      ]
     },
     "execution_count": 99,
     "metadata": {},
     "output_type": "execute_result"
    }
   ],
   "source": [
    "a = Family()\n",
    "b = Family()\n",
    "a.lastname, b.lastname"
   ]
  },
  {
   "cell_type": "code",
   "execution_count": 100,
   "id": "de483fb0-c52a-4db9-9a44-ddb513b5835a",
   "metadata": {},
   "outputs": [],
   "source": [
    "Family.lastname = '박'"
   ]
  },
  {
   "cell_type": "code",
   "execution_count": 101,
   "id": "c4f002e0-0ce5-425f-a743-c1acb1696e70",
   "metadata": {},
   "outputs": [
    {
     "data": {
      "text/plain": [
       "('박', '박')"
      ]
     },
     "execution_count": 101,
     "metadata": {},
     "output_type": "execute_result"
    }
   ],
   "source": [
    "a = Family()\n",
    "b = Family()\n",
    "a.lastname, b.lastname"
   ]
  },
  {
   "cell_type": "code",
   "execution_count": 103,
   "id": "97b051c7-67f2-4cef-a3a4-f12f78a1cf4f",
   "metadata": {},
   "outputs": [
    {
     "data": {
      "text/plain": [
       "'최'"
      ]
     },
     "execution_count": 103,
     "metadata": {},
     "output_type": "execute_result"
    }
   ],
   "source": [
    "a.lastname = '최'\n",
    "a.lastname"
   ]
  },
  {
   "cell_type": "code",
   "execution_count": 104,
   "id": "ba6a82aa-3317-4a38-aebc-40523e5b385b",
   "metadata": {},
   "outputs": [
    {
     "data": {
      "text/plain": [
       "'박'"
      ]
     },
     "execution_count": 104,
     "metadata": {},
     "output_type": "execute_result"
    }
   ],
   "source": [
    "b.lastname"
   ]
  },
  {
   "cell_type": "markdown",
   "id": "3c733017-80da-4bfd-a09b-8b8ffbcfa05d",
   "metadata": {
    "jupyter": {
     "source_hidden": true
    }
   },
   "source": [
    "# 예외 처리"
   ]
  },
  {
   "cell_type": "markdown",
   "id": "8ecc9f96-b0d2-4e2d-a42f-4a4d3400534d",
   "metadata": {},
   "source": [
    "## 오류는 언제 발생하는가?"
   ]
  },
  {
   "cell_type": "code",
   "execution_count": 105,
   "id": "b91125b8-3c90-4078-9fae-0eea0a1771e7",
   "metadata": {},
   "outputs": [
    {
     "ename": "FileNotFoundError",
     "evalue": "[Errno 2] No such file or directory: '없는 파일'",
     "output_type": "error",
     "traceback": [
      "\u001b[1;31m---------------------------------------------------------------------------\u001b[0m",
      "\u001b[1;31mFileNotFoundError\u001b[0m                         Traceback (most recent call last)",
      "Cell \u001b[1;32mIn[105], line 2\u001b[0m\n\u001b[0;32m      1\u001b[0m \u001b[38;5;66;03m# 존재하지 않는 파일을 사용하려고 시도했을 떄\u001b[39;00m\n\u001b[1;32m----> 2\u001b[0m f \u001b[38;5;241m=\u001b[39m \u001b[38;5;28mopen\u001b[39m(\u001b[38;5;124m'\u001b[39m\u001b[38;5;124m없는 파일\u001b[39m\u001b[38;5;124m'\u001b[39m, \u001b[38;5;124m'\u001b[39m\u001b[38;5;124mr\u001b[39m\u001b[38;5;124m'\u001b[39m)\n",
      "File \u001b[1;32m~\\anaconda3\\Lib\\site-packages\\IPython\\core\\interactiveshell.py:310\u001b[0m, in \u001b[0;36m_modified_open\u001b[1;34m(file, *args, **kwargs)\u001b[0m\n\u001b[0;32m    303\u001b[0m \u001b[38;5;28;01mif\u001b[39;00m file \u001b[38;5;129;01min\u001b[39;00m {\u001b[38;5;241m0\u001b[39m, \u001b[38;5;241m1\u001b[39m, \u001b[38;5;241m2\u001b[39m}:\n\u001b[0;32m    304\u001b[0m     \u001b[38;5;28;01mraise\u001b[39;00m \u001b[38;5;167;01mValueError\u001b[39;00m(\n\u001b[0;32m    305\u001b[0m         \u001b[38;5;124mf\u001b[39m\u001b[38;5;124m\"\u001b[39m\u001b[38;5;124mIPython won\u001b[39m\u001b[38;5;124m'\u001b[39m\u001b[38;5;124mt let you open fd=\u001b[39m\u001b[38;5;132;01m{\u001b[39;00mfile\u001b[38;5;132;01m}\u001b[39;00m\u001b[38;5;124m by default \u001b[39m\u001b[38;5;124m\"\u001b[39m\n\u001b[0;32m    306\u001b[0m         \u001b[38;5;124m\"\u001b[39m\u001b[38;5;124mas it is likely to crash IPython. If you know what you are doing, \u001b[39m\u001b[38;5;124m\"\u001b[39m\n\u001b[0;32m    307\u001b[0m         \u001b[38;5;124m\"\u001b[39m\u001b[38;5;124myou can use builtins\u001b[39m\u001b[38;5;124m'\u001b[39m\u001b[38;5;124m open.\u001b[39m\u001b[38;5;124m\"\u001b[39m\n\u001b[0;32m    308\u001b[0m     )\n\u001b[1;32m--> 310\u001b[0m \u001b[38;5;28;01mreturn\u001b[39;00m io_open(file, \u001b[38;5;241m*\u001b[39margs, \u001b[38;5;241m*\u001b[39m\u001b[38;5;241m*\u001b[39mkwargs)\n",
      "\u001b[1;31mFileNotFoundError\u001b[0m: [Errno 2] No such file or directory: '없는 파일'"
     ]
    }
   ],
   "source": [
    "# 존재하지 않는 파일을 사용하려고 시도했을 떄\n",
    "f = open('없는 파일', 'r')"
   ]
  },
  {
   "cell_type": "code",
   "execution_count": 107,
   "id": "16f2da63-6a36-4b25-9613-c02b2405c7c8",
   "metadata": {},
   "outputs": [
    {
     "ename": "ZeroDivisionError",
     "evalue": "division by zero",
     "output_type": "error",
     "traceback": [
      "\u001b[1;31m---------------------------------------------------------------------------\u001b[0m",
      "\u001b[1;31mZeroDivisionError\u001b[0m                         Traceback (most recent call last)",
      "Cell \u001b[1;32mIn[107], line 2\u001b[0m\n\u001b[0;32m      1\u001b[0m \u001b[38;5;66;03m# 0으로 나누려고 시도했을 때\u001b[39;00m\n\u001b[1;32m----> 2\u001b[0m \u001b[38;5;28mprint\u001b[39m(\u001b[38;5;241m4\u001b[39m\u001b[38;5;241m/\u001b[39m\u001b[38;5;241m0\u001b[39m)\n",
      "\u001b[1;31mZeroDivisionError\u001b[0m: division by zero"
     ]
    }
   ],
   "source": [
    "# 0으로 나누려고 시도했을 때\n",
    "print(4/0)"
   ]
  },
  {
   "cell_type": "code",
   "execution_count": 108,
   "id": "1edc3b36-8bda-4367-ae82-36012236c002",
   "metadata": {},
   "outputs": [
    {
     "ename": "IndexError",
     "evalue": "list index out of range",
     "output_type": "error",
     "traceback": [
      "\u001b[1;31m---------------------------------------------------------------------------\u001b[0m",
      "\u001b[1;31mIndexError\u001b[0m                                Traceback (most recent call last)",
      "Cell \u001b[1;32mIn[108], line 3\u001b[0m\n\u001b[0;32m      1\u001b[0m \u001b[38;5;66;03m#인덱스 요소가 없을 때\u001b[39;00m\n\u001b[0;32m      2\u001b[0m a \u001b[38;5;241m=\u001b[39m [\u001b[38;5;241m1\u001b[39m,\u001b[38;5;241m2\u001b[39m,\u001b[38;5;241m3\u001b[39m]\n\u001b[1;32m----> 3\u001b[0m a[\u001b[38;5;241m3\u001b[39m]\n",
      "\u001b[1;31mIndexError\u001b[0m: list index out of range"
     ]
    }
   ],
   "source": [
    "#인덱스 요소가 없을 때\n",
    "a = [1,2,3]\n",
    "a[3]"
   ]
  },
  {
   "cell_type": "markdown",
   "id": "1809001c-bbeb-407a-990a-851539fe9d29",
   "metadata": {},
   "source": [
    "## 오류 예외 처리 기법"
   ]
  },
  {
   "cell_type": "code",
   "execution_count": 109,
   "id": "a4ef0970-f8b3-4bcc-847b-283129bcacf3",
   "metadata": {},
   "outputs": [
    {
     "name": "stdout",
     "output_type": "stream",
     "text": [
      "0\n"
     ]
    }
   ],
   "source": [
    "# (1) Try-except만 쓰는 방법\n",
    "try : \n",
    "    4/0\n",
    "except :\n",
    "    print(0)\n"
   ]
  },
  {
   "cell_type": "code",
   "execution_count": 110,
   "id": "7355aabc-4114-45db-a07f-d499f2b1abf5",
   "metadata": {},
   "outputs": [
    {
     "ename": "NameError",
     "evalue": "name 'zerodivisionerror' is not defined",
     "output_type": "error",
     "traceback": [
      "\u001b[1;31m---------------------------------------------------------------------------\u001b[0m",
      "\u001b[1;31mZeroDivisionError\u001b[0m                         Traceback (most recent call last)",
      "Cell \u001b[1;32mIn[110], line 3\u001b[0m\n\u001b[0;32m      2\u001b[0m \u001b[38;5;28;01mtry\u001b[39;00m : \n\u001b[1;32m----> 3\u001b[0m     \u001b[38;5;241m4\u001b[39m\u001b[38;5;241m/\u001b[39m\u001b[38;5;241m0\u001b[39m\n\u001b[0;32m      4\u001b[0m \u001b[38;5;28;01mexcept\u001b[39;00m zerodivisionerror:\n",
      "\u001b[1;31mZeroDivisionError\u001b[0m: division by zero",
      "\nDuring handling of the above exception, another exception occurred:\n",
      "\u001b[1;31mNameError\u001b[0m                                 Traceback (most recent call last)",
      "Cell \u001b[1;32mIn[110], line 4\u001b[0m\n\u001b[0;32m      2\u001b[0m \u001b[38;5;28;01mtry\u001b[39;00m : \n\u001b[0;32m      3\u001b[0m     \u001b[38;5;241m4\u001b[39m\u001b[38;5;241m/\u001b[39m\u001b[38;5;241m0\u001b[39m\n\u001b[1;32m----> 4\u001b[0m \u001b[38;5;28;01mexcept\u001b[39;00m zerodivisionerror:\n\u001b[0;32m      5\u001b[0m     \u001b[38;5;28mprint\u001b[39m(\u001b[38;5;241m0\u001b[39m)\n",
      "\u001b[1;31mNameError\u001b[0m: name 'zerodivisionerror' is not defined"
     ]
    }
   ],
   "source": [
    "# (2) 발생 오류만 포함한 except문\n",
    "try : \n",
    "    4/0\n",
    "except zerodivisionerror:\n",
    "    print(0)"
   ]
  },
  {
   "cell_type": "code",
   "execution_count": 112,
   "id": "be5a6821-6c64-4c23-9664-ab7e33408d29",
   "metadata": {},
   "outputs": [
    {
     "name": "stdout",
     "output_type": "stream",
     "text": [
      "division by zero\n"
     ]
    }
   ],
   "source": [
    "# (3) 발생변수와 오류변수까지 포함한 except 문\n",
    "try : \n",
    "    4/0\n",
    "except ZeroDivisionError as e :\n",
    "    print(e)"
   ]
  },
  {
   "cell_type": "markdown",
   "id": "a6b233e8-00dc-4009-bf33-f672deaf92aa",
   "metadata": {},
   "source": [
    "## try-finally 문"
   ]
  },
  {
   "cell_type": "code",
   "execution_count": null,
   "id": "64ce5c13-d751-4877-897d-1d1e54a10cc5",
   "metadata": {},
   "outputs": [],
   "source": [
    "try : \n",
    "    f = open ('foo_2.txt','w')\n",
    "    #무언가를 수행하다 에러가 발생했다\n",
    "\n",
    "finally :\n",
    "    f.close() \n",
    "    # 중간에 오류가 발생하더라도 무조건 실행한다 = 오류 발생시 처리방법 또는 안전장치를 정해둔다"
   ]
  },
  {
   "cell_type": "markdown",
   "id": "d0e961fc-cb9f-4853-bb60-bb0017fb506a",
   "metadata": {},
   "source": [
    "## 여러 개의 오류 처리하기"
   ]
  },
  {
   "cell_type": "code",
   "execution_count": 114,
   "id": "27a4a821-dd61-4bb0-85e0-33fefbfe5e84",
   "metadata": {},
   "outputs": [
    {
     "name": "stdout",
     "output_type": "stream",
     "text": [
      "인덱싱 할 수 없습니다.\n"
     ]
    }
   ],
   "source": [
    "# many_error.py\n",
    "try:\n",
    "    a = [1,2]\n",
    "    print(a[3])\n",
    "    4/0\n",
    "except ZeroDivisionError:\n",
    "    print(\"0으로 나눌 수 없습니다.\")\n",
    "except IndexError:\n",
    "    print(\"인덱싱 할 수 없습니다.\")"
   ]
  },
  {
   "cell_type": "code",
   "execution_count": null,
   "id": "c620de9a-40b2-43eb-bfe8-1f3dfd41a61c",
   "metadata": {},
   "outputs": [],
   "source": [
    "#위에서 먼저 오류 발생"
   ]
  },
  {
   "cell_type": "code",
   "execution_count": 115,
   "id": "704963bd-5a5b-4fb8-b7e0-4aad342fe607",
   "metadata": {},
   "outputs": [
    {
     "name": "stdout",
     "output_type": "stream",
     "text": [
      "list index out of range\n"
     ]
    }
   ],
   "source": [
    "try:\n",
    "    a = [1,2]\n",
    "    print(a[3])\n",
    "    4/0\n",
    "except (ZeroDivisionError, IndexError) as e:\n",
    "    print(e)\n"
   ]
  },
  {
   "cell_type": "code",
   "execution_count": 116,
   "id": "6311541b-c4ae-4d4e-93dd-710a746d5622",
   "metadata": {},
   "outputs": [
    {
     "name": "stdout",
     "output_type": "stream",
     "text": [
      "list index out of range\n"
     ]
    }
   ],
   "source": [
    "try:\n",
    "    a = [1,2]\n",
    "    print(a[3])\n",
    "    4/0\n",
    "except ZeroDivisionError as e:\n",
    "    print(e)\n",
    "except IndexError as e:\n",
    "    print(e)"
   ]
  },
  {
   "cell_type": "code",
   "execution_count": null,
   "id": "12ace1fc-a896-4828-88a4-e6d04d7a32f2",
   "metadata": {},
   "outputs": [],
   "source": [
    "## try-else문"
   ]
  },
  {
   "cell_type": "code",
   "execution_count": null,
   "id": "e33a072c-4469-40f8-8a01-4bafce04709a",
   "metadata": {},
   "outputs": [],
   "source": [
    "try:\n",
    "    ...\n",
    "except [발생오류 [as 오류변수]]:\n",
    "    ...\n",
    "else:  # 오류가 없을 경우에만 수행\n",
    "    ...\n"
   ]
  },
  {
   "cell_type": "code",
   "execution_count": 117,
   "id": "d134bad8-60f4-4439-80ec-edaab0943804",
   "metadata": {},
   "outputs": [
    {
     "name": "stdin",
     "output_type": "stream",
     "text": [
      "나이를 입력하세요:  14\n"
     ]
    },
    {
     "name": "stdout",
     "output_type": "stream",
     "text": [
      "미성년자는 출입금지입니다.\n"
     ]
    }
   ],
   "source": [
    "# try_else.py\n",
    "try:\n",
    "    age=int(input('나이를 입력하세요: '))\n",
    "except:\n",
    "    print('입력이 정확하지 않습니다.')\n",
    "else:\n",
    "    if age <= 18:\n",
    "        print('미성년자는 출입금지입니다.')\n",
    "    else:\n",
    "        print('환영합니다.')\n"
   ]
  },
  {
   "cell_type": "markdown",
   "id": "40eb26cc-25ed-459a-b018-98a3a8b479ac",
   "metadata": {
    "jupyter": {
     "source_hidden": true
    }
   },
   "source": [
    "## 오류 회피하기"
   ]
  },
  {
   "cell_type": "code",
   "execution_count": 118,
   "id": "26126811-3c04-421a-99d0-d77e2e2cebc2",
   "metadata": {},
   "outputs": [],
   "source": [
    "# error_pass.py\n",
    "try:\n",
    "    f = open(\"나없는파일\", 'r')\n",
    "except FileNotFoundError:\n",
    "    pass"
   ]
  },
  {
   "cell_type": "code",
   "execution_count": null,
   "id": "eaaa0cf7-48a2-4de6-be00-e687cb809b20",
   "metadata": {},
   "outputs": [],
   "source": [
    "## 오류 일부러 발생시키기"
   ]
  },
  {
   "cell_type": "code",
   "execution_count": 119,
   "id": "0c0e344a-d32d-45bd-a8ca-03687d62cb82",
   "metadata": {},
   "outputs": [],
   "source": [
    "# error_raise.py\n",
    "class Bird:\n",
    "    def fly(self):\n",
    "        raise NotImplementedError\n"
   ]
  },
  {
   "cell_type": "code",
   "execution_count": null,
   "id": "00e50320-977f-4f8e-821b-3d9418111d35",
   "metadata": {},
   "outputs": [],
   "source": [
    "# 꼭 작성해야하는 부분"
   ]
  },
  {
   "cell_type": "code",
   "execution_count": 120,
   "id": "f80a8f60-fad9-4395-95c4-7509bc8e29d9",
   "metadata": {},
   "outputs": [
    {
     "name": "stdout",
     "output_type": "stream",
     "text": [
      "very fast\n"
     ]
    }
   ],
   "source": [
    "class Eagle(Bird):\n",
    "    def fly(self):\n",
    "        print(\"very fast\")\n",
    "\n",
    "eagle = Eagle()\n",
    "eagle.fly()\n"
   ]
  },
  {
   "cell_type": "code",
   "execution_count": 121,
   "id": "9f2cf41c-dad6-4209-aa1f-a1ae23799963",
   "metadata": {},
   "outputs": [],
   "source": [
    "## 예외 만들기"
   ]
  },
  {
   "cell_type": "code",
   "execution_count": 122,
   "id": "fa409fcb-8aed-4748-8253-346859a8350c",
   "metadata": {},
   "outputs": [],
   "source": [
    "# error_make.py\n",
    "class MyError(Exception):\n",
    "    pass"
   ]
  },
  {
   "cell_type": "code",
   "execution_count": 123,
   "id": "3ce66eeb-f671-4e63-80a4-067cd7deb980",
   "metadata": {},
   "outputs": [],
   "source": [
    "def say_nick(nick):\n",
    "    if nick == '바보':\n",
    "        raise MyError()\n",
    "    print(nick)"
   ]
  },
  {
   "cell_type": "code",
   "execution_count": 124,
   "id": "6980874a-8272-4f12-89ed-91f5a203ab02",
   "metadata": {},
   "outputs": [
    {
     "name": "stdout",
     "output_type": "stream",
     "text": [
      "천사\n"
     ]
    },
    {
     "ename": "MyError",
     "evalue": "",
     "output_type": "error",
     "traceback": [
      "\u001b[1;31m---------------------------------------------------------------------------\u001b[0m",
      "\u001b[1;31mMyError\u001b[0m                                   Traceback (most recent call last)",
      "Cell \u001b[1;32mIn[124], line 2\u001b[0m\n\u001b[0;32m      1\u001b[0m say_nick(\u001b[38;5;124m\"\u001b[39m\u001b[38;5;124m천사\u001b[39m\u001b[38;5;124m\"\u001b[39m)\n\u001b[1;32m----> 2\u001b[0m say_nick(\u001b[38;5;124m\"\u001b[39m\u001b[38;5;124m바보\u001b[39m\u001b[38;5;124m\"\u001b[39m)\n",
      "Cell \u001b[1;32mIn[123], line 3\u001b[0m, in \u001b[0;36msay_nick\u001b[1;34m(nick)\u001b[0m\n\u001b[0;32m      1\u001b[0m \u001b[38;5;28;01mdef\u001b[39;00m \u001b[38;5;21msay_nick\u001b[39m(nick):\n\u001b[0;32m      2\u001b[0m     \u001b[38;5;28;01mif\u001b[39;00m nick \u001b[38;5;241m==\u001b[39m \u001b[38;5;124m'\u001b[39m\u001b[38;5;124m바보\u001b[39m\u001b[38;5;124m'\u001b[39m:\n\u001b[1;32m----> 3\u001b[0m         \u001b[38;5;28;01mraise\u001b[39;00m MyError()\n\u001b[0;32m      4\u001b[0m     \u001b[38;5;28mprint\u001b[39m(nick)\n",
      "\u001b[1;31mMyError\u001b[0m: "
     ]
    }
   ],
   "source": [
    "say_nick(\"천사\")\n",
    "say_nick(\"바보\")\n"
   ]
  },
  {
   "cell_type": "code",
   "execution_count": 125,
   "id": "a404d3da-5038-4100-b533-6213998e92fa",
   "metadata": {},
   "outputs": [
    {
     "name": "stdout",
     "output_type": "stream",
     "text": [
      "천사\n",
      "허용되지 않는 별명입니다.\n"
     ]
    }
   ],
   "source": [
    "try:\n",
    "    say_nick(\"천사\")\n",
    "    say_nick(\"바보\")\n",
    "except MyError:\n",
    "    print(\"허용되지 않는 별명입니다.\")\n"
   ]
  }
 ],
 "metadata": {
  "kernelspec": {
   "display_name": "Python 3 (ipykernel)",
   "language": "python",
   "name": "python3"
  },
  "language_info": {
   "codemirror_mode": {
    "name": "ipython",
    "version": 3
   },
   "file_extension": ".py",
   "mimetype": "text/x-python",
   "name": "python",
   "nbconvert_exporter": "python",
   "pygments_lexer": "ipython3",
   "version": "3.11.7"
  }
 },
 "nbformat": 4,
 "nbformat_minor": 5
}
