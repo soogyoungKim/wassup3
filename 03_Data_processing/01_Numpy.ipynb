{
 "cells": [
  {
   "cell_type": "markdown",
   "id": "e3fa535d-ffc6-4389-a0a6-476190c80eff",
   "metadata": {},
   "source": [
    "## 넘파이 개요\n",
    "\n",
    "Numeric + Python = Numpy\r\n",
    "수학 및 과학 연산을 위한 파이썬 패키지\r\n",
    "배열이나 행렬 계산에 용이한 메서드를 제공\r\n",
    "한글로 넘파이로 주로 통칭, 넘피/늄파이라고 부르기도 함\r\n",
    "관련 사이트 : http://www.numpy.org\r\n",
    "일반 List에 비해 빠르고, 메모리 효율적\r\n",
    "\r\n",
    "반복문 없이 데이터 배열에 대한 처리를 지원함\r\n",
    "선형대수와 관련된 다양한 기능을 제공함\r\n",
    "Reference Site\r\n",
    "cs231 : http://cs231n.github.io/python-numpy-tutorial/#numpy\r\n",
    "https://docs.scipy.org/doc/numpy-dev/user/quickstart.html\r\n",
    "데이터사이언스스쿨(파이썬버전) - https://goo.gl/3hsjbS"
   ]
  },
  {
   "cell_type": "markdown",
   "id": "16918ae8-d881-4825-91a8-f60c7236f7a0",
   "metadata": {},
   "source": [
    "### 설치 및 임포트\n",
    "\n",
    "넘파이는 외부 라이브러리이므로 설치 필요.(아나콘다는 사전 설치됨)\n",
    "pip install numpy"
   ]
  },
  {
   "cell_type": "code",
   "execution_count": 8,
   "id": "8db2f8f1-92d9-4a49-aed4-ca24ae550925",
   "metadata": {},
   "outputs": [
    {
     "data": {
      "text/plain": [
       "'1.26.4'"
      ]
     },
     "execution_count": 8,
     "metadata": {},
     "output_type": "execute_result"
    }
   ],
   "source": [
    "import numpy as np\n",
    "np.__version__"
   ]
  },
  {
   "cell_type": "markdown",
   "id": "21a09245-84cd-4dca-98dd-a3fb92ff82fd",
   "metadata": {},
   "source": [
    "## 넘파이 배열 이해하기"
   ]
  },
  {
   "cell_type": "markdown",
   "id": "12d09405-9607-4a0c-8a76-139706ae2dc0",
   "metadata": {},
   "source": [
    "### ndim(dimention, rank) > 몇 차원인지 반환"
   ]
  },
  {
   "cell_type": "code",
   "execution_count": 9,
   "id": "743a3614-f659-467b-989c-02299cfccc19",
   "metadata": {},
   "outputs": [
    {
     "data": {
      "text/plain": [
       "(array(0), 0, numpy.ndarray)"
      ]
     },
     "execution_count": 9,
     "metadata": {},
     "output_type": "execute_result"
    }
   ],
   "source": [
    "a = np.array(0)\n",
    "a, a.ndim, type(a)"
   ]
  },
  {
   "cell_type": "code",
   "execution_count": 10,
   "id": "0fc246b2-b17a-4373-b5b1-20da866baca5",
   "metadata": {},
   "outputs": [
    {
     "data": {
      "text/plain": [
       "(array([2, 4, 6]), 1, numpy.ndarray)"
      ]
     },
     "execution_count": 10,
     "metadata": {},
     "output_type": "execute_result"
    }
   ],
   "source": [
    "a = np.array([2,4,6])\n",
    "a, a.ndim, type(a)"
   ]
  },
  {
   "cell_type": "code",
   "execution_count": 11,
   "id": "e1d007b4-a5f2-4c83-b4be-2cf0eedb5bb4",
   "metadata": {},
   "outputs": [],
   "source": [
    "# a.dim은 차원을 의미함"
   ]
  },
  {
   "cell_type": "code",
   "execution_count": 12,
   "id": "e46ec1ad-8e50-4c3c-ade3-a7f7131ca713",
   "metadata": {},
   "outputs": [
    {
     "data": {
      "text/plain": [
       "[[1, 2, 3], [4, 5, 6]]"
      ]
     },
     "execution_count": 12,
     "metadata": {},
     "output_type": "execute_result"
    }
   ],
   "source": [
    "a = [[1,2,3], [4,5,6]]\n",
    "a"
   ]
  },
  {
   "cell_type": "code",
   "execution_count": 13,
   "id": "4f29263e-24de-447e-8aa2-05d1739e0bfc",
   "metadata": {},
   "outputs": [
    {
     "data": {
      "text/plain": [
       "(array([[1, 2, 3],\n",
       "        [4, 5, 6]]),\n",
       " 2,\n",
       " numpy.ndarray)"
      ]
     },
     "execution_count": 13,
     "metadata": {},
     "output_type": "execute_result"
    }
   ],
   "source": [
    "a = np.array([[1,2,3], [4,5,6]])\n",
    "a, a.ndim, type(a)"
   ]
  },
  {
   "cell_type": "code",
   "execution_count": 14,
   "id": "e0a4d74f-f47a-4809-a3b2-47d3b4cbe644",
   "metadata": {},
   "outputs": [
    {
     "data": {
      "text/plain": [
       "(array([[[1, 2, 3],\n",
       "         [4, 5, 6]],\n",
       " \n",
       "        [[1, 2, 3],\n",
       "         [4, 5, 6]]]),\n",
       " 3,\n",
       " numpy.ndarray)"
      ]
     },
     "execution_count": 14,
     "metadata": {},
     "output_type": "execute_result"
    }
   ],
   "source": [
    "a = np.array([[[1,2,3], [4,5,6]], [[1,2,3], [4,5,6]]])\n",
    "a, a.ndim, type(a)"
   ]
  },
  {
   "cell_type": "markdown",
   "id": "9c794698-9a91-456b-b403-ddfd13034566",
   "metadata": {},
   "source": [
    "### shape"
   ]
  },
  {
   "cell_type": "code",
   "execution_count": 15,
   "id": "17b39b8e-38e4-4e91-a488-d7d30c0513ca",
   "metadata": {},
   "outputs": [
    {
     "data": {
      "text/plain": [
       "\u001b[1;31mType:\u001b[0m        tuple\n",
       "\u001b[1;31mString form:\u001b[0m (2, 2, 3)\n",
       "\u001b[1;31mLength:\u001b[0m      3\n",
       "\u001b[1;31mDocstring:\u001b[0m  \n",
       "Built-in immutable sequence.\n",
       "\n",
       "If no argument is given, the constructor returns an empty tuple.\n",
       "If iterable is specified the tuple is initialized from iterable's items.\n",
       "\n",
       "If the argument is a tuple, the return value is the same object."
      ]
     },
     "metadata": {},
     "output_type": "display_data"
    }
   ],
   "source": [
    "a.shape?"
   ]
  },
  {
   "cell_type": "code",
   "execution_count": 16,
   "id": "5b884d0e-bb56-4f67-8d0a-a726af643b9a",
   "metadata": {},
   "outputs": [],
   "source": [
    "# 2행 3열이 2개가 있다"
   ]
  },
  {
   "cell_type": "code",
   "execution_count": 17,
   "id": "5b746e1d-7dc9-402a-ba95-de4e56c152d8",
   "metadata": {},
   "outputs": [
    {
     "data": {
      "text/plain": [
       "(array(3), ())"
      ]
     },
     "execution_count": 17,
     "metadata": {},
     "output_type": "execute_result"
    }
   ],
   "source": [
    "a = np.array(3)\n",
    "a, a.shape #행렬이 아니기 때문"
   ]
  },
  {
   "cell_type": "code",
   "execution_count": 18,
   "id": "b2d158a1-90b4-478a-b5e2-33f9ed7d8641",
   "metadata": {},
   "outputs": [
    {
     "data": {
      "text/plain": [
       "(array([1, 3, 5, 7, 9]), (5,))"
      ]
     },
     "execution_count": 18,
     "metadata": {},
     "output_type": "execute_result"
    }
   ],
   "source": [
    "a = np.array([1,3,5,7,9])\n",
    "a, a.shape"
   ]
  },
  {
   "cell_type": "code",
   "execution_count": 19,
   "id": "606d3172-541e-431d-93e1-d6ecba97bbb7",
   "metadata": {},
   "outputs": [
    {
     "data": {
      "text/plain": [
       "(array([[1, 2, 3],\n",
       "        [4, 5, 6]]),\n",
       " (2, 3))"
      ]
     },
     "execution_count": 19,
     "metadata": {},
     "output_type": "execute_result"
    }
   ],
   "source": [
    "a = np.array([[1,2,3], [4,5,6]])\n",
    "a, a.shape"
   ]
  },
  {
   "cell_type": "code",
   "execution_count": 20,
   "id": "47e0e8de-b55d-46b4-8787-3d2e81e6b15c",
   "metadata": {},
   "outputs": [
    {
     "data": {
      "text/plain": [
       "(array([[[0, 0, 0, 0],\n",
       "         [0, 0, 0, 0],\n",
       "         [0, 0, 0, 0]],\n",
       " \n",
       "        [[0, 0, 0, 0],\n",
       "         [0, 0, 0, 0],\n",
       "         [0, 0, 0, 0]]]),\n",
       " (2, 3, 4))"
      ]
     },
     "execution_count": 20,
     "metadata": {},
     "output_type": "execute_result"
    }
   ],
   "source": [
    "a = np.array([[[0, 0, 0, 0], [0, 0, 0, 0], [0, 0, 0, 0]], [[0, 0, 0, 0], [0, 0, 0, 0], [0, 0, 0, 0]]])\n",
    "a, a.shape # 2개의 3행 4열"
   ]
  },
  {
   "cell_type": "code",
   "execution_count": 21,
   "id": "e524c27b-b574-478e-a1b0-768893a853a7",
   "metadata": {},
   "outputs": [
    {
     "data": {
      "text/plain": [
       "3"
      ]
     },
     "execution_count": 21,
     "metadata": {},
     "output_type": "execute_result"
    }
   ],
   "source": [
    "a.ndim"
   ]
  },
  {
   "cell_type": "markdown",
   "id": "4f6811ca-e59d-4711-b327-2bd4274aaff6",
   "metadata": {},
   "source": [
    "### 넘파이 배열"
   ]
  },
  {
   "cell_type": "code",
   "execution_count": 22,
   "id": "c7d10200-79d9-4226-93db-8b8d7f42d96f",
   "metadata": {},
   "outputs": [
    {
     "ename": "SyntaxError",
     "evalue": "invalid syntax (1705109338.py, line 1)",
     "output_type": "error",
     "traceback": [
      "\u001b[1;36m  Cell \u001b[1;32mIn[22], line 1\u001b[1;36m\u001b[0m\n\u001b[1;33m    리스트를 넘파이 배열로 생성 np.array(리스트)\u001b[0m\n\u001b[1;37m         ^\u001b[0m\n\u001b[1;31mSyntaxError\u001b[0m\u001b[1;31m:\u001b[0m invalid syntax\n"
     ]
    }
   ],
   "source": [
    "리스트를 넘파이 배열로 생성 np.array(리스트)\n",
    "관련 속성 : ndim 차원 반환 int , size 전체 길이 반환 int, shape 구조 반환 tuple"
   ]
  },
  {
   "cell_type": "code",
   "execution_count": null,
   "id": "2c340ffc-4234-46ee-a1bd-48a6d3aa90ef",
   "metadata": {},
   "outputs": [],
   "source": [
    "# 1차원 리스트 객체(이터러블)\n",
    "myList = [10, 56, 77, 23, 44]\n",
    "print(myList, type(myList), len(myList))"
   ]
  },
  {
   "cell_type": "code",
   "execution_count": null,
   "id": "3fd07ea9-fbf1-4eb0-8717-6e77ccc9f2c7",
   "metadata": {},
   "outputs": [],
   "source": [
    "myArr = np.array(myList)\n",
    "print(myArr, type(myArr), len(myArr))\n",
    "print(f'차원={myArr.ndim}, 구조={myArr.shape}, size={myArr.size}, 길이={len(myArr)}')"
   ]
  },
  {
   "cell_type": "code",
   "execution_count": null,
   "id": "d91c4342-9fc3-4930-8b14-15d7da5cd139",
   "metadata": {},
   "outputs": [],
   "source": [
    "myArr"
   ]
  },
  {
   "cell_type": "code",
   "execution_count": null,
   "id": "54de433b-a198-46a5-8cc4-c739facb6925",
   "metadata": {},
   "outputs": [],
   "source": [
    "# 2차원 리스트 객체(이터러블)\n",
    "myList2 = [[1,2,3 ],[10,20,30],[100,200,300]]\n",
    "myList2, len(myList2)"
   ]
  },
  {
   "cell_type": "code",
   "execution_count": null,
   "id": "8d15267e-2d0f-4ddf-a619-67bbccf18564",
   "metadata": {},
   "outputs": [],
   "source": [
    "myArr2 = np.array(myList2)\n",
    "print(myArr2, type(myArr2), len(myArr2))\n",
    "print(f'차원= {myArr2.ndim}, 구조 = {myArr2.shape}, size = {myArr2.size}, 길이={len(myArr2)}' )"
   ]
  },
  {
   "cell_type": "code",
   "execution_count": null,
   "id": "51d7773f-8e26-43e5-b905-d6d9a06a6414",
   "metadata": {},
   "outputs": [],
   "source": [
    "# 2차원 리스트에서 각 행의 수가 다를 경우?\n",
    "myList21 = [ [1,2,3,4],[10,20,30,40,50],[100,200,]]\n",
    "print(myList21, type(myList21), len(myList21))"
   ]
  },
  {
   "cell_type": "code",
   "execution_count": null,
   "id": "dc3cc5f7-fcc3-4175-b746-9fd12d535216",
   "metadata": {},
   "outputs": [],
   "source": [
    "# 길이가 달라 에러 리턴\n",
    "myArr21 = np.array(myList21)\n",
    "print(myArr21, type(myArr21), len(myArr21))\n",
    "print(f'차원= {myArr21.ndim}, 구조 = {myArr21.shape}, size = {myArr21.size}')"
   ]
  },
  {
   "cell_type": "markdown",
   "id": "408abfbb-18ca-49a4-82d7-039212aa7e6f",
   "metadata": {},
   "source": [
    "### 넘파이 배열과 리스트와의 차이점\n",
    "\n",
    "배열간의 연산 가능 \"브로드캐스팅\", 요소별 연산(element-wise)\n",
    "넘파이 메서드 사용 가능 : 평균, 상관계수, 분산, 표준편차 등\n",
    "리스트는 자료형 혼합 가능, 넘파이배열은 하나의 자료형만 가능"
   ]
  },
  {
   "cell_type": "code",
   "execution_count": null,
   "id": "db3e45c9-ce00-498c-946f-ab49c5c1ef9f",
   "metadata": {},
   "outputs": [],
   "source": [
    "# 리스트의 산술연산자 +, * \n",
    "listA = [10, 30, 50]\n",
    "listB = [1, 2, 3]\n",
    "print(listA + listB) # 리스트의 + 연산자는 조인역할\n",
    "print(listA + 2) # 불가"
   ]
  },
  {
   "cell_type": "code",
   "execution_count": null,
   "id": "56acc053-79d6-4d06-bce9-00fb083093f9",
   "metadata": {},
   "outputs": [],
   "source": [
    "print(listA * 2) # 해당 리스트의 반복\n",
    "print(listA * listB) # 불가"
   ]
  },
  {
   "cell_type": "code",
   "execution_count": null,
   "id": "917698be-7512-4e29-a714-b2baf30b6610",
   "metadata": {},
   "outputs": [],
   "source": [
    "# 넘파이의 산술연산\n",
    "arrA = np.array([1, 2, 3])\n",
    "print(arrA + 2)\n",
    "print(arrA * 2)"
   ]
  },
  {
   "cell_type": "code",
   "execution_count": null,
   "id": "6cbab8f9-335b-479c-a6c0-97b13e699df8",
   "metadata": {},
   "outputs": [],
   "source": [
    "arrB = np.array([4, 5, 6])\n",
    "print(arrA + arrB)\n",
    "print(arrA * arrB)\n",
    "print(arrA / arrB)\n",
    "print(arrA // arrB) # 몫\n",
    "print(arrA % arrB) # 나머지"
   ]
  },
  {
   "cell_type": "markdown",
   "id": "9f0aae81-95bf-47c8-b530-44f993b097a3",
   "metadata": {},
   "source": [
    "### dtype\n",
    "\n",
    "https://numpy.org/doc/stable/reference/arrays.dtypes.html\n",
    "데이터 U유형은 각 유니코드 문자를 32비트 정수(예: 4바이트)로 저장합니다. (유니코드 스트링 dtype 인수로 지정할 자료형은 다음 표에 보인것과 같은 “dtype 접두사”로 시작하는 문자열이고 이 글자 뒤에 오는 숫자는 바이트 수 혹은 글자 수를 의미한다.\n",
    "예를 들어 f8은 8바이트(64비트) 부동소수점 실수를 뜻하고 U4 는 4글자 유니코드 문자열을 뜻한다\n",
    "숫자를 생략하면 운영체제에 따라 알맞은 크기를 지정한다."
   ]
  },
  {
   "cell_type": "code",
   "execution_count": null,
   "id": "3f8b6ef2-1328-424f-b9f4-082434fc1fc0",
   "metadata": {},
   "outputs": [],
   "source": [
    "# 자료형 테스트\n",
    "myList_c = ['안녕', 100, 3.14, True, False] # 리스트는 혼합된 형 그대로 유지\n",
    "print(myList_c)"
   ]
  },
  {
   "cell_type": "code",
   "execution_count": null,
   "id": "b9d59db1-6a4c-4d8b-a795-fd89965bdc4a",
   "metadata": {},
   "outputs": [],
   "source": [
    "myArr_c = np.array(myList_c) # 넘파이배열은 범위가 큰 자료형 '문자열'로 통일 자동형변환\n",
    "print(myArr_c, type(myArr_c), myArr_c.dtype)"
   ]
  },
  {
   "cell_type": "code",
   "execution_count": null,
   "id": "defab299-e3c6-44e8-8cf6-f53f38351739",
   "metadata": {},
   "outputs": [],
   "source": [
    "# 정수와 실수가 혼합된 넘파이 배열\n",
    "myArr_d = np.array([100, 3.14, 23.5, 0])\n",
    "print(myArr_d, type(myArr_d), myArr_d.dtype) # 정수와 실수 혼합시, 더 큰 실수형으로 통일 자동형변환"
   ]
  },
  {
   "cell_type": "markdown",
   "id": "6ebfabb8-3538-407f-8d55-c0e643ae211c",
   "metadata": {},
   "source": [
    "### Inf와 NaN\n",
    "\n",
    "넘파이에서는 무한대를 표현하기 위한 np.inf(infinity)와 정의할 수 없는 숫자를 나타내는 np.nan(not a number)을 사용할 수 있다.\r\n",
    "다음 예와 같이 1을 0으로 나누려고 하거나 0에 대한 로그 값을 계산하면 무한대인 np.inf이 나온다.\r\n",
    "0을 0으로 나누려고 시도하면 np.nan이 나온다."
   ]
  },
  {
   "cell_type": "code",
   "execution_count": null,
   "id": "afae70da-8885-4636-be30-9be84e47c49c",
   "metadata": {},
   "outputs": [],
   "source": [
    "np.array([0, 1, -1, 0]) / np.array([1, 0, 0, 0])"
   ]
  },
  {
   "cell_type": "code",
   "execution_count": null,
   "id": "2d10755d-0938-4031-b8a9-8bade695de2c",
   "metadata": {},
   "outputs": [],
   "source": [
    "np.log(0)"
   ]
  },
  {
   "cell_type": "code",
   "execution_count": null,
   "id": "d402c7cd-e70a-431d-9e65-7437b57ea811",
   "metadata": {},
   "outputs": [],
   "source": [
    "np.exp(-np.inf)"
   ]
  },
  {
   "cell_type": "markdown",
   "id": "f94d7db9-cddc-477c-a7d9-a0178164fc5b",
   "metadata": {},
   "source": [
    "### 기술통계"
   ]
  },
  {
   "cell_type": "code",
   "execution_count": null,
   "id": "ed49e23d-4081-4cbe-87be-4e30429cbee3",
   "metadata": {},
   "outputs": [],
   "source": [
    "x = np.array([18,   5,  10,  23,  19,  -8,  10,   0,   0,   5,   2,  15,   8,\n",
    "              2,   5,   4,  15,  -1,   4,  -7, -24,   7,   9,  -6,  23, -13])"
   ]
  },
  {
   "cell_type": "code",
   "execution_count": null,
   "id": "62ebce76-ab95-4ac2-9b9a-22e4eee70e4e",
   "metadata": {},
   "outputs": [],
   "source": [
    "x.mean() #mean = 평균"
   ]
  },
  {
   "cell_type": "code",
   "execution_count": null,
   "id": "b3d49aed-6112-4c90-9801-59870b895c99",
   "metadata": {},
   "outputs": [],
   "source": [
    "np.mean(x)  # 평균"
   ]
  },
  {
   "cell_type": "code",
   "execution_count": null,
   "id": "09c7d264-f2b5-42ba-8676-bd3cf5a59f6a",
   "metadata": {},
   "outputs": [],
   "source": [
    "np.var(x)  # 분산"
   ]
  },
  {
   "cell_type": "code",
   "execution_count": null,
   "id": "8b38cad1-58f5-4d5b-bc21-11e38267df08",
   "metadata": {},
   "outputs": [],
   "source": [
    "np.std(x)  # 표준 편차"
   ]
  },
  {
   "cell_type": "code",
   "execution_count": null,
   "id": "7ef3a981-29eb-4bc8-b097-7db63f1d141e",
   "metadata": {},
   "outputs": [],
   "source": [
    "np.max(x)  # 최댓값"
   ]
  },
  {
   "cell_type": "code",
   "execution_count": null,
   "id": "d903890d-3931-4e8b-b4e4-04bf01de31eb",
   "metadata": {},
   "outputs": [],
   "source": [
    "np.min(x)  # 최소값"
   ]
  },
  {
   "cell_type": "code",
   "execution_count": null,
   "id": "d83a2e19-a3ae-4342-b013-e2f295c3520c",
   "metadata": {},
   "outputs": [],
   "source": [
    "np.median(x)  # 중앙값"
   ]
  },
  {
   "cell_type": "markdown",
   "id": "59ed9ef5-4d55-46a4-88ef-ddc45e8ccc47",
   "metadata": {},
   "source": [
    "### 사분위수\n",
    "\n",
    "사분위수(quartile)는 데이터를 가장 작은 수부터 가장 큰 수까지 크기가 커지는 순서대로 정렬하였을 때 1/4, 2/4, 3/4 위치에 있는 수를 말한다.\r\n",
    "각각 1사분위수, 2사분위수, 3사분위수라고 한다.\r\n",
    "1/4의 위치란 전체 데이터의 수가 만약 100개이면 25번째 순서, 즉 하위 25%를 말한다. 따라서 2사분위수는 중앙값과 같다.\r\n",
    "\r\n",
    "때로는 위치를 1/100 단위로 나눈 백분위수(percentile)을 사용하기도 한다. 1사분위수는 25% 백분위수와 같다."
   ]
  },
  {
   "cell_type": "code",
   "execution_count": null,
   "id": "08c1b007-d53e-4091-b21b-5e5ee80d0e96",
   "metadata": {},
   "outputs": [],
   "source": [
    "np.percentile(x, 0)  # 최소값"
   ]
  },
  {
   "cell_type": "code",
   "execution_count": null,
   "id": "86649981-9b39-4306-bc09-1b5034a0d856",
   "metadata": {},
   "outputs": [],
   "source": [
    "np.percentile(x, 25)  # 1사분위 수"
   ]
  },
  {
   "cell_type": "code",
   "execution_count": null,
   "id": "490e7808-6abd-4df4-a932-6cc213aac6d6",
   "metadata": {},
   "outputs": [],
   "source": [
    "np.percentile(x, 50)  # 2사분위 수"
   ]
  },
  {
   "cell_type": "code",
   "execution_count": null,
   "id": "206f2835-2991-4b4f-abf3-5ecdbb4b8ad5",
   "metadata": {},
   "outputs": [],
   "source": [
    "np.percentile(x, 75)  # 3사분위 수"
   ]
  },
  {
   "cell_type": "code",
   "execution_count": null,
   "id": "49bcf37a-d80e-4126-8eeb-faf5d74d12fa",
   "metadata": {},
   "outputs": [],
   "source": [
    "np.percentile(x, 100)  # 최댓값"
   ]
  },
  {
   "cell_type": "markdown",
   "id": "304767ff-bd59-4c19-b319-c71f59d7c395",
   "metadata": {},
   "source": [
    "### 넘파이 함수로 배열 만들기\n",
    "\n",
    "np.ones(n) , np.ones((x, y))\r\n",
    "np.zeros(n) , np.zeros((x, y))\r\n",
    "np.empty(n) , np.empty((x, y))\r\n",
    "np.aranges(start, end step)\r\n",
    "\r\n",
    "reshape(x, y) # 차원 확대\r\n",
    "flatten(x, y) # 차원 축소"
   ]
  },
  {
   "cell_type": "code",
   "execution_count": null,
   "id": "aa052141-36de-4ffc-a67b-f2d9a411f477",
   "metadata": {},
   "outputs": [],
   "source": [
    "# 1로 메모리 초기화, 넘파이 함수로 배열을 만들때에는 디폴트가 실수형\n",
    "print(np.ones(10), np.ones(10).dtype) "
   ]
  },
  {
   "cell_type": "code",
   "execution_count": null,
   "id": "67a57b1f-be39-43cb-baed-e3ffeabd5fff",
   "metadata": {},
   "outputs": [],
   "source": [
    "print(np.ones((2,4)), np.ones((2,4)).dtype)"
   ]
  },
  {
   "cell_type": "code",
   "execution_count": null,
   "id": "86009c96-33df-4fee-8941-c3d41d4ed48c",
   "metadata": {},
   "outputs": [],
   "source": [
    "np.ones?"
   ]
  },
  {
   "cell_type": "code",
   "execution_count": null,
   "id": "b4d1a9be-5ab4-492b-b5f2-400b22726a7f",
   "metadata": {},
   "outputs": [],
   "source": [
    "print(np.ones(10, dtype = int), np.ones(10, dtype = int).dtype)"
   ]
  },
  {
   "cell_type": "code",
   "execution_count": null,
   "id": "7d32e3e3-6c83-4d19-942d-be83a1323f1a",
   "metadata": {},
   "outputs": [],
   "source": [
    "# 0으로 메모리 초기화\n",
    "print(np.zeros(10), np.zeros(10).dtype)"
   ]
  },
  {
   "cell_type": "code",
   "execution_count": null,
   "id": "b84ca23e-f30c-4e11-b00a-82f168d03aff",
   "metadata": {},
   "outputs": [],
   "source": [
    "print(np.zeros((3,3)), np.zeros((3,3)).dtype)"
   ]
  },
  {
   "cell_type": "code",
   "execution_count": null,
   "id": "cc2662dd-2208-447c-badc-53184cfc2774",
   "metadata": {},
   "outputs": [],
   "source": [
    "np.empty?"
   ]
  },
  {
   "cell_type": "code",
   "execution_count": null,
   "id": "03a9136d-ce78-45a7-912a-05c0f8c196a4",
   "metadata": {},
   "outputs": [],
   "source": [
    "# 메모리가 비어있음 -> 메모리가 초기화 되지 않는다.\n",
    "print(np.empty(10), np.empty(10).dtype)\n",
    "print(np.empty((3,3)), np.empty((3,3)).dtype)\n",
    "print(np.empty((3,3)))\n",
    "print(np.empty((3,3), dtype=int))  # 기존 메모리에 있던 값을 출력한다.(정확히 알수 없음)"
   ]
  },
  {
   "cell_type": "code",
   "execution_count": null,
   "id": "8e52c8de-46f7-46d4-b57a-2c7924775a4f",
   "metadata": {},
   "outputs": [],
   "source": [
    "# 리스트+레인지\n",
    "print( list(range(1,21)), type(list(range(1,21))) )"
   ]
  },
  {
   "cell_type": "code",
   "execution_count": null,
   "id": "8c6a1f6f-7c59-42e4-93e8-628b43cd4fe1",
   "metadata": {},
   "outputs": [],
   "source": [
    "# 1~20으로 구성된 4행 5열의 넘파이 배열print(np.array(list(range(1,21))), type(list(range(1,21))))\n",
    "print(np.arange(20), type(np.arange(20)))\n",
    "print(np.arange(1, 20), type(np.arange(1, 20)))\n",
    "print(np.arange(1, 20, 2), type(np.arange(1, 20,2)))"
   ]
  },
  {
   "cell_type": "code",
   "execution_count": null,
   "id": "5d1dd2ef-a038-4acc-b827-be17f452428d",
   "metadata": {},
   "outputs": [],
   "source": [
    "# 0~49까지 구성된 넘파이 배열\n",
    "arr = np.arange(50)\n",
    "print(arr, len(arr), arr.size)"
   ]
  },
  {
   "cell_type": "code",
   "execution_count": null,
   "id": "60d69fa1-c51a-45e9-93d0-563de16029a0",
   "metadata": {},
   "outputs": [],
   "source": [
    "# linspace 명령이나 logspace 명령은 선형 구간 혹은 로그 구간을 지정한 구간의 수만큼 분할한다.\n",
    "np.linspace(0, 100, 5)  # 시작, 끝(포함), 갯수"
   ]
  },
  {
   "cell_type": "code",
   "execution_count": null,
   "id": "c07bbff2-ccaa-4347-916b-f77141d9ee0e",
   "metadata": {},
   "outputs": [],
   "source": [
    "np.linspace?"
   ]
  },
  {
   "cell_type": "code",
   "execution_count": null,
   "id": "f53b4b7e-7e84-47bd-8a83-f83d36990ebf",
   "metadata": {},
   "outputs": [],
   "source": [
    "np.logspace?"
   ]
  },
  {
   "cell_type": "code",
   "execution_count": null,
   "id": "7b5ee572-8e7b-4da5-8394-004e412f0a75",
   "metadata": {},
   "outputs": [],
   "source": [
    "np.logspace(0.1, 1, 10)"
   ]
  },
  {
   "cell_type": "markdown",
   "id": "894dd311-95e1-4d34-bada-e6affd708c5e",
   "metadata": {},
   "source": [
    "### reshape 구조의 재배열\n",
    "\n",
    "reshape함수는 np.reshape(변경할 배열, 차원) 또는 배열.reshape(차원)으로 사용 할 수 있으며,\n",
    "현재의 배열의 차원(1차원,2차원,3차원)을 변경하여 행렬을 반환하거나 하는 경우에 많이 이용되는 함수이다."
   ]
  },
  {
   "cell_type": "code",
   "execution_count": null,
   "id": "e7f3d5b6-43df-4958-8b87-3e361c9bafd9",
   "metadata": {},
   "outputs": [],
   "source": [
    "arr, arr.ndim, arr.shape"
   ]
  },
  {
   "cell_type": "code",
   "execution_count": null,
   "id": "3f0d3a3e-5cce-4356-bfa0-c4023d52193c",
   "metadata": {},
   "outputs": [],
   "source": [
    "arr = arr.reshape(10,5)\n",
    "arr, arr.ndim, arr.shape"
   ]
  },
  {
   "cell_type": "code",
   "execution_count": null,
   "id": "132142f4-78a7-4a85-8d27-88a1b09f9389",
   "metadata": {},
   "outputs": [],
   "source": [
    "arr2 = arr.reshape(5,10)\n",
    "arr2, arr2.ndim, arr2.shape"
   ]
  },
  {
   "cell_type": "code",
   "execution_count": null,
   "id": "e878e8f4-89b0-4a08-90b9-5c8c3519dc72",
   "metadata": {},
   "outputs": [],
   "source": [
    "# 2차원 -> 1차원\n",
    "# 넘파이배열.flatten()\n",
    "arr3 = arr2.flatten()\n",
    "arr3, arr3.shape, arr3.ndim"
   ]
  },
  {
   "cell_type": "code",
   "execution_count": null,
   "id": "2c82ab63-49e5-48e6-94ae-61df10a67055",
   "metadata": {},
   "outputs": [],
   "source": [
    "# 1~100 사이의 짝수로 된 넘파이 배열 생성\n",
    "np.arange(2,101,2)"
   ]
  },
  {
   "cell_type": "code",
   "execution_count": null,
   "id": "0d399fa8-545b-4744-9c17-6739658ac997",
   "metadata": {},
   "outputs": [],
   "source": [
    "print(np.arange(2,101,2).reshape(5,10))"
   ]
  },
  {
   "cell_type": "code",
   "execution_count": null,
   "id": "0abfc678-96d5-4900-8536-d5de0408e96a",
   "metadata": {},
   "outputs": [],
   "source": [
    "np.arange(1, 31)"
   ]
  },
  {
   "cell_type": "code",
   "execution_count": null,
   "id": "5fb7a20a-c1c7-42f4-9ef8-aee18c6d13cc",
   "metadata": {},
   "outputs": [],
   "source": [
    "# 2차원인데 1개 칼럼의 모형을 만들어보자\n",
    "# reshape(-1, n) : 2차원 n개의 컬럼으로 구성, -1을 넣으면 자동으로 사이즈를 맞춰준다.\n",
    "arr4 = np.arange(1, 31).reshape(-1, 1)\n",
    "arr4, arr4.ndim, arr4.shape"
   ]
  },
  {
   "cell_type": "code",
   "execution_count": null,
   "id": "3a0b60d5-138e-4411-b7ad-8b52042a6117",
   "metadata": {},
   "outputs": [],
   "source": [
    "# 4개 칼럼으로 배열 모형을 만들자\n",
    "np.arange(1, 21).reshape(5, 4)"
   ]
  },
  {
   "cell_type": "code",
   "execution_count": null,
   "id": "04b2eb75-9fae-40c1-93c6-9cf939585dec",
   "metadata": {},
   "outputs": [],
   "source": [
    "# 5개 칼럼으로 배열 모형을 만들자\n",
    "np.arange(1, 21).reshape(-1, 5)\n",
    "# rehsape -1은, 행무관하고 n개의 컬럼을 만든다"
   ]
  },
  {
   "cell_type": "code",
   "execution_count": null,
   "id": "97398888-9454-4463-85a2-7a8640181e85",
   "metadata": {},
   "outputs": [],
   "source": [
    "# 사이즈가 맞아야 한다.\n",
    "np.arange(1, 21).reshape(-1, 7)"
   ]
  },
  {
   "cell_type": "code",
   "execution_count": null,
   "id": "28af9cd5-c6b0-4298-9dce-cb525b553507",
   "metadata": {},
   "outputs": [],
   "source": [
    "a = np.arange(12)\n",
    "a, a.shape"
   ]
  },
  {
   "cell_type": "code",
   "execution_count": null,
   "id": "17094981-0053-462b-bbc2-88f88c4987eb",
   "metadata": {},
   "outputs": [],
   "source": [
    "# 원본 값이 바뀜\n",
    "a.shape = 2, -1\n",
    "a, a.shape"
   ]
  },
  {
   "cell_type": "code",
   "execution_count": null,
   "id": "23d1f818-ce0a-46c2-a00e-5415a46ca0ba",
   "metadata": {},
   "outputs": [],
   "source": [
    "a.shape = 3, -1\n",
    "a, a.shape"
   ]
  },
  {
   "cell_type": "code",
   "execution_count": null,
   "id": "bdf309cb-857e-4322-9094-c68a8ac81da3",
   "metadata": {},
   "outputs": [],
   "source": [
    "a.shape = -1, 1\n",
    "a, a.shape"
   ]
  },
  {
   "cell_type": "code",
   "execution_count": null,
   "id": "4cdd064a-0d7d-4e85-9a65-fc8c88608fd4",
   "metadata": {},
   "outputs": [],
   "source": [
    "a.shape = -1, 2\n",
    "a, a.shape"
   ]
  },
  {
   "cell_type": "code",
   "execution_count": null,
   "id": "3a4a710f-26ba-42e9-820d-4be867172e5e",
   "metadata": {},
   "outputs": [],
   "source": [
    "a.shape = -1, 3\n",
    "a, a.shape"
   ]
  },
  {
   "cell_type": "code",
   "execution_count": null,
   "id": "ae02caf5-a953-4450-b0a4-b9f4451c2885",
   "metadata": {},
   "outputs": [],
   "source": [
    "# flatten\n",
    "a.shape = -1\n",
    "a, a.shape"
   ]
  },
  {
   "cell_type": "markdown",
   "id": "d7e1dea0-5451-4367-a69a-56983045c825",
   "metadata": {},
   "source": [
    "### 넘파이배역의 자료형 변환\n",
    "\n",
    "배열명2 = 배열명1.astype(자료형)\r\n",
    "자료형 = np.float64, np.int32"
   ]
  },
  {
   "cell_type": "code",
   "execution_count": null,
   "id": "336552ca-6bfc-4370-854e-75e24c9eaa5b",
   "metadata": {},
   "outputs": [],
   "source": [
    "matrix1 = np.arange(1, 10)\n",
    "matrix1, matrix1.dtype"
   ]
  },
  {
   "cell_type": "code",
   "execution_count": null,
   "id": "bc2b2499-3d24-4536-affe-8ecd684142ad",
   "metadata": {},
   "outputs": [],
   "source": [
    "# 정수형, 3행 3열\n",
    "matrix = np.arange(1, 10).reshape(3,3)\n",
    "matrix, matrix.dtype"
   ]
  },
  {
   "cell_type": "code",
   "execution_count": null,
   "id": "f2abfffc-cc4e-46c2-a696-81c65e1d7a5d",
   "metadata": {},
   "outputs": [],
   "source": [
    "# 실수형, 3행 3열\n",
    "matrix = np.arange(1, 10, dtype=float).reshape(3,3)\n",
    "matrix, matrix.dtype"
   ]
  },
  {
   "cell_type": "code",
   "execution_count": null,
   "id": "0a9b4850-5090-40d8-b645-c0df29b6ba15",
   "metadata": {},
   "outputs": [],
   "source": [
    "# 문자열형, 3행 3열 -> 불가\n",
    "matrix = np.arange(1, 10, dtype='str').reshape(3,3)\n",
    "matrix, matrix.dtype"
   ]
  },
  {
   "cell_type": "code",
   "execution_count": null,
   "id": "47e876f0-f187-421b-8db1-2ad2d39c8d23",
   "metadata": {},
   "outputs": [],
   "source": [
    "# 정수형 => 문자열\n",
    "matrix.astype('<U5')"
   ]
  },
  {
   "cell_type": "code",
   "execution_count": null,
   "id": "d85e2370-e150-49f6-8f98-94cd96739c93",
   "metadata": {},
   "outputs": [],
   "source": [
    "# 논리형으로 구성된 넘파이 배열 생성\n",
    "matrix2 = np.array([True, False, True, True])\n",
    "matrix2, matrix2.dtype"
   ]
  },
  {
   "cell_type": "code",
   "execution_count": null,
   "id": "38e0013e-7b00-4f23-ba04-adca7c4d6d8f",
   "metadata": {},
   "outputs": [],
   "source": [
    "# 불린 -> 정수\n",
    "matrix2.astype(int)"
   ]
  },
  {
   "cell_type": "code",
   "execution_count": null,
   "id": "64ac4f8c-3d04-4ab6-99da-2d021a406348",
   "metadata": {},
   "outputs": [],
   "source": [
    "# 불린형 -> 문자열\n",
    "matrix2.astype('<U5')"
   ]
  },
  {
   "cell_type": "code",
   "execution_count": null,
   "id": "a0ea7129-4230-42dc-99c8-a96f7af1212e",
   "metadata": {},
   "outputs": [],
   "source": [
    "# 문자열 숫자 => 정수 , 실수\n",
    "matrix3 = np.array(['3.14', '5.5', '0.78'])\n",
    "matrix3, matrix3.dtype"
   ]
  },
  {
   "cell_type": "code",
   "execution_count": null,
   "id": "9d1ad4c8-3ec4-454d-b1cf-866ed09c2783",
   "metadata": {},
   "outputs": [],
   "source": [
    "print(matrix3.astype(float))\n",
    "\n",
    "print(matrix3.astype(int)) # 불가\n",
    "print(matrix3.astype(bool)) # 불가"
   ]
  },
  {
   "cell_type": "code",
   "execution_count": null,
   "id": "74d049dd-1c97-492c-9adf-a1c0a0cf94c6",
   "metadata": {},
   "outputs": [],
   "source": [
    "matrix4 = np.array(['3', '5', '7'])\n",
    "matrix4.astype(int)  # 가능, 값이 유효하기 때문"
   ]
  },
  {
   "cell_type": "markdown",
   "id": "32d2e5ac-e4eb-4746-bc33-8bd96f338fa4",
   "metadata": {},
   "source": [
    "### 넘파이 배열의 인덱싱\n",
    "넘파이배열[index] 넘파이배열[i, j], 넘파이배열[i][j] : i행 j 열"
   ]
  },
  {
   "cell_type": "markdown",
   "id": "1c62d185-417a-42a3-83fb-2ea744305418",
   "metadata": {},
   "source": [
    "#### 1D array"
   ]
  },
  {
   "cell_type": "code",
   "execution_count": null,
   "id": "69014fe3-1b3c-4449-8fd0-13fb4f3e1eaa",
   "metadata": {},
   "outputs": [],
   "source": [
    "a = np.array([1, 3, 5, 7, 9])\n",
    "a, a.ndim, a.shape, a.size"
   ]
  },
  {
   "cell_type": "code",
   "execution_count": null,
   "id": "4b64cd76-be62-4422-ad3a-fe83b985b3d5",
   "metadata": {},
   "outputs": [],
   "source": [
    "a[0]"
   ]
  },
  {
   "cell_type": "code",
   "execution_count": null,
   "id": "3eda83b3-a5a5-4a5c-b3d3-0faa390ea7d0",
   "metadata": {},
   "outputs": [],
   "source": [
    "a[2]"
   ]
  },
  {
   "cell_type": "code",
   "execution_count": null,
   "id": "96712d3a-9005-4f00-a7cd-ccabf7c8645a",
   "metadata": {},
   "outputs": [],
   "source": [
    "a[-1]"
   ]
  },
  {
   "cell_type": "code",
   "execution_count": null,
   "id": "f219ad9b-4c73-4069-8725-1c6a977dea3b",
   "metadata": {},
   "outputs": [],
   "source": [
    "a[-5]"
   ]
  },
  {
   "cell_type": "code",
   "execution_count": null,
   "id": "53ce2fe4-8c25-4399-addf-5df65d8148c9",
   "metadata": {},
   "outputs": [],
   "source": [
    "a[[0, 2, 4]]"
   ]
  },
  {
   "cell_type": "code",
   "execution_count": null,
   "id": "e74d0dcc-861d-4bcd-a125-c31b05752c84",
   "metadata": {},
   "outputs": [],
   "source": [
    "a"
   ]
  },
  {
   "cell_type": "code",
   "execution_count": null,
   "id": "2fb74fb1-4986-449c-a041-303288fff0f9",
   "metadata": {},
   "outputs": [],
   "source": [
    "# 행렬 구조로 인덱싱도 가능하다\n",
    "b = np.array( [[1,3], [4,2]] )\n",
    "b"
   ]
  },
  {
   "cell_type": "code",
   "execution_count": null,
   "id": "c576a2ba-5bfe-4b79-8100-bdfb71d26c0d",
   "metadata": {},
   "outputs": [],
   "source": [
    "# 넘파이배열1을 넘파이배열2로 인덱싱하는 경우. 넘파이배열2는 인덱스 번호로 인식\n",
    "a[b]"
   ]
  },
  {
   "cell_type": "code",
   "execution_count": null,
   "id": "44f9329c-47cc-4fd1-b3ad-f74b283189e0",
   "metadata": {},
   "outputs": [],
   "source": [
    "a[2] = 0\n",
    "a"
   ]
  },
  {
   "cell_type": "code",
   "execution_count": null,
   "id": "daf8054c-668d-47c5-952b-374632b04f2b",
   "metadata": {},
   "outputs": [],
   "source": [
    "a[1] += 2\n",
    "a"
   ]
  },
  {
   "cell_type": "code",
   "execution_count": null,
   "id": "8fe73e1f-5e7a-49ac-b5e2-33517771ed53",
   "metadata": {},
   "outputs": [],
   "source": [
    "a[0] *= 6\n",
    "a"
   ]
  },
  {
   "cell_type": "markdown",
   "id": "b997c54c-0b71-4eb2-b3ed-f206a0546fec",
   "metadata": {},
   "source": [
    "#### 2D array"
   ]
  },
  {
   "cell_type": "code",
   "execution_count": null,
   "id": "0af6eede-d614-4279-b31f-5bd9bddde4a6",
   "metadata": {},
   "outputs": [],
   "source": [
    "a = np.arange(15).reshape(3, 5)\n",
    "a, a.ndim, a.shape, a.size"
   ]
  },
  {
   "cell_type": "code",
   "execution_count": null,
   "id": "e6a0e87a-57e2-4632-9b41-55f6570c6bf8",
   "metadata": {},
   "outputs": [],
   "source": [
    "# 2차원 인덱싱할 때, 값을 하나면 넣으면 행인덱싱\n",
    "a[0]"
   ]
  },
  {
   "cell_type": "code",
   "execution_count": null,
   "id": "451f6f74-fdab-4827-a2a7-c375b0122ce5",
   "metadata": {},
   "outputs": [],
   "source": [
    "a[1]"
   ]
  },
  {
   "cell_type": "code",
   "execution_count": null,
   "id": "d5c80c14-8af8-4bb6-8fdd-0600df07c925",
   "metadata": {},
   "outputs": [],
   "source": [
    "a[2]"
   ]
  },
  {
   "cell_type": "code",
   "execution_count": null,
   "id": "02533e9d-64ea-4cb8-b5f3-098bee6d0583",
   "metadata": {},
   "outputs": [],
   "source": [
    "a[-1]"
   ]
  },
  {
   "cell_type": "code",
   "execution_count": null,
   "id": "fa329c8e-e57b-4836-a890-345d6f34e314",
   "metadata": {},
   "outputs": [],
   "source": [
    "a[-2]"
   ]
  },
  {
   "cell_type": "code",
   "execution_count": null,
   "id": "ef77034e-1c51-4579-9ddf-06a19e035749",
   "metadata": {},
   "outputs": [],
   "source": [
    "a"
   ]
  },
  {
   "cell_type": "code",
   "execution_count": null,
   "id": "6a57c15e-2bef-4aa8-bb0f-e01ff608134c",
   "metadata": {},
   "outputs": [],
   "source": [
    "# 값이 2개 들어가면, 행/열 인덱싱\n",
    "a[0, 0]"
   ]
  },
  {
   "cell_type": "code",
   "execution_count": null,
   "id": "263ffcf2-8d40-46b5-991f-4e35fc268740",
   "metadata": {},
   "outputs": [],
   "source": [
    "a[0, 1]"
   ]
  },
  {
   "cell_type": "code",
   "execution_count": null,
   "id": "9c94ce4f-e8ff-4604-af85-b5328ade65f4",
   "metadata": {},
   "outputs": [],
   "source": [
    "a[0, 2]"
   ]
  },
  {
   "cell_type": "code",
   "execution_count": null,
   "id": "4d8a5329-d792-48a7-9d1f-9694e165f8ac",
   "metadata": {},
   "outputs": [],
   "source": [
    "a[1, 0]"
   ]
  },
  {
   "cell_type": "code",
   "execution_count": null,
   "id": "db224ade-71e6-41be-8a29-0d47d48240dd",
   "metadata": {},
   "outputs": [],
   "source": [
    "a[1, 2]"
   ]
  },
  {
   "cell_type": "code",
   "execution_count": null,
   "id": "31b744b6-903f-42cb-9620-726205a07968",
   "metadata": {},
   "outputs": [],
   "source": [
    "a[2, 0]"
   ]
  },
  {
   "cell_type": "code",
   "execution_count": null,
   "id": "f479d3e4-4e3d-4b16-881c-6fb4de00a81c",
   "metadata": {},
   "outputs": [],
   "source": [
    "a[2, 2]"
   ]
  },
  {
   "cell_type": "code",
   "execution_count": null,
   "id": "1ee50a18-44f8-42c8-802a-a97c786efeeb",
   "metadata": {},
   "outputs": [],
   "source": [
    "a[-1, 0]"
   ]
  },
  {
   "cell_type": "code",
   "execution_count": null,
   "id": "96ce8b9a-31ab-49de-89b0-0d2aa69724b8",
   "metadata": {},
   "outputs": [],
   "source": [
    "a[-1, 2]"
   ]
  },
  {
   "cell_type": "code",
   "execution_count": null,
   "id": "77f892ab-cd4a-4288-8a79-810879afbe5b",
   "metadata": {},
   "outputs": [],
   "source": [
    "a = np.arange(15).reshape(3, -1)\n",
    "a"
   ]
  },
  {
   "cell_type": "code",
   "execution_count": null,
   "id": "963d9e71-5319-4ebf-9795-5fe4be5bb0dd",
   "metadata": {},
   "outputs": [],
   "source": [
    "a[1] = [1, 3, 5, 7, 9]\n",
    "a"
   ]
  },
  {
   "cell_type": "code",
   "execution_count": null,
   "id": "33d7d7b3-0b53-4154-a64f-e7cb663cf3bd",
   "metadata": {},
   "outputs": [],
   "source": [
    "a[-1] = 10\n",
    "a"
   ]
  },
  {
   "cell_type": "code",
   "execution_count": null,
   "id": "b5654364-a8ef-4eb1-a7d5-ec58000ea166",
   "metadata": {},
   "outputs": [],
   "source": [
    "a[0] += [1, 2, 3, 4, 5]\n",
    "a"
   ]
  },
  {
   "cell_type": "code",
   "execution_count": null,
   "id": "90669dc2-0e35-43a0-a825-57c8e580edf9",
   "metadata": {},
   "outputs": [],
   "source": [
    "matrix_a = np.arange(10)\n",
    "matrix_b = np.arange(12).reshape(3,4)\n",
    "\n",
    "matrix_a, matrix_b"
   ]
  },
  {
   "cell_type": "code",
   "execution_count": null,
   "id": "06e768b2-58b0-4416-a870-e5a7843b9a21",
   "metadata": {},
   "outputs": [],
   "source": [
    "# 1차원에서 첫 요소와 마지막 요소\n",
    "matrix_a[0], matrix_a[-1]"
   ]
  },
  {
   "cell_type": "code",
   "execution_count": null,
   "id": "28e97377-c5e1-47f2-80a1-c71e4aeb73f2",
   "metadata": {},
   "outputs": [],
   "source": [
    "# 2차원에서 1번째행 1번째열\n",
    "matrix_b[0, 0]"
   ]
  },
  {
   "cell_type": "code",
   "execution_count": 23,
   "id": "5ab62b2f-8304-4dbf-8311-af1191076793",
   "metadata": {},
   "outputs": [
    {
     "ename": "NameError",
     "evalue": "name 'matrix_b' is not defined",
     "output_type": "error",
     "traceback": [
      "\u001b[1;31m---------------------------------------------------------------------------\u001b[0m",
      "\u001b[1;31mNameError\u001b[0m                                 Traceback (most recent call last)",
      "Cell \u001b[1;32mIn[23], line 1\u001b[0m\n\u001b[1;32m----> 1\u001b[0m matrix_b[\u001b[38;5;241m0\u001b[39m][\u001b[38;5;241m0\u001b[39m]\n",
      "\u001b[1;31mNameError\u001b[0m: name 'matrix_b' is not defined"
     ]
    }
   ],
   "source": [
    "matrix_b[0][0]"
   ]
  },
  {
   "cell_type": "code",
   "execution_count": null,
   "id": "222b6b89-ee3b-4103-93ec-ab4012afadf5",
   "metadata": {},
   "outputs": [],
   "source": [
    "matrix_b"
   ]
  },
  {
   "cell_type": "code",
   "execution_count": null,
   "id": "19469158-7bdf-46ef-a0af-8c2f25064e78",
   "metadata": {},
   "outputs": [],
   "source": [
    "# 2차원 마지막행 마지막열 -> 3행 4열\n",
    "matrix_b[-1,-1]"
   ]
  },
  {
   "cell_type": "code",
   "execution_count": null,
   "id": "d0fb5edb-0c3c-4bb5-9122-f2142c88722b",
   "metadata": {},
   "outputs": [],
   "source": [
    "matrix_b[-1][-1]"
   ]
  },
  {
   "cell_type": "code",
   "execution_count": null,
   "id": "024068ec-f448-4e64-8949-f537b30bb4ed",
   "metadata": {},
   "outputs": [],
   "source": [
    "matrix_b[2][3]"
   ]
  },
  {
   "cell_type": "code",
   "execution_count": null,
   "id": "7ed3094a-faf3-489e-acbc-ee847b22ab05",
   "metadata": {},
   "outputs": [],
   "source": [
    "# matrix_b에서 3번째행 1번째열의값을 100으로 변경해보자\n",
    "matrix_b[2,0] = 100\n",
    "matrix_b"
   ]
  },
  {
   "cell_type": "code",
   "execution_count": null,
   "id": "0d0c3491-95d5-448e-8377-1e7458f8bdf3",
   "metadata": {},
   "outputs": [],
   "source": [
    "# 리버스 인덱싱\n",
    "import numpy as np\n",
    "\n",
    "print(matrix_c[::-1, ::]) # 행 뒤집기\n",
    "print(matrix_c[::, ::-1]) # 열 뒤집기"
   ]
  },
  {
   "cell_type": "markdown",
   "id": "42198cc0-af00-4847-bb8d-8d09614ef5e6",
   "metadata": {},
   "source": [
    "### 전치행렬"
   ]
  },
  {
   "cell_type": "code",
   "execution_count": null,
   "id": "05dd332c-c539-408e-9d06-40593533be9d",
   "metadata": {},
   "outputs": [],
   "source": [
    "넘파이배열.T : 행과 열 구조 변경"
   ]
  },
  {
   "cell_type": "code",
   "execution_count": 24,
   "id": "76cde8cd-1ddb-4ddd-aaef-045a37c6806f",
   "metadata": {},
   "outputs": [
    {
     "data": {
      "text/plain": [
       "array([[1, 2],\n",
       "       [3, 4],\n",
       "       [5, 6]])"
      ]
     },
     "execution_count": 24,
     "metadata": {},
     "output_type": "execute_result"
    }
   ],
   "source": [
    "# 3행 2열\n",
    "matrix_d = np.arange(1,7).reshape(3,2)\n",
    "matrix_d"
   ]
  },
  {
   "cell_type": "code",
   "execution_count": 25,
   "id": "c5da90b1-6940-4e9a-bd4d-a980468c6aaa",
   "metadata": {},
   "outputs": [
    {
     "name": "stdout",
     "output_type": "stream",
     "text": [
      "[[1 3 5]\n",
      " [2 4 6]]\n"
     ]
    }
   ],
   "source": [
    "# 2행 3열로 변환\n",
    "print(matrix_d.T)"
   ]
  },
  {
   "cell_type": "code",
   "execution_count": 27,
   "id": "3120e426-c742-4ffc-bc92-4d2400dab381",
   "metadata": {},
   "outputs": [
    {
     "name": "stdout",
     "output_type": "stream",
     "text": [
      "[[1 2 3]\n",
      " [4 5 6]]\n"
     ]
    }
   ],
   "source": [
    "# reshape과 transpose은 값이 다름을 유의\n",
    "#reshape는 flatten이 선행\n",
    "print(matrix_d.reshape(2,3)) "
   ]
  },
  {
   "cell_type": "markdown",
   "id": "0ddb4741-43f6-4016-9a87-06a7b4617b23",
   "metadata": {},
   "source": [
    "### 난수로 구성된 넘파이 배열\n",
    "\n",
    "np.random.randint(start, end, n) : 정수 난수\r\n",
    "np.random.randint(start, end, (i, j))"
   ]
  },
  {
   "cell_type": "code",
   "execution_count": 28,
   "id": "0518971a-dba8-46cf-8a50-5eb8d44b84b2",
   "metadata": {},
   "outputs": [
    {
     "data": {
      "text/plain": [
       "array([2, 8, 1, 7, 4, 9, 4, 3, 4, 4])"
      ]
     },
     "execution_count": 28,
     "metadata": {},
     "output_type": "execute_result"
    }
   ],
   "source": [
    "# 1~10 사이의 숫자중에서 10개 출력\n",
    "np.random.randint(1, 10, 10)"
   ]
  },
  {
   "cell_type": "code",
   "execution_count": 29,
   "id": "1c761d1e-091c-4f1d-b234-5fe9f8b0d970",
   "metadata": {},
   "outputs": [
    {
     "data": {
      "text/plain": [
       "array([[5, 8, 3, 6, 1],\n",
       "       [5, 1, 6, 4, 8]])"
      ]
     },
     "execution_count": 29,
     "metadata": {},
     "output_type": "execute_result"
    }
   ],
   "source": [
    "# 2행 5열로 츨력\n",
    "np.random.randint(1, 10, (2,5))"
   ]
  },
  {
   "cell_type": "markdown",
   "id": "4dd04397-0798-4600-8155-bab508f92113",
   "metadata": {},
   "source": [
    "### 섞기\n",
    "\n",
    "np.random.shuffle(넘파이배열) 원본에 바로 적용"
   ]
  },
  {
   "cell_type": "code",
   "execution_count": 30,
   "id": "fb07cae4-5e03-4d08-9065-62e74ced5b5b",
   "metadata": {},
   "outputs": [
    {
     "data": {
      "text/plain": [
       "array([ 1,  2,  3,  4,  5,  6,  7,  8,  9, 10])"
      ]
     },
     "execution_count": 30,
     "metadata": {},
     "output_type": "execute_result"
    }
   ],
   "source": [
    "# 10개 무작위 값 만들기\n",
    "matrix_e = np.arange(1,11)\n",
    "matrix_e"
   ]
  },
  {
   "cell_type": "code",
   "execution_count": 31,
   "id": "46b44f07-d28e-4555-bca0-15f91464efda",
   "metadata": {},
   "outputs": [
    {
     "data": {
      "text/plain": [
       "array([ 1,  2,  5,  9,  3,  8,  7,  4,  6, 10])"
      ]
     },
     "execution_count": 31,
     "metadata": {},
     "output_type": "execute_result"
    }
   ],
   "source": [
    "np.random.shuffle(matrix_e)\n",
    "matrix_e"
   ]
  },
  {
   "cell_type": "markdown",
   "id": "328d425d-d010-43d1-83c4-57d55e08bf2e",
   "metadata": {
    "jupyter": {
     "source_hidden": true
    }
   },
   "source": [
    "#### 로또 번호 생성하기"
   ]
  },
  {
   "cell_type": "code",
   "execution_count": 32,
   "id": "0e094c39-a84e-4538-bafb-05ea2cbaf2bc",
   "metadata": {},
   "outputs": [
    {
     "data": {
      "text/plain": [
       "array([28, 20, 22,  2, 39, 33])"
      ]
     },
     "execution_count": 32,
     "metadata": {},
     "output_type": "execute_result"
    }
   ],
   "source": [
    "num= np.arange(1,46)\n",
    "np.random.shuffle(num)\n",
    "num[:6]"
   ]
  },
  {
   "cell_type": "code",
   "execution_count": 33,
   "id": "648b03b2-a581-456a-bd36-74ca84f8c8de",
   "metadata": {},
   "outputs": [
    {
     "data": {
      "text/plain": [
       "array([33, 14, 19, 35,  1, 42])"
      ]
     },
     "execution_count": 33,
     "metadata": {},
     "output_type": "execute_result"
    }
   ],
   "source": [
    "np.random.randint(1,46,6)"
   ]
  },
  {
   "cell_type": "markdown",
   "id": "9c56fc13-7b3f-4a2e-ae70-912431edc2db",
   "metadata": {},
   "source": [
    "### 실수 난수"
   ]
  },
  {
   "cell_type": "code",
   "execution_count": 34,
   "id": "1f94ae57-843a-4020-b0b5-282f06970596",
   "metadata": {},
   "outputs": [
    {
     "data": {
      "text/plain": [
       "\u001b[1;31mDocstring:\u001b[0m\n",
       "randn(d0, d1, ..., dn)\n",
       "\n",
       "Return a sample (or samples) from the \"standard normal\" distribution.\n",
       "\n",
       ".. note::\n",
       "    This is a convenience function for users porting code from Matlab,\n",
       "    and wraps `standard_normal`. That function takes a\n",
       "    tuple to specify the size of the output, which is consistent with\n",
       "    other NumPy functions like `numpy.zeros` and `numpy.ones`.\n",
       "\n",
       ".. note::\n",
       "    New code should use the\n",
       "    `~numpy.random.Generator.standard_normal`\n",
       "    method of a `~numpy.random.Generator` instance instead;\n",
       "    please see the :ref:`random-quick-start`.\n",
       "\n",
       "If positive int_like arguments are provided, `randn` generates an array\n",
       "of shape ``(d0, d1, ..., dn)``, filled\n",
       "with random floats sampled from a univariate \"normal\" (Gaussian)\n",
       "distribution of mean 0 and variance 1. A single float randomly sampled\n",
       "from the distribution is returned if no argument is provided.\n",
       "\n",
       "Parameters\n",
       "----------\n",
       "d0, d1, ..., dn : int, optional\n",
       "    The dimensions of the returned array, must be non-negative.\n",
       "    If no argument is given a single Python float is returned.\n",
       "\n",
       "Returns\n",
       "-------\n",
       "Z : ndarray or float\n",
       "    A ``(d0, d1, ..., dn)``-shaped array of floating-point samples from\n",
       "    the standard normal distribution, or a single such float if\n",
       "    no parameters were supplied.\n",
       "\n",
       "See Also\n",
       "--------\n",
       "standard_normal : Similar, but takes a tuple as its argument.\n",
       "normal : Also accepts mu and sigma arguments.\n",
       "random.Generator.standard_normal: which should be used for new code.\n",
       "\n",
       "Notes\n",
       "-----\n",
       "For random samples from the normal distribution with mean ``mu`` and\n",
       "standard deviation ``sigma``, use::\n",
       "\n",
       "    sigma * np.random.randn(...) + mu\n",
       "\n",
       "Examples\n",
       "--------\n",
       ">>> np.random.randn()\n",
       "2.1923875335537315  # random\n",
       "\n",
       "Two-by-four array of samples from the normal distribution with\n",
       "mean 3 and standard deviation 2.5:\n",
       "\n",
       ">>> 3 + 2.5 * np.random.randn(2, 4)\n",
       "array([[-4.49401501,  4.00950034, -1.81814867,  7.29718677],   # random\n",
       "       [ 0.39924804,  4.68456316,  4.99394529,  4.84057254]])  # random\n",
       "\u001b[1;31mType:\u001b[0m      builtin_function_or_method"
      ]
     },
     "metadata": {},
     "output_type": "display_data"
    }
   ],
   "source": [
    "np.random.randn?"
   ]
  },
  {
   "cell_type": "code",
   "execution_count": 35,
   "id": "c4037ada-f2a7-4b7d-b5f9-b2202e558729",
   "metadata": {},
   "outputs": [
    {
     "data": {
      "text/plain": [
       "array([-0.15735198, -0.56300054,  1.22972025, -0.28696277,  0.12722401,\n",
       "        1.0281157 , -0.08893197,  1.36317347, -1.29175582, -1.73594387])"
      ]
     },
     "execution_count": 35,
     "metadata": {},
     "output_type": "execute_result"
    }
   ],
   "source": [
    "matrix1 = np.random.randn(10) # 표준정규분포 0 ~ 분산1\n",
    "matrix1"
   ]
  },
  {
   "cell_type": "code",
   "execution_count": 36,
   "id": "13beb3bf-fab1-4ccb-8fd5-66af4a78cdb3",
   "metadata": {},
   "outputs": [
    {
     "data": {
      "text/plain": [
       "array([[-0.33757366,  0.86360185,  0.21042355,  0.56168136],\n",
       "       [ 1.90658631, -0.8684955 ,  1.17298664,  0.08570685],\n",
       "       [ 0.98670434,  0.01415662, -1.11166674, -0.60029458],\n",
       "       [-1.16473107,  0.16174968,  0.79330601,  0.78933438]])"
      ]
     },
     "execution_count": 36,
     "metadata": {},
     "output_type": "execute_result"
    }
   ],
   "source": [
    "matrix2 = np.random.randn(4, 4)\n",
    "matrix2"
   ]
  },
  {
   "cell_type": "code",
   "execution_count": 37,
   "id": "cc0b4ff3-ebae-4b19-b8c5-f7161b464904",
   "metadata": {},
   "outputs": [
    {
     "data": {
      "text/plain": [
       "(1.3631734720324291, -1.7359438726638559)"
      ]
     },
     "execution_count": 37,
     "metadata": {},
     "output_type": "execute_result"
    }
   ],
   "source": [
    "matrix1.max(), matrix1.min()"
   ]
  },
  {
   "cell_type": "markdown",
   "id": "046c6c36-3922-405e-92c5-b5ae21eea797",
   "metadata": {},
   "source": [
    "### 집계함수에서의 축\n",
    "\n",
    "2차원에서의 집계합수(sum, mean)\r\n",
    "axis = 0, 1\r\n",
    "np.sum(넘파이배열, axis=0/1)\r\n",
    "np.mean(넘파이배열, axis=0/1)\r\n",
    "np.sort(넘파이배열, axis=0/1)"
   ]
  },
  {
   "cell_type": "code",
   "execution_count": 39,
   "id": "baa236f6-a68c-4727-ab1c-ea3ef9d148dc",
   "metadata": {},
   "outputs": [
    {
     "data": {
      "text/plain": [
       "array([[ 3, 24, 41, 35,  4],\n",
       "       [42,  3, 42, 10, 44],\n",
       "       [ 2, 37, 45, 46, 40],\n",
       "       [33, 19, 19, 23,  2],\n",
       "       [40, 43, 41,  1, 18]])"
      ]
     },
     "execution_count": 39,
     "metadata": {},
     "output_type": "execute_result"
    }
   ],
   "source": [
    "m1 = np.random.randint(1, 50, (5,5))\n",
    "m1"
   ]
  },
  {
   "cell_type": "code",
   "execution_count": 40,
   "id": "644eb64e-1977-4585-9201-9d6ab436df20",
   "metadata": {},
   "outputs": [
    {
     "data": {
      "text/plain": [
       "array([120, 126, 188, 115, 108])"
      ]
     },
     "execution_count": 40,
     "metadata": {},
     "output_type": "execute_result"
    }
   ],
   "source": [
    "np.sum(m1, axis=0) # (x)행 합계"
   ]
  },
  {
   "cell_type": "code",
   "execution_count": 41,
   "id": "ff68a0d7-d8f7-41f8-870a-b5639f0e49f9",
   "metadata": {},
   "outputs": [
    {
     "data": {
      "text/plain": [
       "array([107, 141, 170,  96, 143])"
      ]
     },
     "execution_count": 41,
     "metadata": {},
     "output_type": "execute_result"
    }
   ],
   "source": [
    "np.sum(m1, axis=1) # 열(y) 합계"
   ]
  },
  {
   "cell_type": "code",
   "execution_count": 42,
   "id": "3189e26c-afe5-4ea3-870d-926ace878129",
   "metadata": {},
   "outputs": [
    {
     "data": {
      "text/plain": [
       "array([ 3, 24, 41, 35,  4])"
      ]
     },
     "execution_count": 42,
     "metadata": {},
     "output_type": "execute_result"
    }
   ],
   "source": [
    "# 1번째행의 합계는\n",
    "m1[0,:]"
   ]
  },
  {
   "cell_type": "code",
   "execution_count": 43,
   "id": "dce6213c-db4f-4003-bb44-4689d7422425",
   "metadata": {},
   "outputs": [
    {
     "data": {
      "text/plain": [
       "array([ 3, 24, 41, 35,  4])"
      ]
     },
     "execution_count": 43,
     "metadata": {},
     "output_type": "execute_result"
    }
   ],
   "source": [
    "# 1번째행의 합계는\n",
    "m1[0,:]"
   ]
  },
  {
   "cell_type": "code",
   "execution_count": 46,
   "id": "72ba3620-2b1a-4951-b67d-1089bf53a4eb",
   "metadata": {},
   "outputs": [
    {
     "data": {
      "text/plain": [
       "188"
      ]
     },
     "execution_count": 46,
     "metadata": {},
     "output_type": "execute_result"
    }
   ],
   "source": [
    "# 3번째 열의 합계는\n",
    "np.sum(m1[:,2], axis=0)"
   ]
  },
  {
   "cell_type": "code",
   "execution_count": 47,
   "id": "ff5d0cc7-f9de-4ac9-9bdf-4eb085da9bc7",
   "metadata": {},
   "outputs": [],
   "source": [
    "### np.sort()"
   ]
  },
  {
   "cell_type": "code",
   "execution_count": 48,
   "id": "e82ce3e8-398b-4cde-8600-2f7d2295c34b",
   "metadata": {},
   "outputs": [],
   "source": [
    "import numpy as np"
   ]
  },
  {
   "cell_type": "code",
   "execution_count": 49,
   "id": "f863d9a0-2e7b-47a7-b6c2-d7c086a5c645",
   "metadata": {},
   "outputs": [
    {
     "data": {
      "text/plain": [
       "array([[42, 18, 30],\n",
       "       [ 7,  8, 25],\n",
       "       [37,  3, 16],\n",
       "       [36, 21, 32]])"
      ]
     },
     "execution_count": 49,
     "metadata": {},
     "output_type": "execute_result"
    }
   ],
   "source": [
    "# 정수 난수로 구성된 4x3\n",
    "m2 = np.random.randint(1, 50,(4,3))\n",
    "m2"
   ]
  },
  {
   "cell_type": "code",
   "execution_count": 50,
   "id": "41068d17-5586-4f0e-94a4-6298adb22e2b",
   "metadata": {},
   "outputs": [
    {
     "data": {
      "text/plain": [
       "array([[42, 18, 30],\n",
       "       [ 7,  8, 25],\n",
       "       [37,  3, 16],\n",
       "       [36, 21, 32]])"
      ]
     },
     "execution_count": 50,
     "metadata": {},
     "output_type": "execute_result"
    }
   ],
   "source": [
    "m2"
   ]
  },
  {
   "cell_type": "code",
   "execution_count": 51,
   "id": "500852c4-5c34-4988-912e-a8bcad53b9c8",
   "metadata": {},
   "outputs": [
    {
     "data": {
      "text/plain": [
       "array([[18, 30, 42],\n",
       "       [ 7,  8, 25],\n",
       "       [ 3, 16, 37],\n",
       "       [21, 32, 36]])"
      ]
     },
     "execution_count": 51,
     "metadata": {},
     "output_type": "execute_result"
    }
   ],
   "source": [
    "np.sort(m2) # 행안에서 열정렬"
   ]
  },
  {
   "cell_type": "code",
   "execution_count": 52,
   "id": "2a4b53c9-5d66-48d5-b010-79f20ca46d80",
   "metadata": {},
   "outputs": [
    {
     "data": {
      "text/plain": [
       "array([[ 7,  3, 16],\n",
       "       [36,  8, 25],\n",
       "       [37, 18, 30],\n",
       "       [42, 21, 32]])"
      ]
     },
     "execution_count": 52,
     "metadata": {},
     "output_type": "execute_result"
    }
   ],
   "source": [
    "np.sort(m2, axis=0) # 행방향 오름차순(요소별로)"
   ]
  },
  {
   "cell_type": "code",
   "execution_count": 53,
   "id": "5515e323-b525-4fe4-a75f-6c5afd1b5b31",
   "metadata": {},
   "outputs": [
    {
     "data": {
      "text/plain": [
       "array([[36, 21, 32],\n",
       "       [37,  3, 16],\n",
       "       [ 7,  8, 25],\n",
       "       [42, 18, 30]])"
      ]
     },
     "execution_count": 53,
     "metadata": {},
     "output_type": "execute_result"
    }
   ],
   "source": [
    "m2[::-1, ::] # 행전체가 역순으로 바뀌는 것과는 다르다 (+요소별 정렬)"
   ]
  },
  {
   "cell_type": "code",
   "execution_count": 54,
   "id": "823c702b-6306-45fc-8abf-104b38a7bdde",
   "metadata": {},
   "outputs": [
    {
     "data": {
      "text/plain": [
       "array([[42, 18, 30],\n",
       "       [ 7,  8, 25],\n",
       "       [37,  3, 16],\n",
       "       [36, 21, 32]])"
      ]
     },
     "execution_count": 54,
     "metadata": {},
     "output_type": "execute_result"
    }
   ],
   "source": [
    "m2"
   ]
  },
  {
   "cell_type": "code",
   "execution_count": 55,
   "id": "c46d8b2b-4f8d-4c87-86f4-21b45d592fe1",
   "metadata": {},
   "outputs": [
    {
     "data": {
      "text/plain": [
       "array([[18, 30, 42],\n",
       "       [ 7,  8, 25],\n",
       "       [ 3, 16, 37],\n",
       "       [21, 32, 36]])"
      ]
     },
     "execution_count": 55,
     "metadata": {},
     "output_type": "execute_result"
    }
   ],
   "source": [
    "np.sort(m2, axis=1) # 열방향 오름차순"
   ]
  },
  {
   "cell_type": "code",
   "execution_count": 56,
   "id": "d33e7c78-1ba6-49d7-a3c9-4c9b9cd25193",
   "metadata": {},
   "outputs": [
    {
     "data": {
      "text/plain": [
       "array([[32, 21, 36],\n",
       "       [16,  3, 37],\n",
       "       [25,  8,  7],\n",
       "       [30, 18, 42]])"
      ]
     },
     "execution_count": 56,
     "metadata": {},
     "output_type": "execute_result"
    }
   ],
   "source": [
    "m2[::-1, ::-1] "
   ]
  },
  {
   "cell_type": "markdown",
   "id": "e3676597-71f2-47e8-9f24-125735e1cd18",
   "metadata": {},
   "source": [
    "### 인덱스 소팅\n",
    "\n",
    "np.argsort(넘파이배열, axis=0,1)\r\n",
    "\r\n",
    "정렬값을 인덱스로 반환 (np.sort()를 인덱스로)"
   ]
  },
  {
   "cell_type": "code",
   "execution_count": 57,
   "id": "433cb107-7abb-40f3-ab61-ec6151e768c8",
   "metadata": {},
   "outputs": [
    {
     "data": {
      "text/plain": [
       "array([2, 1, 0], dtype=int64)"
      ]
     },
     "execution_count": 57,
     "metadata": {},
     "output_type": "execute_result"
    }
   ],
   "source": [
    "x = np.array([9,5,4])\n",
    "np.argsort(x) # 오름차순 정렬 4 5 9 의 인덱스 값 "
   ]
  },
  {
   "cell_type": "code",
   "execution_count": 58,
   "id": "d88d16bb-f181-4d40-bd4e-865192922b40",
   "metadata": {},
   "outputs": [
    {
     "data": {
      "text/plain": [
       "array([4, 5, 9])"
      ]
     },
     "execution_count": 58,
     "metadata": {},
     "output_type": "execute_result"
    }
   ],
   "source": [
    "x[np.argsort(x)] # 인덱스값으로 실제 값 출력"
   ]
  },
  {
   "cell_type": "markdown",
   "id": "847d7ced-570e-4a3f-879c-d3bc9c8ba5c3",
   "metadata": {},
   "source": [
    "### 넘파이 배열 요소 추가와 삭제\n",
    "삽입\n",
    "\n",
    "np.insert(배열, 위치인덱스, 값, axis=0/1)\n",
    "2차원인 경우 axis를 설정하지 않으면 1차원 배열로 변경되어 삽입출력\n",
    "삭제\n",
    "\n",
    "np.delete(배열명, 위치인덱스, axis=0/1)"
   ]
  },
  {
   "cell_type": "code",
   "execution_count": 59,
   "id": "a8d3f234-0725-47ad-b747-4f78eb2c7d88",
   "metadata": {},
   "outputs": [
    {
     "data": {
      "text/plain": [
       "array([ 1,  2,  3,  4,  5,  6,  7,  8,  9, 10])"
      ]
     },
     "execution_count": 59,
     "metadata": {},
     "output_type": "execute_result"
    }
   ],
   "source": [
    "m3 = np.arange(1,11)\n",
    "m3"
   ]
  },
  {
   "cell_type": "code",
   "execution_count": 60,
   "id": "2fcbfa3d-a12e-4acd-bacb-cd9113786d40",
   "metadata": {},
   "outputs": [
    {
     "data": {
      "text/plain": [
       "array([100,   1,   2,   3,   4,   5,   6,   7,   8,   9,  10])"
      ]
     },
     "execution_count": 60,
     "metadata": {},
     "output_type": "execute_result"
    }
   ],
   "source": [
    "np.insert(m3, 0, 100)"
   ]
  },
  {
   "cell_type": "code",
   "execution_count": 61,
   "id": "5cf0c010-5076-402a-bbb5-231196a3d715",
   "metadata": {},
   "outputs": [
    {
     "data": {
      "text/plain": [
       "1"
      ]
     },
     "execution_count": 61,
     "metadata": {},
     "output_type": "execute_result"
    }
   ],
   "source": [
    "m3[0]"
   ]
  },
  {
   "cell_type": "code",
   "execution_count": 62,
   "id": "18fcbf10-56b8-49d4-aa00-ecfb8bc7bd12",
   "metadata": {},
   "outputs": [
    {
     "data": {
      "text/plain": [
       "10"
      ]
     },
     "execution_count": 62,
     "metadata": {},
     "output_type": "execute_result"
    }
   ],
   "source": [
    "m3[-1]"
   ]
  },
  {
   "cell_type": "code",
   "execution_count": 63,
   "id": "e5a60719-da07-4bfc-b6a0-28e65fffecf6",
   "metadata": {},
   "outputs": [
    {
     "data": {
      "text/plain": [
       "array([  1,   2,   3,   4,   5,   6,   7,   8,   9, 500,  10])"
      ]
     },
     "execution_count": 63,
     "metadata": {},
     "output_type": "execute_result"
    }
   ],
   "source": [
    "np.insert(m3, -1, 500)  # 인덱싱/슬라이싱 end처럼 인식"
   ]
  },
  {
   "cell_type": "code",
   "execution_count": 64,
   "id": "60437daf-3b8b-45ef-8241-9966aa39d224",
   "metadata": {},
   "outputs": [
    {
     "data": {
      "text/plain": [
       "array([  1,   2,   3,   4,   5,   6,   7,   8,   9,  10, 500])"
      ]
     },
     "execution_count": 64,
     "metadata": {},
     "output_type": "execute_result"
    }
   ],
   "source": [
    "np.insert(m3, len(m3), 500) "
   ]
  },
  {
   "cell_type": "code",
   "execution_count": 65,
   "id": "d1df14b4-0fd8-4fcb-9d0e-6e002e81ae83",
   "metadata": {},
   "outputs": [
    {
     "data": {
      "text/plain": [
       "array([[1, 2, 3],\n",
       "       [4, 5, 6],\n",
       "       [7, 8, 9]])"
      ]
     },
     "execution_count": 65,
     "metadata": {},
     "output_type": "execute_result"
    }
   ],
   "source": [
    "m4 = np.arange(1,10).reshape(3,3)\n",
    "m4"
   ]
  },
  {
   "cell_type": "code",
   "execution_count": 66,
   "id": "c50c4f79-fce2-4920-b85f-77c686cd874b",
   "metadata": {},
   "outputs": [
    {
     "data": {
      "text/plain": [
       "array([100,   1,   2,   3,   4,   5,   6,   7,   8,   9])"
      ]
     },
     "execution_count": 66,
     "metadata": {},
     "output_type": "execute_result"
    }
   ],
   "source": [
    "np.insert(m4, 0, 100) # 2차원배열의 경우 axis 미설정시 1차원으로 변경되어 삽입"
   ]
  },
  {
   "cell_type": "code",
   "execution_count": 67,
   "id": "febfc298-7018-4f8e-8592-d9668cf97bbd",
   "metadata": {},
   "outputs": [
    {
     "data": {
      "text/plain": [
       "array([[100,   1,   2,   3],\n",
       "       [100,   4,   5,   6],\n",
       "       [100,   7,   8,   9]])"
      ]
     },
     "execution_count": 67,
     "metadata": {},
     "output_type": "execute_result"
    }
   ],
   "source": [
    "# 1열으로 [100,100,100] 삽입\n",
    "np.insert(m4, 0, 100, axis=1)"
   ]
  },
  {
   "cell_type": "code",
   "execution_count": 68,
   "id": "5630b51b-b24c-44ca-9572-226b9a00b7dc",
   "metadata": {},
   "outputs": [
    {
     "data": {
      "text/plain": [
       "array([[100,   1,   2,   3],\n",
       "       [200,   4,   5,   6],\n",
       "       [300,   7,   8,   9]])"
      ]
     },
     "execution_count": 68,
     "metadata": {},
     "output_type": "execute_result"
    }
   ],
   "source": [
    "# 리스트로 삽입\n",
    "np.insert(m4, 0, [100,200,300], axis=1)"
   ]
  },
  {
   "cell_type": "code",
   "execution_count": 69,
   "id": "0e8cf0b5-c712-4866-87b2-68ee1cfbaaa4",
   "metadata": {},
   "outputs": [
    {
     "data": {
      "text/plain": [
       "((3, 3), 3, 3)"
      ]
     },
     "execution_count": 69,
     "metadata": {},
     "output_type": "execute_result"
    }
   ],
   "source": [
    "m4.shape, m4.shape[1], len(m4)"
   ]
  },
  {
   "cell_type": "code",
   "execution_count": 70,
   "id": "a2f94ae0-6d2b-4d47-b02c-50cc740b6bf3",
   "metadata": {},
   "outputs": [
    {
     "data": {
      "text/plain": [
       "array([[  1,   2,   3, 100],\n",
       "       [  4,   5,   6, 200],\n",
       "       [  7,   8,   9, 300]])"
      ]
     },
     "execution_count": 70,
     "metadata": {},
     "output_type": "execute_result"
    }
   ],
   "source": [
    "# 마지막 컬럼으로 삽입\n",
    "# 배열명.shape[1] 칼럼 길이\n",
    "np.insert(m4, m4.shape[1], [100,200,300], axis=1)"
   ]
  },
  {
   "cell_type": "code",
   "execution_count": 71,
   "id": "5c516e86-9bce-4d22-aad3-0bcf0d669740",
   "metadata": {},
   "outputs": [
    {
     "data": {
      "text/plain": [
       "array([[  1,   2,   3],\n",
       "       [  4,   5,   6],\n",
       "       [  7,   8,   9],\n",
       "       [100, 200, 300]])"
      ]
     },
     "execution_count": 71,
     "metadata": {},
     "output_type": "execute_result"
    }
   ],
   "source": [
    "# 마지막 행에 삽입\n",
    "np.insert(m4, m4.shape[0], [100,200,300], axis=0)"
   ]
  },
  {
   "cell_type": "code",
   "execution_count": 72,
   "id": "09764845-dd07-4f4c-b95b-9c62a6c4e4c5",
   "metadata": {},
   "outputs": [
    {
     "data": {
      "text/plain": [
       "array([[1, 2, 3],\n",
       "       [4, 5, 6],\n",
       "       [7, 8, 9]])"
      ]
     },
     "execution_count": 72,
     "metadata": {},
     "output_type": "execute_result"
    }
   ],
   "source": [
    "m4"
   ]
  },
  {
   "cell_type": "code",
   "execution_count": 73,
   "id": "4b81dab4-94c3-494c-b544-cfe6b57247f4",
   "metadata": {},
   "outputs": [
    {
     "data": {
      "text/plain": [
       "array([[4, 5, 6],\n",
       "       [7, 8, 9]])"
      ]
     },
     "execution_count": 73,
     "metadata": {},
     "output_type": "execute_result"
    }
   ],
   "source": [
    "np.delete(m4, 0, axis=0)"
   ]
  },
  {
   "cell_type": "markdown",
   "id": "9246359b-3a8b-4816-a521-a26354c92a50",
   "metadata": {},
   "source": [
    "### 배열 합치기\n",
    "\n",
    "np.vstack((배열1,배열2....)) : 세로 합치기\r\n",
    "np.hstack((배열1,배열2....)) : 가로 합치기\r\n",
    "np.concatenate((배열1, 배열2), axis=0/1 ) 2차원만 가능"
   ]
  },
  {
   "cell_type": "code",
   "execution_count": 74,
   "id": "364edeae-73e3-4cdb-99ed-4233f61ae4f6",
   "metadata": {},
   "outputs": [
    {
     "data": {
      "text/plain": [
       "array([[1, 2, 3],\n",
       "       [4, 5, 6]])"
      ]
     },
     "execution_count": 74,
     "metadata": {},
     "output_type": "execute_result"
    }
   ],
   "source": [
    "a = np.array([1,2,3])\n",
    "b = np.array([4,5,6])\n",
    "np.vstack((a,b))"
   ]
  },
  {
   "cell_type": "code",
   "execution_count": 75,
   "id": "c19f736d-5424-46f4-a9a3-97fdd05b8527",
   "metadata": {},
   "outputs": [
    {
     "data": {
      "text/plain": [
       "array([1, 2, 3, 4, 5, 6])"
      ]
     },
     "execution_count": 75,
     "metadata": {},
     "output_type": "execute_result"
    }
   ],
   "source": [
    "np.hstack((a,b))"
   ]
  },
  {
   "cell_type": "code",
   "execution_count": 76,
   "id": "95952fb5-c4b2-4bd5-a757-49c37b5e15d9",
   "metadata": {},
   "outputs": [
    {
     "data": {
      "text/plain": [
       "(array([[1, 2, 3]]), 2, (1, 3))"
      ]
     },
     "execution_count": 76,
     "metadata": {},
     "output_type": "execute_result"
    }
   ],
   "source": [
    "c = np.array([[1,2,3]]) # 2차원\n",
    "c, c.ndim, c.shape"
   ]
  },
  {
   "cell_type": "code",
   "execution_count": 77,
   "id": "06f38112-181c-403e-b795-5f42a0f6a94c",
   "metadata": {},
   "outputs": [
    {
     "data": {
      "text/plain": [
       "(array([[4, 5, 6]]), 2, (1, 3))"
      ]
     },
     "execution_count": 77,
     "metadata": {},
     "output_type": "execute_result"
    }
   ],
   "source": [
    "d = np.array([[4,5,6]]) # 2차원\n",
    "d, d.ndim, d.shape"
   ]
  },
  {
   "cell_type": "code",
   "execution_count": 78,
   "id": "bbe558d8-61ae-41f7-af54-10bbc4d34cbd",
   "metadata": {},
   "outputs": [
    {
     "data": {
      "text/plain": [
       "(array([[1, 2, 3],\n",
       "        [4, 5, 6]]),\n",
       " 2,\n",
       " (2, 3))"
      ]
     },
     "execution_count": 78,
     "metadata": {},
     "output_type": "execute_result"
    }
   ],
   "source": [
    "f = np.concatenate((c,d), axis=0) #\n",
    "f, f.ndim, f.shape"
   ]
  },
  {
   "cell_type": "code",
   "execution_count": 79,
   "id": "f5483f59-d65a-4e64-bd2c-5da3b10098df",
   "metadata": {},
   "outputs": [
    {
     "data": {
      "text/plain": [
       "(array([[1, 2, 3, 4, 5, 6]]), 2, (1, 6))"
      ]
     },
     "execution_count": 79,
     "metadata": {},
     "output_type": "execute_result"
    }
   ],
   "source": [
    "f = np.concatenate((c,d), axis=1) #\n",
    "f, f.ndim, f.shape"
   ]
  },
  {
   "cell_type": "markdown",
   "id": "907a8866-9c73-4061-b109-c47ec1994b3d",
   "metadata": {},
   "source": [
    "### boolean indexing, mask (완전 중요)\n",
    "\n",
    "조건절의 결과는 True, False로 반환\r\n",
    "True인 결과의 데이터 반환\r\n",
    "넘파이배열[조건절] : ==, !=, <=, >=, &, |, ~"
   ]
  },
  {
   "cell_type": "code",
   "execution_count": 80,
   "id": "18cb5f73-5dd0-4855-9e9c-12eb64f2c732",
   "metadata": {},
   "outputs": [
    {
     "data": {
      "text/plain": [
       "array([ 1,  2,  3,  4,  5,  6,  7,  8,  9, 10, 11, 12, 13, 14, 15, 16, 17,\n",
       "       18, 19, 20])"
      ]
     },
     "execution_count": 80,
     "metadata": {},
     "output_type": "execute_result"
    }
   ],
   "source": [
    "matrix = np.arange(1, 21)\n",
    "matrix"
   ]
  },
  {
   "cell_type": "code",
   "execution_count": 81,
   "id": "46ac1f1d-be5a-4582-ad1b-f1b677a642cc",
   "metadata": {},
   "outputs": [
    {
     "data": {
      "text/plain": [
       "array([False, False, False, False, False, False, False, False, False,\n",
       "       False,  True,  True,  True,  True,  True,  True,  True,  True,\n",
       "        True,  True])"
      ]
     },
     "execution_count": 81,
     "metadata": {},
     "output_type": "execute_result"
    }
   ],
   "source": [
    "matrix > 10"
   ]
  },
  {
   "cell_type": "code",
   "execution_count": 82,
   "id": "839f2376-cc69-4bbf-a03d-575589908b26",
   "metadata": {},
   "outputs": [
    {
     "data": {
      "text/plain": [
       "array([11, 12, 13, 14, 15, 16, 17, 18, 19, 20])"
      ]
     },
     "execution_count": 82,
     "metadata": {},
     "output_type": "execute_result"
    }
   ],
   "source": [
    "matrix[matrix > 10]"
   ]
  },
  {
   "cell_type": "code",
   "execution_count": 83,
   "id": "602da1ec-b9d1-4100-af30-a1490bf5aeb4",
   "metadata": {},
   "outputs": [
    {
     "data": {
      "text/plain": [
       "10"
      ]
     },
     "execution_count": 83,
     "metadata": {},
     "output_type": "execute_result"
    }
   ],
   "source": [
    "(matrix > 10).sum()"
   ]
  },
  {
   "cell_type": "code",
   "execution_count": 93,
   "id": "2df6f228-5f36-4ef4-b42b-d84ea7154cbb",
   "metadata": {},
   "outputs": [
    {
     "data": {
      "text/plain": [
       "(array([49, 62, 29, 43, 35, 82, 43, 40, 14, 29, 89, 88, 80, 85, 43, 62, 25,\n",
       "        50, 66, 50, 63,  8, 93, 31, 41, 78, 27, 99, 33, 48]),\n",
       " array([49, 62, 43, 35, 43, 40, 43, 62, 50, 66, 50, 63, 31, 41, 33, 48]))"
      ]
     },
     "execution_count": 93,
     "metadata": {},
     "output_type": "execute_result"
    }
   ],
   "source": [
    "number = np.random.randint(1, 100, 30)\n",
    "choice = number[(number > 30) & (number < 70)]\n",
    "number, choice"
   ]
  },
  {
   "cell_type": "code",
   "execution_count": 91,
   "id": "8a1f6bc1-18d6-4ae1-8727-add23078b406",
   "metadata": {},
   "outputs": [
    {
     "data": {
      "text/plain": [
       "array([28, 20, 22,  2,  5,  4,  9, 15, 18,  3, 13, 29,  7, 26, 16, 19, 12,\n",
       "       10,  6, 14,  8, 27, 24, 23, 30, 25, 21, 17,  1, 11])"
      ]
     },
     "execution_count": 91,
     "metadata": {},
     "output_type": "execute_result"
    }
   ],
   "source": [
    "# ~ 은 reverse를 의미\n",
    "num[~(num > 30) & (num < 70)]"
   ]
  },
  {
   "cell_type": "code",
   "execution_count": 94,
   "id": "7ee1ff8d-c208-4635-b32b-bd59bcbd382f",
   "metadata": {},
   "outputs": [
    {
     "data": {
      "text/plain": [
       "array([2, 5, 4, 9, 3, 7, 6, 8, 1])"
      ]
     },
     "execution_count": 94,
     "metadata": {},
     "output_type": "execute_result"
    }
   ],
   "source": [
    "# 10보다 작거나 90보다 큰 수,\n",
    "num[(num < 10) | (num > 90)]"
   ]
  },
  {
   "cell_type": "code",
   "execution_count": 95,
   "id": "2bf9449a-e59f-4bb6-b9a5-551b3e19bd97",
   "metadata": {},
   "outputs": [
    {
     "data": {
      "text/plain": [
       "array([28, 20, 22, 39, 33, 41, 45, 15, 18, 13, 29, 42, 26, 36, 16, 44, 19,\n",
       "       40, 12, 10, 35, 43, 14, 27, 24, 23, 30, 25, 34, 21, 17, 32, 38, 37,\n",
       "       31, 11])"
      ]
     },
     "execution_count": 95,
     "metadata": {},
     "output_type": "execute_result"
    }
   ],
   "source": [
    " num[~(num < 10) | (num > 90)]"
   ]
  },
  {
   "cell_type": "markdown",
   "id": "b32d37ee-fa3e-4d48-a9db-d541dee8bdaa",
   "metadata": {
    "jupyter": {
     "source_hidden": true
    }
   },
   "source": [
    "### fancy indexing(filtering)\n",
    "넘파이 배열에 배열로 인덱싱하면 인덱스 번호로 인식한다.\n",
    "\n",
    "넘파이배열1[넘파이배열2]\n",
    "넘파이배열2 : 인덱스 역할 (only 정수형)"
   ]
  },
  {
   "cell_type": "code",
   "execution_count": 96,
   "id": "78fd79ce-97c2-47f9-af31-1d4fd927787a",
   "metadata": {},
   "outputs": [
    {
     "data": {
      "text/plain": [
       "(array([24,  5, 38,  9, 40, 33, 39, 57, 20, 48, 47, 70, 40, 84, 87, 84, 82,\n",
       "        96, 74, 20, 56, 34,  6, 34, 85, 31, 96, 68, 72, 14]),\n",
       " array([24, 38,  9, 47, 56]))"
      ]
     },
     "execution_count": 96,
     "metadata": {},
     "output_type": "execute_result"
    }
   ],
   "source": [
    "n = np.random.randint(1,100,30)\n",
    "i = np.array([0, 2, 3, 10, 20])\n",
    "n, n[i]"
   ]
  },
  {
   "cell_type": "markdown",
   "id": "3efaa2bb-4446-4e20-9d35-683950735435",
   "metadata": {},
   "source": [
    "### np.where()를 이용한 필터링 (중요)\n",
    "\n",
    "np.where(조건식) : 조건식 만족하는 인덱스 반환\n",
    "np.where(조건식, T, F) : 조건식 만족하면 T값, 아니면F값\n",
    "배열[np.where(조건식)] : 조건식 만족하는 실제 배열값"
   ]
  },
  {
   "cell_type": "code",
   "execution_count": 97,
   "id": "a6dfc4c3-0d4b-4c4a-9ff3-b5c938eab60f",
   "metadata": {},
   "outputs": [
    {
     "data": {
      "text/plain": [
       "(array([0, 1, 2, 3, 4, 5, 6, 7, 8, 9]),\n",
       " array([ 0,  1,  2,  3,  4, 50, 60, 70, 80, 90]))"
      ]
     },
     "execution_count": 97,
     "metadata": {},
     "output_type": "execute_result"
    }
   ],
   "source": [
    "a = np.arange(10)\n",
    "a, np.where(a < 5, a, 10*a)\n",
    "# a가 5보다 작으면 a를, 아니면 10을 곱하여 출력"
   ]
  },
  {
   "cell_type": "code",
   "execution_count": 98,
   "id": "75298df3-f868-4c57-8321-0b0d39662393",
   "metadata": {},
   "outputs": [
    {
     "data": {
      "text/plain": [
       "(array([20, 21, 22, 23, 24, 25, 26, 27, 28, 29, 30]),\n",
       " (array([0, 1, 2, 3, 4], dtype=int64),))"
      ]
     },
     "execution_count": 98,
     "metadata": {},
     "output_type": "execute_result"
    }
   ],
   "source": [
    "b = np.arange(20, 31)\n",
    "b, np.where(b<25) # 조건을 하나만 주면 인덱스를 반환함"
   ]
  }
 ],
 "metadata": {
  "kernelspec": {
   "display_name": "Python 3 (ipykernel)",
   "language": "python",
   "name": "python3"
  },
  "language_info": {
   "codemirror_mode": {
    "name": "ipython",
    "version": 3
   },
   "file_extension": ".py",
   "mimetype": "text/x-python",
   "name": "python",
   "nbconvert_exporter": "python",
   "pygments_lexer": "ipython3",
   "version": "3.11.7"
  }
 },
 "nbformat": 4,
 "nbformat_minor": 5
}
