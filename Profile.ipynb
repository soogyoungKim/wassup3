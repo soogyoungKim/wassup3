{
 "cells": [
  {
   "cell_type": "markdown",
   "id": "4f0c59f7-5f1c-4e62-a17b-346fab9bc2eb",
   "metadata": {},
   "source": [
    "## Hi Wassup3🫧"
   ]
  },
  {
   "cell_type": "markdown",
   "id": "aeed9f6f-1d0c-4674-b0e9-d53a462274d9",
   "metadata": {},
   "source": [
    "***\n",
    "![타이틀](https://github.com/soogyoungKim/wassup3/assets/64181327/4f6315ce-5f21-41ed-aade-44ed15079bf9)\n",
    "***"
   ]
  },
  {
   "cell_type": "markdown",
   "id": "3816c420-08ea-47f9-82be-42a795e51bf0",
   "metadata": {},
   "source": [
    "### 🎙️Name\n",
    "> #### 김수경\n",
    "> #### Sookyoung KIM"
   ]
  },
  {
   "cell_type": "markdown",
   "id": "fa1659b9-ac76-4456-89d5-bd4eb0d410a4",
   "metadata": {},
   "source": [
    "### 📨E-Mail\n",
    "> #### soo990519@gmail.com"
   ]
  },
  {
   "cell_type": "markdown",
   "id": "dd1b52a2-b50f-42e2-aa14-02704099b289",
   "metadata": {},
   "source": [
    "### 🎉Birth\n",
    "> #### 1999.05.19"
   ]
  },
  {
   "cell_type": "markdown",
   "id": "613bb9a6-3c2a-4572-8ea1-3ec280db9ff1",
   "metadata": {},
   "source": [
    "### 🏢Career\n",
    ">`2020.09 ~ 2023.12` (주)투바앤 사업부문 대리"
   ]
  },
  {
   "cell_type": "markdown",
   "id": "3edac957-5de0-41f3-be46-bbb2fcd8e991",
   "metadata": {},
   "source": [
    "### 📑Used Tool & Skill\n",
    ">`photoshop` `premere Pro`\n",
    ">`Ecxel` `Word` `Powerpoint`"
   ]
  }
 ],
 "metadata": {
  "kernelspec": {
   "display_name": "Python 3 (ipykernel)",
   "language": "python",
   "name": "python3"
  },
  "language_info": {
   "codemirror_mode": {
    "name": "ipython",
    "version": 3
   },
   "file_extension": ".py",
   "mimetype": "text/x-python",
   "name": "python",
   "nbconvert_exporter": "python",
   "pygments_lexer": "ipython3",
   "version": "3.11.7"
  }
 },
 "nbformat": 4,
 "nbformat_minor": 5
}
