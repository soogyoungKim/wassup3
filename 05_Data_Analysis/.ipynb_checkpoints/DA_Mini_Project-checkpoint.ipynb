{
 "cells": [
  {
   "cell_type": "markdown",
   "id": "ad7181c2-2b55-4c85-b98b-73f88cd2f077",
   "metadata": {},
   "source": [
    "# DA Mini Project\n",
    "* 주제 : 온라인 학습 플랫폼 사용자 행동 패턴 분석\n",
    "* 개요 :\n",
    "```\n",
    "이번 프로젝트는 학습 서비스를 이용하는 독자들 중 누가 서비스 구독을 연장할지 예측하기 위한 사전 파악에 초점을 맞추고 있습니다. 우리의 목표는 유저들의 학습 습관, 선호도, 이용 행태 등 다양한 측면을 면밀히 분석하는 것입니다.\n",
    "\n",
    "\n",
    "이를 위해, 우리는 유저들의 학습 패턴, 서비스 이용 시간, 콘텐츠에 대한 반응, 그리고 이들이 얼마나 자주 서비스를 이용하는지 등 다양한 데이터를 수집하고 분석할 계획입니다. 이 데이터는 유저들이 서비스에 얼마나 만족하고 있는지, 어떤 요소들이 그들의 구독 결정에 영향을 미치는지 이해하는 데 중요한 역할을 할 것입니다.\n",
    "```\n",
    "* 데이터셋 : mini.csv\n",
    "    * 메타데이터\n",
    "        * user_id: 사용자의 고유 식별자\n",
    "        * subscription_duration: 사용자가 서비스에 가입한 기간 (월)\n",
    "        * recent_login_time: 사용자가 마지막으로 로그인한 시간 (일)\n",
    "        * average_login_time:  사용자의 일반적인 로그인 시간\n",
    "        * average_time_per_learning_session: 각 학습 세션에 소요된 평균 시간 (분)\n",
    "        * monthly_active_learning_days: 월간 활동적인 학습 일수\n",
    "        * total_completed_courses: 완료한 총 코스 수\n",
    "        * recent_learning_achievement: 최근 학습 성취도\n",
    "        * abandoned_learning_sessions: 중단된 학습 세션 수\n",
    "        * community_engagement_level: 커뮤니티 참여도\n",
    "        * preferred_difficulty_level: 선호하는 난이도\n",
    "        * subscription_type: 구독 유형\n",
    "        * customer_inquiry_history: 고객 문의 이력\n",
    "        * payment_pattern : 사용자의 지난 3개월 간의 결제 패턴을 10진수로 표현한 값.\n",
    "          - 7: 3개월 모두 결제함\n",
    "          - 6: 첫 2개월은 결제했으나 마지막 달에는 결제하지 않음\n",
    "          - 5: 첫 달과 마지막 달에 결제함\n",
    "          - 4: 첫 달에만 결제함\n",
    "          - 3: 마지막 2개월에 결제함\n",
    "          - 2: 가운데 달에만 결제함\n",
    "          - 1: 마지막 달에만 결제함\n",
    "          - 0: 3개월 동안 결제하지 않음\n",
    "        * target: 사용자가 다음 달에도 구독을 계속할지 (1) 또는 취소할지 (0)를 나타냄"
   ]
  },
  {
   "cell_type": "markdown",
   "id": "bbbc0156-71fe-48a3-8782-6c00543e0dde",
   "metadata": {},
   "source": [
    "## 가설 1 : 학습 성취도가 90% 이상인 유저들이 재구독할 가능성이 높을 것이다"
   ]
  },
  {
   "cell_type": "markdown",
   "id": "3f8e3f82-a0be-4912-9534-486568c462af",
   "metadata": {},
   "source": [
    "### 1.1 데이터 탐색"
   ]
  },
  {
   "cell_type": "code",
   "execution_count": 30,
   "id": "56f8b439-c819-496b-83f6-a52ced51d8f6",
   "metadata": {},
   "outputs": [
    {
     "name": "stdout",
     "output_type": "stream",
     "text": [
      "<class 'pandas.core.frame.DataFrame'>\n",
      "RangeIndex: 10000 entries, 0 to 9999\n",
      "Data columns (total 15 columns):\n",
      " #   Column                             Non-Null Count  Dtype  \n",
      "---  ------                             --------------  -----  \n",
      " 0   user_id                            10000 non-null  object \n",
      " 1   subscription_duration              10000 non-null  int64  \n",
      " 2   recent_login_time                  10000 non-null  int64  \n",
      " 3   average_login_time                 10000 non-null  float64\n",
      " 4   average_time_per_learning_session  10000 non-null  float64\n",
      " 5   monthly_active_learning_days       10000 non-null  int64  \n",
      " 6   total_completed_courses            10000 non-null  int64  \n",
      " 7   recent_learning_achievement        10000 non-null  float64\n",
      " 8   abandoned_learning_sessions        10000 non-null  int64  \n",
      " 9   community_engagement_level         10000 non-null  int64  \n",
      " 10  preferred_difficulty_level         10000 non-null  object \n",
      " 11  subscription_type                  10000 non-null  object \n",
      " 12  customer_inquiry_history           10000 non-null  int64  \n",
      " 13  payment_pattern                    10000 non-null  int64  \n",
      " 14  target                             10000 non-null  int64  \n",
      "dtypes: float64(3), int64(9), object(3)\n",
      "memory usage: 1.1+ MB\n"
     ]
    },
    {
     "data": {
      "text/html": [
       "<div>\n",
       "<style scoped>\n",
       "    .dataframe tbody tr th:only-of-type {\n",
       "        vertical-align: middle;\n",
       "    }\n",
       "\n",
       "    .dataframe tbody tr th {\n",
       "        vertical-align: top;\n",
       "    }\n",
       "\n",
       "    .dataframe thead th {\n",
       "        text-align: right;\n",
       "    }\n",
       "</style>\n",
       "<table border=\"1\" class=\"dataframe\">\n",
       "  <thead>\n",
       "    <tr style=\"text-align: right;\">\n",
       "      <th></th>\n",
       "      <th>subscription_duration</th>\n",
       "      <th>recent_login_time</th>\n",
       "      <th>average_login_time</th>\n",
       "      <th>average_time_per_learning_session</th>\n",
       "      <th>monthly_active_learning_days</th>\n",
       "      <th>total_completed_courses</th>\n",
       "      <th>recent_learning_achievement</th>\n",
       "      <th>abandoned_learning_sessions</th>\n",
       "      <th>community_engagement_level</th>\n",
       "      <th>customer_inquiry_history</th>\n",
       "      <th>payment_pattern</th>\n",
       "      <th>target</th>\n",
       "    </tr>\n",
       "  </thead>\n",
       "  <tbody>\n",
       "    <tr>\n",
       "      <th>count</th>\n",
       "      <td>10000.000000</td>\n",
       "      <td>10000.000000</td>\n",
       "      <td>10000.000000</td>\n",
       "      <td>10000.000000</td>\n",
       "      <td>10000.000000</td>\n",
       "      <td>10000.000000</td>\n",
       "      <td>10000.000000</td>\n",
       "      <td>10000.000000</td>\n",
       "      <td>10000.000000</td>\n",
       "      <td>10000.000000</td>\n",
       "      <td>10000.000000</td>\n",
       "      <td>10000.000000</td>\n",
       "    </tr>\n",
       "    <tr>\n",
       "      <th>mean</th>\n",
       "      <td>11.897400</td>\n",
       "      <td>15.013200</td>\n",
       "      <td>14.994076</td>\n",
       "      <td>54.917720</td>\n",
       "      <td>12.545400</td>\n",
       "      <td>12.227500</td>\n",
       "      <td>75.029513</td>\n",
       "      <td>3.043600</td>\n",
       "      <td>3.886100</td>\n",
       "      <td>2.010500</td>\n",
       "      <td>3.502900</td>\n",
       "      <td>0.619900</td>\n",
       "    </tr>\n",
       "    <tr>\n",
       "      <th>std</th>\n",
       "      <td>6.600896</td>\n",
       "      <td>8.362573</td>\n",
       "      <td>3.001869</td>\n",
       "      <td>56.024310</td>\n",
       "      <td>6.932239</td>\n",
       "      <td>3.634125</td>\n",
       "      <td>9.968529</td>\n",
       "      <td>1.755052</td>\n",
       "      <td>1.262175</td>\n",
       "      <td>1.420983</td>\n",
       "      <td>2.311261</td>\n",
       "      <td>0.485435</td>\n",
       "    </tr>\n",
       "    <tr>\n",
       "      <th>min</th>\n",
       "      <td>1.000000</td>\n",
       "      <td>1.000000</td>\n",
       "      <td>2.366189</td>\n",
       "      <td>0.011515</td>\n",
       "      <td>1.000000</td>\n",
       "      <td>1.000000</td>\n",
       "      <td>35.941755</td>\n",
       "      <td>0.000000</td>\n",
       "      <td>1.000000</td>\n",
       "      <td>0.000000</td>\n",
       "      <td>0.000000</td>\n",
       "      <td>0.000000</td>\n",
       "    </tr>\n",
       "    <tr>\n",
       "      <th>25%</th>\n",
       "      <td>6.000000</td>\n",
       "      <td>8.000000</td>\n",
       "      <td>13.025597</td>\n",
       "      <td>15.276611</td>\n",
       "      <td>7.000000</td>\n",
       "      <td>10.000000</td>\n",
       "      <td>68.278054</td>\n",
       "      <td>2.000000</td>\n",
       "      <td>3.000000</td>\n",
       "      <td>1.000000</td>\n",
       "      <td>1.000000</td>\n",
       "      <td>0.000000</td>\n",
       "    </tr>\n",
       "    <tr>\n",
       "      <th>50%</th>\n",
       "      <td>12.000000</td>\n",
       "      <td>15.000000</td>\n",
       "      <td>14.979228</td>\n",
       "      <td>37.578818</td>\n",
       "      <td>13.000000</td>\n",
       "      <td>12.000000</td>\n",
       "      <td>75.126061</td>\n",
       "      <td>3.000000</td>\n",
       "      <td>4.000000</td>\n",
       "      <td>2.000000</td>\n",
       "      <td>4.000000</td>\n",
       "      <td>1.000000</td>\n",
       "    </tr>\n",
       "    <tr>\n",
       "      <th>75%</th>\n",
       "      <td>18.000000</td>\n",
       "      <td>22.000000</td>\n",
       "      <td>16.995340</td>\n",
       "      <td>75.584200</td>\n",
       "      <td>19.000000</td>\n",
       "      <td>15.000000</td>\n",
       "      <td>81.718976</td>\n",
       "      <td>4.000000</td>\n",
       "      <td>5.000000</td>\n",
       "      <td>3.000000</td>\n",
       "      <td>6.000000</td>\n",
       "      <td>1.000000</td>\n",
       "    </tr>\n",
       "    <tr>\n",
       "      <th>max</th>\n",
       "      <td>23.000000</td>\n",
       "      <td>29.000000</td>\n",
       "      <td>26.998490</td>\n",
       "      <td>503.372616</td>\n",
       "      <td>24.000000</td>\n",
       "      <td>27.000000</td>\n",
       "      <td>112.643828</td>\n",
       "      <td>12.000000</td>\n",
       "      <td>5.000000</td>\n",
       "      <td>10.000000</td>\n",
       "      <td>7.000000</td>\n",
       "      <td>1.000000</td>\n",
       "    </tr>\n",
       "  </tbody>\n",
       "</table>\n",
       "</div>"
      ],
      "text/plain": [
       "       subscription_duration  recent_login_time  average_login_time  \\\n",
       "count           10000.000000       10000.000000        10000.000000   \n",
       "mean               11.897400          15.013200           14.994076   \n",
       "std                 6.600896           8.362573            3.001869   \n",
       "min                 1.000000           1.000000            2.366189   \n",
       "25%                 6.000000           8.000000           13.025597   \n",
       "50%                12.000000          15.000000           14.979228   \n",
       "75%                18.000000          22.000000           16.995340   \n",
       "max                23.000000          29.000000           26.998490   \n",
       "\n",
       "       average_time_per_learning_session  monthly_active_learning_days  \\\n",
       "count                       10000.000000                  10000.000000   \n",
       "mean                           54.917720                     12.545400   \n",
       "std                            56.024310                      6.932239   \n",
       "min                             0.011515                      1.000000   \n",
       "25%                            15.276611                      7.000000   \n",
       "50%                            37.578818                     13.000000   \n",
       "75%                            75.584200                     19.000000   \n",
       "max                           503.372616                     24.000000   \n",
       "\n",
       "       total_completed_courses  recent_learning_achievement  \\\n",
       "count             10000.000000                 10000.000000   \n",
       "mean                 12.227500                    75.029513   \n",
       "std                   3.634125                     9.968529   \n",
       "min                   1.000000                    35.941755   \n",
       "25%                  10.000000                    68.278054   \n",
       "50%                  12.000000                    75.126061   \n",
       "75%                  15.000000                    81.718976   \n",
       "max                  27.000000                   112.643828   \n",
       "\n",
       "       abandoned_learning_sessions  community_engagement_level  \\\n",
       "count                 10000.000000                10000.000000   \n",
       "mean                      3.043600                    3.886100   \n",
       "std                       1.755052                    1.262175   \n",
       "min                       0.000000                    1.000000   \n",
       "25%                       2.000000                    3.000000   \n",
       "50%                       3.000000                    4.000000   \n",
       "75%                       4.000000                    5.000000   \n",
       "max                      12.000000                    5.000000   \n",
       "\n",
       "       customer_inquiry_history  payment_pattern        target  \n",
       "count              10000.000000     10000.000000  10000.000000  \n",
       "mean                   2.010500         3.502900      0.619900  \n",
       "std                    1.420983         2.311261      0.485435  \n",
       "min                    0.000000         0.000000      0.000000  \n",
       "25%                    1.000000         1.000000      0.000000  \n",
       "50%                    2.000000         4.000000      1.000000  \n",
       "75%                    3.000000         6.000000      1.000000  \n",
       "max                   10.000000         7.000000      1.000000  "
      ]
     },
     "execution_count": 30,
     "metadata": {},
     "output_type": "execute_result"
    }
   ],
   "source": [
    "import pandas as pd\n",
    "import numpy as np\n",
    "import seaborn as sns\n",
    "\n",
    "user_data = pd.read_csv('data/mini.csv')\n",
    "\n",
    "user_data.info()\n",
    "user_data.describe()"
   ]
  },
  {
   "cell_type": "code",
   "execution_count": 7,
   "id": "099241a3-33dc-46a1-81e9-32b4a673e53f",
   "metadata": {},
   "outputs": [
    {
     "data": {
      "text/html": [
       "<div>\n",
       "<style scoped>\n",
       "    .dataframe tbody tr th:only-of-type {\n",
       "        vertical-align: middle;\n",
       "    }\n",
       "\n",
       "    .dataframe tbody tr th {\n",
       "        vertical-align: top;\n",
       "    }\n",
       "\n",
       "    .dataframe thead th {\n",
       "        text-align: right;\n",
       "    }\n",
       "</style>\n",
       "<table border=\"1\" class=\"dataframe\">\n",
       "  <thead>\n",
       "    <tr style=\"text-align: right;\">\n",
       "      <th></th>\n",
       "      <th>user_id</th>\n",
       "      <th>subscription_duration</th>\n",
       "      <th>recent_login_time</th>\n",
       "      <th>average_login_time</th>\n",
       "      <th>average_time_per_learning_session</th>\n",
       "      <th>monthly_active_learning_days</th>\n",
       "      <th>total_completed_courses</th>\n",
       "      <th>recent_learning_achievement</th>\n",
       "      <th>abandoned_learning_sessions</th>\n",
       "      <th>community_engagement_level</th>\n",
       "      <th>preferred_difficulty_level</th>\n",
       "      <th>subscription_type</th>\n",
       "      <th>customer_inquiry_history</th>\n",
       "      <th>payment_pattern</th>\n",
       "      <th>target</th>\n",
       "    </tr>\n",
       "  </thead>\n",
       "  <tbody>\n",
       "    <tr>\n",
       "      <th>0</th>\n",
       "      <td>b919c29d</td>\n",
       "      <td>13</td>\n",
       "      <td>14</td>\n",
       "      <td>14.946163</td>\n",
       "      <td>8.427187</td>\n",
       "      <td>18</td>\n",
       "      <td>16</td>\n",
       "      <td>68.360455</td>\n",
       "      <td>3</td>\n",
       "      <td>4</td>\n",
       "      <td>Low</td>\n",
       "      <td>Basic</td>\n",
       "      <td>4</td>\n",
       "      <td>5</td>\n",
       "      <td>0</td>\n",
       "    </tr>\n",
       "    <tr>\n",
       "      <th>1</th>\n",
       "      <td>a0a60abb</td>\n",
       "      <td>16</td>\n",
       "      <td>18</td>\n",
       "      <td>18.453224</td>\n",
       "      <td>72.646087</td>\n",
       "      <td>16</td>\n",
       "      <td>13</td>\n",
       "      <td>97.567322</td>\n",
       "      <td>2</td>\n",
       "      <td>3</td>\n",
       "      <td>Medium</td>\n",
       "      <td>Basic</td>\n",
       "      <td>1</td>\n",
       "      <td>6</td>\n",
       "      <td>1</td>\n",
       "    </tr>\n",
       "    <tr>\n",
       "      <th>2</th>\n",
       "      <td>b9f171ae</td>\n",
       "      <td>22</td>\n",
       "      <td>1</td>\n",
       "      <td>16.195228</td>\n",
       "      <td>21.774492</td>\n",
       "      <td>13</td>\n",
       "      <td>14</td>\n",
       "      <td>94.358763</td>\n",
       "      <td>3</td>\n",
       "      <td>4</td>\n",
       "      <td>Medium</td>\n",
       "      <td>Premium</td>\n",
       "      <td>0</td>\n",
       "      <td>7</td>\n",
       "      <td>1</td>\n",
       "    </tr>\n",
       "    <tr>\n",
       "      <th>3</th>\n",
       "      <td>5dc0ba8b</td>\n",
       "      <td>1</td>\n",
       "      <td>19</td>\n",
       "      <td>17.628656</td>\n",
       "      <td>42.659066</td>\n",
       "      <td>19</td>\n",
       "      <td>18</td>\n",
       "      <td>70.153228</td>\n",
       "      <td>0</td>\n",
       "      <td>3</td>\n",
       "      <td>Low</td>\n",
       "      <td>Basic</td>\n",
       "      <td>1</td>\n",
       "      <td>0</td>\n",
       "      <td>1</td>\n",
       "    </tr>\n",
       "    <tr>\n",
       "      <th>4</th>\n",
       "      <td>65c83654</td>\n",
       "      <td>4</td>\n",
       "      <td>5</td>\n",
       "      <td>21.390656</td>\n",
       "      <td>30.744287</td>\n",
       "      <td>19</td>\n",
       "      <td>10</td>\n",
       "      <td>81.917908</td>\n",
       "      <td>2</td>\n",
       "      <td>4</td>\n",
       "      <td>Medium</td>\n",
       "      <td>Basic</td>\n",
       "      <td>3</td>\n",
       "      <td>0</td>\n",
       "      <td>1</td>\n",
       "    </tr>\n",
       "  </tbody>\n",
       "</table>\n",
       "</div>"
      ],
      "text/plain": [
       "    user_id  subscription_duration  recent_login_time  average_login_time  \\\n",
       "0  b919c29d                     13                 14           14.946163   \n",
       "1  a0a60abb                     16                 18           18.453224   \n",
       "2  b9f171ae                     22                  1           16.195228   \n",
       "3  5dc0ba8b                      1                 19           17.628656   \n",
       "4  65c83654                      4                  5           21.390656   \n",
       "\n",
       "   average_time_per_learning_session  monthly_active_learning_days  \\\n",
       "0                           8.427187                            18   \n",
       "1                          72.646087                            16   \n",
       "2                          21.774492                            13   \n",
       "3                          42.659066                            19   \n",
       "4                          30.744287                            19   \n",
       "\n",
       "   total_completed_courses  recent_learning_achievement  \\\n",
       "0                       16                    68.360455   \n",
       "1                       13                    97.567322   \n",
       "2                       14                    94.358763   \n",
       "3                       18                    70.153228   \n",
       "4                       10                    81.917908   \n",
       "\n",
       "   abandoned_learning_sessions  community_engagement_level  \\\n",
       "0                            3                           4   \n",
       "1                            2                           3   \n",
       "2                            3                           4   \n",
       "3                            0                           3   \n",
       "4                            2                           4   \n",
       "\n",
       "  preferred_difficulty_level subscription_type  customer_inquiry_history  \\\n",
       "0                        Low             Basic                         4   \n",
       "1                     Medium             Basic                         1   \n",
       "2                     Medium           Premium                         0   \n",
       "3                        Low             Basic                         1   \n",
       "4                     Medium             Basic                         3   \n",
       "\n",
       "   payment_pattern  target  \n",
       "0                5       0  \n",
       "1                6       1  \n",
       "2                7       1  \n",
       "3                0       1  \n",
       "4                0       1  "
      ]
     },
     "execution_count": 7,
     "metadata": {},
     "output_type": "execute_result"
    }
   ],
   "source": [
    "user_data.head()"
   ]
  },
  {
   "cell_type": "code",
   "execution_count": 9,
   "id": "b31d75cb-7fb5-4a76-898d-3e6594d46b5b",
   "metadata": {},
   "outputs": [
    {
     "data": {
      "text/plain": [
       "(10000, 15)"
      ]
     },
     "execution_count": 9,
     "metadata": {},
     "output_type": "execute_result"
    }
   ],
   "source": [
    "user_data.shape"
   ]
  },
  {
   "cell_type": "code",
   "execution_count": null,
   "id": "25f47a44-b10b-4c96-8420-5264cb9ffa8b",
   "metadata": {},
   "outputs": [],
   "source": [
    "# 총 10000행과 15열을 가진 데이터다."
   ]
  },
  {
   "cell_type": "markdown",
   "id": "2ccc55e7-c03c-41b6-819b-0592b4251ed0",
   "metadata": {},
   "source": [
    "### 1.2 결측치 확인 및 처리"
   ]
  },
  {
   "cell_type": "code",
   "execution_count": 38,
   "id": "101ddd96-4eba-4cd7-8559-20e7412987d9",
   "metadata": {},
   "outputs": [
    {
     "data": {
      "text/plain": [
       "user_id                              0\n",
       "subscription_duration                0\n",
       "recent_login_time                    0\n",
       "average_login_time                   0\n",
       "average_time_per_learning_session    0\n",
       "monthly_active_learning_days         0\n",
       "total_completed_courses              0\n",
       "recent_learning_achievement          0\n",
       "abandoned_learning_sessions          0\n",
       "community_engagement_level           0\n",
       "preferred_difficulty_level           0\n",
       "subscription_type                    0\n",
       "customer_inquiry_history             0\n",
       "payment_pattern                      0\n",
       "target                               0\n",
       "dtype: int64"
      ]
     },
     "execution_count": 38,
     "metadata": {},
     "output_type": "execute_result"
    }
   ],
   "source": [
    "user_data.isnull().sum()"
   ]
  },
  {
   "cell_type": "code",
   "execution_count": 11,
   "id": "35b34ce9-dfb4-4709-8981-541222697374",
   "metadata": {},
   "outputs": [
    {
     "data": {
      "text/html": [
       "<div>\n",
       "<style scoped>\n",
       "    .dataframe tbody tr th:only-of-type {\n",
       "        vertical-align: middle;\n",
       "    }\n",
       "\n",
       "    .dataframe tbody tr th {\n",
       "        vertical-align: top;\n",
       "    }\n",
       "\n",
       "    .dataframe thead th {\n",
       "        text-align: right;\n",
       "    }\n",
       "</style>\n",
       "<table border=\"1\" class=\"dataframe\">\n",
       "  <thead>\n",
       "    <tr style=\"text-align: right;\">\n",
       "      <th></th>\n",
       "      <th>user_id</th>\n",
       "      <th>subscription_duration</th>\n",
       "      <th>recent_login_time</th>\n",
       "      <th>average_login_time</th>\n",
       "      <th>average_time_per_learning_session</th>\n",
       "      <th>monthly_active_learning_days</th>\n",
       "      <th>total_completed_courses</th>\n",
       "      <th>recent_learning_achievement</th>\n",
       "      <th>abandoned_learning_sessions</th>\n",
       "      <th>community_engagement_level</th>\n",
       "      <th>preferred_difficulty_level</th>\n",
       "      <th>subscription_type</th>\n",
       "      <th>customer_inquiry_history</th>\n",
       "      <th>payment_pattern</th>\n",
       "      <th>target</th>\n",
       "    </tr>\n",
       "  </thead>\n",
       "  <tbody>\n",
       "  </tbody>\n",
       "</table>\n",
       "</div>"
      ],
      "text/plain": [
       "Empty DataFrame\n",
       "Columns: [user_id, subscription_duration, recent_login_time, average_login_time, average_time_per_learning_session, monthly_active_learning_days, total_completed_courses, recent_learning_achievement, abandoned_learning_sessions, community_engagement_level, preferred_difficulty_level, subscription_type, customer_inquiry_history, payment_pattern, target]\n",
       "Index: []"
      ]
     },
     "execution_count": 11,
     "metadata": {},
     "output_type": "execute_result"
    }
   ],
   "source": [
    "user_data[user_data.isna().sum(axis=1) > 0]"
   ]
  },
  {
   "cell_type": "code",
   "execution_count": null,
   "id": "5997b29f-7379-420c-a910-f9599de32ab0",
   "metadata": {},
   "outputs": [],
   "source": [
    "# 결측치는 없는 것으로 보인다."
   ]
  },
  {
   "cell_type": "markdown",
   "id": "611fe250-d769-4f56-a8eb-94d1c6403104",
   "metadata": {},
   "source": [
    "### 1.3 데이터 전처리"
   ]
  },
  {
   "cell_type": "code",
   "execution_count": 14,
   "id": "d3516caf-dc05-4c8e-8dd5-e78cae8b4ca4",
   "metadata": {},
   "outputs": [
    {
     "data": {
      "text/plain": [
       "array(['Basic', 'Premium'], dtype=object)"
      ]
     },
     "execution_count": 14,
     "metadata": {},
     "output_type": "execute_result"
    }
   ],
   "source": [
    "user_data['subscription_type'].unique()"
   ]
  },
  {
   "cell_type": "code",
   "execution_count": 15,
   "id": "77c03b40-0481-4267-b328-4ae9ec64104e",
   "metadata": {},
   "outputs": [
    {
     "data": {
      "text/plain": [
       "array([5, 6, 7, 0, 1, 3, 4, 2], dtype=int64)"
      ]
     },
     "execution_count": 15,
     "metadata": {},
     "output_type": "execute_result"
    }
   ],
   "source": [
    "user_data['payment_pattern'].unique()"
   ]
  },
  {
   "cell_type": "code",
   "execution_count": null,
   "id": "f81b5ac9-f389-4017-a141-e65208247827",
   "metadata": {},
   "outputs": [],
   "source": [
    "# 성취도 별 수강생 분포도를 알아보자"
   ]
  },
  {
   "cell_type": "code",
   "execution_count": null,
   "id": "9df38c99-61a6-46fd-9644-dc0acd9009eb",
   "metadata": {},
   "outputs": [],
   "source": [
    "# 최근 학습 성취도를 기준으로 데이터프레임 만들기"
   ]
  },
  {
   "cell_type": "code",
   "execution_count": 49,
   "id": "235c4113-be9b-4dd6-af9a-f34cd11c5c63",
   "metadata": {},
   "outputs": [
    {
     "data": {
      "text/html": [
       "<div>\n",
       "<style scoped>\n",
       "    .dataframe tbody tr th:only-of-type {\n",
       "        vertical-align: middle;\n",
       "    }\n",
       "\n",
       "    .dataframe tbody tr th {\n",
       "        vertical-align: top;\n",
       "    }\n",
       "\n",
       "    .dataframe thead th {\n",
       "        text-align: right;\n",
       "    }\n",
       "</style>\n",
       "<table border=\"1\" class=\"dataframe\">\n",
       "  <thead>\n",
       "    <tr style=\"text-align: right;\">\n",
       "      <th></th>\n",
       "      <th>recent_learning_achievement</th>\n",
       "      <th>payment_pattern</th>\n",
       "    </tr>\n",
       "  </thead>\n",
       "  <tbody>\n",
       "    <tr>\n",
       "      <th>0</th>\n",
       "      <td>68.360455</td>\n",
       "      <td>5</td>\n",
       "    </tr>\n",
       "    <tr>\n",
       "      <th>1</th>\n",
       "      <td>97.567322</td>\n",
       "      <td>6</td>\n",
       "    </tr>\n",
       "    <tr>\n",
       "      <th>2</th>\n",
       "      <td>94.358763</td>\n",
       "      <td>7</td>\n",
       "    </tr>\n",
       "    <tr>\n",
       "      <th>3</th>\n",
       "      <td>70.153228</td>\n",
       "      <td>0</td>\n",
       "    </tr>\n",
       "    <tr>\n",
       "      <th>4</th>\n",
       "      <td>81.917908</td>\n",
       "      <td>0</td>\n",
       "    </tr>\n",
       "  </tbody>\n",
       "</table>\n",
       "</div>"
      ],
      "text/plain": [
       "   recent_learning_achievement  payment_pattern\n",
       "0                    68.360455                5\n",
       "1                    97.567322                6\n",
       "2                    94.358763                7\n",
       "3                    70.153228                0\n",
       "4                    81.917908                0"
      ]
     },
     "execution_count": 49,
     "metadata": {},
     "output_type": "execute_result"
    }
   ],
   "source": [
    "df = pd.DataFrame(user_data, columns=['recent_learning_achievement','payment_pattern'])\n",
    "df.head()"
   ]
  },
  {
   "cell_type": "code",
   "execution_count": null,
   "id": "bd312719-f0ae-44d5-a1a4-dce45a48a0fb",
   "metadata": {},
   "outputs": [],
   "source": [
    "# groupby로 집계하기 전에 column 추가 생성하기\n",
    "# 각 성취도가 포함된 범위값을 column(percent)으로 추가하여 구한다."
   ]
  },
  {
   "cell_type": "code",
   "execution_count": 50,
   "id": "cc0659b7-6cd0-4984-9be6-198666dc0b92",
   "metadata": {},
   "outputs": [],
   "source": [
    "df['percent'] = 0 "
   ]
  },
  {
   "cell_type": "code",
   "execution_count": 51,
   "id": "4c71611a-e00e-4719-830d-c2fb06b506e9",
   "metadata": {},
   "outputs": [],
   "source": [
    "def find_group(recent_learning_achievement):\n",
    "    groups = [ 60, 70, 80, 90, 100]\n",
    "    for i in range(len(groups)):\n",
    "        if recent_learning_achievement < groups[i]:\n",
    "            if i == 0:\n",
    "                return 0\n",
    "            \n",
    "            return groups[i-1]"
   ]
  },
  {
   "cell_type": "code",
   "execution_count": 52,
   "id": "4981f339-e1bf-4021-a490-8ef4115ca4b1",
   "metadata": {},
   "outputs": [],
   "source": [
    "df['percent'] = [find_group(e) for e in df.recent_learning_achievement]"
   ]
  },
  {
   "cell_type": "code",
   "execution_count": 53,
   "id": "2e860d41-e8fc-413d-98cc-4becb959723d",
   "metadata": {},
   "outputs": [
    {
     "data": {
      "text/html": [
       "<div>\n",
       "<style scoped>\n",
       "    .dataframe tbody tr th:only-of-type {\n",
       "        vertical-align: middle;\n",
       "    }\n",
       "\n",
       "    .dataframe tbody tr th {\n",
       "        vertical-align: top;\n",
       "    }\n",
       "\n",
       "    .dataframe thead th {\n",
       "        text-align: right;\n",
       "    }\n",
       "</style>\n",
       "<table border=\"1\" class=\"dataframe\">\n",
       "  <thead>\n",
       "    <tr style=\"text-align: right;\">\n",
       "      <th></th>\n",
       "      <th>recent_learning_achievement</th>\n",
       "      <th>payment_pattern</th>\n",
       "    </tr>\n",
       "    <tr>\n",
       "      <th>percent</th>\n",
       "      <th></th>\n",
       "      <th></th>\n",
       "    </tr>\n",
       "  </thead>\n",
       "  <tbody>\n",
       "    <tr>\n",
       "      <th>0.0</th>\n",
       "      <td>675</td>\n",
       "      <td>675</td>\n",
       "    </tr>\n",
       "    <tr>\n",
       "      <th>60.0</th>\n",
       "      <td>2396</td>\n",
       "      <td>2396</td>\n",
       "    </tr>\n",
       "    <tr>\n",
       "      <th>70.0</th>\n",
       "      <td>3823</td>\n",
       "      <td>3823</td>\n",
       "    </tr>\n",
       "    <tr>\n",
       "      <th>80.0</th>\n",
       "      <td>2456</td>\n",
       "      <td>2456</td>\n",
       "    </tr>\n",
       "    <tr>\n",
       "      <th>90.0</th>\n",
       "      <td>592</td>\n",
       "      <td>592</td>\n",
       "    </tr>\n",
       "  </tbody>\n",
       "</table>\n",
       "</div>"
      ],
      "text/plain": [
       "         recent_learning_achievement  payment_pattern\n",
       "percent                                              \n",
       "0.0                              675              675\n",
       "60.0                            2396             2396\n",
       "70.0                            3823             3823\n",
       "80.0                            2456             2456\n",
       "90.0                             592              592"
      ]
     },
     "execution_count": 53,
     "metadata": {},
     "output_type": "execute_result"
    }
   ],
   "source": [
    "df.groupby('percent').count()"
   ]
  },
  {
   "cell_type": "code",
   "execution_count": 60,
   "id": "644dc811-a999-413a-9928-14bb80e8414f",
   "metadata": {},
   "outputs": [
    {
     "data": {
      "text/html": [
       "<div>\n",
       "<style scoped>\n",
       "    .dataframe tbody tr th:only-of-type {\n",
       "        vertical-align: middle;\n",
       "    }\n",
       "\n",
       "    .dataframe tbody tr th {\n",
       "        vertical-align: top;\n",
       "    }\n",
       "\n",
       "    .dataframe thead th {\n",
       "        text-align: right;\n",
       "    }\n",
       "</style>\n",
       "<table border=\"1\" class=\"dataframe\">\n",
       "  <thead>\n",
       "    <tr style=\"text-align: right;\">\n",
       "      <th></th>\n",
       "      <th>payment_pattern</th>\n",
       "    </tr>\n",
       "    <tr>\n",
       "      <th>percent</th>\n",
       "      <th></th>\n",
       "    </tr>\n",
       "  </thead>\n",
       "  <tbody>\n",
       "    <tr>\n",
       "      <th>90.0</th>\n",
       "      <td>592</td>\n",
       "    </tr>\n",
       "    <tr>\n",
       "      <th>0.0</th>\n",
       "      <td>675</td>\n",
       "    </tr>\n",
       "    <tr>\n",
       "      <th>60.0</th>\n",
       "      <td>2396</td>\n",
       "    </tr>\n",
       "    <tr>\n",
       "      <th>80.0</th>\n",
       "      <td>2456</td>\n",
       "    </tr>\n",
       "    <tr>\n",
       "      <th>70.0</th>\n",
       "      <td>3823</td>\n",
       "    </tr>\n",
       "  </tbody>\n",
       "</table>\n",
       "</div>"
      ],
      "text/plain": [
       "         payment_pattern\n",
       "percent                 \n",
       "90.0                 592\n",
       "0.0                  675\n",
       "60.0                2396\n",
       "80.0                2456\n",
       "70.0                3823"
      ]
     },
     "execution_count": 60,
     "metadata": {},
     "output_type": "execute_result"
    }
   ],
   "source": [
    "df[['percent', 'payment_pattern']].groupby('percent').count().sort_values('payment_pattern')"
   ]
  },
  {
   "cell_type": "code",
   "execution_count": null,
   "id": "3b0bc4e0-5990-4213-b5c5-885ef46fdab9",
   "metadata": {},
   "outputs": [],
   "source": [
    "# 가장 분포도가 많은 성취율은 70%이며, 90%이상 학습한 유저는 9,942명 중에서 592명으로 약 17%를 차지한다."
   ]
  },
  {
   "cell_type": "code",
   "execution_count": 90,
   "id": "87d88c17-ad2d-4f81-b84d-16b21d3c3bcc",
   "metadata": {},
   "outputs": [],
   "source": [
    "user_data['achievement_bins_10'] = pd.cut(user_data['recent_learning_achievement'], bins=range(0, 110, 10))"
   ]
  },
  {
   "cell_type": "code",
   "execution_count": 80,
   "id": "371f8b94-dd38-41bb-b3b7-76ce3364a1af",
   "metadata": {},
   "outputs": [],
   "source": [
    "import matplotlib.pyplot as plt\n",
    "import seaborn as sns"
   ]
  },
  {
   "cell_type": "code",
   "execution_count": null,
   "id": "e3dc3530-71fe-4b71-9305-d0ad7e240625",
   "metadata": {},
   "outputs": [],
   "source": [
    "# 결제 패턴별로 조회하기 위해 10 단위로 성취도 범위 다시 나누기"
   ]
  },
  {
   "cell_type": "code",
   "execution_count": 97,
   "id": "3fdbcd0f-5327-4430-8985-90a0b3393273",
   "metadata": {},
   "outputs": [],
   "source": [
    "bins = range(0, 110, 10)\n",
    "labels = [f'{i}-{i+9}' for i in bins[:-1]]"
   ]
  },
  {
   "cell_type": "code",
   "execution_count": null,
   "id": "54d0619d-01e6-4be4-b31d-99bb590e0037",
   "metadata": {},
   "outputs": [],
   "source": [
    "# 'achievement_range'라는 새로운 열 생성하기"
   ]
  },
  {
   "cell_type": "code",
   "execution_count": 106,
   "id": "6826025a-1cc3-43e1-a45b-95bb103ee480",
   "metadata": {},
   "outputs": [],
   "source": [
    "user_data['achievement_range'] = pd.cut(user_data['recent_learning_achievement'], bins=bins, labels=labels, right=False)"
   ]
  },
  {
   "cell_type": "code",
   "execution_count": null,
   "id": "0c0fe5a8-cd1c-4e5c-ba99-94e35da19cb7",
   "metadata": {},
   "outputs": [],
   "source": [
    "# 'achievement_range'와 'payment_pattern'으로 그룹화하여 개수 세기"
   ]
  },
  {
   "cell_type": "code",
   "execution_count": 111,
   "id": "82666ebe-e560-4637-9e7a-1cac7ee2779e",
   "metadata": {},
   "outputs": [
    {
     "data": {
      "text/html": [
       "<div>\n",
       "<style scoped>\n",
       "    .dataframe tbody tr th:only-of-type {\n",
       "        vertical-align: middle;\n",
       "    }\n",
       "\n",
       "    .dataframe tbody tr th {\n",
       "        vertical-align: top;\n",
       "    }\n",
       "\n",
       "    .dataframe thead th {\n",
       "        text-align: right;\n",
       "    }\n",
       "</style>\n",
       "<table border=\"1\" class=\"dataframe\">\n",
       "  <thead>\n",
       "    <tr style=\"text-align: right;\">\n",
       "      <th>payment_pattern</th>\n",
       "      <th>0</th>\n",
       "      <th>1</th>\n",
       "      <th>2</th>\n",
       "      <th>3</th>\n",
       "      <th>4</th>\n",
       "      <th>5</th>\n",
       "      <th>6</th>\n",
       "      <th>7</th>\n",
       "    </tr>\n",
       "    <tr>\n",
       "      <th>achievement_range</th>\n",
       "      <th></th>\n",
       "      <th></th>\n",
       "      <th></th>\n",
       "      <th></th>\n",
       "      <th></th>\n",
       "      <th></th>\n",
       "      <th></th>\n",
       "      <th></th>\n",
       "    </tr>\n",
       "  </thead>\n",
       "  <tbody>\n",
       "    <tr>\n",
       "      <th>0-9</th>\n",
       "      <td>0</td>\n",
       "      <td>0</td>\n",
       "      <td>0</td>\n",
       "      <td>0</td>\n",
       "      <td>0</td>\n",
       "      <td>0</td>\n",
       "      <td>0</td>\n",
       "      <td>0</td>\n",
       "    </tr>\n",
       "    <tr>\n",
       "      <th>10-19</th>\n",
       "      <td>0</td>\n",
       "      <td>0</td>\n",
       "      <td>0</td>\n",
       "      <td>0</td>\n",
       "      <td>0</td>\n",
       "      <td>0</td>\n",
       "      <td>0</td>\n",
       "      <td>0</td>\n",
       "    </tr>\n",
       "    <tr>\n",
       "      <th>20-29</th>\n",
       "      <td>0</td>\n",
       "      <td>0</td>\n",
       "      <td>0</td>\n",
       "      <td>0</td>\n",
       "      <td>0</td>\n",
       "      <td>0</td>\n",
       "      <td>0</td>\n",
       "      <td>0</td>\n",
       "    </tr>\n",
       "    <tr>\n",
       "      <th>30-39</th>\n",
       "      <td>0</td>\n",
       "      <td>0</td>\n",
       "      <td>1</td>\n",
       "      <td>0</td>\n",
       "      <td>0</td>\n",
       "      <td>1</td>\n",
       "      <td>1</td>\n",
       "      <td>0</td>\n",
       "    </tr>\n",
       "    <tr>\n",
       "      <th>40-49</th>\n",
       "      <td>5</td>\n",
       "      <td>6</td>\n",
       "      <td>5</td>\n",
       "      <td>6</td>\n",
       "      <td>7</td>\n",
       "      <td>11</td>\n",
       "      <td>9</td>\n",
       "      <td>7</td>\n",
       "    </tr>\n",
       "    <tr>\n",
       "      <th>50-59</th>\n",
       "      <td>74</td>\n",
       "      <td>81</td>\n",
       "      <td>67</td>\n",
       "      <td>84</td>\n",
       "      <td>76</td>\n",
       "      <td>83</td>\n",
       "      <td>76</td>\n",
       "      <td>75</td>\n",
       "    </tr>\n",
       "    <tr>\n",
       "      <th>60-69</th>\n",
       "      <td>321</td>\n",
       "      <td>286</td>\n",
       "      <td>280</td>\n",
       "      <td>321</td>\n",
       "      <td>289</td>\n",
       "      <td>289</td>\n",
       "      <td>301</td>\n",
       "      <td>309</td>\n",
       "    </tr>\n",
       "    <tr>\n",
       "      <th>70-79</th>\n",
       "      <td>480</td>\n",
       "      <td>523</td>\n",
       "      <td>464</td>\n",
       "      <td>460</td>\n",
       "      <td>458</td>\n",
       "      <td>445</td>\n",
       "      <td>496</td>\n",
       "      <td>497</td>\n",
       "    </tr>\n",
       "    <tr>\n",
       "      <th>80-89</th>\n",
       "      <td>323</td>\n",
       "      <td>315</td>\n",
       "      <td>289</td>\n",
       "      <td>281</td>\n",
       "      <td>306</td>\n",
       "      <td>333</td>\n",
       "      <td>307</td>\n",
       "      <td>302</td>\n",
       "    </tr>\n",
       "    <tr>\n",
       "      <th>90-99</th>\n",
       "      <td>66</td>\n",
       "      <td>71</td>\n",
       "      <td>88</td>\n",
       "      <td>71</td>\n",
       "      <td>68</td>\n",
       "      <td>68</td>\n",
       "      <td>71</td>\n",
       "      <td>89</td>\n",
       "    </tr>\n",
       "  </tbody>\n",
       "</table>\n",
       "</div>"
      ],
      "text/plain": [
       "payment_pattern      0    1    2    3    4    5    6    7\n",
       "achievement_range                                        \n",
       "0-9                  0    0    0    0    0    0    0    0\n",
       "10-19                0    0    0    0    0    0    0    0\n",
       "20-29                0    0    0    0    0    0    0    0\n",
       "30-39                0    0    1    0    0    1    1    0\n",
       "40-49                5    6    5    6    7   11    9    7\n",
       "50-59               74   81   67   84   76   83   76   75\n",
       "60-69              321  286  280  321  289  289  301  309\n",
       "70-79              480  523  464  460  458  445  496  497\n",
       "80-89              323  315  289  281  306  333  307  302\n",
       "90-99               66   71   88   71   68   68   71   89"
      ]
     },
     "execution_count": 111,
     "metadata": {},
     "output_type": "execute_result"
    }
   ],
   "source": [
    "import warnings\n",
    "warnings.filterwarnings(action='ignore')\n",
    "\n",
    "user_achievement_payment_distribution = user_data.groupby(['achievement_range', 'payment_pattern']).size().unstack(fill_value=0)\n",
    "user_achievement_payment_distribution"
   ]
  },
  {
   "cell_type": "code",
   "execution_count": null,
   "id": "34c98c8f-eaa5-48a2-9552-022cf6833091",
   "metadata": {},
   "outputs": [],
   "source": [
    "# 이번에는 성취도를 상위, 중간, 하위 그룹으로 나누어 결제 패턴을 확인해보고자 한다."
   ]
  },
  {
   "cell_type": "code",
   "execution_count": 168,
   "id": "67daf2b1-b98d-4793-a219-4d1b1b82a820",
   "metadata": {},
   "outputs": [],
   "source": [
    "user_data['achievement_group'] = pd.qcut(user_data['recent_learning_achievement'], q=3, labels=['Low', 'Medium', 'High'])"
   ]
  },
  {
   "cell_type": "code",
   "execution_count": 172,
   "id": "60d4d437-aaf7-46fb-b4ed-63c5f896e824",
   "metadata": {},
   "outputs": [
    {
     "data": {
      "text/html": [
       "<div>\n",
       "<style scoped>\n",
       "    .dataframe tbody tr th:only-of-type {\n",
       "        vertical-align: middle;\n",
       "    }\n",
       "\n",
       "    .dataframe tbody tr th {\n",
       "        vertical-align: top;\n",
       "    }\n",
       "\n",
       "    .dataframe thead th {\n",
       "        text-align: right;\n",
       "    }\n",
       "</style>\n",
       "<table border=\"1\" class=\"dataframe\">\n",
       "  <thead>\n",
       "    <tr style=\"text-align: right;\">\n",
       "      <th>payment_pattern</th>\n",
       "      <th>0</th>\n",
       "      <th>1</th>\n",
       "      <th>2</th>\n",
       "      <th>3</th>\n",
       "      <th>4</th>\n",
       "      <th>5</th>\n",
       "      <th>6</th>\n",
       "      <th>7</th>\n",
       "    </tr>\n",
       "    <tr>\n",
       "      <th>achievement_group</th>\n",
       "      <th></th>\n",
       "      <th></th>\n",
       "      <th></th>\n",
       "      <th></th>\n",
       "      <th></th>\n",
       "      <th></th>\n",
       "      <th></th>\n",
       "      <th></th>\n",
       "    </tr>\n",
       "  </thead>\n",
       "  <tbody>\n",
       "    <tr>\n",
       "      <th>Low</th>\n",
       "      <td>436</td>\n",
       "      <td>404</td>\n",
       "      <td>380</td>\n",
       "      <td>450</td>\n",
       "      <td>407</td>\n",
       "      <td>413</td>\n",
       "      <td>423</td>\n",
       "      <td>421</td>\n",
       "    </tr>\n",
       "    <tr>\n",
       "      <th>Medium</th>\n",
       "      <td>419</td>\n",
       "      <td>456</td>\n",
       "      <td>410</td>\n",
       "      <td>392</td>\n",
       "      <td>400</td>\n",
       "      <td>389</td>\n",
       "      <td>434</td>\n",
       "      <td>433</td>\n",
       "    </tr>\n",
       "    <tr>\n",
       "      <th>High</th>\n",
       "      <td>420</td>\n",
       "      <td>425</td>\n",
       "      <td>416</td>\n",
       "      <td>388</td>\n",
       "      <td>407</td>\n",
       "      <td>436</td>\n",
       "      <td>411</td>\n",
       "      <td>430</td>\n",
       "    </tr>\n",
       "  </tbody>\n",
       "</table>\n",
       "</div>"
      ],
      "text/plain": [
       "payment_pattern      0    1    2    3    4    5    6    7\n",
       "achievement_group                                        \n",
       "Low                436  404  380  450  407  413  423  421\n",
       "Medium             419  456  410  392  400  389  434  433\n",
       "High               420  425  416  388  407  436  411  430"
      ]
     },
     "execution_count": 172,
     "metadata": {},
     "output_type": "execute_result"
    }
   ],
   "source": [
    "payment_pattern_distribution = user_data.groupby(['achievement_group', 'payment_pattern']).size().unstack().fillna(0)\n",
    "payment_pattern_distribution"
   ]
  },
  {
   "cell_type": "code",
   "execution_count": null,
   "id": "e0280095-c5be-42c2-8766-7309813fcf23",
   "metadata": {},
   "outputs": [],
   "source": [
    "# Chi-square 테스트? (이건 chat-gpt 선생님의 도움을 받았다)"
   ]
  },
  {
   "cell_type": "code",
   "execution_count": 175,
   "id": "9c122b7a-87a0-4995-87e7-db84e410179a",
   "metadata": {},
   "outputs": [
    {
     "name": "stdout",
     "output_type": "stream",
     "text": [
      "Chi-square test statistic: 14.91275323111561\n",
      "p-value: 0.384144696436559\n"
     ]
    }
   ],
   "source": [
    "import scipy.stats as stats\n",
    "chi2, p, dof, ex = stats.chi2_contingency(payment_pattern_distribution)\n",
    "print(f\"Chi-square test statistic: {chi2}\")\n",
    "print(f\"p-value: {p}\")"
   ]
  },
  {
   "cell_type": "code",
   "execution_count": 176,
   "id": "12c21e52-130e-440f-992e-3f24f5cd5c05",
   "metadata": {},
   "outputs": [
    {
     "name": "stdout",
     "output_type": "stream",
     "text": [
      "결제 패턴에 성과 그룹 간에 유의한 차이가 없습니다.\n"
     ]
    }
   ],
   "source": [
    "if p < 0.05:\n",
    "    print(\"결제 패턴에 성과 그룹 간에 유의한 차이가 있습니다.\")\n",
    "else:\n",
    "    print(\"결제 패턴에 성과 그룹 간에 유의한 차이가 없습니다.\")"
   ]
  },
  {
   "cell_type": "code",
   "execution_count": null,
   "id": "37c818b7-6240-4b42-9f0f-3bc0175a2c83",
   "metadata": {},
   "outputs": [],
   "source": [
    "# 이름부터 심상치 않은 카이제곱 검증... 두 범주형 변수에 대한 분석 방법이란다. 어쨋든 앞서 내가 확인한 것과 크게 다르지 않는 것으로..."
   ]
  },
  {
   "cell_type": "code",
   "execution_count": null,
   "id": "bf983dd9-9558-4741-abc2-10da39404bd8",
   "metadata": {},
   "outputs": [],
   "source": [
    "# 추가로 각 그룹별 선호하는 난이도를 알아보자"
   ]
  },
  {
   "cell_type": "code",
   "execution_count": 153,
   "id": "86a3a5a9-9b5b-4769-90df-96679b103314",
   "metadata": {},
   "outputs": [
    {
     "data": {
      "text/html": [
       "<div>\n",
       "<style scoped>\n",
       "    .dataframe tbody tr th:only-of-type {\n",
       "        vertical-align: middle;\n",
       "    }\n",
       "\n",
       "    .dataframe tbody tr th {\n",
       "        vertical-align: top;\n",
       "    }\n",
       "\n",
       "    .dataframe thead th {\n",
       "        text-align: right;\n",
       "    }\n",
       "</style>\n",
       "<table border=\"1\" class=\"dataframe\">\n",
       "  <thead>\n",
       "    <tr style=\"text-align: right;\">\n",
       "      <th>preferred_difficulty_level</th>\n",
       "      <th>High</th>\n",
       "      <th>Low</th>\n",
       "      <th>Medium</th>\n",
       "    </tr>\n",
       "    <tr>\n",
       "      <th>achievement_range</th>\n",
       "      <th></th>\n",
       "      <th></th>\n",
       "      <th></th>\n",
       "    </tr>\n",
       "  </thead>\n",
       "  <tbody>\n",
       "    <tr>\n",
       "      <th>0-9</th>\n",
       "      <td>0</td>\n",
       "      <td>0</td>\n",
       "      <td>0</td>\n",
       "    </tr>\n",
       "    <tr>\n",
       "      <th>10-19</th>\n",
       "      <td>0</td>\n",
       "      <td>0</td>\n",
       "      <td>0</td>\n",
       "    </tr>\n",
       "    <tr>\n",
       "      <th>20-29</th>\n",
       "      <td>0</td>\n",
       "      <td>0</td>\n",
       "      <td>0</td>\n",
       "    </tr>\n",
       "    <tr>\n",
       "      <th>30-39</th>\n",
       "      <td>0</td>\n",
       "      <td>2</td>\n",
       "      <td>1</td>\n",
       "    </tr>\n",
       "    <tr>\n",
       "      <th>40-49</th>\n",
       "      <td>10</td>\n",
       "      <td>28</td>\n",
       "      <td>18</td>\n",
       "    </tr>\n",
       "    <tr>\n",
       "      <th>50-59</th>\n",
       "      <td>122</td>\n",
       "      <td>292</td>\n",
       "      <td>202</td>\n",
       "    </tr>\n",
       "    <tr>\n",
       "      <th>60-69</th>\n",
       "      <td>480</td>\n",
       "      <td>1194</td>\n",
       "      <td>722</td>\n",
       "    </tr>\n",
       "    <tr>\n",
       "      <th>70-79</th>\n",
       "      <td>774</td>\n",
       "      <td>1914</td>\n",
       "      <td>1135</td>\n",
       "    </tr>\n",
       "    <tr>\n",
       "      <th>80-89</th>\n",
       "      <td>470</td>\n",
       "      <td>1233</td>\n",
       "      <td>753</td>\n",
       "    </tr>\n",
       "    <tr>\n",
       "      <th>90-99</th>\n",
       "      <td>132</td>\n",
       "      <td>298</td>\n",
       "      <td>162</td>\n",
       "    </tr>\n",
       "  </tbody>\n",
       "</table>\n",
       "</div>"
      ],
      "text/plain": [
       "preferred_difficulty_level  High   Low  Medium\n",
       "achievement_range                             \n",
       "0-9                            0     0       0\n",
       "10-19                          0     0       0\n",
       "20-29                          0     0       0\n",
       "30-39                          0     2       1\n",
       "40-49                         10    28      18\n",
       "50-59                        122   292     202\n",
       "60-69                        480  1194     722\n",
       "70-79                        774  1914    1135\n",
       "80-89                        470  1233     753\n",
       "90-99                        132   298     162"
      ]
     },
     "execution_count": 153,
     "metadata": {},
     "output_type": "execute_result"
    }
   ],
   "source": [
    "difficulty_distribution = user_data.groupby(['achievement_range', 'preferred_difficulty_level']).size().unstack(fill_value=0)\n",
    "difficulty_distribution"
   ]
  },
  {
   "cell_type": "markdown",
   "id": "dae604b7-f21d-475d-afc7-183fc99fc35a",
   "metadata": {},
   "source": [
    "### 1.4 데이터 시각화"
   ]
  },
  {
   "cell_type": "code",
   "execution_count": 114,
   "id": "307444fa-845e-470a-9807-817af96409b5",
   "metadata": {},
   "outputs": [
    {
     "data": {
      "image/png": "[encoded data removed]",
      "text/plain": [
       "<Figure size 1200x800 with 1 Axes>"
      ]
     },
     "metadata": {},
     "output_type": "display_data"
    }
   ],
   "source": [
    "user_achievement_payment_distribution.plot(kind='bar', stacked=True, figsize=(12, 8))\n",
    "plt.title('Distribution of Payment Patterns Across Recent Learning Achievement Ranges')\n",
    "plt.xlabel('Recent Learning Achievement Range')\n",
    "plt.ylabel('Count')\n",
    "plt.legend(title='Payment Pattern', bbox_to_anchor=(1.05, 1), loc='upper left')\n",
    "plt.xticks(rotation=45)\n",
    "plt.tight_layout()\n",
    "\n",
    "plt.show()"
   ]
  },
  {
   "cell_type": "code",
   "execution_count": 116,
   "id": "f4092971-ce2f-49f1-ae66-0cf2afcb968e",
   "metadata": {},
   "outputs": [
    {
     "data": {
      "image/png": "[encoded data removed]",
      "text/plain": [
       "<Figure size 1200x800 with 1 Axes>"
      ]
     },
     "metadata": {},
     "output_type": "display_data"
    }
   ],
   "source": [
    "plt.figure(figsize=(12, 8))\n",
    "for column in user_achievement_payment_distribution.columns:\n",
    "    plt.plot(user_achievement_payment_distribution.index, user_achievement_payment_distribution[column], marker='o', label=f'Payment Pattern {column}')\n",
    "\n",
    "plt.title('Distribution of Payment Patterns Across Recent Learning Achievement Ranges')\n",
    "plt.xlabel('Recent Learning Achievement Range')\n",
    "plt.ylabel('Count')\n",
    "plt.legend(title='Payment Pattern', bbox_to_anchor=(1.05, 1), loc='upper left')\n",
    "plt.xticks(rotation=45)\n",
    "plt.grid(True)\n",
    "plt.tight_layout()\n",
    "\n",
    "plt.show()\n"
   ]
  },
  {
   "cell_type": "code",
   "execution_count": 154,
   "id": "7f677924-671a-482e-8f0c-73897918c4fc",
   "metadata": {},
   "outputs": [
    {
     "data": {
      "image/png": "[encoded data removed]",
      "text/plain": [
       "<Figure size 1200x800 with 1 Axes>"
      ]
     },
     "metadata": {},
     "output_type": "display_data"
    }
   ],
   "source": [
    "difficulty_distribution.plot(kind='bar', stacked=True, figsize=(12, 8))\n",
    "plt.title('Preferred Difficulty Level Distribution by Recent Learning Achievement Range')\n",
    "plt.xlabel('Recent Learning Achievement Range')\n",
    "plt.ylabel('Count')\n",
    "plt.legend(title='Preferred Difficulty Level', bbox_to_anchor=(1.05, 1), loc='upper left')\n",
    "plt.xticks(rotation=45)\n",
    "plt.tight_layout()"
   ]
  },
  {
   "cell_type": "code",
   "execution_count": null,
   "id": "8ed05c00-34b2-4c32-b895-97aef7ead52b",
   "metadata": {},
   "outputs": [],
   "source": [
    "# 3개월 이상 결제한 유저의 최근 학습 성취도는 70% 이상이 제일 많았다. 따라서 70% 이상 학습한 유저들의 재구독이 높을 것으로 보인다.\n",
    "# 전반적으로 선호하는 난이도가 'low'인것을 보아, 수강룰 70% 이상 달성시 새로운 강의(쉬운 난이도)를 할인받아 결제할 수 있는 프로모션을 진행하면 어떨끼?"
   ]
  },
  {
   "cell_type": "markdown",
   "id": "bb4b3bd5-f8f5-4f9a-9328-51fde32904a1",
   "metadata": {},
   "source": [
    "## 가설 2 : 주 4회 이상 학습한 유저들이 재구독 가능성이 높을 것이다."
   ]
  },
  {
   "cell_type": "markdown",
   "id": "75f3dcbf-f0a4-4692-acd3-85c0cc90fc28",
   "metadata": {},
   "source": [
    "### 2.1 데이터 탐색 및 결측치 처리(생략)"
   ]
  },
  {
   "cell_type": "markdown",
   "id": "478a8a2e-d94b-4e91-945c-4ed898da2f3e",
   "metadata": {
    "jupyter": {
     "source_hidden": true
    }
   },
   "source": [
    "### 2.2 데이터 전처리"
   ]
  },
  {
   "cell_type": "code",
   "execution_count": null,
   "id": "ba12fb87-8543-46c8-892e-8d169e2aeb36",
   "metadata": {},
   "outputs": [],
   "source": [
    "# 월(30일) 데이터에서 7일 단위로 범위를 나누기"
   ]
  },
  {
   "cell_type": "code",
   "execution_count": 140,
   "id": "3d84f6d9-8d9c-470e-a9bc-300e437357b1",
   "metadata": {},
   "outputs": [],
   "source": [
    "bins = range(0, 29, 7)  # 간단하게 보기 위해 임의로 월 일수를 28일로 설정\n",
    "labels = [f'Week {i//7 + 1}' for i in bins[:-1]]"
   ]
  },
  {
   "cell_type": "code",
   "execution_count": null,
   "id": "d302bd97-b5ac-4901-b084-dcc8ce55df9f",
   "metadata": {},
   "outputs": [],
   "source": [
    "# 'week_range'라는 새로운 열(주) 생성하기"
   ]
  },
  {
   "cell_type": "code",
   "execution_count": 141,
   "id": "6b832895-a079-4ae7-846f-a101a2691b60",
   "metadata": {},
   "outputs": [],
   "source": [
    "user_data['week_range'] = pd.cut(user_data['monthly_active_learning_days'], bins=bins, labels=labels, right=False)"
   ]
  },
  {
   "cell_type": "code",
   "execution_count": null,
   "id": "da288118-23f1-4c1f-bd0b-651906f314bb",
   "metadata": {},
   "outputs": [],
   "source": [
    "# 주 4회 이상 학습한 유저와 그렇지 않은 유저를 구분하는 새로운 열 생성"
   ]
  },
  {
   "cell_type": "code",
   "execution_count": 142,
   "id": "cdfa6bfb-b8c8-4102-8b9d-f9ed9d625992",
   "metadata": {},
   "outputs": [],
   "source": [
    "user_data['active_weekly'] = user_data['monthly_active_learning_days'] >= 16  # 주 4회 학습은 월 16회 이상 학습"
   ]
  },
  {
   "cell_type": "code",
   "execution_count": null,
   "id": "efb5d483-6be0-4511-b3d6-ed89848b1de5",
   "metadata": {},
   "outputs": [],
   "source": [
    "# 유저 그룹 생성하기"
   ]
  },
  {
   "cell_type": "code",
   "execution_count": 143,
   "id": "41a519da-d8ca-4e30-9619-25b4831a8e88",
   "metadata": {},
   "outputs": [],
   "source": [
    "active_users = user_data[user_data['active_weekly']]\n",
    "inactive_users = user_data[~user_data['active_weekly']]"
   ]
  },
  {
   "cell_type": "code",
   "execution_count": null,
   "id": "441e79be-93e0-4986-ae6d-ca6f102820fd",
   "metadata": {},
   "outputs": [],
   "source": [
    "# 그룹별 결제 비율은?"
   ]
  },
  {
   "cell_type": "code",
   "execution_count": 144,
   "id": "397ecdd7-9607-4ab7-a660-14808b820faf",
   "metadata": {},
   "outputs": [],
   "source": [
    "active_repayment_rate = (active_users['payment_pattern'] > 0).mean()\n",
    "inactive_repayment_rate = (inactive_users['payment_pattern'] > 0).mean()"
   ]
  },
  {
   "cell_type": "code",
   "execution_count": 145,
   "id": "98c93bfc-f570-405d-a21c-13008083aeb0",
   "metadata": {},
   "outputs": [
    {
     "name": "stdout",
     "output_type": "stream",
     "text": [
      "주 4회 이상 학습한 사용자의 결제 비율: 86.70%\n",
      "주 4회 이하 학습한 사용자의 결제 비율: 87.58%\n"
     ]
    }
   ],
   "source": [
    "print(f\"주 4회 이상 학습한 사용자의 결제 비율: {active_repayment_rate:.2%}\")\n",
    "print(f\"주 4회 이하 학습한 사용자의 결제 비율: {inactive_repayment_rate:.2%}\")"
   ]
  },
  {
   "cell_type": "code",
   "execution_count": null,
   "id": "d17e5e42-aabb-4a64-aab9-85565ded5cf4",
   "metadata": {},
   "outputs": [],
   "source": [
    "# 그룹별 구독 유형은 어떻게 될까?"
   ]
  },
  {
   "cell_type": "code",
   "execution_count": 149,
   "id": "ca6a50df-bef5-442e-bc6a-e5a68e4b226e",
   "metadata": {},
   "outputs": [],
   "source": [
    "active_subscription_distribution = active_users['subscription_type'].value_counts(normalize=True)\n",
    "inactive_subscription_distribution = inactive_users['subscription_type'].value_counts(normalize=True)"
   ]
  },
  {
   "cell_type": "code",
   "execution_count": 150,
   "id": "443e545f-498b-4ae1-91dd-f03ecc6fea58",
   "metadata": {},
   "outputs": [
    {
     "name": "stdout",
     "output_type": "stream",
     "text": [
      "주 4회 이상 학습한 사용자의 subscription_type 분포:\n",
      "subscription_type\n",
      "Basic      0.603604\n",
      "Premium    0.396396\n",
      "Name: proportion, dtype: float64\n",
      "\n",
      "주 4회 이하 학습한 사용자의 subscription_type 분포:\n",
      "subscription_type\n",
      "Basic      0.594443\n",
      "Premium    0.405557\n",
      "Name: proportion, dtype: float64\n"
     ]
    }
   ],
   "source": [
    "print(\"주 4회 이상 학습한 사용자의 subscription_type 분포:\")\n",
    "print(active_subscription_distribution)\n",
    "print(\"\\n주 4회 이하 학습한 사용자의 subscription_type 분포:\")\n",
    "print(inactive_subscription_distribution)"
   ]
  },
  {
   "cell_type": "markdown",
   "id": "e720cb73-b154-47ff-a855-cd7f12b2bde4",
   "metadata": {},
   "source": [
    "### 2.3 데이터 시각화"
   ]
  },
  {
   "cell_type": "code",
   "execution_count": 146,
   "id": "bc1f8368-34e3-4615-8373-ba22b76de27c",
   "metadata": {},
   "outputs": [
    {
     "data": {
      "image/png": "[encoded data removed]",
      "text/plain": [
       "<Figure size 800x600 with 1 Axes>"
      ]
     },
     "metadata": {},
     "output_type": "display_data"
    }
   ],
   "source": [
    "categories = ['Active (>= 4 times/week)', 'Inactive (< 4 times/week)']\n",
    "rates = [active_repayment_rate, inactive_repayment_rate]\n",
    "\n",
    "plt.figure(figsize=(8, 6))\n",
    "plt.bar(categories, rates, color=['blue', 'orange'])\n",
    "plt.ylabel('Payment Rate')\n",
    "plt.title('Payment Rate by Activity Level')\n",
    "plt.ylim(0, 1)\n",
    "plt.show()"
   ]
  },
  {
   "cell_type": "code",
   "execution_count": 151,
   "id": "c195ef2f-bce0-44a0-984a-8be79faf9f54",
   "metadata": {},
   "outputs": [
    {
     "data": {
      "image/png": "[encoded data removed]",
      "text/plain": [
       "<Figure size 1400x600 with 2 Axes>"
      ]
     },
     "metadata": {},
     "output_type": "display_data"
    }
   ],
   "source": [
    "fig, axes = plt.subplots(1, 2, figsize=(14, 6), sharey=True)\n",
    "\n",
    "active_subscription_distribution.plot(kind='bar', ax=axes[0], color='blue', alpha=0.7)\n",
    "axes[0].set_title('Active Users (>= 4 times/week)')\n",
    "axes[0].set_xlabel('Subscription Type')\n",
    "axes[0].set_ylabel('Proportion')\n",
    "\n",
    "inactive_subscription_distribution.plot(kind='bar', ax=axes[1], color='orange', alpha=0.7)\n",
    "axes[1].set_title('Inactive Users (< 4 times/week)')\n",
    "axes[1].set_xlabel('Subscription Type')\n",
    "\n",
    "plt.suptitle('Subscription Type Distribution by Activity Level')\n",
    "plt.show()"
   ]
  },
  {
   "cell_type": "code",
   "execution_count": null,
   "id": "9098d0c4-b899-40b1-9906-087fe962b275",
   "metadata": {},
   "outputs": [],
   "source": [
    "# 학습 일수는 크게 영향을 끼치지 않나보다 .. \n",
    "# 유저 전반적으로 'Basic'을 구독하는 경향이 있는데, 신규 유저를 대상으로 'Basic' 3개월 결제시 'Premium'을 1개월 체험할 수 있는 프로모션을 진행하면 어떨까?"
   ]
  },
  {
   "cell_type": "markdown",
   "id": "7efab484-e88b-41f9-bb15-bf2f01387343",
   "metadata": {},
   "source": [
    "## 가설 3 : 지속적으로 결제한 유저들이 재구독할 가능성이 높을 것이다."
   ]
  },
  {
   "cell_type": "markdown",
   "id": "11aed2af-bdd9-42e0-8e2a-4e0b6c5d16e2",
   "metadata": {},
   "source": [
    "### 3.1 데이터 탐색 및 결측치 처리(생략)"
   ]
  },
  {
   "cell_type": "markdown",
   "id": "2bf5e875-ea77-46f8-ada7-3e1e53dd0319",
   "metadata": {},
   "source": [
    "### 3.2 데이터 전처리"
   ]
  },
  {
   "cell_type": "code",
   "execution_count": null,
   "id": "6261fee5-6563-4971-a02a-61113f86000a",
   "metadata": {},
   "outputs": [],
   "source": [
    "# 3개월 이상 결제한 유저 그룹과 그렇지 않은 유저 그룹으로 구분하기"
   ]
  },
  {
   "cell_type": "code",
   "execution_count": 156,
   "id": "07e85469-0e4d-43f4-a7fc-b9353af34c21",
   "metadata": {},
   "outputs": [],
   "source": [
    "payment_7_users = user_data[user_data['payment_pattern'] == 7]\n",
    "other_users = user_data[user_data['payment_pattern'] != 7]"
   ]
  },
  {
   "cell_type": "code",
   "execution_count": null,
   "id": "42e47cbc-4070-4e69-ace4-0521740ac2f7",
   "metadata": {},
   "outputs": [],
   "source": [
    "# 각 그룹에서 재결제 가능성의 비율 계산 (target)"
   ]
  },
  {
   "cell_type": "code",
   "execution_count": 157,
   "id": "3d75a780-fc34-4c51-902d-67b51862bd60",
   "metadata": {},
   "outputs": [],
   "source": [
    "payment_7_repayment_rate = payment_7_users['target'].mean()\n",
    "other_repayment_rate = other_users['target'].mean()"
   ]
  },
  {
   "cell_type": "code",
   "execution_count": 161,
   "id": "dda36ed9-7ca8-4111-ba26-792472de28f7",
   "metadata": {},
   "outputs": [
    {
     "name": "stdout",
     "output_type": "stream",
     "text": [
      "'payment_pattern'이 7인 유저의 재결제 가능성: 61.92%\n",
      "'payment_pattern'이 7이 아닌 유저의 재결제 가능성: 62.00%\n"
     ]
    }
   ],
   "source": [
    "print(f\"'payment_pattern'이 7인 유저의 재결제 가능성: {payment_7_repayment_rate:.2%}\")\n",
    "print(f\"'payment_pattern'이 7이 아닌 유저의 재결제 가능성: {other_repayment_rate:.2%}\")"
   ]
  },
  {
   "cell_type": "code",
   "execution_count": null,
   "id": "1a06ac53-9016-4015-8408-5b2539dd9b85",
   "metadata": {},
   "outputs": [],
   "source": [
    "# 결제 패턴별 유저의 접속 시간과 학습 일수의 평균은 어떻게 될까?"
   ]
  },
  {
   "cell_type": "code",
   "execution_count": 167,
   "id": "c09696ef-5880-4538-a8f4-edde89a4f4ab",
   "metadata": {},
   "outputs": [
    {
     "data": {
      "text/html": [
       "<div>\n",
       "<style scoped>\n",
       "    .dataframe tbody tr th:only-of-type {\n",
       "        vertical-align: middle;\n",
       "    }\n",
       "\n",
       "    .dataframe tbody tr th {\n",
       "        vertical-align: top;\n",
       "    }\n",
       "\n",
       "    .dataframe thead th {\n",
       "        text-align: right;\n",
       "    }\n",
       "</style>\n",
       "<table border=\"1\" class=\"dataframe\">\n",
       "  <thead>\n",
       "    <tr style=\"text-align: right;\">\n",
       "      <th></th>\n",
       "      <th>payment_pattern</th>\n",
       "      <th>monthly_active_learning_days</th>\n",
       "      <th>average_login_time</th>\n",
       "    </tr>\n",
       "  </thead>\n",
       "  <tbody>\n",
       "    <tr>\n",
       "      <th>0</th>\n",
       "      <td>0</td>\n",
       "      <td>12.747451</td>\n",
       "      <td>14.925603</td>\n",
       "    </tr>\n",
       "    <tr>\n",
       "      <th>1</th>\n",
       "      <td>1</td>\n",
       "      <td>12.713619</td>\n",
       "      <td>15.037455</td>\n",
       "    </tr>\n",
       "    <tr>\n",
       "      <th>2</th>\n",
       "      <td>2</td>\n",
       "      <td>12.226368</td>\n",
       "      <td>14.933905</td>\n",
       "    </tr>\n",
       "    <tr>\n",
       "      <th>3</th>\n",
       "      <td>3</td>\n",
       "      <td>12.390244</td>\n",
       "      <td>14.868434</td>\n",
       "    </tr>\n",
       "    <tr>\n",
       "      <th>4</th>\n",
       "      <td>4</td>\n",
       "      <td>12.549423</td>\n",
       "      <td>15.056146</td>\n",
       "    </tr>\n",
       "    <tr>\n",
       "      <th>5</th>\n",
       "      <td>5</td>\n",
       "      <td>12.543619</td>\n",
       "      <td>15.028885</td>\n",
       "    </tr>\n",
       "    <tr>\n",
       "      <th>6</th>\n",
       "      <td>6</td>\n",
       "      <td>12.648265</td>\n",
       "      <td>15.055349</td>\n",
       "    </tr>\n",
       "    <tr>\n",
       "      <th>7</th>\n",
       "      <td>7</td>\n",
       "      <td>12.521028</td>\n",
       "      <td>15.042775</td>\n",
       "    </tr>\n",
       "  </tbody>\n",
       "</table>\n",
       "</div>"
      ],
      "text/plain": [
       "   payment_pattern  monthly_active_learning_days  average_login_time\n",
       "0                0                     12.747451           14.925603\n",
       "1                1                     12.713619           15.037455\n",
       "2                2                     12.226368           14.933905\n",
       "3                3                     12.390244           14.868434\n",
       "4                4                     12.549423           15.056146\n",
       "5                5                     12.543619           15.028885\n",
       "6                6                     12.648265           15.055349\n",
       "7                7                     12.521028           15.042775"
      ]
     },
     "execution_count": 167,
     "metadata": {},
     "output_type": "execute_result"
    }
   ],
   "source": [
    "payment_pattern_stats = user_data.groupby('payment_pattern')[['monthly_active_learning_days', 'average_login_time']].mean()\n",
    "payment_pattern_stats.reset_index(inplace=True)\n",
    "payment_pattern_stats"
   ]
  },
  {
   "cell_type": "markdown",
   "id": "e1b3673d-7717-43fc-b8d8-44dcc842eec3",
   "metadata": {},
   "source": [
    "### 3.3 데이터 시각화"
   ]
  },
  {
   "cell_type": "code",
   "execution_count": 164,
   "id": "4418e5f7-8dbf-43a5-9e3d-3476a2bcfc97",
   "metadata": {},
   "outputs": [
    {
     "data": {
      "image/png": "[encoded data removed]",
      "text/plain": [
       "<Figure size 800x600 with 1 Axes>"
      ]
     },
     "metadata": {},
     "output_type": "display_data"
    }
   ],
   "source": [
    "categories = ['Payment Pattern 7', 'Other Payment Patterns']\n",
    "rates = [payment_7_repayment_rate, other_repayment_rate]\n",
    "\n",
    "plt.figure(figsize=(8, 6))\n",
    "plt.bar(categories, rates, color=['blue', 'orange'])\n",
    "plt.ylabel('payment Rate')\n",
    "plt.title('Payment Rate by Payment Pattern')\n",
    "plt.ylim(0, 1)\n",
    "plt.show()"
   ]
  },
  {
   "cell_type": "code",
   "execution_count": null,
   "id": "b8c29c5a-22df-422b-920d-8f7cd000d2b2",
   "metadata": {},
   "outputs": [],
   "source": [
    "# 결제 패턴과는 크게 상관이 없나보다 ..."
   ]
  },
  {
   "cell_type": "markdown",
   "id": "39712583-2f23-44a3-803a-90571332b9fd",
   "metadata": {},
   "source": [
    "## 가설 4 : 커뮤니티 참여도가 높은 유저일수록 재구독할 가능성이 높을 것이다."
   ]
  },
  {
   "cell_type": "markdown",
   "id": "e2b7731d-2f32-4a41-82e1-a2739580f1fa",
   "metadata": {},
   "source": [
    "### 4.1 데이터 탐색 및 결측치 처리(생략)"
   ]
  },
  {
   "cell_type": "markdown",
   "id": "0a856360-d1c5-453d-bb72-d3a1801b2ff6",
   "metadata": {},
   "source": [
    "### 4.2 데이터 전처리"
   ]
  },
  {
   "cell_type": "code",
   "execution_count": null,
   "id": "214e60ec-92dc-45ce-9219-1628376caf75",
   "metadata": {},
   "outputs": [],
   "source": [
    "# 각 커뮤니티 참여도에 따라 그룹을 생성하고 결제율을 target을 사용하여 계산하기"
   ]
  },
  {
   "cell_type": "code",
   "execution_count": 177,
   "id": "4d0ca451-0c27-49f6-836f-551f0182f14a",
   "metadata": {},
   "outputs": [
    {
     "data": {
      "text/plain": [
       "community_engagement_level\n",
       "1    0.622540\n",
       "2    0.616079\n",
       "3    0.609572\n",
       "4    0.611111\n",
       "5    0.628177\n",
       "Name: target, dtype: float64"
      ]
     },
     "execution_count": 177,
     "metadata": {},
     "output_type": "execute_result"
    }
   ],
   "source": [
    "purchase_rate = user_data.groupby('community_engagement_level')['target'].mean()\n",
    "purchase_rate"
   ]
  },
  {
   "cell_type": "code",
   "execution_count": null,
   "id": "66565c09-9eb4-4056-a2f1-3d4ab1a3f57e",
   "metadata": {},
   "outputs": [],
   "source": [
    "# chat-gpt 선생님의 도움을 받아 테스트 및 검증하기"
   ]
  },
  {
   "cell_type": "code",
   "execution_count": 179,
   "id": "4b40c908-5d9a-48ba-bdc3-787197284ca8",
   "metadata": {},
   "outputs": [
    {
     "name": "stdout",
     "output_type": "stream",
     "text": [
      "ANOVA test statistic: 0.7040025488968308\n",
      "p-value: 0.5890920354458937\n",
      "커뮤니티 참여도 그룹 간에 재결제율 차이가 유의하지 않습니다.\n"
     ]
    }
   ],
   "source": [
    "anova_result = stats.f_oneway(\n",
    "    *[group['target'].values for name, group in user_data.groupby('community_engagement_level')]\n",
    ")\n",
    "print(f\"ANOVA test statistic: {anova_result.statistic}\")\n",
    "print(f\"p-value: {anova_result.pvalue}\")\n",
    "\n",
    "if anova_result.pvalue < 0.05:\n",
    "    print(\"커뮤니티 참여도 그룹 간에 재결제율 차이가 유의합니다.\")\n",
    "else:\n",
    "    print(\"커뮤니티 참여도 그룹 간에 재결제율 차이가 유의하지 않습니다.\")"
   ]
  },
  {
   "cell_type": "code",
   "execution_count": null,
   "id": "bf361818-7d54-4e6c-84c2-ed8c8fbf3701",
   "metadata": {},
   "outputs": [],
   "source": [
    "# 커뮤니티 참여도도 큰 기여를 하지 않나 보다 ..."
   ]
  },
  {
   "cell_type": "markdown",
   "id": "dfbc3b2d-6d79-4c6b-9633-1715045203b2",
   "metadata": {},
   "source": [
    "### 데이터 시각화"
   ]
  },
  {
   "cell_type": "code",
   "execution_count": 181,
   "id": "6418bc2c-9c77-4cc2-84da-78ed557e9921",
   "metadata": {},
   "outputs": [
    {
     "data": {
      "image/png": "[encoded data removed]",
      "text/plain": [
       "<Figure size 1000x600 with 1 Axes>"
      ]
     },
     "metadata": {},
     "output_type": "display_data"
    }
   ],
   "source": [
    "plt.figure(figsize=(10, 6))\n",
    "sns.barplot(x=purchase_rate.index, y=purchase_rate.values)\n",
    "plt.title('purchase Rate by Community Engagement Level')\n",
    "plt.xlabel('Community Engagement Level')\n",
    "plt.ylabel('Repurchase Rate')\n",
    "plt.show()"
   ]
  }
 ],
 "metadata": {
  "kernelspec": {
   "display_name": "Python 3 (ipykernel)",
   "language": "python",
   "name": "python3"
  },
  "language_info": {
   "codemirror_mode": {
    "name": "ipython",
    "version": 3
   },
   "file_extension": ".py",
   "mimetype": "text/x-python",
   "name": "python",
   "nbconvert_exporter": "python",
   "pygments_lexer": "ipython3",
   "version": "3.11.7"
  }
 },
 "nbformat": 4,
 "nbformat_minor": 5
}
